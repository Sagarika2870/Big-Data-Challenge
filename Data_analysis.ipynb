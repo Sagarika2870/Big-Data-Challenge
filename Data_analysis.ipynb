{
  "nbformat": 4,
  "nbformat_minor": 0,
  "metadata": {
    "colab": {
      "name": "Data_analysis.ipynb",
      "provenance": [],
      "collapsed_sections": [],
      "include_colab_link": true
    },
    "kernelspec": {
      "display_name": "Python 3",
      "name": "python3"
    },
    "language_info": {
      "name": "python"
    }
  },
  "cells": [
    {
      "cell_type": "markdown",
      "metadata": {
        "id": "view-in-github",
        "colab_type": "text"
      },
      "source": [
        "<a href=\"https://colab.research.google.com/github/Sagarika2870/Big-Data-Challenge/blob/main/Data_analysis.ipynb\" target=\"_parent\"><img src=\"https://colab.research.google.com/assets/colab-badge.svg\" alt=\"Open In Colab\"/></a>"
      ]
    },
    {
      "cell_type": "code",
      "metadata": {
        "colab": {
          "base_uri": "https://localhost:8080/"
        },
        "id": "8tuswOXAe8cr",
        "outputId": "05ce6bc3-db06-4a0d-a0b8-17d8d2bc1b78"
      },
      "source": [
        ""
      ],
      "execution_count": null,
      "outputs": [
        {
          "output_type": "stream",
          "text": [
            "Hellooooo\n"
          ],
          "name": "stdout"
        }
      ]
    },
    {
      "cell_type": "markdown",
      "metadata": {
        "id": "4-6PfP4PfB75"
      },
      "source": [
        ""
      ]
    },
    {
      "cell_type": "code",
      "metadata": {
        "colab": {
          "base_uri": "https://localhost:8080/"
        },
        "id": "bkdT3fOJAEL4",
        "outputId": "56cd2398-27b0-40e8-b61a-fd0ef7a6a8d0"
      },
      "source": [
        "from google.colab import drive\n",
        "drive.mount('/content/drive')"
      ],
      "execution_count": null,
      "outputs": [
        {
          "output_type": "stream",
          "text": [
            "Mounted at /content/drive\n"
          ],
          "name": "stdout"
        }
      ]
    },
    {
      "cell_type": "code",
      "metadata": {
        "id": "s1xMCBRgx-vD"
      },
      "source": [
        "import csv\n",
        "import pandas as pd"
      ],
      "execution_count": null,
      "outputs": []
    },
    {
      "cell_type": "markdown",
      "metadata": {
        "id": "ba5JxtSJR_iY"
      },
      "source": [
        "MAY - ClaimFake Tweets"
      ]
    },
    {
      "cell_type": "code",
      "metadata": {
        "colab": {
          "base_uri": "https://localhost:8080/"
        },
        "id": "ChUpdh-lSCSv",
        "outputId": "1ef25db3-a937-462f-97b6-4cdc96ee112a"
      },
      "source": [
        "with open('/content/drive/MyDrive/UNBDC/CoAID Hydrated Files/05 01 2020/05ClaimFakeCOVID-19_tweets.csv', mode='r') as csv_file:\n",
        "    csv_reader = csv.DictReader(csv_file)\n",
        "    line_count = 0\n",
        "    mClaimFake_btwids = []\n",
        "    mClaimFake_ttwids = []\n",
        "    mClaimFake_bcount = 0\n",
        "    mClaimFake_tcount = 0\n",
        "    for row in csv_reader:\n",
        "        if line_count == 0:\n",
        "            print(f'Column names are {\", \".join(row)}')\n",
        "            line_count += 1\n",
        "\n",
        "        if \"biden\" in row[\"text\"] or \"Biden\" in row['text'] or \"BIDEN\" in row['text']:\n",
        "            print({row[\"text\"]})\n",
        "            mClaimFake_btwids.append(row['id'])\n",
        "            mClaimFake_bcount += 1\n",
        "        \n",
        "        if \"trump\" in row[\"text\"] or \"Trump\" in row['text'] or \"TRUMP\" in row['text']:\n",
        "            print({row[\"text\"]})\n",
        "            mClaimFake_ttwids.append(row['id'])\n",
        "            mClaimFake_tcount += 1\n",
        "\n",
        "        line_count += 1\n",
        "    print(f'Processed {line_count} lines.')"
      ],
      "execution_count": null,
      "outputs": [
        {
          "output_type": "stream",
          "text": [
            "Column names are coordinates, created_at, hashtags, media, urls, favorite_count, id, in_reply_to_screen_name, in_reply_to_status_id, in_reply_to_user_id, lang, place, possibly_sensitive, retweet_count, retweet_id, retweet_screen_name, source, text, tweet_url, user_created_at, user_screen_name, user_default_profile_image, user_description, user_favourites_count, user_followers_count, user_friends_count, user_listed_count, user_location, user_name, user_statuses_count, user_time_zone, user_urls, user_verified\n",
            "{'@realDonaldTrump Hannity said that Covid-19 was just like the flu and a hoax.\\n\\nYou said Covid-19 is just like the flu and a hoax.\\n\\nWhich one of you said it first?'}\n",
            "{'@ZiadSatNam @biden_says @ronnieg1002 @OfficialJLD Ditto for Twitter. So happy for the Mute button.🙂 Fascinating how Trolls and Bots can be denying Climate Change, then opposed to Vote by Mail, then claiming COVID-19 is just like the flu. So draining………'}\n",
            "{\"@HughJassman6 @cutzie80 @jim_walkup @SenPolehanki So trumpesque. Now with 61k dead in 3 months and counting you're still ready to go with 'COVID-19 is just like the flu'? What'll it take? Extinction?\"}\n",
            "{'How about it @realDonaldTrump @IngrahamAngle @seanhannity why don’t you lead the protests in person? Without masks since you think Covid-19 is just like the flu? https://t.co/iiNSBPyGYW'}\n",
            "{'@realDonaldTrump supporters are struggling right now. They have to believe #Covid_19 is just like the flu and also that its a Chinese bio weapon all while they injext themselves with bleach in their kitchen. \\n\\nStole from reddit but its so true. Poor Trump supporters.'}\n",
            "{'@SpeakerPelosi @HouseDemocrats @ThisWeekABC Trump needs to get out and about to provide testing.  After all, Covid 19 is just like the flu according to him.'}\n",
            "{'@NancyKoentje @orremagic @eugenegu @realDonaldTrump https://t.co/OXI01a2G0V\\n\\nIt does not take er a genius to realise Covid 19 is just like the flu'}\n",
            "{\"Whoever says COVID-19 is just like the flu obviously doesn't know math.\\n\\nWe've almost lost 40000 people and there's still about 600000 who are still sick where we don't know how many of them will recover.\\n\\nAll of it is @realDonaldTrump's fault for ignoring this.\"}\n",
            "{'President Trump &amp; his sycophants: COVID-19 is just like the flu. \\nNick Cordero: I bet my right leg that you’re wrong.￼'}\n",
            "{\"@realDonaldTrump For all the simpletons who believe COVID-19 is just like the flu or we don't stop living because of traffic accidents, etc, please explain using this graph how you plan to reopen the country\\nhttps://t.co/c2HCmFVex8\\nNote: This is with all the social distancing measures in place\"}\n",
            "{'@KorabekTim @LouDobbs @realDonaldTrump Start by holding you own accountable \\n\\nTrump lied to the American ppl when he said it was a hoax/ #Covid_19 is just like the flu he said knowing it wasn’t true causing his own supporters to ignore social distancing and DIE\\n\\n\\U0001fa78Trump LIED \\n\\nWill you hold him accountable ?'}\n",
            "{'@StokedTweeter Spot on. Covid - 19 is just like the flu. Fu*k it. Acceptable losses. Yay, Pres. Trump. The protestors in Michigan with Confederate, Nazi and Trump flags rock!'}\n",
            "{'@VK_Cast @Victor__Newman @MarthaW19860146 @parkbench559 @atlpt1870 @Howlinghamster @Khalid_Hart @maggieNYT And Covid-19 is just like the flu. Trump said so.'}\n",
            "{\"@MozScott @JLPerchard @WHO There are also those in the US who said COVID-19 is just like the flu. The @WHO isn't perfect (which international body is?) but as US cases rocket past the rest of the world Trump is clearly looking for scapegoats to shore up his bid for a second term.\"}\n",
            "{'@Redeyebronson @SebGorka @realDonaldTrump He made the correct call banning travel from China at the end of January. Whereupon you people attacked him because \"COVID-19 is just like the flu\".\\nHe called it right on chloroquine, which has been approved in France and by the FDA.\\nEven the Democrats agree his North American'}\n",
            "{'How could HE have a cure? He\\'s wilfully ignorant and still keeps saying that COVID-19 is \\'just like the flu.\" If any scientist(s) come up with a cure, they won\\'t save it for Trump to announce! https://t.co/0nU1vJwyi4'}\n",
            "{'@bencar123 @coasttocoastam GN\\'s been spreading dangerous trumpian lies the \"covid-19 is just like the flu!\"- I hope he gets investigated for manslaughter for all these ppl dying'}\n",
            "{'@BajatosPoppa @mmfa he\\'s been spreading dangerous trumpian lies the \"covid-19 is just like the flu!\"- I hope he gets investigated for manslaughter for all these ppl dying'}\n",
            "{'@ToddP10 @Jennswhimsy @BedoyaBenardo @Dallasdaddy63 @WillemsAngie @MarieJo45528473 @Yamiche My dad supports Trump, &amp; he\\'s a racist &amp; not very intelligent, but he was still a good dad to me &amp; I wish he could see how bad Trump is. I don\\'t know how to explain that Trump relies on an ever-running BS machine. My dad\\'s 65 and still working bc COVID-19 is \"just like the flu.\"'}\n",
            "{'@JasonPo73300292 @coasttocoastam he\\'s been spreading dangerous trumpian lies the \"covid-19 is just like the flu!\"- I hope he gets investigated for manslaughter for all these ppl dying'}\n",
            "{'@RetiredSkeptic he\\'s been spreading dangerous trumpian lies the \"covid-19 is just like the flu!\"- I hope he gets investigated for manslaughter for all these ppl dying'}\n",
            "{'my self-isolation hobby is blocking:\\n\\nTERFs\\ntransphobes\\nanti LGBT bullshit\\ncontent thieves\\npeople who use the term \"reverse racism\"\\nwhite feminists who support Biden\\nanyone who says covid-19 is \"just like the flu\"'}\n",
            "{'@coasttocoastam GN\\'s been spreading dangerous trumpian lies the \"covid-19 is just like the flu!\"- I hope he gets investigated for manslaughter for all these ppl dying'}\n",
            "{'@_Fuck_China @DavidTheBastar1 @PrisonPlanet he\\'s been spreading dangerous trumpian lies the \"covid-19 is just like the flu!\"- I hope he gets investigated for manslaughter for all these ppl dying'}\n",
            "{'The failure in the White House to contain this deadly Virus started with President Trump and his loyal Republicans,  Trump at one time said that COVID-19 is just like the flu &amp; has no much effect to Americans. liar, just carry your ignorance n leadership incompetence #WhiteHouse'}\n",
            "{\"Why we shouldn't #OPENAMERICANOW\\nTo those that think that #COVID__19 is just like the flu\\n#quaranTURN #trumpcovidfails \\n\\nhttps://t.co/U6M9YhMC0K https://t.co/eHcHYbgLP2\"}\n",
            "{\"@kelly2277 @CherKalleck @realDonaldTrump Well... Maybe people will get tested now? 🙍🙎😠😭\\n\\n(The amount of cognitive dissonance required to support Trump at this point is astounding - i.e., both: covid-19 is just like the flu, NBD &amp; many people will die without this drug; we can't wait for trials, etc)\"}\n",
            "{'@STrimel @WHO Trump has repeatedly claimed he knew the pandemic was going to be serious before anyone...and he has also claimed he was never told...and he has claimed COVID-19 is just like the flu....and that it is not at all like the flu....\\nAll he is doing now is deflecting responsibility.'}\n",
            "{'Trump just said that when he said COVID-19 “is just like the flu” he was right because the SPANISH flu was so bad so he was right in his comparison. Really? How many times has he compared COVID-19 infection/death rates to last year’s flu nbrs? Did we have Spanish Flu last year?'}\n",
            "{'@Eksopolitiikka he\\'s been spreading dangerous trumpian lies the \"covid-19 is just like the flu!\"- I hope he gets investigated for manslaughter for all these ppl dying'}\n",
            "{'Now, which idiot said COVID 19 is just like the flu? #TrumpPressConf https://t.co/zr0rdmdv0Z'}\n",
            "{'FACT - CDC estimates that COVID-19 may be 10x those numbers. I get tired of retweeting that because so many are tied to the distraction claims of the Trump GOP who’ve battered MSM making comparative claims that COVID-19 is just like the flu. It’s misleading the public! https://t.co/4A38c8DQab'}\n",
            "{'For those who think COVID-19 is “just like the flu”, “flu kills more”, “the panic is more dangerous”, “herd immunity is best” take a stroll down this thread. \\n\\nYou’ll also note both Prez Trump &amp; Fox News have about-turned on those talking points. https://t.co/4MNzhXzYhs'}\n",
            "{'Apparently, when Trump became president, he got rid of all of his security experts and intel. and decided to take China, Russia and North Korea\\'s word for everything\\n\\n\"Putin said he didn\\'t do it\"\\n\\n\"We exchanged love letters\"\\n\\n\"Covid 19 is just like the flu\" \\n\\nFeel safer?'}\n",
            "{'We cannot ask Trump on what scientific model he is basing his idea of opening business again in 17 days, or how he knows COVID-19 is just like the flu, or maybe not even as bad. But these are questions to ask rational people. https://t.co/h5XBMmy6pO'}\n",
            "{\"Trump said COVID-19 is just like the flu &amp; contained\\n\\nScientist Dr. Fauci says it will get much worse\\n\\nOnly 40% of Republicans think the worst is yet to come\\n74% of Republicans think their day-to-day lives won't change in a major way\\n\\nCult before science!\\nhttps://t.co/IedwwQuub6\"}\n",
            "{'@washingtonpost And FauxNews and others keep stating that COVID-19 is “just like the flu”. #TrumpVirus #TrumpVirusTestingFailure'}\n",
            "{\"@alanklement @realDonaldTrump Our president goes on TV to say Covid-19 is just like the Flu, that it's all a chinese conspiracy and that is not that serious. Unbelievable. Our luck is that the state governors are not listening to him and taking measures like lockdown to enforce social isolation.\"}\n",
            "{\"The White House and the media lies to millions of people, these people think they think for themselves, trump and fox news change their own minds/ report correct info, the people retain the falsehoods. That's why people still think covid-19 is just like the flu or whatever\"}\n",
            "{'@TheRickWilson It HAS to, right? I asked this early-whether there will be proportionately more GOP deaths than Democrats, just based on the numbers of each group who believe that (1) covid-19 is just like the flu, and (2) Trump is doing a great job at managing it.'}\n",
            "{'@EadamK @radmadmid @hughhewitt @realDonaldTrump Remember how, in January, Trump cut off travel from China because of COVID-19, and the media and Democrats attacked him because \"COVID-19 is just like the flu\"?\\nYou really need to stop watching CNN. It rots your brain.'}\n",
            "{'@realDonaldTrump Will you be calling it the American Virus when it starts here?   Good move on recounting your statements that CoVid-19 is just like the flu... you saw this coming long ago, right?   Step away from the podium and let the heads of ‘YOUR’ health departments speak on your behalf!'}\n",
            "{'Stop saying covid-19 is just like the flu. If it was just like the flu, they would give you a flu shot. Contrary to your beliefs, there are really smart people out there working on this. And no, trump is not one of them.'}\n",
            "{'@realDonaldTrump \\n\\nIf 50% of the patients in France are under 50 years of age, why the continued disinformation in the U.S.?\\n\\nAnd why the disinformation that Covid-19 is just like the flu?\\n\\nAmericans who think this and who are under 60 are, as a result, \"being reckless.\"'}\n",
            "{'@CWinton83 @SwissMom49 @mysticalblends @Baligubadle1 @funder @realDonaldTrump So, Corey, you are an infectious disease specialist who has the knowledge and expertise to say that COVID 19 is \"just like the flu?\" From which institutions are you degreed?'}\n",
            "{'@gtconway3d My neighbor, a committed Trumper, told me the cornoravirus [COVID-19] is just like the flu; nothing to worry about. Trump and his enablers have deluded millions of our fellow Americans. #DumpTrump2020'}\n",
            "{\"@realDonaldTrump So @tedcruz you don't need to self quarantine your buddy thinks you're perfectly fine and covid-19 is just like the flu. No big\"}\n",
            "{'Trump says COVID-19 is just like the flu. \\n\\nFlu mortality is about 14.3 per 100,000 cases.\\n\\nCOVID-19 mortality is currently 3,400 per 100,000 cases.\\n\\nThey are not the same and Trump cannot be trusted to protect us.'}\n",
            "{'My grandmother watches Fox so she thinks the CoVID-19 is “just like the flu.” \\n\\nIt’s 34x more deadly, 148x more deadly to people her age. \\n\\nTrump is waging a disinformation campaign instead of protecting the US. It’s infuriating.'}\n",
            "{'@MSNBC @SavannahGuthrie \"Irresponsible rhetoric\"??\\nRemember Trump saying COVID-19 is just like the flu?\\nRemember Pence &amp; Trump saying it\\'s no big deal?\\n\\nWell, the CDC says they\\'re lying: https://t.co/jSHrlOa7w9'}\n",
            "{\"A 6th thought on the news conference:\\n\\nTrump said COVID-19 is just like the flu.\\n\\nCurrent death rate  for flu is 0.1%.\\n\\nCurrent death rate  for COVID-19 is 2%.\\n\\nDo the math.\\n\\nThat's 20X higher!\\n\\nThe lowest estimate I've found is 10x higher.\\n\\nNeither is acceptable.\"}\n",
            "{'@IvankaTrump Important-\\n\\nMyth to Know about Coronavirus \\n\\n1. Spraying chlorine or alcohol on skin kills viruses in the body\\n2. Everyone with COVID-19 dies\\n3. Cats and dogs spread coronavirus\\n4. Consuming any Meat leads to coronavirus \\n5. Face masks protect against coronavirus'}\n",
            "{\"Message to all #Trump supporters. Don't listen to him when he says #COVID-19 is just like the flu. Put this in numbers if half a million catch the common flu around 2500 will die. If half a million get COVID-19 around 15000 will die.\"}\n",
            "{\"@SheriffClarke It's a Democrat Party hoax! Also, the Chinese created it to make Trump look bad! Also, COVID-19 is just like the flu, so don't worry about it. Also, Dear Leader Trump's response to this health crisis has been perfect!\\n\\nYou guys can't even get your lies straight.\"}\n",
            "{\"@fascinatorfun @IanDunt Isolated, so safe from #COVID19 right? But isolation didn't save isolated people from the Spanish Flu - and #Covid_19 is just like the flu... Trump said so https://t.co/DuQAGPBbkO https://t.co/6UBo460ZgP\"}\n",
            "{'@MuraliPriya13 @CarmineSabia @realDonaldTrump Are you kidding me?I never knew I had the power to deceive the world. It’s the truth that there is no evidence shows that the virus originated in a laboratory in China.'}\n",
            "Processed 373 lines.\n"
          ],
          "name": "stdout"
        }
      ]
    },
    {
      "cell_type": "code",
      "metadata": {
        "colab": {
          "base_uri": "https://localhost:8080/"
        },
        "id": "L2agy609X6Tz",
        "outputId": "c06d7c30-c2f5-4c40-ff6d-ff9f528faeda"
      },
      "source": [
        "print(mClaimFake_bcount)\n",
        "print(mClaimFake_btwids)\n",
        "\n",
        "print(mClaimFake_tcount)\n",
        "print(mClaimFake_ttwids)"
      ],
      "execution_count": null,
      "outputs": [
        {
          "output_type": "stream",
          "text": [
            "2\n",
            "['1252230982775652354', '1245646355520839683']\n",
            "54\n",
            "['1250177929084010497', '1256013502298370048', '1251922661237800965', '1253865797375733761', '1252348097629286400', '1254630112332443655', '1251668952993927170', '1251740072715706368', '1251187362035425281', '1250422776977969152', '1251245017395613696', '1249961723282501635', '1250384452448108544', '1244758091096158208', '1243384220845608961', '1245736953108213762', '1245736180718673920', '1245353737025138693', '1245736018722148360', '1245735947750330369', '1245736518192435203', '1245736128734527488', '1248202069737177088', '1249083025935106048', '1247167569888493568', '1247697008888078337', '1247652351810375685', '1245736072799191041', '1245128668277596162', '1241380159917379587', '1240237378041778176', '1241805420181757957', '1243139730788749312', '1239206682980429824', '1238234110818222081', '1242115665496080385', '1241895592835637248', '1241477679167057920', '1243104606118240258', '1240069499132338176', '1238788397004660738', '1239758275555422209', '1239884875337011202', '1237724825843572742', '1237037722042155009', '1232831704345251840', '1235267210974613504', '1238089317802795008', '1232894774207664128', '1236691668356796416', '1232944004570001408', '1237902125704888322', '1237743384955101184', '1240247344131493888']\n"
          ],
          "name": "stdout"
        }
      ]
    },
    {
      "cell_type": "markdown",
      "metadata": {
        "id": "AWCHUHQxY6iu"
      },
      "source": [
        "MAY - ClaimFake Replies"
      ]
    },
    {
      "cell_type": "code",
      "metadata": {
        "colab": {
          "base_uri": "https://localhost:8080/"
        },
        "id": "E8njZSZvY8PA",
        "outputId": "93d1ca11-5ac8-4f98-db7f-672207a31cbb"
      },
      "source": [
        "with open('/content/drive/MyDrive/UNBDC/CoAID Hydrated Files/05 01 2020/05ClaimFakeCOVID-19_tweets_replies.csv', mode='r') as csv_file:\n",
        "    csv_reader = csv.DictReader(csv_file)\n",
        "    line_count = 0\n",
        "\n",
        "    mCF_brep = 0\n",
        "    mCF_trep = 0\n",
        "\n",
        "    cr_replies = []\n",
        "\n",
        "    for row in csv_reader:\n",
        "        if line_count == 0:\n",
        "            print(f'Column names are {\", \".join(row)}')\n",
        "            line_count += 1\n",
        "\n",
        "        if row['in_reply_to_status_id'] in mClaimFake_btwids:\n",
        "          mCF_brep += 1\n",
        "          print({row['text']})\n",
        "        \n",
        "        if row['in_reply_to_status_id'] in mClaimFake_ttwids:\n",
        "          mCF_brep += 1\n",
        "          print({row['text']})\n",
        "\n",
        "        line_count += 1\n",
        "    print(f'Processed {line_count} lines.')"
      ],
      "execution_count": null,
      "outputs": [
        {
          "output_type": "stream",
          "text": [
            "Column names are coordinates, created_at, hashtags, media, urls, favorite_count, id, in_reply_to_screen_name, in_reply_to_status_id, in_reply_to_user_id, lang, place, possibly_sensitive, retweet_count, retweet_id, retweet_screen_name, source, text, tweet_url, user_created_at, user_screen_name, user_default_profile_image, user_description, user_favourites_count, user_followers_count, user_friends_count, user_listed_count, user_location, user_name, user_statuses_count, user_time_zone, user_urls, user_verified\n",
            "Processed 473 lines.\n"
          ],
          "name": "stdout"
        }
      ]
    },
    {
      "cell_type": "code",
      "metadata": {
        "colab": {
          "base_uri": "https://localhost:8080/"
        },
        "id": "5yGM24YTZyCl",
        "outputId": "112e0c4d-2116-4ff8-858f-0e37d54e588b"
      },
      "source": [
        "print(mCF_brep)\n",
        "print(mCF_trep)"
      ],
      "execution_count": null,
      "outputs": [
        {
          "output_type": "stream",
          "text": [
            "0\n",
            "0\n"
          ],
          "name": "stdout"
        }
      ]
    },
    {
      "cell_type": "markdown",
      "metadata": {
        "id": "j7rXp0DCaPSr"
      },
      "source": [
        "MAY - ClaimReal Tweets"
      ]
    },
    {
      "cell_type": "code",
      "metadata": {
        "id": "AuELBZoFaR5D"
      },
      "source": [
        "with open('/content/drive/MyDrive/UNBDC/CoAID Hydrated Files/05 01 2020/05ClaimRealCOVID-19_tweets.csv', mode='r') as csv_file:\n",
        "    csv_reader = csv.DictReader(csv_file)\n",
        "    line_count = 0\n",
        "    mCR_btwids = []\n",
        "    mCR_ttwids = []\n",
        "    mCR_bcount = 0\n",
        "    mCR_tcount = 0\n",
        "    for row in csv_reader:\n",
        "        if line_count == 0:\n",
        "            print(f'Column names are {\", \".join(row)}')\n",
        "            line_count += 1\n",
        "\n",
        "        if \"biden\" in row[\"text\"] or \"Biden\" in row['text'] or \"BIDEN\" in row['text']:\n",
        "            print({row[\"text\"]})\n",
        "            mCR_btwids.append(row['id'])\n",
        "            mCR_bcount += 1\n",
        "        \n",
        "        if \"trump\" in row[\"text\"] or \"Trump\" in row['text'] or \"TRUMP\" in row['text']:\n",
        "            print({row[\"text\"]})\n",
        "            mCR_ttwids.append(row['id'])\n",
        "            mCR_tcount += 1\n",
        "\n",
        "        line_count += 1\n",
        "    print(f'Processed {line_count} lines.')"
      ],
      "execution_count": null,
      "outputs": []
    },
    {
      "cell_type": "code",
      "metadata": {
        "colab": {
          "base_uri": "https://localhost:8080/"
        },
        "id": "i0ENhMhAaotf",
        "outputId": "48d8da3b-48d0-4059-8e3c-605e79962cd3"
      },
      "source": [
        "print(mCR_bcount)\n",
        "print(mCR_btwids)\n",
        "\n",
        "print(mCR_tcount)\n",
        "print(mCR_ttwids)"
      ],
      "execution_count": null,
      "outputs": [
        {
          "output_type": "stream",
          "text": [
            "3\n",
            "['1248981924816678912', '1250199523944566785', '1248657620459646977']\n",
            "44\n",
            "['1256331347322257408', '1246667806910877696', '1238623494197346307', '1256346178268147719', '1256257402112016386', '1255256099080601602', '1253715422408474625', '1254084387811004416', '1251376954877440001', '1235528042178543616', '1249758958799196164', '1245696258485841921', '1233504155366567937', '1249161569721860101', '1238773256393576448', '1238772554237698049', '1238773003212783617', '1255590742241787905', '1251927141614325764', '1250902035752419331', '1253115854478290951', '1247530248113029122', '1248576226773491714', '1248700176035872777', '1249019022164799488', '1243642539737067526', '1246081306490003459', '1242189886305619969', '1242818716011618305', '1239973717880406018', '1238949756161818625', '1239314531798732800', '1239145123537129477', '1239151410064887811', '1238980805998886914', '1240623691001716736', '1247278612761501705', '1256331347322257408', '1246667806910877696', '1238623494197346307', '1251970380560031745', '1249316090339000321', '1255294797729972224', '1238460460866863105']\n"
          ],
          "name": "stdout"
        }
      ]
    },
    {
      "cell_type": "markdown",
      "metadata": {
        "id": "ax0v4Y3Davuh"
      },
      "source": [
        "MAY - ClaimReal Replies"
      ]
    },
    {
      "cell_type": "code",
      "metadata": {
        "colab": {
          "base_uri": "https://localhost:8080/"
        },
        "id": "IwTC3kdBax5N",
        "outputId": "e80fc960-6924-4ec7-d4f5-8545d320589f"
      },
      "source": [
        "with open('/content/drive/MyDrive/UNBDC/CoAID Hydrated Files/05 01 2020/05ClaimRealCOVID-19_tweets_replies.csv', mode='r') as csv_file:\n",
        "    csv_reader = csv.DictReader(csv_file)\n",
        "    line_count = 0\n",
        "\n",
        "    mCR_brep = 0\n",
        "    mCR_trep = 0\n",
        "\n",
        "    cr_replies = []\n",
        "\n",
        "    for row in csv_reader:\n",
        "        if line_count == 0:\n",
        "            print(f'Column names are {\", \".join(row)}')\n",
        "            line_count += 1\n",
        "\n",
        "        if row['in_reply_to_status_id'] in mCR_btwids:\n",
        "          mCR_brep += 1\n",
        "          print({row['text']})\n",
        "        \n",
        "        if row['in_reply_to_status_id'] in mCR_ttwids:\n",
        "          mCR_brep += 1\n",
        "          print({row['text']})\n",
        "\n",
        "        line_count += 1\n",
        "    print(f'Processed {line_count} lines.')"
      ],
      "execution_count": null,
      "outputs": [
        {
          "output_type": "stream",
          "text": [
            "Column names are coordinates, created_at, hashtags, media, urls, favorite_count, id, in_reply_to_screen_name, in_reply_to_status_id, in_reply_to_user_id, lang, place, possibly_sensitive, retweet_count, retweet_id, retweet_screen_name, source, text, tweet_url, user_created_at, user_screen_name, user_default_profile_image, user_description, user_favourites_count, user_followers_count, user_friends_count, user_listed_count, user_location, user_name, user_statuses_count, user_time_zone, user_urls, user_verified\n",
            "Processed 8093 lines.\n"
          ],
          "name": "stdout"
        }
      ]
    },
    {
      "cell_type": "code",
      "metadata": {
        "colab": {
          "base_uri": "https://localhost:8080/"
        },
        "id": "7JSyCdkhbYr6",
        "outputId": "9d0e96b9-9ff8-4a03-c947-8f16a85b1800"
      },
      "source": [
        "print(mCR_brep)\n",
        "print(mCR_trep)"
      ],
      "execution_count": null,
      "outputs": [
        {
          "output_type": "stream",
          "text": [
            "0\n",
            "0\n"
          ],
          "name": "stdout"
        }
      ]
    },
    {
      "cell_type": "markdown",
      "metadata": {
        "id": "TRx1Ww_wb2tG"
      },
      "source": [
        "MAY - NewsFake Tweets"
      ]
    },
    {
      "cell_type": "code",
      "metadata": {
        "colab": {
          "base_uri": "https://localhost:8080/"
        },
        "id": "SwJqOpy_b4Tq",
        "outputId": "3059ce7f-71de-4c7e-e3eb-7ad0660711e8"
      },
      "source": [
        "with open('/content/drive/MyDrive/UNBDC/CoAID Hydrated Files/05 01 2020/05NewsFakeCOVID-19_tweets.csv', mode='r') as csv_file:\n",
        "    csv_reader = csv.DictReader(csv_file)\n",
        "    line_count = 0\n",
        "    mNF_btwids = []\n",
        "    mNF_ttwids = []\n",
        "    mNF_bcount = 0\n",
        "    mNF_tcount = 0\n",
        "    for row in csv_reader:\n",
        "        if line_count == 0:\n",
        "            print(f'Column names are {\", \".join(row)}')\n",
        "            line_count += 1\n",
        "\n",
        "        if \"biden\" in row[\"text\"] or \"Biden\" in row['text'] or \"BIDEN\" in row['text']:\n",
        "            print({row[\"text\"]})\n",
        "            mNF_btwids.append(row['id'])\n",
        "            mNF_bcount += 1\n",
        "        \n",
        "        if \"trump\" in row[\"text\"] or \"Trump\" in row['text'] or \"TRUMP\" in row['text']:\n",
        "            print({row[\"text\"]})\n",
        "            mNF_ttwids.append(row['id'])\n",
        "            mNF_tcount += 1\n",
        "\n",
        "        line_count += 1\n",
        "    print(f'Processed {line_count} lines.')"
      ],
      "execution_count": null,
      "outputs": [
        {
          "output_type": "stream",
          "text": [
            "Column names are coordinates, created_at, hashtags, media, urls, favorite_count, id, in_reply_to_screen_name, in_reply_to_status_id, in_reply_to_user_id, lang, place, possibly_sensitive, retweet_count, retweet_id, retweet_screen_name, source, text, tweet_url, user_created_at, user_screen_name, user_default_profile_image, user_description, user_favourites_count, user_followers_count, user_friends_count, user_listed_count, user_location, user_name, user_statuses_count, user_time_zone, user_urls, user_verified\n",
            "{'Trump Announce Name Of Vaccine To Cure Corona Virus In Three Hours\\nhttps://t.co/KXfm6D50AC\\n\\nThumbs up to the scientist in the United States of America as they finally found vaccine to cure corona virus. The president of the United States of America will officially make the..... https://t.co/1OnRUHDksx'}\n",
            "{'@realDonaldTrump 🔆Expert consensus on comprehensive treatment of coronavirus disease in Shanghai 2019\\nhttps://t.co/UfxaGjhziq\\n\\n🔆Shanghai Government Officially Recommends Vitamin C for COVID-19\\nhttps://t.co/7gGnuufGQ3'}\n",
            "{'Trump Announce Name Of Vaccine To Cure Corona Virus In Three Hours https://t.co/CulqCWY5n8 https://t.co/0k0ECoYkTB'}\n",
            "{'Trump Announce Name Of Vaccine To Cure Corona Virus In Three Hours\\nhttps://t.co/WTr9tR9I95\\n\\nHow true is this @realDonaldTrump'}\n",
            "{'Shanghai Government Officially Recommends Vitamin C for COVID-19 https://t.co/JZQHZBWTP1 #coronavirus #Trump #StayAtHomeChallenge #cureforcoronavirus #VitaminCtreatsCoronavirus'}\n",
            "{'@realDonaldTrump FOR IMMEDIATE RELEASE\\nOrthomolecular Medicine News Service, Feb 21, 2020\\n\\nThree Intravenous Vitamin C Research Studies Approved for Treating COVID-19  https://t.co/Ha0KGyHi8h\\n\\nShanghai Government Officially Recommends Vitamin C for COVID-19 https://t.co/LsqTqVu6kY'}\n",
            "{'Trump Announce Name Of Vaccine To Cure Corona Virus In Three Hours https://t.co/fGt8lwuGen'}\n",
            "{'@realDonaldTrump Shanghai Government Officially Recommends Vitamin C for COVID-19\\n\\nWritten by Andrew W. Saul\\n\\n(OMNS Mar 3, 2020) The government of Shanghai, China has announced its official recommendation that COVID-19 should be treated with high amounts of intravenous vitamin C.'}\n",
            "{'@JodieMoss76 @Acosta @PressSec Or what about Sean Hannity Fox News he also claimed he never called the coronavirus hoax, but then again he said, \"Let\\'s bludgeon Trump with this corona-hoax\" here\\'s the video..\\nhttps://t.co/ssyYFJnCbo'}\n",
            "{'@realDonaldTrump Just Iike the coronavirus hoax?'}\n",
            "{'@TomFitton @realDonaldTrump @GenFlynn @JudicialWatch We have a new conspiracy in our hands. Good! The Coronavirus hoax was getting old!'}\n",
            "{'People are saying that too many have politicize the coronavirus are we talking about trump the architect of the coronavirus hoax by Democrats to keep Trump from getting reelected? Not to mention false and misleading statements to ingest disinfectant or missuse of ultraviolet rays https://t.co/ysYkkGyIkU'}\n",
            "{'NO ONE IS STEALING TRUMPS REELECTION! TRUMP IS GIVING IT AWAY ON A SILVER PLATTER WITH HIS STUPID TWEETS AND THE CORONAVIRUS HOAX!\\nVOTE BLUE ALL THE WAY! https://t.co/VYYUeFOSnJ'}\n",
            "{'@JoeySalads @elonmusk Follow me if you Support Trump,\\nI expose the coronavirus hoax daily!\\n\\nText me for Covid-19 Updates!\\n917-540-8768\\n\\n↓ For Real News Subscribe to my Daily Podcast↓'}\n",
            "{'Pres Trump should drop this #Plandemic charade and hold a full capacity campaign rally next week. He can even name it an \"End the Lockdowns\" rally. It\\'s time to move on from the Coronavirus hoax and #ReopenAmerica immediately.'}\n",
            "{'@realDonaldTrump You mean plead guilty and get convicted? Did the Flynn hoax bring the CoronaVirus hoax?'}\n",
            "{'@RealJohnDennis @garysippel @realDonaldTrump You\\'re being supported and endorsed by Ron Paul?\\n\\nHe *ALSO* said that the Democrats were promoting \"The Coronavirus Hoax\".\\n\\nYou MAGAt\\'s are all the same...\\n\\nhttps://t.co/loAOrGNqi1'}\n",
            "{'What are the opportunity costs of the #coronavirus #hoax #lockdown?\\n\\nThe costs are astronomical, huge numbers of lives will be economically impaired or lost outright. But, no one is asking the right questions...\\n\\nhttps://t.co/vn3Af2iOft\\n#COVID19 #CoronaHoax #WHO #Trump #WWG1WGA'}\n",
            "{'@TyroneM46574213 @JPDrews @IvankaTrump Like the Coronavirus hoax?. 😆😆😆'}\n",
            "{'@realDonaldTrump Stop with the coronavirus hoax, Mr. President. Why is the DOJ not looking into the falsification of death records. You abandoned us Mr. President, when we stood by you the last 4 years.'}\n",
            "{\"@realDonaldTrump WTF SERIOUSLY, You are going to go there. You SAID IT WAS A HOAX. You said the dems couldn't remove you from office via your impeachment, so they came up with the coronavirus hoax. STOP LYING. We have the video of you joking about it at your rallies.\"}\n",
            "{\"@Reuters The media's misrepresentation of Trump's words is a disgrace. He was talking of uv, not Clorox.\\n\\nAnother media hoax after the Russia hoax, the Ukraine impeachment hoax and the Coronavirus hoax.\"}\n",
            "{'@mitchellvii Trump trusted Fauci over the Coronavirus hoax ( like YOU said) and destroyed the economy over his stupidity, Im sorry Bill, but he is done and is unfit to lead....he destroyed his chances by destroying America over his ignorance 🙄'}\n",
            "{'@realDonaldTrump One big fat group of class action defendants: Diamond, Silk, Fox, et. al. Will spend years and millions in court explaining the coronavirus hoax.'}\n",
            "{'@dbongino Danny boy 👦 you forgot the biggest hoax of all ,the Coronavirus hoax, you know the one  dandy don called a democratic media hoax. If only the president put those golf clubs down inj January and February???? Needless American lives lost!!vets against trump and you!'}\n",
            "{'@Amy_Siskind Let me guess: Trump will call them \"patriots\" fighting to \"liberate\" Michigan, just like the \"minutemen\" at Lexington. And he\\'ll refer to the \"do-nothing governor\" and the Democrats as ruining the state with the coronavirus \"hoax\". Did I miss anything?'}\n",
            "{'#TrumpsTheKingOf conserving toilet paper during the #coronavirus “hoax”\\n\\n🧻\\n\\n#COVID19 #DonTheCon #DonnySmallhands #CptBonespurs #PresidentPineSol #Impotus #IMPOTUS45 #PutinsPuppet #NoMoreYears #PINO https://t.co/BmQoxKlVyS'}\n",
            "{'@RedCali2020 Fuck this “distracted by impeachment argument” is idiotic.  But then again it’s coming from a guy who thinks the entire world is in cahoots to remove Trump via the coronavirus hoax.  You’re fascinating, dude. 😂'}\n",
            "{\"@realDonaldTrump @SenCoryGardner Didn't you say the coronavirus hoax and that every state had to get their own ventilators. Vote bye☆don\"}\n",
            "{'As the #coronavirus #hoax rages, the #hospitals are empty.\\n\\nhttps://t.co/YpRa2tQ1Vq\\n#CoronavirusPandemic #COVID19 #FlynnExonerated #Trump #CoronaHoax #hoaxvirus #itsgonnabemay #ThisMorning #Breaking #CoronaCrisis #ExtendTheLockdown #lockdown #WHO #FireFauci #ScamAlert #Gates'}\n",
            "{'@realDonaldTrump I bet the people in Iowa can count how many cases of Covid19 and the number of deaths from the coronavirus hoax!!'}\n",
            "{'@TheBeatWithAri @davidfrum \"The 2020 election is rigged!  If the Democrats hadn\\'t created the coronavirus hoax I\\'d be heading for re-election\".  -- Donald J Trump.'}\n",
            "{'@realDonaldTrump You said “the Coronavirus hoax” at you rally'}\n",
            "{'@Alyssa_Milano @realDonaldTrump Okay this idiot Alyssa posts a video which proves that President Trump did not call the coronavirus hoax so thank you.  Does this mean she is now a Trump supporter or is she apologizing?'}\n",
            "{'@realDonaldTrump Actually I saw you on tv saying “the Coronavirus hoax. You downplayed the virus saying “it’s nothing” you also said it “ won’t come here”you did say “fake news networks were blowing it out of proportion”, nope they were not. you said the borders were closed to China, nope.'}\n",
            "{'We need to stop using the experts model, and start using the Walmart model,Because Walmart has been packed everyday and the curve is flatting everyday !! Open up, Stop talking about the Coronavirus Hoax, Lock up the corrupt and Lets vote Trump 2020 🇺🇸 Great Awakening is coming 😉 https://t.co/gXNu6XBXXz'}\n",
            "{'@realDonaldTrump Newsflash:   It’s on the tapes. The “ coronavirus hoax” rally.'}\n",
            "{'@realDonaldTrump Moron Trump wants to believe his  flagrant LIE over our eyes and ears.  I saw and heard it as he spoke about the Coronavirus Hoax.  He continues to our America at risk to satisfy his narcissistic ego of self.  He is obviously a mentally sick man - the 25th Amendment is timely.'}\n",
            "{\"@Purgii @pantomath__ @funder 2. corruption by VP Biden. Now they say he wasn't doing anything about the Coronavirus despite the fact that he started taking action mid Jan. That was their Coronavirus Hoax. I call it the Coronavirus hoax hoax.\"}\n",
            "{'@realDonaldTrump  I clearly here you say that the democrats are responsible for the coronavirus hoax😁😁 I understand it gets hard to keep track of all your lies 😩 #notahoax #TrumpLies https://t.co/lFZZ2UDZCF'}\n",
            "{'@coolhandute @MYK2013 @DevinCow @WhiteHouse @realDonaldTrump Ahahahahahaha just like the coronavirus hoax trump claimed, man you people really drank the Clorox https://t.co/tZWwB9XSSJ'}\n",
            "{'@realDonaldTrump YES YOU FUCKING DID\\n’the coronavirus hoax’ \\nYour EXACT words'}\n",
            "{'@glamelegance @real_defender @realDonaldTrump @FoxNews @CNN How many Donald Trump talking points have you heard from Donald Trump sources of late.\\nAnd I have seen enough doctored clips and twisted words from the mainstream media since 2020 began.\\nLike the coronavirus hoax they said he said.\\nLies Lies Lies Lies Lies'}\n",
            "{'@Airvooocht You got it all mixed up. Very interesting of President Trump’s speach which you presented, as an  example of the coronavirus hoax! However, POTUS was calling the DEMS a HOAX!! ITS OBVIOUS!!!!!!!! Come on, you are smarter than that!!!!!!'}\n",
            "{\"@realDonaldTrump @nytimes You haven't left the WH in months because you are terrified of getting the coronavirus hoax COVID-19 plague. Why are you so afraid of something that heat and light can knock out in under a minute, one minute?\"}\n",
            "{\"The Great @mayoroflasvegas Carolyn Goodman has proudly offered her Great City as proof of the #coronavirus hoax. Perhaps she can arrange some REAL UNBIASED TESTING of President @realDonaldTrump's Bleach Theory.\"}\n",
            "{'@realDonaldTrump Yes you Did \"The Russian Hoax \" now the  CORONAVIRUS Hoax\" unquote U lying about anything and everything MR DRINK SOME  Clorox ‼ https://t.co/dpMuqbtuqk'}\n",
            "{'@sxdoc @adjunctprofesor @FLOTUS @MELANIATRUMP Happy Birthday Melania  Please do more porn it may help cheer America up during the Coronavirus Hoax  https://t.co/6yDbvjSVWD    https://t.co/I1tLQBP9LM'}\n",
            "{'@realDonaldTrump You called it the “coronavirus hoax”'}\n",
            "{'@pearlqueen18 Oh no! One of Trumps sheep,drunk on Fox News and \"The Coronavirus Hoax \"🙄🙄🙄🙄🙄🙄'}\n",
            "{'Trump did not say Dems politizing the epidemic was a hoax ...he said Dems were politizing the coronavirus hoax &amp; went on to say he had the epidemic under control as there was only 15 cases.  Words and truth matter. tRUmp matters because #TrumpLiesPeopleDie https://t.co/gsaolkur9w'}\n",
            "{'Watch #LyingTrump on video talking about the #coronavirus #Hoax #LysolTrump https://t.co/RD7reP0kZh'}\n",
            "{'@johncardillo @realDonaldTrump You forgot 1 the coronavirus hoax'}\n",
            "{\"@real_defender @realDonaldTrump On video literally says \\n\\nThe democrats are at it again , first it was the Russian hoax ( stating it was fake ) then the perfect call hoax ... now it's the coronavirus hoax \\n\\nPlease explain how u can interpret that as anything else \\n\\nSuppose he could of been sarcastic lol\"}\n",
            "{'@TrumpCokeHabit @thehill @IngrahamAngle What did I tell you... 2 weeks and the cracks in the #coronavirus #hoax would be inescapable.\\n\\nHow did I know?\\n\\nhttps://t.co/6xdmtMJVdA'}\n",
            "{\"@realDonaldTrump That's a lie. At a rally you called it the 'coronavirus hoax'.\"}\n",
            "{'@realDonaldTrump Your correct you never said the word pandemic was a hoax but you said the Coronavirus was the new Dems hoax against you. \\n 1st Russia Russia Hoax\\n2nd The impeachment hoax\\nNow get ready\\n3rd the Coronavirus hoax.'}\n",
            "{'@DonaldJTrumpJr Oh, please. The Daily Wire?  How about this:  POTUS Bone Spur actually did destroy America by allowing COVID-19 to totally infect the US in Jan, Feb and 1/2 of March because he was too busy crowing about the coronavirus “hoax” to do anything about it.'}\n",
            "{'@realDonaldTrump Thank goodness for the Coronavirus hoax so you could stop the browning of America. Wonder how many Americans will do the work for the farmers, housekeeping etc. asking for a friend... I’ll wait.'}\n",
            "{'@dagenmcdowell @MelissaAFrancis When the Dems started the \"Russian Collusion\" hoax, Putin just sat there and laughed at us. NOW- with the Coronavirus hoax, President Trump fell for the hoax, listened to the \"Deep Staters\", and did what China hoped- he totally ruined our economy. Li Xi Ping is laughing at us.'}\n",
            "{'@RepLeeZeldin @realDonaldTrump @WhiteHouse Trump is finally taking steps to combat the coronavirus “hoax”.'}\n",
            "{\"@enlight3nedgeek Trump and everyone is involved in the 5G weaponry and the Coronavirus hoax.  I tweeted many times what this system is Totalitarian Party United States Code, Title 8 § 1101 (37)(a)(b) but a lot of my followers can't handle the whole truth.  Yeah Trump is part of this whole thing.\"}\n",
            "{'I remember this announcement, followed by #trump and @FoxNews disputing \"the #coronavirus hoax\"\\n-\\n\"US CDC warns of \\'disruption to everyday life\\' with spread of coronavirus\"  https://t.co/u3735oH0Hr'}\n",
            "{'@realDonaldTrump The Coronavirus hoax???'}\n",
            "{\"The coronavirus hoax worked the only goal of this was to destroy the campaign of Donald Trump and not allow him to hold another rally and they've succeeded crashing the economy is icing on the cake for the Democrats.\"}\n",
            "{'I think this is a good two part series on the #coronavirus #hoax.\\n\\nhttps://t.co/JyVy0Gbdng\\n#Fauci #WHO #lockdownextension #sunrise #Trump #CoronaHoax #auspol #GatesHacked #Cuomo #ContactTracing  #COVID19 #COVIDー19 #CoronaVirusUpdates #CoronaCrisis #BillGates #HongKong #EarthDay'}\n",
            "{'When the Dems started the \"Russian Collusion\" hoax, Putin just sat there and laughed at us. NOW- with the Coronavirus hoax, President Trump fell for the hoax, listened to the \"Deep Staters\", and did what China hoped- he totally ruined our economy. Li Xi Ping is laughing at us. https://t.co/acUe2pfgHa'}\n",
            "{'@ConLaw60654 @funder @senatemajldr @DevinNunes @mattgaetz @LindseyGrahamSC If they survive the \"Coronavirus Hoax\", as they call it... prime examples of what putting party over country (to the most ridiculous extreme) looks like...#TrumpMadness'}\n",
            "{'@seanhannity @realDonaldTrump Isn’t that rich coming from the king of the Coronavirus hoax hoax. Is there anytime when you people will NOT change your story and pretend like you didn’t?!?!'}\n",
            "{'@wonderstub @Acosta If your source is Trump, he’s been lying to you for years and laughing at all of you.  All the way to the bank.  Being your “source” doesn’t make him right.  Just like the Coronavirus “ hoax”.  You people are pathetic.'}\n",
            "{\"@ScottPresler @JoeBiden I'm a Windmill Cancer survivor who rakes forest floors in in my spare time since the #Coronavirus hoax is contained &amp; disappearing like magic just like the Russia hoax Putin did not participate in. Joe Biden can say the moon is PLAID and I WILL STILL VOTE FOR HIM!\\n#TrumpVirus https://t.co/cZezjSnbu0\"}\n",
            "{\"@ScottPresler @JoeBiden I'm a Windmill Cancer survivor who rakes forest floors in in my spare time since the #Coronavirus hoax is contained &amp; disappearing like magic just like the Russia hoax Putin did not participate in. Joe Biden can say the moon is PLAID and I WILL STILL VOTE FOR HIM!\\n#TrumpVirus https://t.co/cZezjSnbu0\"}\n",
            "{\"@dwnews Trump was blaming the Democrats as late as Feb 28th for creating the coronavirus hoax--so he's contradicting himself. Biden said we need the CDC on the ground in China on Feb 25th.  Trump lies.\"}\n",
            "{\"@dwnews Trump was blaming the Democrats as late as Feb 28th for creating the coronavirus hoax--so he's contradicting himself. Biden said we need the CDC on the ground in China on Feb 25th.  Trump lies.\"}\n",
            "{'@realDonaldTrump @FoxNews Is that the same as the Coronavirus hoax?'}\n",
            "{'@starrynight620 @BikaChic1 @the_resistor @SexCounseling @realDonaldTrump Ummm, YES he did! Your version is the cover up excuse after realizing the BS he was selling wasnt being bought. \"This is the new hoax, the Democrat hoax. Like the Russian hoax. Like the Impeachment hoax. Now it\\'s the Coronavirus Hoax!\" Go watch his last hate rally.\\n\\nWe\\'ll wait...'}\n",
            "{'Russia hoax wasn’t hoax. The Coronavirus hoax wasn’t a hoax. Trump is stupid and he sucks at everything. https://t.co/nbYlanZ2so'}\n",
            "{'@realDonaldTrump @FoxNews What about the coronavirus hoax ?....'}\n",
            "{'@BobBoudrot He didn\\'t and hasn\\'t locked down the country--Governors have used their Constitutional prerogatives to do that. Trump and Fox News pandered to their base by minimizing its severity and sarcastically bashed the \"fake news\" and liberals for the coronavirus \"hoax.\"'}\n",
            "{\"@realDonaldTrump Are these the same democrats who created the coronavirus 'hoax', you head injury?\"}\n",
            "{'@realDonaldTrump @FoxNews Hoax, like the coronavirus hoax?'}\n",
            "{'#NewAdviceFromDrPhil \\nIf #Trump says \"we oughta nuke a hurricane\" or \"ignore the coronavirus hoax,\" don\\'t get cross with Trump like some in the media have a tendency to do https://t.co/TAUz0HZp9V'}\n",
            "{'@realDonaldTrump @FoxNews Why you were wasting time on the Coronavirus hoax! Whatever became of that Coronavirus hoax? I guess it just disappeared when the weather got warmer!'}\n",
            "{'Republican governors &amp; senators, members of the GOP &amp; \"heroes\" of the fight to \"liberate\" US states seen here attending a special meeting at which Trump is to report on the #coronavirus \"hoax\". Lecturers have 2 minutes to praise the Dear Leader &amp; attendees told when to applaud. https://t.co/TRSgLTaTo7'}\n",
            "{'@realDonaldTrump @FoxNews While you wasted time on the Coronavirus Hoax?? I think you out hoaxed her by killing 40,000 Americans in two months'}\n",
            "{\"@RepDonBacon .@RepDonBacon tell me about the coronavirus hoax allowing @realDonaldTrump to go to rally\\nOr the coronavirus flu\\nOr the democrat political coronavirus\\n\\n#NE02\\nYou don't give a flyin f*** about #Nebraska with integrity like that...\\nAnnual mortality\\nFlu= 23,000\\nCovid19=240,000 rate https://t.co/ivQXcDJ7jJ\"}\n",
            "{'@kyledcheney On top of the coronavirus \"hoax\" Trump and Barr continue to lie about the Russian \"hoax\". Apparently reality is all just a hoax.'}\n",
            "{\"@realDonaldTrump @FoxNews Remember that time when you didn't waste you time with the coronavirus hoax?\"}\n",
            "{'@realDonaldTrump So great of you Donald to tweet the ad to #VoteBlueToSaveAmerica. \\n\\nAlso, +42,500 Americans have died from the \"coronavirus hoax\" as you called it. \\n\\nAlso, you know what hasn\\'t hit the curve yet, the coronavirus death toll.\\n https://t.co/KDEtcLggZX'}\n",
            "{'@realDonaldTrump @FoxNews is the impeachment hoax the same as the coronavirus hoax?  asking forna friend'}\n",
            "{'@DavidCornDC Maybe all these Trump supporters should hold a rally! They can all get together and sing songs about Trump and shake hands and hug and kiss each other and laugh about the \\'coronavirus hoax\\'. Just like at that Megachurch.\\n\\n\"Trump/God will protect us.\"\\n\\nYeah, that\\'s the ticket!'}\n",
            "{'@realDonaldTrump @FoxNews Just like the “Coronavirus Hoax”?'}\n",
            "{'@EricTrump @realDonaldTrump Restart America. Restart the world. Stop the coronavirus hoax'}\n",
            "{\"@realDonaldTrump Get away from the coronavirus hoax right at this second, and fully open up the country! It's your only hope! Also, get away from that German Nazi White Supremacy. I was a fanatical Black Supremacist, and God blessed me to leave it! You better do the same now!!!!!\"}\n",
            "{'@jsolomonReports Better be strong against Cuomo\\n\\nCuomo put New York in a $6 billion HOLE. He wants trump to bail him out now. Trump should bail out no debt PRIOR to the coronavirus HOAX\\n\\n@POTUS How about that hot Mic yesterday? .1 - .3 mortality rate? Like the flu?'}\n",
            "{'@TuckFru02127277 @itsJeffTiedrich @realDonaldTrump The “ coronavirus hoax” was not that the virus didn’t exist, but the exact thing you are doing. Using false information to Attack the president.'}\n",
            "{'@realDonaldTrump @BretBaier Remember the first thing you said about the coronavirus? \"Hoax\"'}\n",
            "{'@realDonaldTrump @FoxNews By the way, the impeachment hoax ended in an IMPEACHMENT, and your co-conspirators in the senate let you off.  And the “coronavirus hoax” is killing people by the tens of thousands. So, be careful when you use the word hoax. Unless you are using it to describe your presidency.'}\n",
            "{'@realDonaldTrump @FoxNews Hey was the impeachment hoX like the coronavirus hoax? Both are real!'}\n",
            "{'@realDonaldTrump @FoxNews Just to clarify are those the same Dems you claimed are behind the #coronavirus hoax?'}\n",
            "{'@realDonaldTrump @RepDanCrenshaw Notice to every Trump-loving, stay-at-home-order-protester, when you get deathly ill with the coronavirus “hoax”, DON’T expect someone’s husband/wife, father/mother, son/daughter to take care if you!  You made your own disobedient sick-bed, now lie in it!!  #SelfishZombies'}\n",
            "{'\"Invisible enemy\"? As the coronavirus (hoax) spreads uncontrolled, @realDonaldTrump is now seeing things? We need widely available testing in order to loosen controls--why is that so hard for you to focus on? https://t.co/eE50i47sy4'}\n",
            "{'@Lrihendry @realDonaldTrump @FoxNews If trump hadn’t tried to extort an ally among other multiple acts of corruption, strategic pursuit of emoluments, etc., the impeachment would not have been necesssry. And BTW, Trump all alone? You mean to deal with the “coronavirus hoax”? Your cult leader is a disgrace. Hoax Pres'}\n",
            "{'Another bleeding heart liberal spreading the coronavirus “hoax” to hurt Trump. https://t.co/H1ioveyu7T'}\n",
            "{'@ryanstruyk @ddale8 The exponential rise in deaths is mind-boggling and profound.  Let’s compare this data with what @realDonaldTrump said about the #CoronaVirus hoax back around the same time it all began.\\nOnly hoax ended up being #Trump  ➡️   #TrumpIsAnIdiot https://t.co/stZDjwwBW3'}\n",
            "{'Could be wishful thinking but I feel like it’s even getting to crazy for Trump supporters now. \\nThey’re like: “Hey Dilder, meet us down at the Court House at 9am for a proud boys protest!” \\n“Alright! We gon’ protest the media?!” \\n“Nah the coronavirus hoax”\\n“😳”\\n“Bring yer guns.”'}\n",
            "{\"@BrandonBeckham_ @WhiteHouse @realDonaldTrump Here the GOP and Dotard's administration members explaining the Coronavirus hoax to American people.\\n\\nhttps://t.co/VgV4BzPYiE\"}\n",
            "{'@R8dr316 @MratunjayTiwa15 @realDonaldTrump @honeywell Yeah, foxnews,  Breitbart,  OAN,  purveyors of truth 🤪🤣🤪...oh yeah, the coronavirus hoax, how silly can one be'}\n",
            "{'Seriously...why not a monster “the coronavirus hoax is over” rally? What better way to unleash his base? Many Red State governors would welcome the event. But Trump MUST bring all of his cabinet and his Fox News supporters. No Masks Allowed! \\n\\n@realDonaldTrump @lesleyabravanel'}\n",
            "{'Trump needs to \"liberate\" himself from the Rose Garden and actually visit a hospital ICU to see the coronavirus \"hoax\" up close and personal.'}\n",
            "{\"@thehill Like the coronavirus hoax you're mismanaging @realDonaldTrump?\"}\n",
            "{'So all America has to do is keep doing what it’s been doing before Trump started his conspiracy theory false and misleading statements that the Democrats had started the coronavirus hoax in order to keep him from being reelected as if he was that popular political posturing BS! https://t.co/lFdelrTVAc'}\n",
            "{'What do you call a person who willfully uses a presidential microphone and podium to spread a hoax conspiracy theory that Democrats created the coronavirus hoax in order to keep his orange toxic ass from getting reelected &amp; that was a criminally negligent act Trumps accountable? https://t.co/VjA1CeA9SV'}\n",
            "{'@neil_ferguson makes announcement for criminal #eugenicists perpetrating the #coronavirus #hoax. https://t.co/GdFpjH5lrt #EndTheLockdown #Scamdemic @gatesfoundation @BillGates @HHSGov @CMSGov @cdc @WHO @CDCgov @CDCDirector @SeemaCMS @ClintonFdn @realDonaldTrump @Mike_Pence https://t.co/ikMjVCINWO'}\n",
            "{'@realDonaldTrump That\\'s funny.  Hey,  remember when you were calling this the \"coronavirus hoax\"? You know like a month or two ago? Or remember when you claimed this was a hoax set forth by the Democrats,  y\\'know before 32000 Americans died ON YOUR WATCH... what wre YOU ignoring THEN???'}\n",
            "{'@RandPaul @realDonaldTrump Pity Trump and @GOP screwed it up in the first place with the Coronavirus “hoax”.'}\n",
            "{'#TrumpOwnsEveryDeath \\nThe coronavirus hoax is that Trump gives a shit about any American lives (except those that enable him to pad his bank account).  So people die...  As long as his rich supporters can recover their stock losses.  #TrumpIsAnIdiot #GOPDeathCult ☠️🤡💩😪😰'}\n",
            "{\"@goodyweaver @BroncoBaby10 @Bufclayman Trump called the coronavirus hoax for two months. He didn't act. People died. And, he's STILL lying to your face about it. His inaction also caused the economy to shut down. Had he acted in January, we wouldn't be in this spot. You want that for another 4 years?\"}\n",
            "{'@AugustWest61817 @JaneFedup @jennerific713 @realDonaldTrump @seanhannity And the Coronavirus Hoax!'}\n",
            "{'There it is: @SpeakerPelosi is a \"Coronavirus hoax\" hoaxer.\\n\\n@realDonaldTrump never called coronavirus a hoax. \\n\\nPelosi pushed the Russia Hoax, the Ukraine Hoax, the Charlottesville Hoax and, now, the Coronavirus Hoax.\\n\\nNancy Pelosi, Queen of the Hoaxes.\\n\\nhttps://t.co/HZrcKNkMfJ'}\n",
            "{'@CBCNews @Alex_Panetta “This is their new hoax,” he said, referring to the coronavirus.\\n\\nHoax. Trump says that on Feb 28th.   \\n\\nEverything and anything else pertaining to the matter, is irrelevant.\\n\\nhttps://t.co/4qA11Y7DOl'}\n",
            "{\"@AzDerbyGirl @TAwakened1 @Brenro4 @mal1976retaf @praisin7 @LadyChesapeake @1USMarine4MAGA @GelicaAF @TheAkmed @HarrietNix @NoLeftyEsty @WaydeDe @EliLuca1 @Rabbit70414459 @TammyChabot @Adorable_Todd @FlashToso @CWarrior17 @howienudet @warrenwarmachi1 @lavo323 @NancyLucky @ClwtrBkAtty @QUIPZONE7 @GiacomoCeraolo @stevewhee11 @tehipisehaka @Mark_trumpiskag @CourageMill @_carolina_girl_ @Silentwoo @sapiocrazy @BPNevada @Richard4m @HPot77 @zx225_skeeter @WilliamMillen5 @EYEFOLLOWHIM @TheCryptKeepe14 @AmericanUmbra @TakebackUSA2 @KaashifMohamme1 @JamesCali3 @DFBHarvard Here's the post, though Pam says it not confirmed. I couldn't confirm it online, but tend to disbelieve the Chinese gov...\\n\\nCORONAVIRUS: Reports of 10,000 DEAD in Wuhan, China: City falling apart.\\nVia https://t.co/KufYDd7gW4 https://t.co/ddbc7UydpI https://t.co/dQ1AuAujoV\"}\n",
            "{'Michigan Governor Bans Gardening, Sale Of Fruit and Vegetable Seeds, Gardening Supplies Prohibited https://t.co/IDgnwX4fSo https://t.co/7ASZGzhLzz — IMO Gretchen is trying to look tough and be the Biden VP pick; but her stupid Gestapo-like orders reveal she lacks balance.'}\n",
            "{'Coronavirus Bioweapon - How China Stole Coronavirus From Canada And Weaponized It | GreatGameIndia \\u2066@realDonaldTrump\\u2069 \\u2066@CENTCOM\\u2069 \\u2066@Europarl_EN\\u2069 \\u2066@UKParliament\\u2069 \\u2066@USSenate\\u2069 \\u2066\\u2066@StateDept\\u2069 \\u2066@DeptofDefense\\u2069  https://t.co/eXnnhuoWF3'}\n",
            "{'Coronavirus Bioweapon - How China Stole Coronavirus From Canada And Weaponized It | GreatGameIndia https://t.co/BJwqgQ98zw\\n\\n@realDonaldTrump @VP @YouMustOvercome @unitenotdivided #DCQStaff #Trump2020'}\n",
            "{'@realDonaldTrump https://t.co/9w3kAEwExh Coronavirus Bioweapon – How China Stole Coronavirus From Canada And Weaponized It'}\n",
            "{'@realDonaldTrump @CDCgov Coronavirus Bioweapon – How China Stole Coronavirus From Canada And Weaponized It  https://t.co/SO7vU0OHmv'}\n",
            "{'@thedailybeast @realDonaldTrump Coronavirus Bioweapon – How China Stole Coronavirus From Canada And Weaponized It\\nBy GreatGameIndia -January 26, 2020| Last modified on February 29th, 2020 at 9:45 pm,'}\n",
            "{'Coronavirus Bioweapon – How China Stole Coronavirus From Canada And Weaponized It  https://t.co/BJwqgQqJr4\\n\\n@realDonaldTrump'}\n",
            "{'@realDonaldTrump Coronavirus Bioweapon – How China Stole Coronavirus From Canada And Weaponized It.\\nhttps://t.co/fKZX3RUWcq'}\n",
            "{'@realDonaldTrump Vitamin C Protects Against Coronavirus\\nby Andrew W. Saul, Editor\\n\\n(OMNS January 26, 2020) Coronavirus Pandemic can be dramatically slowed, or stopped, with the immediate widespread use of high doses of vitamin C. Physicians  demonstrate C`s powerful lung healing'}\n",
            "{'Pelosi Actually Slowed Coronavirus Funding so Dems Could Campaign On It | Michael Berry | NewsRadio 740 KTRH. \\u2066@realDonaldTrump\\u2069        https://t.co/NSVYjfXnp5'}\n",
            "{'Vatican confirms Pope Francis and two aides test positive for Coronavirus #vincentkennedy #WWG1WGA_WORLDWIDE #QAnons #kellianne #realDonaldTrump #JohnFKennedyJr #WWG1WGA https://t.co/xiCPEhy8gP'}\n",
            "{'21 million Chinese died of coronavirus – US intelligence officials intercept data - Trump Train https://t.co/HwHSs6GY6P'}\n",
            "{'CHINA LIED AND PEOPLE DIED!!! 🥵😡 🥵😡🥵😡\\n\\n21 million Chinese died of coronavirus – US intelligence officials intercept data - Trump Train https://t.co/OLN7U0eeX5'}\n",
            "{'21 million Chinese died of coronavirus – US intelligence officials intercept data - Trump Train. \\u2066@realDonaldTrump\\u2069  https://t.co/v0AKOI4aRa'}\n",
            "{'21 million Chinese died of coronavirus – US intelligence officials intercept data - Trump Train https://t.co/s75uFO938t'}\n",
            "{'21 million Chinese died of coronavirus – US intelligence officials intercept data - Trump Train https://t.co/3eJANPB4Zj'}\n",
            "{'21 million Chinese died of coronavirus – US intelligence officials intercept data - Trump Train https://t.co/VYpp7vUFUq'}\n",
            "{'@realDonaldTrump Hey Donald, any truth in this....21 million Chinese died of coronavirus – US intelligence officials intercept data'}\n",
            "{'@realDonaldTrump Hidden Truth\\n\\n21 million Chinese died of coronavirus – US intelligence officials intercept data\\nWritten by James Alami \\nhttps://t.co/qoDkK04HTz'}\n",
            "{'And There It Is... Michigan Governor Gretchen Whitmer Bans Buying US Flags During Lockdown https://t.co/bURsC30Ld7. @JoeBiden solid option here!'}\n",
            "{'@realDonaldTrump \\nAnd There It Is... Michigan Governor Gretchen Whitmer Bans Buying US Flags During Lockdown https://t.co/j9m1qhBVBO'}\n",
            "{'And There It Is... Michigan Governor Gretchen Whitmer Bans Buying US Flags During Lockdown. THIS WOMAN IS AN ABSOLUTE NUT JOB. JUST THINK MICHIGAN GOVERNOR COULD BE CLUELESS JOE BIDEN’S RUNNING MATE...THEY DESERVE EACH OTHER. BESIDES GO BUCKEYES!!! https://t.co/NvGzaF9fkX'}\n",
            "{'Remember folks. THIS is the person the Democrats chose to deliver the response to Trump’s last State of The Union address. (The One Pelosi ripped ion half).  ##. And There It Is... Michigan Governor Gretchen Whitmer Bans Buying US Flags During Lockdown https://t.co/JYny8BQ1Ii'}\n",
            "{'That’s way too far! 🇺🇸🚨👉🏼 And There It Is... Michigan Governor Gretchen Whitmer Bans Buying US Flags During Lockdown 💥@realDonaldTrump @WhiteHouse @POTUS #MAGA #KAG #Trump2020Landslide  μολὼν λαβέ 🇺🇸  https://t.co/bokw7Hpngr'}\n",
            "{'@realDonaldTrump And There It Is… Michigan Governor Gretchen Whitmer Bans Buying US Flags During Lockdown.\\n\\nhttps://t.co/j0EIVKE2ck'}\n",
            "{'And There It Is... Michigan Governor Gretchen Whitmer Bans Buying US Flags During Lockdown https://t.co/CPcmO95mMO \\n\\nTrump calls her Gretchen half-Whitmer'}\n",
            "{\"@realDonaldTrump \\nJust nuke the bloddy Chinese once for all.\\nCOVID-19: Chinese health authorities confirm patient zero 'had sex with bats' https://t.co/mXkgeOTSb9\"}\n",
            "{'The NY Times exposes real reason behind coronavirus hype: Crash the market to harm Trump’s reelection chances https://t.co/g9jblBPZUY'}\n",
            "{'The NY Times exposes real reason behind coronavirus hype: Crash the market to harm Trump’s reelection chances » https://t.co/OAXEEjhMzJ https://t.co/2nk4rPhVOS'}\n",
            "{'The NY Times exposes real reason behind coronavirus hype: Crash the market to harm Trump’s reelection chances https://t.co/dL5If0RNwS'}\n",
            "{\"The NY Times exposes real reason behind coronavirus hype: Crash the market to harm Trump's reelection chances https://t.co/o7SSMIwvR3 via @TheNatSent\"}\n",
            "{'The NY Times exposes real reason behind coronavirus hype: Crash the market to harm Trump’s reelection chances https://t.co/z1O9YEPHPg'}\n",
            "{\"The NY Times exposes real reason behind coronavirus hype: Crash the market to harm Trump's reelection chances https://t.co/9XlgyLrXtk\"}\n",
            "{'The NY Times exposes real reason behind coronavirus hype: Crash the market to harm Trump’s reelection chances https://t.co/knkaZ1Iaoe'}\n",
            "{\"The NY Times exposes real reason behind coronavirus hype: Crash the market to harm Trump's reelection chances https://t.co/Z9RdHhXYzF\"}\n",
            "{'The NY Times exposes real reason behind coronavirus hype: Crash the market to harm Trump’s reelection chances https://t.co/oKremRD1SP https://t.co/g7n6PQwbRq'}\n",
            "{'The NY Times exposes real reason behind coronavirus hype: Crash the market to harm Trump’s reelection chances » https://t.co/oIwCgMQhiw https://t.co/CLRxvceani'}\n",
            "{'The NY Times exposes real reason behind coronavirus hype: Crash the market to harm Trump’s reelection chances https://t.co/6KffpA3oG9'}\n",
            "{\"The NY Times exposes real reason behind coronavirus hype: Crash the market to harm Trump's reelection chances https://t.co/6sKcIDWpMa\"}\n",
            "{'The NY Times exposes real reason behind coronavirus hype: Crash the market to harm Trump’s reelection chances https://t.co/L7MTQe65pv'}\n",
            "{'The NY Times exposes real reason behind coronavirus hype: Crash the market to harm Trump’s reelection chances https://t.co/9YXRqjrr7y'}\n",
            "{'Turning a new leaf? Truth\\n\\nThe NY Times exposes real reason behind coronavirus hype: Crash the market to harm Trump’s reelection chances https://t.co/6TfNScQHfV'}\n",
            "{'The NY Times exposes real reason behind coronavirus hype: Crash the market to harm Trump’s reelection chances https://t.co/cw4ESUf2kG'}\n",
            "{'The NY Times exposes real reason behind coronavirus hype: Crash the market to harm Trump’s reelection chances https://t.co/dL5If0RNwS'}\n",
            "{'The NY Times exposes real reason behind coronavirus hype: Crash the market to harm Trump’s reelection chances https://t.co/XpsFzqOC2T'}\n",
            "{'The NY Times exposes real reason behind coronavirus hype: Crash the market to harm Trump’s reelection chances https://t.co/04M6Eckfqb'}\n",
            "{'#coronavirus #COVIDー19 @realDonaldTrump #Trump #TheGreatAwakening @AP @Breaking911 @AFP @BBCWorld #CDC #AmericaWorksTogether @TheJusticeDept  April 9, 2020\\nThe CDC Confesses to Lying About COVID-19 Death Numbers https://t.co/hcDuCysArJ'}\n",
            "{'The CDC Confesses to Lying About COVID-19 Death Numbers \\u2066@realDonaldTrump\\u2069 \\u2066@TexanIndiana\\u2069  https://t.co/EAFhVirFZK'}\n",
            "{'President Trump: this article shows the inaccuracies of the CDC fatality numbers. Please add this Montana doctor to your coronavirus team.\\n#BackToWork\\n\\nThe CDC Confesses to Lying About COVID-19 Death Numbers https://t.co/xg4yDn6ht5'}\n",
            "{\"This speaks volumes about the #coronavirus but hey,  let's listen to this orange dipshit @realDonaldTrump when he says it's not serious. \\nPhotos of deserted, nearly empty airports around the world show how coronavirus has decimated air travel\\n\\nhttps://t.co/16vxgWhSGs\"}\n",
            "{'Pope tests negative for coronavirus, Italy report says \\n[Trump tests positive for Corona Beer &amp; early stage dementia Twitter says]\\n https://t.co/wiMPlhSakq'}\n",
            "{'@WhiteHouse @realDonaldTrump CDC says coronavirus RNA found in Princess Cruise ship cabins up to 17 days after passengers left.\\nhttps://t.co/ltt56R6VPz'}\n",
            "{'CDC says coronavirus RNA found in Princess Cruise ship cabins up to 17 days after passengers left https://t.co/KjYLq3yvt7 @realDonaldTrump @FoxNews @senatemajldr'}\n",
            "{'@kambaskets5854 @UnravelTheBeast @realDonaldTrump @SaRaAshcraft I saw a tweet yesterday abt an unusually high percentage of black Americans dying from Covid-19... I keep wondering why that statistic would be true... Did more of them get flu shots? \\n\\nFlu Vaccine Increases Coronavirus Risk 36% Says Military Study ~ https://t.co/ER0xGcvMgy'}\n",
            "{\"Gutfeld on the media and the virus!\\n\\nMedia pundits tear into President Trump's coronavirus briefings. Chuck Todd and the rest of the FAKE NEWS media have more blood on their hands than anyone. Lies don't get it with people dying!\\n\\nhttps://t.co/xtjuqFVinG\"}\n",
            "{'@no_silenced @realDonaldTrump No one is immune to generic coronavirus - there are too many strains floating around all the time. \\n\\nManufactured Pandemic: Testing People for Any Strain of a Coronavirus, Not Specifically for COVID-19\\nhttps://t.co/1uXsi7dhTJ'}\n",
            "{'MUST READ! @realDonaldTrump\\n@CDCDirector @DonaldJTrumpJr @seanhannity\\nTHIS CORONAVIRUS PATENTED IN 2015! WHAT???? \\n\\nBill and Melinda Gates Foundation &amp; Others Predicted Up To 65 Million Deaths Via Coronavirus – In Simulation Ran 3 Months Ago!\\nhttps://t.co/NKB8kWu6B9'}\n",
            "{'@TheTrumpPage1\\nThis article says the Gates help fund invention of the damn virus ... stupid people with too much money\\n\\nBill and Melinda Gates Foundation &amp; Others Predicted Up To 65 Million Deaths Via Coronavirus – In Simulation Ran 3 Months Ago!. https://t.co/Xescops3oW'}\n",
            "{'#coronovirus #coronovirusoutbreak\\n#realDonaldTrump \\nBill and Melinda Gates Foundation &amp; Others Predicted Up To 65 Million Deaths Via Coronavirus – In Simulation Ran 3 Months Ago! https://t.co/F9OjrMMyJg'}\n",
            "{\"@Barb_Goldberg @realDonaldTrump It's not Trump:  Bill and Melinda Gates Foundation &amp; Others Predicted Up To 65 Million Deaths Via Coronavirus – In Simulation Ran 3 Months Ago!\\nhttps://t.co/F9OjrMMyJg\"}\n",
            "{'Bill and Melinda Gates Foundation &amp; Others Predicted Up To 65 Million Deaths Via Coronavirus – In Simulation Ran 3 Months Ago!\\n#CoronavirusOutbreak #coronarovirus \\n#realDonaldTrump\\n#Trump2020 \\nhttps://t.co/F9OjrMMyJg'}\n",
            "{'@AdanSalazarWins @DewsNewz @MediaRival @realDonaldTrump @TruNews Bill and Melinda Gates Foundation &amp; Others Predicted Up To 65 Million Deaths Via Coronavirus – In Simulation Ran 3 Months Ago! https://t.co/24Glk1tHzC'}\n",
            "{'Breaking Now: Scientists Confirm Coronavirus Man-Made…Contains ‘pShuttle-SN’ Sequence Proving Laboratory Origin https://t.co/wbzoH4QRrQ  @realDonaldTrump'}\n",
            "{'CDC recommends men shave their beards to protect against coronavirus.\\n\\nMeanwhile, trump is calling an early victory.     ....    I think he had started his second victory lap. Will the markets be gullible enough to believe him? I think so.\\nhttps://t.co/6WS7jPVgMC'}\n",
            "{'\\u2066\\u2066@POTUS\\u2069 @realDonaldTrump\\u2069 Breaking Now: Scientists Confirm Coronavirus Man-Made…Contains ‘pShuttle-SN’ Sequence Proving Laboratory Origin https://t.co/TmhE6M5Dzx'}\n",
            "{'Deep State Patented Coronavirus the perfect storm\\nBREAKING: Coronavirus Hits 15% Fatality Rate, 83% Infection Rate for Those Exposed; Lancet Publishes Early Study That Points to Alarming Consequences for Humanity\\nhttps://t.co/deJT76g5wE  \\n@realDonaldTrump  More death'}\n",
            "{'\\u2066@DonaldJTrumpJr\\u2069 \\u2066@POTUS\\u2069 Can 5G exposure alter the structure and function of hemoglobin, causing coronavirus patients to die from oxygen deprivation? - DC Clothesline \\u2066@RealCandaceO\\u2069 \\u2066@charliekirk11\\u2069 \\u2066@BreitbartNews\\u2069  https://t.co/uqJQwU5bFO'}\n",
            "{'Japan To Declare State Of Emergency On April 7 – India Bans Exports Of Trump’s “Game Changer” Anti-COVID-19 Drug – Can 5G exposure alter the structure and function of hemoglobin, causing coronavirus patients to die from oxygen deprivation?\\n\\nhttps://t.co/kxvouQDPRv'}\n",
            "{'@realDonaldTrump Can 5G exposure alter the structure and function of hemoglobin, causing coronavirus patients to die from oxygen deprivation?'}\n",
            "{'Overhyped Coronavirus Weaponized Against Trump - The Rush Limbaugh Show https://t.co/d8SOb6GTYP via'}\n",
            "{\"You put people's life at risk Rush \\n\\nOverhyped Coronavirus Weaponized Against Trump - The Rush Limbaugh Show https://t.co/xnWsDY1qJ5 via\"}\n",
            "{'Overhyped Coronavirus Weaponized Against Trump - The Rush Limbaugh Show https://t.co/v8EbxUq1r6 via'}\n",
            "{'This likely isn’t going to age very well. I would think that someone with lung cancer would be a little more compassionate and concerned. Overhyped Coronavirus Weaponized Against Trump - The Rush Limbaugh Show https://t.co/BmTC8SY9ys'}\n",
            "{'\"When Evil Ignorant has power\"; Overhyped Coronavirus Weaponized Against Trump https://t.co/HiaalvOhyx via @rushlimbaugh'}\n",
            "{\"This is the transcript of Rush Limbaugh's 2/24/20 show on covid-19.  It's hard to imagine anyone could have been more wrong than Rush.  He looks foolish here \\n\\nOverhyped Coronavirus Weaponized Against Trump - The Rush Limbaugh Show https://t.co/ebRVbWyYXj via\"}\n",
            "{'Well this certainly aged well. I can’t believe people still listen to this guy. Hate that he has lung cancer but man, the things he comes up with.     Overhyped Coronavirus Weaponized Against Trump - The Rush Limbaugh Show https://t.co/MZ9HMvCR3Q via'}\n",
            "{\"@dcexaminer @realDonaldTrump This is the transcript of Rush Limbaugh's 2/24/20 show on covid-19.  It's hard to imagine anyone could have been more wrong than Rush.  He looks foolish.\\n\\nOverhyped Coronavirus Weaponized Against Trump - The Rush Limbaugh Show https://t.co/ebRVbWyYXj via\"}\n",
            "{'Can we revoke his medal now?\\n\\nOverhyped Coronavirus Weaponized Against Trump - The Rush Limbaugh Show https://t.co/liDmlb8hHH via'}\n",
            "{'Overhyped Coronavirus Weaponized Against Trump.\\n\\nhttps://t.co/iUDYX4yhyN DUCKGO\\nPhoenix Tucson Mesa Chandler Glendale Scottsdale Gilbert Tempe Peoria Surprise Yuma Avondale Flagstaff Goodyear Lake Havasu City Buckeye Casa Grande Show Low Winslow Safford Globe Page Atlanta Denver https://t.co/AyWNjT5m8Q'}\n",
            "{'Top story: Overhyped Coronavirus Weaponized Against Trump - The Rush Limbaugh Show https://t.co/bFeuLh6HO8, see more https://t.co/vY6lXBkf7P'}\n",
            "{'@realDonaldTrump  you need to get all your proxies on the same page now.                               Overhyped Coronavirus Weaponized Against Trump - The Rush Limbaugh Show https://t.co/8l62Hn4AFd via'}\n",
            "{'Overhyped Coronavirus Weaponized Against Trump - The Rush Limbaugh Show https://t.co/UopCeqbAlN'}\n",
            "{'Overhyped Coronavirus Weaponized Against Trump - The Rush Limbaugh Show https://t.co/ELxkobNcwi via'}\n",
            "{'He kills me.\\n\\nOverhyped Coronavirus Weaponized Against Trump - The Rush Limbaugh Show https://t.co/q4jxir6zmv via'}\n",
            "{'This was just three weeks ago. Overhyped Coronavirus Weaponized Against Trump - The Rush Limbaugh Show https://t.co/zAzbQ0Fbdv via'}\n",
            "{'Overhyped Coronavirus Weaponized Against Trump https://t.co/Lj8UvDcjOv via @rushlimbaugh'}\n",
            "{'Top story: Overhyped Coronavirus Weaponized Against Trump - The Rush Limbaugh Show https://t.co/y214Kl6KyL, see more https://t.co/nWOolzk68g'}\n",
            "{'My fellow Americans, here is your Presidential Medal of Freedom winner and his payment for said award: Overhyped Coronavirus Weaponized Against Trump - The Rush Limbaugh Show https://t.co/1cqE3AYAJT'}\n",
            "{'Overhyped Coronavirus Weaponized Against Trump - The Rush Limbaugh Show https://t.co/8Yr6xRsyC7 via'}\n",
            "{'Overhyped Coronavirus Weaponized Against Trump - The Rush Limbaugh Show https://t.co/X868wcOgb7 via  Hey ... nothing to worry about... thank God... Rush says Coronavirus is just the common cold... holy mackerel... thanks rush... you are an incredible medical genius... who knew?'}\n",
            "{'Our most recent recipient of the Presidential Medal of a Freedom is now a confirmedmoron.  Overhyped Coronavirus Weaponized Against Trump - The Rush Limbaugh Show https://t.co/mF1jCLzEhY via'}\n",
            "{'Reading this makes me want to scream at what an idiot he is. \\n\\nOverhyped Coronavirus Weaponized Against Trump - The Rush Limbaugh Show https://t.co/swCUd5ODNC'}\n",
            "{'Overhyped #Coronavirus Weaponized Against Trump https://t.co/AFFUnZLZMK'}\n",
            "{'.@limbaugh First an opiate naive person could be felled by fentanyl dust because the dose is not a controlled dose...we give it in 1/1000s of a milligram in health care 1mg kills.\\n\\nOverhyped Coronavirus Weaponized Against Trump - The Rush Limbaugh Show https://t.co/vKvdgnlhdr'}\n",
            "{'It’s just the OxyContin talking, don’t mind him. He’s on his way out anyway. \\n\\nOverhyped Coronavirus Weaponized Against Trump - The Rush Limbaugh Show https://t.co/UryunTPyoh via'}\n",
            "{'Overhyped Coronavirus Weaponized Against Trump https://t.co/eQxS08WFm0 via @rushlimbaugh'}\n",
            "{'The recipient of a fake award speaks irresponsibly? No one can be surprised.\\n\\nOverhyped Coronavirus Weaponized Against Trump - The Rush Limbaugh Show https://t.co/jnLHypb3us via'}\n",
            "{'Top story: Overhyped Coronavirus Weaponized Against Trump - The Rush Limbaugh Show https://t.co/MrncjiCMsb, see more https://t.co/4fCTxHeUAX'}\n",
            "{'Overhyped Coronavirus Weaponized Against Trump https://t.co/dEmv7X0JoR via @rushlimbaugh'}\n",
            "{'Overhyped Coronavirus Weaponized Against Trump https://t.co/H6ZTKy8ztM via @rushlimbaugh'}\n",
            "{\"Hmm what's lung cancer then Rush?  \\nOverhyped Coronavirus Weaponized Against Trump - The Rush Limbaugh Show https://t.co/s9X1wqXdvD via\"}\n",
            "{'Overhyped Coronavirus Weaponized Against Trump - The Rush Limbaugh Show https://t.co/jtdGXdMula you aren’t helping anything'}\n",
            "{'Overhyped Coronavirus Weaponized Against Trump - The Rush Limbaugh Show https://t.co/osBSDK2yEs via'}\n",
            "{'.@limbaugh This is the singularly most dangerous thing I’ve read in my career. You’re spreading misinformation on TWO medical issues without any qualification to do so.\\n\\nOverhyped Coronavirus Weaponized Against Trump - The Rush Limbaugh Show https://t.co/vKvdgnlhdr'}\n",
            "{'Dangerous and disingenuous rhetoric. Overhyped Coronavirus Weaponized Against Trump - The Rush Limbaugh Show https://t.co/mOC4WhfZcL via'}\n",
            "{'Truth!\\n\\nOverhyped Coronavirus Weaponized Against Trump https://t.co/uVdpwMPvEO via @rushlimbaugh'}\n",
            "{'Overhyped Coronavirus Weaponized Against Trump https://t.co/O6y0j6MxRW via @rushlimbaugh'}\n",
            "{'Hey #medtwitter am I the only one who sees how dangerous this is?? How do we counteract dangerous misinformation like this from Rush Limbaugh? \\n\\nOverhyped Coronavirus Weaponized Against Trump - The Rush Limbaugh Show https://t.co/vKvdgnlhdr'}\n",
            "{'Overhyped Coronavirus Weaponized Against Trump https://t.co/xdPM894WZR via @rushlimbaugh'}\n",
            "{'I hope all you Rush &amp; Trump worshipers R listening 2 more than now self-styled “idiot health expert” Rush Limbaugh, who knows exactly ZERO about spread of infectious disease. @realDonaldTrump Overhyped Coronavirus Weaponized Against Trump https://t.co/OOI9Sa4ELm via @rushlimbaugh'}\n",
            "{'Top story: Overhyped Coronavirus Weaponized Against Trump - The Rush Limbaugh Show https://t.co/4aE8cjyead, see more https://t.co/oUGPr4J1MF'}\n",
            "{'From the man awarded the Medal of Honor by Donald Trymp - Overhyped Coronavirus Weaponized Against Trump - The Rush Limbaugh Show https://t.co/kIHIwofBcs'}\n",
            "{'Overhyped Coronavirus Weaponized Against Trump.\\n\\nhttps://t.co/GIHC2ZPph0 DUCKGO\\nJacksonville Miami Tampa St Petersburg Orlando Hialeah Tallahassee Fort Lauderdale Port Lucie Pembroke Pines Cape Coral Hollywood Gainesville Miramar Springs Clearwater Gardens Palm Bay West Beach FSU https://t.co/ruel9Hi1cj'}\n",
            "{'Overhyped Coronavirus Weaponized Against Trump https://t.co/yyjC4PFgay via @rushlimbaugh'}\n",
            "{'Overhyped Coronavirus Weaponized Against Trump #LEFTDidntBatAnEye #WhenBOBroughtIn100sOfThousands #OfSickIllegalsWhoMadeUSSick Or #WhenBOBroughtIn #Ebola #ButAnOutbreakof #Coronavirus? #AimedAtTrump https://t.co/3zyww3uWdG via @rushlimbaugh'}\n",
            "{'You\\'ve got to be kidding. This is the stupidest thing Rush has ever said. \"Overhyped Coronavirus Weaponized Against Trump\"  https://t.co/buW3aFH44r via @rushlimbaugh'}\n",
            "{'Overhyped Coronavirus Weaponized Against Trump https://t.co/ihzCfjzYbV via @rushlimbaugh'}\n",
            "{'Overhyped Coronavirus Weaponized Against Trump https://t.co/C9bYvQrGO7 via @rushlimbaugh'}\n",
            "{'Overhyped Coronavirus Weaponized Against Trump - The Rush Limbaugh Show https://t.co/b6eb9Pay0D via'}\n",
            "{\"For those who don't believe this is actually what Rush Limbaugh said. It really is what he said.\\n\\nwww dot rushlimbaugh dot com/daily/2020/02/24/overhyped-coronavirus-weaponized-against-trump/\\n\\nhttps://t.co/QM5XWjX9Ow\"}\n",
            "{'Must Read-MSM are weaponising the CV against Trump. 98% survival rate \\n\\n#apple #communistChina \\n\\nOverhyped Coronavirus Weaponized Against Trump - The Rush Limbaugh Show https://t.co/Mo8jMh9Foe'}\n",
            "{'Top story: Overhyped Coronavirus Weaponized Against Trump - The Rush Limbaugh Show https://t.co/1obrSP0GI0, see more https://t.co/hJYyj3xP0q'}\n",
            "{'Overhyped Coronavirus Weaponized Against Trump - The Rush Limbaugh Show https://t.co/ljngxp0cn2 via  Hey, Rush. I think that Medal Of Freedom is choking off the blood supply to your BRAIN! You’re talking nonsense!'}\n",
            "{'Someone needs to stop this SOB fast          Overhyped Coronavirus Weaponized Against Trump - The Rush Limbaugh Show https://t.co/EBij1awaG7'}\n",
            "{'Overhyped Coronavirus Weaponized Against Trump https://t.co/Pr5W2NQD0I via @rushlimbaugh'}\n",
            "{'Overhyped Coronavirus Weaponized Against Trump - The Rush Limbaugh Show https://t.co/sOWfgIUCiV'}\n",
            "{'Overhyped Coronavirus Weaponized Against Trump https://t.co/hGm72gWxQ0 #RushLimbaugh #Rush #Limbaugh'}\n",
            "{'Overhyped Coronavirus Weaponized Against Trump - The Rush Limbaugh Show https://t.co/fkNGEkrKD4 via'}\n",
            "{'Overhyped Coronavirus Weaponized Against Trump https://t.co/pbUxNHFZaS via @rushlimbaugh***WHAT A MORON. IT IS NOT A COMMON COLD. ASK ANY DOCTOR. COLDS DO NOT KILL PEOPLE LIKE THIS, RUSH, YOU ARE A FOOL!!**A DANGEROUS FOOL!!**'}\n",
            "{'Overhyped Coronavirus Weaponized Against Trump https://t.co/YQWuoPGA71 via @rushlimbaugh \\nLike I\\'ve been saying, this is all media hype to drive the economy down and defeat Trump. \"Its the economy stupid.\"'}\n",
            "{'Overhyped Coronavirus Weaponized Against Trump - The Rush Limbaugh Show https://t.co/dD5qtr1baI'}\n",
            "{'Overhyped Coronavirus Weaponized Against Trump - The Rush Limbaugh Show https://t.co/xdPM894WZR'}\n",
            "{'@RushLimbaughEIB doesn’t have cancer. He’s got Syphillis and is too embarrassed to admit it.  Overhyped Coronavirus Weaponized Against Trump - The Rush Limbaugh Show https://t.co/lqxl0C2ieE via'}\n",
            "{'Standing at death’s door, one would think that self reflection and atonement would be of foremost importance. Not Rush. He’s going down with both lips firmly planted\\nOverhyped Coronavirus Weaponized Against Trump - The Rush Limbaugh Show https://t.co/qf7q1M5SWO via'}\n",
            "{'Overhyped Coronavirus Weaponized Against Trump https://t.co/mH9HKArHV7 via @rushlimbaugh'}\n",
            "{'Top story: Overhyped Coronavirus Weaponized Against Trump - The Rush Limbaugh Show https://t.co/EEYTpWaQ0X, see more https://t.co/wZtnJUiYhz'}\n",
            "{'You morons that listen to him: he’s literally going to kill you. \\n\\nOverhyped Coronavirus Weaponized Against Trump - The Rush Limbaugh Show https://t.co/WC6AWaSFJM'}\n",
            "{'What a careless reckless idiot. Overhyped Coronavirus Weaponized Against Trump - The Rush Limbaugh Show https://t.co/YwtPMNMqY0'}\n",
            "{'Overhyped Coronavirus Weaponized Against Trump - The Rush Limbaugh Show https://t.co/WTWeSjZcdo'}\n",
            "{'Overhyped Coronavirus Weaponized Against Trump https://t.co/vCk2LsEPdC via @rushlimbaugh'}\n",
            "{'@GaryLundstedt @RealJamesWoods Overhyped #Coronavirus Weaponized Against Trump https://t.co/NfJvqoJDxt'}\n",
            "{'“The coronavirus is a common cold, folks” - words from the winner of the Presidential* Medal of Freedom.\\n\\nOverhyped Coronavirus Weaponized Against Trump - The Rush Limbaugh Show https://t.co/Ut9fdBWANL'}\n",
            "{'Overhyped Coronavirus Weaponized Against Trump https://t.co/D2i3oCQ108 via @rushlimbaugh'}\n",
            "{'Overhyped Coronavirus Weaponized Against Trump https://t.co/BgIFbkHUm4'}\n",
            "{'Overhyped Coronavirus Weaponized Against Trump - The Rush Limbaugh Show https://t.co/wDEVWHDuZY via'}\n",
            "{'Overhyped Coronavirus Weaponized Against Trump - The Rush Limbaugh Show https://t.co/vwxjqF5O6g'}\n",
            "{'Overhyped #Coronavirus Weaponized Against Trump https://t.co/d0drGdgrF1 via @rushlimbaugh'}\n",
            "{'Coronavirus is the Chinese weaponized the common cold: Overhyped Coronavirus Weaponized Against Trump https://t.co/vCk2LsEPdC via @rushlimbaugh'}\n",
            "{'Overhyped Coronavirus Weaponized Against Trump -\\n\\nThe Coronavirus is not the common cold you absolute arse. Hardly a shock that your own mother stated that you flunked everything at college. Some will get mild symptoms, others can die. Misinformation kills https://t.co/s4YgvwzmqX'}\n",
            "{'Overhyped Coronavirus Weaponized Against Trump.\\n\\nhttps://t.co/GIHC2ZxOps Colorado Springs Columbia Charleston North Mount Pleasant Rock Hill Greenville Summerville Sumter Hilton Head Island East Lansing Rochester Hills Tucson Mesa Chandler Glendale Scottsdale Gilbert Tempe Peoria'}\n",
            "{'Overhyped Coronavirus Weaponized Against Trump - The Rush Limbaugh Show https://t.co/iRnGHfkRUJ via'}\n",
            "{'Overhyped Coronavirus Weaponized Against Trump - The Rush Limbaugh Show https://t.co/mflm8sd1LH via @nuzzel'}\n",
            "{'Overhyped Coronavirus Weaponized Against Trump - The Rush Limbaugh Show https://t.co/MV6MqpV67E'}\n",
            "{'Overhyped Coronavirus Weaponized Against Trump - The Rush Limbaugh Show https://t.co/1nzAr6cOls'}\n",
            "{'Overhyped Coronavirus Weaponized Against Trump https://t.co/FOPVR1wbru via @rushlimbaugh'}\n",
            "{'Overhyped Coronavirus Weaponized Against Trump https://t.co/O90p48EqP9'}\n",
            "{'Overhyped Coronavirus Weaponized Against Trump https://t.co/QeBXTcQqFr via @rushlimbaugh'}\n",
            "{'@RealJamesWoods This might interest you, James. \\n\\nOverhyped Coronavirus Weaponized Against Trump https://t.co/zMNPYEza9x'}\n",
            "{'BioWeapons Expert Says Coronavirus Is Biological Warfare Weapon https://@BIGSEXYYT @seanhannity @FLOTUS @EricTrump @POTUSPress @POTUS @DonaldJTrumpJr @LaraLeaTrump @prayingmedic @realDonaldTrump @Jim_Jordan @JudicialWatch @SteveHiltonx will one of you put on your show?'}\n",
            "{'Overhyped Coronavirus Weaponized Against Trump https://t.co/y6r4bvLRUl'}\n",
            "{'Overhyped Coronavirus Weaponized Against Trump https://t.co/9wYeHJQXuv via @rushlimbaugh'}\n",
            "{'Overhyped #Coronavirus Weaponized Against #Trump https://t.co/zMNPYEza9x'}\n",
            "{'Chimeric viruses being made in labs in the 2010s, another thought to consider.\\n\\nLab-Made Coronavirus Triggers Debate | The Scientist Magazine® https://t.co/6Af0DjoPYR \\n\\n#CoronavirusUSA #virusland #COVIDIDIOT #BidensCognitiveDecline #CoronavirusPandemic'}\n",
            "{'Lab-Made Coronavirus Triggers Debate | The Scientist Magazine®. Do your research! ❌👀❌ #cronovirus #COVIDー19  #clustertrump  https://t.co/Ht67RruJMI'}\n",
            "{'Rick Santorum Admits Trump Can’t Force Governors to Reopen States https://t.co/uVc5gwvvzG'}\n",
            "{'another day in a shit hole country...Rick Santorum Admits Trump Can’t Force Governors to Reopen States https://t.co/l2HeSmUjAm via @YahooNews'}\n",
            "{'Rick Santorum Admits Trump Can’t Force Governors to Reopen States https://t.co/KuSlBxTvi0'}\n",
            "{'Rick Santorum Admits Trump Can’t Force Governors to Reopen States https://t.co/A2nZoUgVRb'}\n",
            "{'Rick Santorum Admits Trump Can’t Force Governors to Reopen States - The Daily Beast https://t.co/6DJXWHCxqO via @GoogleNews'}\n",
            "{'Rick Santorum Admits Trump Can’t Force Governors to Reopen States  https://t.co/ppzMjYUOGk'}\n",
            "{'Rick Santorum Admits Trump Can’t Force Governors to Reopen States https://t.co/OLcy3A2o3O'}\n",
            "{'Rick Santorum Admits Trump Can’t Force Governors to Reopen States https://t.co/dwUtxC7Cmo via @YahooNews'}\n",
            "{'Even the sycophants know Federalism and the Articles of Confederation exist. \\n\\nRick Santorum Admits Trump Can’t Force Governors to Reopen States https://t.co/mHjJ1qo4ew'}\n",
            "{'Rick Santorum Admits Trump Can’t Force Governors to Reopen States https://t.co/5xGt7ZK2iT'}\n",
            "{'Rick Santorum Admits Trump Can’t Force Governors to Reopen States - https://t.co/ns9NEQ1Bcx'}\n",
            "{'Rick Santorum Admits Trump Can’t Force Governors to Reopen States https://t.co/ZnHBvfjXZN via @YahooNews'}\n",
            "{'Rick Santorum Admits Trump Can’t Force Governors to Reopen States!  https://t.co/goqTo3lZMR'}\n",
            "{'Rick Santorum Admits Trump Can’t Force Governors to Reopen States https://t.co/ZMPSu5V59S via @thedailybeast'}\n",
            "{'Rick Santorum Admits Trump Can’t Force Governors to Reopen States https://t.co/Usm8o8WBj1'}\n",
            "{'Rick Santorum Admits Trump Can’t Force Governors to Reopen States https://t.co/hHiQ2ZcVpe #SmartNews'}\n",
            "{'Rick Santorum Admits Trump Can’t Force Governors to Reopen States https://t.co/l3hhcFkk8k'}\n",
            "{'Rick Santorum Admits Trump Can’t Force Governors to Reopen States https://t.co/6v8tUFwWW6 #politics #feedly'}\n",
            "{'Rick Santorum Admits Trump Can’t Force Governors to Reopen States #SmartNews  https://t.co/23QucrGPJy'}\n",
            "{'Read This: \"Rick Santorum Admits Trump Can’t Force Governors to Reopen States\" https://t.co/OmCwuAkA1T'}\n",
            "{'Rick Santorum Admits Trump Can’t Force Governors to Reopen States https://t.co/u5OXfioAZd via @thedailybeast'}\n",
            "{'Rick Santorum Admits Trump Can’t Force Governors to Reopen States https://t.co/7aFjUYxnjo #SmartNews'}\n",
            "{'Rick Santorum Admits Trump Can’t Force Governors to Reopen States https://t.co/fPGNQqtvoU via @thedailybeast https://t.co/avwP4GyxAi'}\n",
            "{'All true. Trump cannot force governors to reopen states. However Trump can set a strong tone &amp; certain governors will certainly take the bait. #COVID19 \\n\\nRick Santorum Admits Trump Can’t Force Governors to Reopen States https://t.co/Hy149CBI1S via @desktop'}\n",
            "{'Rick Santorum Admits Trump Can’t Force Governors to Reopen States\\nEven one of the president’s most passionate allies can’t defend Trump’s misleading tweets about his power to overrule governors..#Trump..#GOP..#coronavirus..'}\n",
            "{\"About the only truth he has spoken in a long long time..\\n\\nRick Santorum Admits Trump Can't Force Governors to Reopen States #Topbuzz https://t.co/MNaCCjRh8Z\"}\n",
            "{'Rick Santorum Admits Trump Can’t Force Governors to Reopen States https://t.co/mLGuE7zPav #SmartNews'}\n",
            "{'Programming Alert: Exclusive Documentary on Origin of the CCP Virus Premieres\\n\\nVIDEO LINK INCLUDED\\nThis is a must watch!\\nThe invisible enemy is formidable.\\n\\n \\u2066@realDonaldTrump\\u2069 \\u2066@RealJamesWoods\\u2069 \\u2066@RandPaul\\u2069 \\u2066@marklevinshow\\u2069  https://t.co/XhFkbZcxNY'}\n",
            "{\"Rick Santorum Admits Trump Can't Force Governors to Reopen States - The Daily Beast: Rick Santorum Admits Trump Can't Force Governors to Reopen States\\xa0\\xa0The Daily Beast https://t.co/YivIEgbBOS\"}\n",
            "{'WATCH! CCP military labs altered bat virus S protein to INFECT HUMANS!Programming Alert: Exclusive Documentary on Origin of the CCP Virus Premieres https://t.co/N3TDPqYfrD via @epochtimes @IngrahamAngle @TuckerCarlson @seanhannity @mattgaetz @GOPLeader @EricTrump @stlpcs'}\n",
            "{'Programming Alert: Exclusive Documentary on Origin of the CCP Virus Premieres https://t.co/we3BUSRO53 via @epochtimes @realDonaldTrump'}\n",
            "{'..Rick Santorum Admits Trump Can’t Force Governors to Reopen States https://t.co/96KQpwx62Q via @thedailybeast'}\n",
            "{'Rick Santorum Admits Trump Can’t Force Governors to Reopen States https://t.co/hsxXuyOWw4'}\n",
            "{'Rick Santorum Admits Trump Can’t Force Governors to Reopen States https://t.co/mgLtS1HLoj via @YahooNews'}\n",
            "{'Rick Santorum Admits Trump Can’t Force Governors to Reopen States https://t.co/Ls9o5q29dz via @thedailybeast'}\n",
            "{'@SenRickScott @realDonaldTrump @WHO English: EET獨家深入報導中共肺炎紀錄片，今天（美東時間）8點首播，敬請關注和傳播：\\nProgramming Alert: Exclusive Documentary on Origin of the CCP Virus Premieres\\nhttps://t.co/r0laIVzJ75'}\n",
            "{'@prchovanec @SoxSphere_CWH End their funding &amp; the UN funding too @realDonaldTrump \\n\\nEXCLUSIVE: Evidence Shows Director General of World Health Organization Severely Overstated the Fatality Rate of the Coronavirus Leading to the Greatest Global Panic in History https://t.co/v64OV78XXY'}\n",
            "{'@Gmar3DMM @Rep_Watkins @realDonaldTrump @WHO DEFUND THE WHO NOW @realDonaldTrump \\n\\nEXCLUSIVE: Evidence Shows Director General of World Health Organization Severely Overstated the Fatality Rate of the Coronavirus Leading to the Greatest Global Panic in History https://t.co/v64OV78XXY'}\n",
            "{'@cmrobbinz @devan1309 @davidbrentmused @ryanfiredragon @briantylercohen @ndrew_lawrence Why are they panicked? Because 👇&amp; the msm not Trump\\n\\nEXCLUSIVE: Evidence Shows Director General of World Health Organization Severely Overstated the Fatality Rate of the Coronavirus Leading to the Greatest Global Panic in History https://t.co/v64OV78XXY'}\n",
            "{'@AngelaBelcamino @realDonaldTrump Cuomo Administration Rejected Purchasing Additional Ventilators in 2015 for Pandemic Preparedness Based on Funding – Recommended System on Who Would Not Receive Treatment\\n\\nhttps://t.co/2sNF0eb8ef'}\n",
            "{'Coronavirus Contains \"HIV Insertions\", Stoking Fears Over Artificially Created Bioweapon | Zero Hedge \\u2066@FBI\\u2069 \\u2066@realDonaldTrump\\u2069 \\u2066@WHO\\u2069 \\u2066@UNWatch\\u2069 \\u2066@TarekFatah\\u2069 \\u2066@arifaajakia\\u2069 \\u2066\\u2066@Tejasvi_Surya\\u2069 \\u2066@DrGarekar\\u2069 https://t.co/YfKQZoBiH8'}\n",
            "{'🇺🇸 🇺🇸 🇺🇸 🇺🇸\\n\\nCoronavirus Contains \"HIV Insertions\", Stoking Fears Over Artificially Created Bioweapon | Zero Hedge\\n\\nTrump2020 https://t.co/IuU1VzpFis 🇺🇸 🇺🇸'}\n",
            "Processed 6170 lines.\n"
          ],
          "name": "stdout"
        }
      ]
    },
    {
      "cell_type": "code",
      "metadata": {
        "colab": {
          "base_uri": "https://localhost:8080/"
        },
        "id": "t7qwm9LYcWPs",
        "outputId": "7455f541-c8db-4d7f-a2c4-d62cbb800c47"
      },
      "source": [
        "print(mNF_bcount)\n",
        "print(mNF_btwids)\n",
        "\n",
        "print(mNF_tcount)\n",
        "print(mNF_ttwids)"
      ],
      "execution_count": null,
      "outputs": [
        {
          "output_type": "stream",
          "text": [
            "7\n",
            "['1254191623312982016', '1253124095010635777', '1252452642107920384', '1249400999212732416', '1249688443392790529', '1249864708980535297', '1246639811416543232']\n",
            "321\n",
            "['1244491711302205442', '1241950553304756224', '1242555845302464514', '1244313444226138117', '1240619483573694465', '1241981415786516481', '1242565791217864705', '1235572467072040960', '1256341742032490497', '1255964528224976896', '1255231872914857984', '1255861806804996097', '1255968512578916352', '1256241269032050689', '1255528622187778055', '1255895497438638080', '1255906741449080837', '1254836420042055680', '1255568405903663113', '1255120736567558146', '1255669327757406208', '1254659769853456384', '1255857681996361728', '1255220915148816386', '1255812544608034823', '1255987472175181830', '1255653555752460289', '1254898815577931776', '1254870117097275393', '1255932804099002368', '1255765001626955776', '1254053725532012547', '1254225167129214978', '1254390465400655874', '1254090226336763905', '1254401157449109505', '1254189124472446976', '1254186904272150528', '1254454893781360641', '1254055219199123456', '1254433392961224704', '1254550143485063169', '1254259350643843072', '1254511520417005568', '1254040197525901312', '1254308957977374725', '1254627779678744576', '1254174596917604355', '1254181297397825538', '1254208344690049024', '1254432990450593793', '1254577453751812096', '1254274922290929664', '1254331638692999169', '1254187525549076480', '1254413521158320129', '1253418281404227586', '1253308258405748738', '1253363403533369344', '1252994377498140672', '1253572006102077442', '1253378222969913344', '1253355157833818113', '1253047767741669377', '1253300730615656448', '1253363588099477505', '1253029356663955468', '1253829070032236545', '1253365473309270016', '1253124095010635777', '1252452642107920384', '1251988312287588357', '1252709457227735040', '1252619742491414528', '1251965877253214208', '1252030715262201856', '1252261817067462656', '1251996073700110338', '1251915156726124544', '1251920433181536257', '1252509944420671488', '1251925794802135040', '1252284031745622017', '1252660140253286400', '1252060341456044034', '1252564438076608512', '1251952034779222016', '1252072856764256259', '1252056605191012358', '1252806507898433540', '1252478783606513664', '1252590324557516802', '1252510910603841537', '1252068135684849665', '1252021212517146624', '1252052935267307521', '1251961232061607941', '1252075979150774273', '1252707189455650817', '1251933412467904514', '1252232549922828290', '1250635901094572034', '1251292972844568576', '1251674198856077314', '1251569664745975808', '1251310072384258048', '1251354500134207489', '1250781661983387650', '1250813235256680448', '1250794974217515021', '1250760854145990656', '1251199628084641793', '1250951818919600128', '1250785494784512002', '1250795600712478721', '1250854715488980992', '1250556704267186176', '1250519383027281921', '1220951287598063617', '1249105571766243337', '1240684779076550657', '1239656579705823234', '1238914668514562048', '1236897623778439168', '1223100213910331392', '1221910376922656770', '1239634305111986178', '1236085644079792128', '1233840156760821760', '1249821053167124480', '1249869038060285954', '1249760954704965632', '1249824998858149895', '1249786847406022656', '1249917089349021696', '1249627121959333889', '1249465595806076929', '1249675745464631296', '1249604749768491008', '1249417132275838977', '1249394250443190272', '1249379005482127360', '1243694015897145350', '1238959445822054401', '1239004805802188801', '1239534520845680641', '1238316928508129281', '1239363958953263104', '1238229852945289216', '1238474714600722432', '1238209580028616705', '1238209139584745487', '1238607791809585152', '1238652474187284482', '1238716104437977088', '1238515857900404740', '1238554191876042755', '1238271735641837573', '1238526498300198915', '1238506096618332160', '1240079090742222848', '1238517984001511425', '1248478574769668097', '1248409383035260928', '1248280068700483584', '1233499511605121025', '1234861894323916800', '1253448331503771648', '1242621435736199171', '1247554881587576832', '1246196709794906114', '1246510081530789889', '1221473139701346305', '1220870959378264065', '1220862576499752962', '1220867222874267648', '1220649353632780289', '1220507921210957824', '1224433324766031873', '1232852780244721666', '1224110743102029824', '1221531578540519424', '1247781774974803978', '1247514287180001282', '1247304104562417664', '1240245269163319296', '1240119111289647104', '1240252277090324481', '1240276832446005251', '1240290968256970753', '1242993896109441024', '1237914753248505856', '1243916399820419073', '1240273272257884169', '1238195964743020544', '1240138147050205185', '1240091556914348038', '1240328400893612033', '1242794156587651073', '1237928867832053763', '1240109497755897857', '1242132869377593353', '1232238158798114817', '1232387732590268416', '1235138349523927043', '1232106169239511042', '1232312187076698112', '1232335912073334785', '1232390127273426945', '1232679977038106624', '1232765927931777025', '1232291322008043520', '1232286150531911680', '1232238159825645568', '1232417580662448128', '1232145368780947459', '1232467789316640768', '1232481494167425024', '1232384130823917571', '1232679407363526656', '1232095767600324608', '1232070270397145088', '1232420992179482637', '1232676718349111297', '1233516160970371074', '1232329815644164097', '1232311990497923081', '1232904137471188992', '1237888680141848576', '1232111621444710401', '1232134146715029504', '1232103971679961088', '1232391193725530112', '1232091123662893058', '1232654158584524803', '1232313909857509377', '1232560741674291200', '1232234776540647424', '1232098922887352320', '1232310028704587777', '1232311505137303552', '1232107774118629376', '1232394892380430336', '1232153844949213185', '1232322873878024195', '1232180282867892226', '1232300647577505793', '1232221008574263302', '1232135886516736000', '1232539519246852096', '1232245010273316864', '1232302426390175749', '1232303634110668801', '1232186484716920835', '1232455758324699137', '1232288354009522176', '1232415123312017409', '1232373514914729984', '1232085332117663744', '1232086266054893569', '1233106926877081600', '1232069421444816896', '1232383725448527872', '1232306507888386048', '1232167377737076736', '1233509745312649216', '1232360785776697352', '1232768470238027776', '1232052021479575553', '1232067727705153536', '1232019136928210945', '1232032022773805056', '1232023046833102848', '1232056548844662785', '1225244432242442240', '1232041924481208321', '1232022916545597449', '1232051776204894208', '1245501354971365377', '1249853945842982914', '1249968668336967680', '1249896823558414337', '1249849425293266944', '1249796468241838080', '1249810005009858561', '1249880111249154048', '1250359407533162498', '1249803379754369027', '1249849447124631554', '1249902959451922433', '1249890261016219658', '1249835439927762945', '1249792092030853120', '1250053681665507330', '1249792859315662849', '1249979464387309570', '1249820979330678785', '1249786096747085824', '1249793431108571138', '1249993713427845122', '1249802760398057473', '1249901589176999936', '1249786409453486080', '1249810082323447813', '1249782424583602176', '1249799624501506050', '1249012687243055104', '1249773484227457025', '1250091093888077825', '1250217453524865024', '1249766660916932614', '1249754108107485189', '1249780227309518848', '1249753488067870721', '1247708818466840578', '1248275906931699713', '1250772811850878977', '1243174551032397825', '1243981791809191936', '1223641578452873216', '1223637637052932097']\n"
          ],
          "name": "stdout"
        }
      ]
    },
    {
      "cell_type": "markdown",
      "metadata": {
        "id": "WDKz65hWcpSc"
      },
      "source": [
        "MAY - NewsFake Replies"
      ]
    },
    {
      "cell_type": "code",
      "metadata": {
        "colab": {
          "base_uri": "https://localhost:8080/"
        },
        "id": "tJPsBmLacqbw",
        "outputId": "54083ee0-a561-4d0b-bfd2-06c7bd2cf2be"
      },
      "source": [
        "with open('/content/drive/MyDrive/UNBDC/CoAID Hydrated Files/05 01 2020/05NewsFakeCOVID-19_tweets_replies.csv', mode='r') as csv_file:\n",
        "    csv_reader = csv.DictReader(csv_file)\n",
        "    line_count = 0\n",
        "\n",
        "    mNF_brep = 0\n",
        "    mNF_trep = 0\n",
        "\n",
        "    cr_replies = []\n",
        "\n",
        "    for row in csv_reader:\n",
        "        if line_count == 0:\n",
        "            print(f'Column names are {\", \".join(row)}')\n",
        "            line_count += 1\n",
        "\n",
        "        if row['in_reply_to_status_id'] in mNF_btwids:\n",
        "          mNF_brep += 1\n",
        "          print({row['text']})\n",
        "        \n",
        "        if row['in_reply_to_status_id'] in mNF_ttwids:\n",
        "          mNF_brep += 1\n",
        "          print({row['text']})\n",
        "\n",
        "        line_count += 1\n",
        "    print(f'Processed {line_count} lines.')"
      ],
      "execution_count": null,
      "outputs": [
        {
          "output_type": "stream",
          "text": [
            "Column names are coordinates, created_at, hashtags, media, urls, favorite_count, id, in_reply_to_screen_name, in_reply_to_status_id, in_reply_to_user_id, lang, place, possibly_sensitive, retweet_count, retweet_id, retweet_screen_name, source, text, tweet_url, user_created_at, user_screen_name, user_default_profile_image, user_description, user_favourites_count, user_followers_count, user_friends_count, user_listed_count, user_location, user_name, user_statuses_count, user_time_zone, user_urls, user_verified\n",
            "Processed 3751 lines.\n"
          ],
          "name": "stdout"
        }
      ]
    },
    {
      "cell_type": "code",
      "metadata": {
        "colab": {
          "base_uri": "https://localhost:8080/"
        },
        "id": "FqycFHYBdL16",
        "outputId": "7405b043-3f4b-42b8-f46d-65174f3f4328"
      },
      "source": [
        "print(mNF_brep)\n",
        "print(mNF_trep)"
      ],
      "execution_count": null,
      "outputs": [
        {
          "output_type": "stream",
          "text": [
            "0\n",
            "0\n"
          ],
          "name": "stdout"
        }
      ]
    },
    {
      "cell_type": "markdown",
      "metadata": {
        "id": "5dFwVQofdUAX"
      },
      "source": [
        "MAY - NewsReal Tweets"
      ]
    },
    {
      "cell_type": "code",
      "metadata": {
        "id": "jAfTVFN5dV5H"
      },
      "source": [
        "with open('/content/drive/MyDrive/UNBDC/CoAID Hydrated Files/05 01 2020/05NewsRealCOVID-19_tweets.csv', mode='r') as csv_file:\n",
        "    csv_reader = csv.DictReader(csv_file)\n",
        "    line_count = 0\n",
        "    mNR_btwids = []\n",
        "    mNR_ttwids = []\n",
        "    mNR_bcount = 0\n",
        "    mNR_tcount = 0\n",
        "    for row in csv_reader:\n",
        "        if line_count == 0:\n",
        "            print(f'Column names are {\", \".join(row)}')\n",
        "            line_count += 1\n",
        "\n",
        "        if \"biden\" in row[\"text\"] or \"Biden\" in row['text'] or \"BIDEN\" in row['text']:\n",
        "            print({row[\"text\"]})\n",
        "            mNR_btwids.append(row['id'])\n",
        "            mNR_bcount += 1\n",
        "        \n",
        "        if \"trump\" in row[\"text\"] or \"Trump\" in row['text'] or \"TRUMP\" in row['text']:\n",
        "            print({row[\"text\"]})\n",
        "            mNR_ttwids.append(row['id'])\n",
        "            mNR_tcount += 1\n",
        "\n",
        "        line_count += 1\n",
        "    print(f'Processed {line_count} lines.')"
      ],
      "execution_count": null,
      "outputs": []
    },
    {
      "cell_type": "code",
      "metadata": {
        "colab": {
          "base_uri": "https://localhost:8080/"
        },
        "id": "WFnTKaqBdwDW",
        "outputId": "257f31f7-247c-4796-fbb6-db391790fc50"
      },
      "source": [
        "print(mNR_bcount)\n",
        "print(mNR_btwids)\n",
        "\n",
        "print(mNR_tcount)\n",
        "print(mNR_ttwids)"
      ],
      "execution_count": null,
      "outputs": [
        {
          "output_type": "stream",
          "text": [
            "103\n",
            "['1255080138347360256', '1251243672693141504', '1240439941286543361', '1255080138347360256', '1251243672693141504', '1256355534808264707', '1253153857703575553', '1238190683153813505', '1250417588993064960', '1256355534808264707', '1253153857703575553', '1237563948502634496', '1249799592759214080', '1240374926709678080', '1247616850147430400', '1249309664929550337', '1249716741082624000', '1249454411363102723', '1249676247388631046', '1249566786175016960', '1249403745496182788', '1238158156703903744', '1245696344154689536', '1245468878098104322', '1240985838755778570', '1241852522492334080', '1241062628534951936', '1254821813357404163', '1253760361918091264', '1252098848027262976', '1249929291204300800', '1247538816660848640', '1243956928478208000', '1243956801965457409', '1256370559639838720', '1256358675897294849', '1251933968854908928', '1256295774473711616', '1256296100937347072', '1256295622115614720', '1256283115854663682', '1256215743538102273', '1256271616192983042', '1256176884942962689', '1256372732025098246', '1256372270710358016', '1256372628673171458', '1256370559639838720', '1256369869949411332', '1256370101038641152', '1240354831983734786', '1256357607742115840', '1256366893709041664', '1256363119674359810', '1256362268696162307', '1251236258560438273', '1255603767782838272', '1239180139562483715', '1238469069956878341', '1242204829205835776', '1237207032215683072', '1255914101215072256', '1256053171807494144', '1256242071607947264', '1256177625170575360', '1255722527323828225', '1250574487365582850', '1256315669026492416', '1256274253848219651', '1256244948615213064', '1254102633675022339', '1255468718273986564', '1256369157509124096', '1256352285686407171', '1256346856105414663', '1256342353532661761', '1256302935857913857', '1256277602429366273', '1256274682459746304', '1256208060063854593', '1254480751866703873', '1248799257525698562', '1251104288501366785', '1244297447536459777', '1256365093870342145', '1255850519861624832', '1255674206601297920', '1255605542548103169', '1239524261716525056', '1256338599135473664', '1256337841623166977', '1256344482586345472', '1256325921075654656', '1256323254953734147', '1256325620130131974', '1256332732147228673', '1256327795128463361', '1256327918281609216', '1256331201750552578', '1256019517551128583', '1256358788468297730', '1239619535910637568', '1239619583289569282']\n",
            "2233\n",
            "['1256222974312660995', '1256076503651160064', '1256088230526545925', '1254274244453838848', '1245035901102809089', '1245504152060518400', '1245039987441176576', '1238902153684701184', '1235886382901530624', '1221454717001326592', '1234488739499585537', '1248992269677383681', '1236912406955200512', '1237806632207298562', '1239732995478687744', '1234407866427154432', '1251643104114900992', '1251189901288226816', '1248185132093075458', '1248147404936720384', '1246844895211339780', '1246448828728786946', '1246178152008896514', '1245874905658228738', '1246059590107582464', '1251697218299596800', '1238715383726522368', '1255894419703652352', '1241467620467097601', '1240685587184545797', '1256342872296751104', '1256355341459218433', '1256370590224486401', '1256332160417460225', '1256341227106004992', '1256294406111612930', '1256292942634979334', '1256270696017276932', '1256292985429544960', '1256292887194730496', '1256303863386247170', '1256230059914006528', '1256178843930382336', '1256038466212827136', '1256098771093553153', '1256026254874218497', '1256045277108211713', '1256046355195129856', '1255970623664185344', '1255915496513421312', '1255969705891954690', '1255688422087200768', '1255576810030608391', '1229782624152911872', '1227915954580901888', '1255582633678929920', '1251643104114900992', '1250543371040456704', '1250736578663780352', '1255894419703652352', '1241467620467097601', '1240685587184545797', '1229782624152911872', '1253204320838799360', '1252613408278622210', '1255947642980491265', '1256360255304286208', '1255929942652616714', '1256211517491593217', '1255121006101962752', '1254945756445900803', '1255568340300505091', '1255283551144161282', '1254201316768755715', '1254791645637181445', '1254874297287524352', '1254532311871361024', '1253756616282759168', '1253339552862748680', '1253070452639051776', '1253547564105957379', '1253127369205985282', '1253062400338780161', '1253067292037935105', '1253345929316503552', '1252956439133347840', '1252754920308170754', '1252303905528197123', '1252030810737135616', '1252048317003030528', '1249130655289573376', '1251612954459439107', '1240042147396673536', '1234144083305693184', '1237051763750047745', '1233141459986989056', '1229643021269917698', '1239647722820513792', '1255947642980491265', '1256360255304286208', '1255568340300505091', '1255929942652616714', '1256211517491593217', '1255121006101962752', '1254945756445900803', '1254791645637181445', '1254874297287524352', '1255283551144161282', '1254201316768755715', '1254277229376389121', '1254532311871361024', '1253756616282759168', '1253339552862748680', '1253070452639051776', '1253547564105957379', '1253127369205985282', '1253062400338780161', '1253067292037935105', '1253345929316503552', '1252956439133347840', '1252754920308170754', '1252303905528197123', '1247328759704936448', '1238463345503735809', '1248401189714006017', '1255231694266867712', '1253707973727334402', '1254404011475849222', '1254862798682599432', '1238317361586819074', '1249827641798078468', '1251492360179023872', '1247555237163999233', '1247736885700689920', '1246916474217926656', '1244402850073018368', '1244048655402885121', '1242270238626000897', '1247869329921789952', '1255649624263548928', '1256346107069816838', '1256357918913507329', '1256349997743906817', '1256359018265817089', '1256358621631459328', '1256346745568542720', '1256333460274245634', '1256325133620264960', '1256328257646944256', '1246440677363384321', '1256319294704455682', '1256319951985496064', '1256308558553059329', '1256325662463254529', '1256333972469997568', '1256318333433131009', '1256318744051068928', '1256326016168947712', '1256327920718495744', '1256321114126483456', '1255988016285442056', '1256335886553235457', '1255636999333187584', '1255629725508071424', '1255902745749381121', '1255889013644410883', '1255902745619386370', '1255716019579973632', '1255899223360327681', '1255647542718500866', '1255899223041560577', '1255764920945324032', '1255617207717027848', '1255885258932645890', '1255612965413216256', '1255680154703020032', '1255627814419628032', '1255681316139552768', '1255753824524013573', '1255618073475928070', '1255915470584233986', '1255775001359384577', '1255899224111079426', '1255726462088302593', '1255760835026259969', '1255664212753301505', '1255766528324104192', '1255613064881340416', '1255665385233281030', '1255678431959883778', '1255398490722775045', '1255484839526096898', '1255881521992433666', '1255596608609230849', '1255617808496504832', '1255424256042811393', '1255557358224375808', '1255645297583284224', '1255537946998059010', '1255481007781879817', '1255498825860513792', '1255505195641049089', '1256241922408144897', '1256352353156042753', '1255449024062259202', '1255406507652513793', '1255599019918835713', '1255835556388487169', '1255651572148625408', '1255415941502054405', '1255480973107527682', '1255406469018771460', '1255455165244719105', '1255826684835758082', '1255608569619234816', '1255406772170481666', '1255477084018876418', '1255497056191483905', '1255830235939037184', '1255647677079060480', '1256307859400257536', '1255879966262165504', '1255559244989906944', '1255398774547021824', '1255889778458996743', '1255412457369145344', '1255446768147468289', '1255523542109696010', '1255533604815482882', '1255601388479889408', '1255597249209536514', '1255835177626079233', '1255518239070830593', '1255520196703461377', '1255399945353527298', '1255510132361961475', '1255528960223596544', '1255446548609187840', '1255880284265803776', '1255503558675443712', '1255909509383553031', '1255704682409922560', '1255425377360543746', '1255534532213772289', '1255595054485377031', '1255522582691893248', '1255497573135200257', '1255583137091817473', '1255497081579548674', '1255501186951720961', '1255448931573600258', '1255491377531666432', '1255521074420342786', '1255451717212286979', '1255275789987319808', '1255397577954070528', '1255291771610894337', '1255299310465449990', '1255289207230214146', '1255289081065603072', '1255380783658872837', '1255289080994238464', '1255297217952432128', '1255360468161638402', '1255384846962221058', '1255274352838311939', '1255271728542027784', '1255319976174587905', '1255300700084621312', '1255286390755074048', '1255306750779146241', '1255344145029386240', '1255316312471097344', '1255293263864647680', '1255275693920980992', '1255312620028145666', '1255294611188264960', '1255289081900281857', '1255369537781981187', '1255301311437983746', '1255274422556078080', '1255294979209035777', '1255342437175906304', '1255348258962051075', '1255288289826930688', '1255320030390161408', '1255281862001524743', '1255307154795487232', '1255346743052587008', '1255321923585703938', '1255317810022154242', '1255278278061023232', '1255322475715530753', '1255276418059194368', '1255307060297764865', '1255314745911107588', '1255335293009440768', '1255316707348021249', '1255294800699494401', '1255396263648002048', '1255335042378858496', '1255274043185475584', '1255290145911209984', '1255293182914560002', '1255385348571631616', '1255289083225612289', '1255289080528736261', '1255293188115509249', '1255376721408376838', '1255278880627265536', '1255298777935761411', '1255301096341454850', '1255329665495040001', '1255338585970085888', '1255379306261381120', '1255290265448914944', '1255275729752915968', '1255272793056436225', '1255284166133940225', '1255346021313449985', '1255372367292960768', '1255276175296995330', '1255292439855857664', '1255339341016170499', '1255309238236327936', '1255323623470043138', '1255323281277796360', '1255297119608594433', '1255295620585226240', '1255289078796431361', '1255385826990723072', '1255279101168025601', '1255271324756443136', '1255354091485704193', '1255375464497102848', '1255289081900216320', '1255295865683673090', '1255355490428686337', '1255274950702792704', '1255372985403346945', '1255292733620617219', '1255285555983790080', '1255308417763344384', '1255329711334490112', '1255308800162172928', '1255310233469095937', '1255229818549022722', '1255221607158685701', '1255201833938755584', '1255240367924002817', '1255223986255953920', '1255212185732685826', '1255215612286164992', '1255229485525471236', '1255250946088714240', '1255201389212504065', '1255237017404874755', '1255235129095729160', '1255238630546833413', '1255209164638478336', '1255204815979843588', '1255232142130524162', '1255206111856267266', '1255210361114034176', '1255220457550360576', '1255236433729802243', '1255200182859444224', '1255231089305583617', '1255244852649959428', '1255229079919439881', '1255219630760775681', '1255207956624429056', '1255203880218120192', '1255251156240150534', '1255221567212195841', '1255206292857159681', '1255216618650644480', '1255223659511394306', '1255203581512290305', '1255209450971037697', '1255229717520752645', '1255204894476304388', '1255214765707853831', '1255233262399692806', '1255212538742136833', '1255225029018759174', '1255217726567612417', '1255231323142307842', '1255204524962308096', '1255233432109662208', '1255206838229807106', '1255237095356018689', '1255209836784103429', '1255217389697933312', '1255248080850599938', '1255215332186370048', '1255218226717474816', '1255245034280099845', '1255268764003729410', '1255246676572463111', '1255255486041071619', '1255227016170930182', '1255233757474361344', '1255222199579029504', '1255241580073672705', '1255251212099817472', '1255203895325995009', '1255210803436765185', '1255200863028744192', '1255229297482219524', '1255209872221765634', '1255215256739155968', '1255208962217185282', '1255199425229729800', '1255246284694446085', '1255243169047941123', '1255206104155459585', '1255198649677725697', '1255200622107717633', '1255225288071544833', '1255229751020728322', '1255222231430508545', '1255226551236472835', '1255205900442271744', '1255215531805880323', '1255234143866232832', '1255197661248008193', '1255264124575133697', '1255207967122653185', '1255204787127230467', '1255252802793865216', '1255205108570341382', '1255213976490835972', '1255203952435421184', '1255207075191443457', '1255221861694287873', '1255184219699056642', '1255196059179065344', '1255185656667668486', '1255191965282504704', '1255183835807047682', '1255183845885980672', '1255191359713050629', '1255183277469687810', '1255184140548272128', '1255185468615880704', '1255190901061750791', '1255193531225763840', '1255188396940681216', '1255183560006402049', '1255187542338678786', '1255182466874212354', '1255183336458407940', '1255190440875372544', '1255195420008935424', '1255181378402103296', '1255195247690342401', '1255197588934078465', '1255186552097038337', '1255188125762170880', '1255185860317847554', '1255183418209587203', '1255183555631734788', '1255183410336841729', '1255183518235267077', '1255193472664875009', '1255191179941097472', '1255190308402475008', '1255183857369804800', '1255183457434640385', '1255196636009111553', '1255191784495484935', '1255189561707241475', '1255183885018656768', '1255184361990680578', '1255189317661540352', '1255189873897635842', '1255183715292123139', '1255185739022827521', '1255183433652977670', '1255188989855875072', '1255188940841246722', '1255183878978928640', '1255183540708409346', '1255197242560000000', '1255196535605702657', '1255181376346882053', '1255184514634178564', '1256213446972133376', '1255595517607915523', '1254469648738930689', '1254507390877253633', '1253901659979182080', '1253709847461105665', '1253709565264347137', '1253711237805940739', '1253727435121704965', '1253712974465957888', '1253719235483906048', '1253717755720851457', '1253710550019854337', '1253709434498568192', '1253712068752150535', '1253716993384935425', '1253726197340614658', '1253709801550344193', '1253709602023186433', '1253709595643645958', '1253709755555540992', '1253710329701257217', '1253709584453206026', '1253711460385140737', '1254560504791662592', '1252948534904655872', '1252940427226951681', '1247814685447147521', '1254383879991054336', '1254387980510339073', '1254407573152960512', '1254522654465437702', '1254387108057399300', '1251597679362224129', '1244364792346955776', '1207630753670062081', '1207390123584872449', '1247616850147430400', '1251198419294720001', '1233785224238161922', '1234285572073644032', '1207391442211131401', '1248369474471854080', '1248046364178542592', '1248610986711347203', '1247888922622877696', '1251159412208578561', '1250910054661763072', '1251021555632570369', '1249309664929550337', '1250901827073257476', '1250901797553790978', '1249716741082624000', '1251110659699417088', '1250901875609616385', '1244761322589425664', '1249454411363102723', '1250866390149537792', '1249640583267782662', '1252043298832695298', '1250956498232135685', '1251392675036696576', '1249728910926974976', '1252440011158536192', '1251316010143154177', '1251206168522952711', '1250886689662230530', '1251093251689496577', '1249807847073951752', '1243602385605480450', '1251161167805870081', '1250925994774495234', '1250901851614048261', '1250946020483256321', '1251106884033015810', '1251251608744349696', '1250875698455228418', '1249676247388631046', '1251995104195350528', '1249566786175016960', '1244671007253725188', '1251251485297475584', '1251259183770537988', '1250911568600195075', '1249558347340275717', '1252070418820861952', '1250197570791575552', '1249403745496182788', '1252669401175908352', '1249720890604085248', '1249751954617704452', '1249705625585664001', '1252968001504149504', '1252623322124357634', '1251350143460409353', '1250949697910345728', '1250950688512720896', '1251174987051892737', '1251219562600771592', '1250190710382485504', '1250192873913491462', '1256173281310175232', '1254125645132677127', '1251525877432643584', '1251168929399083010', '1250052499274416134', '1239868019356000256', '1244415506553110528', '1241584359322288130', '1240181889316487168', '1245751469334241281', '1239856092223377408', '1241580526785441792', '1243571958790402054', '1241581580239482881', '1247320059246186501', '1240149375474708480', '1241645244866867201', '1243524742092656640', '1247676352263852032', '1248297705090117633', '1247997374003380229', '1247941929628663809', '1249797528008228870', '1249631387885490177', '1247909311315132417', '1247902071707152385', '1247871939089256455', '1247301414432305152', '1247504840516939785', '1247128658424270851', '1247139904364204033', '1246956572607049728', '1247180353602588677', '1247294300221734913', '1246857946526449664', '1246967674665463808', '1246941749617938432', '1246876186480787456', '1247261284996976645', '1247067920242442241', '1246948322318921731', '1246946381073244160', '1246819329322233858', '1246823314267521025', '1246969842764144640', '1247515334426472448', '1246059998775517186', '1248047488512282624', '1246927833039081475', '1245877798729850880', '1245775114110730240', '1244339501801050117', '1245791984536649728', '1248750677335011330', '1248657211045425157', '1244605165333663751', '1240673309273948160', '1248727759351943170', '1248643609446035456', '1253375398261305344', '1250190414499454981', '1249530751714054144', '1252192327168385029', '1253162296584671234', '1248643304364871681', '1255199062065737729', '1255651090806312961', '1248430897897934857', '1248643972123308034', '1255316934331191302', '1253010653847134208', '1250850098000601096', '1248340486584250368', '1249016394294988800', '1248363615691755521', '1244965639263006720', '1245051682452426752', '1244833714850283520', '1245092537657851904', '1244026715065769987', '1246642863967887360', '1244948564091994112', '1244951922106347520', '1245027566928437254', '1245092398432161792', '1244271126441873408', '1244277244555603968', '1244283028546994178', '1244059090466131968', '1244686313875542024', '1244260102301011968', '1245385312366403593', '1245275381826871296', '1243977230188937218', '1243806997343952896', '1243850437666594818', '1243810401474637825', '1243919231814524929', '1244007224231563265', '1243708444575592453', '1243691722502094850', '1243629487453024264', '1243642956600483842', '1243751208629800976', '1243669643522445314', '1243698106874482688', '1243646262026657792', '1243632828073549827', '1243652901765029894', '1243625282180976643', '1243687754963148801', '1243619301430562818', '1243622627874238464', '1243612734866034689', '1243612939292196866', '1243685151831441408', '1243622201976180738', '1243539878748598279', '1243556764022382593', '1243551718568103936', '1243598510374686722', '1243607659300794368', '1243604464361033733', '1243564885184782337', '1243588140629098500', '1243550550869721088', '1243607888435630081', '1243529850390020097', '1244404362111221760', '1243521662055862272', '1244103582166761473', '1243513263457030144', '1243525503593656321', '1243534160020398080', '1243530724633804800', '1243533735166767106', '1243778062187036672', '1250731215482650625', '1245134777792880640', '1246300015649120256', '1242969217282060288', '1242646069630115840', '1242643522303352835', '1242553875950964736', '1242588096488767489', '1242862796527853568', '1247658551947882497', '1242542179500916736', '1254087736132276224', '1242535755953684480', '1242606862534610945', '1246571444659605504', '1243261871668580352', '1242539842845671425', '1254406884813090817', '1243941583206170624', '1250529344788656134', '1247991349007110144', '1255008702182064128', '1242558875414466560', '1246557505175662593', '1242972061879934977', '1242737777021718529', '1242547020658700288', '1243889713859174401', '1242399271900475394', '1242463679708139523', '1242501280590856193', '1242488380178321408', '1242493221328113665', '1242489792895635457', '1242443037445361665', '1242526608482656256', '1242457261852651520', '1242507398520147974', '1242475472874811392', '1242482307534995463', '1242448412106280961', '1242477301696258049', '1242498538723889152', '1242424426639101958', '1242406609948684288', '1242485706456469505', '1242343156068356098', '1242404841978290176', '1242406398488608768', '1242491415218794496', '1242528459643146244', '1242398250692308992', '1242321581310980098', '1242302629901787136', '1242264187172032512', '1242246729631580160', '1242281674362294273', '1242217897352724486', '1242248299937009664', '1242314706095706113', '1242293433722646529', '1242263103615705088', '1242282904652152832', '1242281920005722112', '1242274409223774211', '1242262959813873664', '1242292974165213185', '1242281712781897729', '1243215120852901888', '1254082990675767302', '1242827509001052160', '1245588076505649153', '1242090540113334273', '1242032420951654414', '1245130737621270529', '1245109019221667845', '1251960928922333185', '1243680411978522624', '1246543950950944772', '1246601409358954497', '1246182685237600256', '1246514810285486080', '1246150509674676225', '1245235685864484864', '1245109632865054721', '1244850217796734976', '1244857459581345794', '1244993688343699457', '1249741334887489543', '1251208212612874240', '1255713827745906688', '1251242453912387588', '1252449881303781376', '1249006633788858368', '1246864844902379520', '1248363102552428545', '1245135460021587969', '1246532026116771843', '1245468878098104322', '1246181790248730629', '1241369635326267396', '1239138121729671170', '1240327455899963393', '1239428985408241667', '1239969644301049859', '1243630441413967883', '1243274653197533184', '1244732578273177600', '1238858658001195009', '1238599255239077888', '1238604329000603649', '1238594938553675777', '1238602009424441344', '1238704817528242177', '1239024200456851458', '1238601950368759808', '1238612448631877632', '1238595880766373889', '1238598483042500609', '1238621052306993153', '1238598238044856322', '1243307115244027906', '1238598983167225857', '1238675681539751936', '1238667312711888898', '1238598997901807616', '1238601986343387138', '1238606042608447488', '1238603809024180225', '1238601498529054721', '1256371320142491648', '1236057972222103552', '1256341069106606082', '1256326613991481347', '1256331949662023682', '1256334019991531521', '1256334556472344576', '1256334497626288128', '1256324659529695233', '1256320356811341826', '1256301876993114112', '1237394600769155079', '1233760510874701824', '1237123663855575042', '1237115001724428288', '1253444768757092354', '1244061843687120896', '1254699090849394689', '1253734076399435776', '1244159125233139713', '1253444724129763330', '1253735489129119744', '1243985876927078402', '1244038717792280576', '1248171538643333120', '1253833117112164356', '1253444573721956357', '1244086653976707072', '1253470018920046592', '1253750025588523009', '1244660295206711296', '1253787129987108866', '1244549323515281408', '1253897970820341767', '1244067801612070926', '1244608533255069701', '1244320901618950146', '1245544239900930051', '1253647595152572418', '1244259088772579333', '1245420683271831553', '1244667967834488832', '1253473745588584449', '1244073686908448778', '1252746415677345796', '1247158781206654977', '1253731367004692481', '1253786797685039104', '1244331013431595015', '1253745582738493441', '1252602116327321600', '1253750569597980672', '1243638645732642816', '1240762840979570693', '1243594063087009792', '1243691789409796101', '1243636963204268033', '1243646036159221763', '1243608261439492096', '1243916116226985986', '1241087544013586436', '1243690398834401281', '1243638161500180480', '1243917953654853633', '1243862815191990272', '1241060792549720064', '1243727866103136262', '1240746124291391488', '1243646352028053504', '1243655397145300992', '1240807285640716288', '1243898396559187968', '1243644252900462598', '1240728134279811072', '1243636829661904901', '1243620357225005056', '1243648520437010432', '1243888741397213187', '1240865703420481537', '1243202267001454593', '1243757035889422339', '1243649641830387713', '1243636874964598790', '1243665962446053376', '1243681504250789890', '1243689386828599302', '1243661087205142535', '1243906804389761025', '1241852522492334080', '1243668593256157184', '1241947580180975617', '1243734772066762752', '1243642328897802242', '1243636862385864704', '1243641218246086657', '1243652917090869248', '1243639823866441730', '1243652359940685826', '1243864622723203076', '1243693554951688203', '1243655331600875525', '1243650439146606594', '1243646395258634240', '1243915870788714497', '1243639423817965569', '1243888930845384704', '1243636829745754112', '1242769097903026182', '1243927452696657928', '1243652103777570818', '1243618424904916992', '1240851380371324928', '1243699389580926976', '1243643026196570112', '1243637511609597954', '1243926015467909120', '1243864382020427783', '1243681630797074434', '1243682209116172288', '1243648750079422465', '1241783336789348352', '1243650272427151360', '1243645231846825984', '1243675965185839104', '1240725742633140224', '1243723737909862405', '1243665691586117632', '1243808583206215681', '1243156936545030146', '1243686600787271681', '1243795828407492609', '1243637086139363329', '1243646076046807041', '1243645917552615424', '1240733671943860225', '1243643573041537024', '1243652002695053313', '1241000679423873030', '1243755666700931074', '1243648126637846528', '1240450448169095168', '1240454447743905792', '1240662991797977088', '1240439444856950790', '1240461049754771458', '1240628287270944769', '1240577913361227776', '1240444829269741571', '1240439217345478657', '1240706102779469825', '1240436594513006595', '1240438791791353856', '1240587945670737921', '1240473649880223744', '1240629574561681412', '1240560063271432192', '1240673343935741958', '1240439858587467777', '1240436305135202304', '1240644211327873025', '1240460545842708481', '1240472002126843905', '1240438751148425217', '1240465924160925703', '1240450656936157184', '1240506208479371264', '1240438816831180801', '1240476016864382977', '1240679128761802759', '1240442404781449216', '1240649036387909632', '1240540108245344256', '1240617841910599680', '1240670085985062913', '1240699327288242180', '1240438690268274691', '1240455978849570818', '1240446454587469824', '1240712157324402688', '1240439182444695553', '1240441693696069632', '1240446841663168513', '1240615200459497474', '1240452002234195969', '1240456469780160513', '1240649170496544768', '1244807570084122624', '1245624987374858243', '1245497990581833728', '1241407863551135747', '1246682565164929024', '1246345490867814400', '1242810429442650117', '1241062628534951936', '1240778174121644034', '1240500241469788161', '1241076026538627075', '1240997770082779136', '1240693422588981251', '1241845460349980675', '1243694513857671174', '1227765483224498176', '1233586279192780800', '1233576461195329536', '1234390632875032576', '1220733946293563399', '1253918059074449408', '1253817094677753856', '1253887776547680256', '1253885200989171712', '1248948842977988608', '1244030344376070150', '1243585244890050571', '1252943857546932225', '1253072612395307010', '1234171019243421701', '1226116251111444480', '1232846958408216576', '1244322926574231552', '1243314727884734464', '1223020141698371584', '1222950252962963456', '1255030036463267841', '1246887526083821573', '1254757477679108096', '1254821813357404163', '1254878331427643392', '1252633364613533696', '1252330015103934464', '1253760361918091264', '1251604922329686017', '1249847352548110336', '1252081319854694400', '1251970111176683520', '1252278144381452296', '1249673149953736707', '1252098848027262976', '1252705518847746059', '1249157557060546561', '1253572113304150016', '1249742110494003200', '1252219235683663873', '1249710364301942785', '1254182914599911425', '1249929291204300800', '1249558900937916416', '1250612324546818049', '1249820032705671169', '1250756655828123648', '1252559942239891456', '1252558054131814403', '1252432088222978049', '1249808428140290049', '1252562442225238016', '1252052458240524288', '1246527386428080136', '1246296297172119552', '1247551376294584326', '1247200665035780107', '1247515082159947777', '1246919447203303424', '1247010196423094272', '1245531910073241600', '1244880101340319744', '1248598339718909952', '1246349008127135744', '1247178686924648448', '1247535596001607681', '1248279871714996231', '1247511207042580481', '1248259590246092805', '1247614959493640192', '1245293830896635904', '1247538816660848640', '1246809941387681792', '1245106661368479745', '1247568099441770496', '1247289772344655872', '1248101698788155392', '1249079313653207041', '1245123864251838464', '1245888022287134726', '1247567681890500608', '1244191737469210624', '1241620267870322689', '1241042067003932673', '1242202289198247938', '1241641511059668993', '1241354351538561026', '1241117950595289090', '1243350870072451072', '1241752122988924929', '1242764403541508098', '1241513672205369346', '1241639759920971778', '1243303256098562048', '1243526549950869505', '1242851411366477828', '1241643257710477312', '1242818519827238912', '1244621227542687745', '1241394539962806272', '1243956928478208000', '1241641787837513729', '1242760896755175424', '1241034958619041792', '1243956801965457409', '1241463372274515968', '1241046383504715776', '1240545540670177282', '1239447349728026624', '1239728816597204992', '1239864926669352960', '1239238117799886849', '1239130719974092800', '1239481312513150976', '1239814872864563200', '1238969407805759489', '1239000702627831810', '1256365457436598272', '1256370559639838720', '1256360087691554816', '1256342732743688193', '1256336476305907712', '1256344684500152320', '1256335697591406593', '1256339443419500544', '1256347076948000768', '1256330384259772416', '1256329964913258496', '1256334019991531521', '1256316058367131649', '1256314006718955520', '1256372818553589766', '1256372808508211201', '1256372792708268041', '1256274026424500224', '1256006515229515776', '1255874609615962113', '1255901194360250368', '1255873565158780930', '1255931537520017410', '1250835146959286273', '1254805702377385985', '1245026166521593856', '1255843346561544192', '1255677343961579520', '1256120641339654144', '1255873746348331008', '1255897904079831042', '1255673949779898368', '1255695327530831873', '1255648390001631239', '1255659478227263489', '1255635006287835136', '1255650343225974784', '1255645809401569281', '1255637253554163712', '1255640237373444097', '1255639457782550528', '1255636190063181824', '1255637966577217536', '1255643201320423424', '1255647762772877314', '1255643643219709953', '1255636090897051648', '1255648818844127232', '1255637656861413376', '1255642742648115202', '1255649707130359810', '1255654677435133952', '1255643555088957443', '1255640691062878208', '1255636338721746944', '1255467649842114560', '1255371348509106176', '1255333034590711809', '1255475642814156802', '1255332819510923264', '1255512063776038913', '1255331968226598914', '1255333686016434178', '1255473805687914498', '1255332702519255041', '1255510821406478337', '1255338058930667521', '1255332962897362946', '1255353105182593030', '1255344891275739136', '1255506029724545024', '1255316896074907648', '1255296701566418947', '1254899470879330304', '1255323400022757377', '1254949202876076032', '1255170523895607296', '1255287644701044739', '1254900655485042697', '1255329224078041089', '1254908221648711682', '1255122504802283520', '1254908534401228803', '1254901096180580352', '1254935689755533315', '1255279939739418624', '1254901281807904774', '1253332646735646726', '1254090613324161025', '1253694001858981893', '1254290364585906180', '1253101536814804997', '1256221379789193221', '1256298795480035347', '1255310031035260928', '1255285933315952648', '1255360549585653760', '1255290778982776834', '1254800799726592000', '1254893755536154625', '1254547913486684161', '1253356386500534273', '1253365524521680896', '1251935127443312642', '1251964479547551744', '1251933968854908928', '1251440970266218496', '1251219095342608386', '1253305820990799874', '1253084005202669569', '1254915106095468544', '1256370921578823688', '1256371774599491584', '1256365734151761921', '1256365865777299456', '1256361592721203204', '1256363895989698560', '1256361124867563520', '1256361751391633408', '1256357239633240072', '1256358430887104514', '1256352824876826625', '1256352822397976577', '1256355497352892416', '1256350506152157184', '1256284309754744833', '1256289139730706432', '1256289550537654273', '1256292774145490944', '1256199236934184960', '1256169151388844033', '1256092541071564806', '1256111000635486208', '1256116339548327936', '1256092303334219776', '1256074856426323968', '1256083173680832512', '1256086356918300675', '1256047992412475394', '1256209044915838981', '1254115435794104323', '1256082325273804800', '1256014940479070209', '1255821750627074050', '1255860543828656132', '1255897244550795266', '1255847935948083200', '1255655679278407680', '1255973152481521666', '1255923138606567424', '1255656789028167680', '1255859014581186560', '1255874497867112450', '1255515949152776198', '1255355989085368320', '1255479260342628352', '1255609052983373829', '1255542810624884739', '1255080574097797121', '1255105878723682306', '1255295315630084097', '1255192285089804290', '1255198418151993344', '1255157594731065345', '1255131910444998656', '1254889647974408193', '1254914900394196995', '1254906817173487616', '1254042265892335617', '1254042170551607300', '1254044194789785606', '1254304593959403520', '1254307538436308993', '1254043582400540673', '1249809029490188289', '1245816992323571712', '1243915053474160650', '1256333629266919424', '1256361107054354436', '1256367133279150080', '1256368084853485569', '1256364412300034054', '1256336487286665216', '1256342633691168776', '1256332744113577986', '1256333195299057664', '1256338899724406784', '1256296816456265728', '1256328105087533065', '1256294925613793283', '1256309818937061381', '1256304645191974912', '1256303427476312065', '1256308732545208320', '1256275111574933504', '1256280568897175554', '1256286427467460610', '1256279814958448641', '1256253664362102786', '1256253701863456768', '1256258777059336192', '1256265899734114304', '1256282600068481024', '1256284050341474305', '1256252956896309248', '1256225180936032258', '1256249414525554693', '1256227122026348544', '1256223259420430336', '1256239041575563269', '1256247635490504704', '1256249769971810304', '1256231412392493058', '1256238292095438851', '1256205405820256256', '1256220005064224770', '1256202925904482304', '1256186890476232707', '1256190125412880385', '1256223136191741955', '1256186624188219392', '1256178094089605122', '1256220451539484674', '1256198122839080961', '1256214044345864193', '1256169202907578368', '1233807217402445824', '1256362052953600000', '1256241215311278081', '1256176884942962689', '1255947063109414913', '1255978414919413761', '1256372428839817216', '1256372732025098246', '1256372814891761664', '1256372401194950656', '1256372513019432961', '1256372242977521673', '1256372312187731970', '1256372422900678657', '1256372628673171458', '1256371673143574530', '1256372158076461061', '1256372043022389248', '1256372057555652608', '1256371965511774214', '1256371985879388160', '1256372201651085312', '1256371259669188611', '1256371337443946496', '1256371344838541312', '1256371118778302473', '1256371165658066945', '1256371218153746432', '1256370722445893639', '1256370936141545475', '1256370692842545153', '1256370951777931264', '1256370807191801856', '1256370590224486401', '1256370456095010816', '1256370762002268160', '1256370559639838720', '1256370901630607361', '1256370398305775616', '1256370553440649216', '1256370463711858696', '1256369869949411332', '1256370210648580097', '1256370139634847744', '1256370261907042304', '1256370043459375104', '1256370292097597440', '1256370250922078209', '1251636723236429831', '1255145860574240770', '1251991010718162944', '1250373083510300672', '1240354831983734786', '1256365970052001793', '1256359760237957121', '1256359036389212160', '1256352539806781445', '1256343409951989762', '1256356759603679233', '1256322108017135617', '1256338681058615298', '1256306891304529920', '1256307776097116160', '1256319012427841536', '1256310098214952961', '1256306973966024706', '1256305797409255426', '1256315220185829377', '1256295662058000385', '1256304454107791364', '1256298098600574976', '1256301517256241157', '1256288244448231429', '1256368815916503041', '1256285697406832642', '1256289058315272192', '1256364120598863874', '1256357607742115840', '1256367553586184192', '1256359969273843714', '1256364906896666624', '1256365926447865856', '1256351082068017152', '1256352041598926848', '1256351344019021824', '1256343076278284289', '1256343331359150081', '1256341013796229130', '1256342075307483136', '1256340976685256706', '1256342154974244865', '1256347490208501760', '1256330788749971460', '1256331636121067520', '1256328115858468864', '1256372057924870146', '1256371320142491648', '1256371198470033414', '1256370344878718977', '1256368207415447560', '1256365882953084930', '1256366838511833088', '1256366461771223044', '1256364435003846658', '1256363012832755713', '1256362268696162307', '1225000813090627584', '1220394020968501248', '1255502162957926402', '1255930711049207808', '1254978583447179265', '1254380023999594497', '1254404873703079937', '1254404967491940357', '1253451157944451073', '1253117437110870017', '1251329225602273282', '1255696719834120194', '1256333585365102592', '1256355258621624320', '1255914430107353090', '1255900622991351814', '1256033472650645506', '1255863105256591360', '1255661962693836801', '1255628075527745537', '1255288907912155139', '1255379291673690112', '1255281492634279936', '1241920737151078400', '1240569128529903617', '1241154096947757057', '1254805702377385985', '1240421702212993026', '1245026166521593856', '1256290235777986560', '1256208499706662913', '1256221552527507456', '1256039936223920130', '1256150176277749760', '1256120641339654144', '1255648390001631239', '1255659478227263489', '1255650343225974784', '1255645809401569281', '1255640237373444097', '1255639457782550528', '1255843346561544192', '1255677343961579520', '1255873746348331008', '1255643201320423424', '1255897904079831042', '1255647762772877314', '1255673949779898368', '1255643643219709953', '1255648818844127232', '1255642742648115202', '1255649707130359810', '1255654677435133952', '1255695327530831873', '1255643555088957443', '1255640691062878208', '1255467649842114560', '1255635006287835136', '1255475642814156802', '1255637253554163712', '1255512063776038913', '1255636190063181824', '1255473805687914498', '1255637966577217536', '1255510821406478337', '1255636090897051648', '1255637656861413376', '1255506029724545024', '1255636338721746944', '1255316896074907648', '1255371348509106176', '1255296701566418947', '1255333034590711809', '1255323400022757377', '1255170523895607296', '1255332819510923264', '1255287644701044739', '1255331968226598914', '1255333686016434178', '1255332702519255041', '1255329224078041089', '1255122504802283520', '1255338058930667521', '1255332962897362946', '1255353105182593030', '1255344891275739136', '1255279939739418624', '1254090613324161025', '1254899470879330304', '1254949202876076032', '1254900655485042697', '1253694001858981893', '1254908221648711682', '1254908534401228803', '1254901096180580352', '1254290364585906180', '1254935689755533315', '1254901281807904774', '1253332646735646726', '1253101536814804997', '1250537835616239623', '1249948606330740736', '1254472005023346697', '1254519472716742662', '1251686190778064902', '1254590275172945922', '1251130183932731392', '1250969996873760770', '1249724297221787651', '1249080744028356608', '1250077016692371457', '1253188247167131648', '1249723755955286017', '1250941496272064518', '1253518483532505088', '1252231841504915458', '1250534118464643079', '1252999775546339329', '1245887054518648832', '1246215768133361665', '1242966788826161153', '1242536250348838912', '1248784555483574273', '1245756025929699332', '1245750507379048453', '1246924364458741765', '1243143393569636352', '1246209033410838536', '1248403620275425280', '1245960322915217408', '1244150262920609797', '1246290588313497600', '1244803612099805184', '1243613889683750914', '1248208062898491393', '1246431861972381697', '1243064311792230400', '1246707665717227525', '1247085614333415424', '1244287116252557313', '1246190666566103040', '1239997433901461504', '1241663628559826945', '1241981717663166465', '1241594187616669696', '1241824861858582528', '1241890014184734724', '1240664883047391236', '1239032397963956231', '1239326375669972992', '1238870892706271233', '1238786476143304710', '1241847326542639104', '1239180139562483715', '1239179515739373568', '1239346178325528577', '1241429754651107328', '1240702341084405762', '1238469069956878341', '1238439357075337217', '1239075649806979073', '1239294958487474176', '1239515858415878145', '1241390194357678081', '1238500589505351685', '1241537949751222272', '1238482146324594689', '1238551203862233091', '1241373847816794114', '1238465473152536576', '1239327612176158721', '1242204829205835776', '1238618511901167616', '1239297398188408835', '1234668230293110785', '1235870639694548992', '1237964749322633216', '1235596258632273920', '1235009564585734144', '1238302476727549952', '1236700853416886274', '1236146959666290690', '1236377651041964033', '1236243249561358336', '1238410129764233217', '1234319969246220290', '1236662898472165377', '1238422195983937536', '1237163354013065216', '1234130142881964038', '1237457704295239680', '1235949252121157634', '1234139291850162176', '1237207032215683072', '1237926955791667201', '1238417642056228876', '1238416776926461953', '1235926049508274176', '1234121958230560769', '1232869919424942080', '1232901513577717760', '1232671450403950593', '1232685550240489477', '1232773619215810560', '1232800735554785280', '1233268957198483456', '1232719803464462336', '1232916615328673792', '1232450835386269698', '1233296161433411584', '1232438389128847361', '1232441651370459136', '1227348269916807169', '1232656040753278981', '1232695833704968192', '1233268589496373249', '1232693453382987778', '1233368967181369344', '1233916374184943616', '1232632471482720263', '1232784986052472838', '1233253469756067840', '1222411942721015808', '1256305155210911744', '1256324586733330433', '1256328957080727557', '1256343099422449664', '1256295990585327618', '1256241215311278081', '1256257769856000000', '1256241125020631040', '1256178570222845953', '1256218691034906624', '1256206882907271169', '1256052561032839170', '1256021003022540800', '1256016535111507968', '1256315198215868417', '1256252219541860355', '1256264283186479105', '1256194313677164544', '1256207871991320577', '1256194960505933824', '1256103494680866817', '1256069656407752704', '1247883167576363015', '1250187423549550592', '1241016600217731072', '1237030083241684992', '1255957750007205890', '1255614640396124162', '1254419374976520194', '1252692386758766593', '1248369102634221568', '1246298330004516864', '1247296734604210177', '1247363925949153281', '1244768656145481730', '1244740546628747264', '1244330314060582912', '1243945858401333249', '1243326327027048449', '1243321660289069056', '1253037688258793474', '1250538058279088128', '1244483223553482755', '1237012578230063106', '1256076251086782464', '1236424190426779648', '1244083620425449478', '1244084761854951424', '1240822092679065601', '1240821699903397889', '1242142242149720065', '1243195136013668352', '1242142177867829249', '1240587986737168384', '1242142291365629953', '1242142535373541389', '1242143365203968003', '1242143265987723272', '1242142323183628294', '1242143422586261506', '1255849559575744518', '1252413327881302019', '1256013093496328199', '1256177625170575360', '1255223514614976512', '1255269768275337219', '1255626440768229376', '1254849366050975750', '1255116365121359873', '1254709809741541377', '1253722056518221829', '1247614546820259840', '1247614723782103040', '1247613972838100992', '1248266737612660736', '1251552208417689601', '1247611523498827776', '1248434152657076224', '1247091424983580678', '1251182657557299200', '1247614665707778048', '1250826411180425216', '1245075319951953920', '1255149910514520066', '1253655315574333440', '1253018884837453824', '1256173216147668992', '1254774240844242947', '1255033643434639361', '1253409328343609344', '1254184445122351105', '1253366056195969029', '1252247070628556800', '1252989153211547650', '1251729892254683136', '1251652520595898369', '1250900191865077761', '1250857328871567360', '1251897384784867328', '1251486396709298176', '1250900265617760262', '1251103482788171777', '1250432026617888768', '1250771711806582786', '1250687044931723270', '1250835502342823937', '1250447318479826945', '1250604036367278082', '1250547455357153285', '1250508091126235137', '1250750405086248961', '1252983586707214337', '1245385471305363457', '1255843346561544192', '1256120641339654144', '1255873746348331008', '1255897904079831042', '1255695327530831873', '1255648390001631239', '1255659478227263489', '1255650343225974784', '1255645809401569281', '1255637253554163712', '1255640237373444097', '1255639457782550528', '1255636190063181824', '1255677343961579520', '1255637966577217536', '1255643201320423424', '1255647762772877314', '1255673949779898368', '1255643643219709953', '1255636090897051648', '1255648818844127232', '1255637656861413376', '1255642742648115202', '1255649707130359810', '1255654677435133952', '1255643555088957443', '1255640691062878208', '1255636338721746944', '1255467649842114560', '1255635006287835136', '1255371348509106176', '1255333034590711809', '1255475642814156802', '1255332819510923264', '1255512063776038913', '1255333686016434178', '1255473805687914498', '1255510821406478337', '1255338058930667521', '1255332962897362946', '1255353105182593030', '1255344891275739136', '1255506029724545024', '1255316896074907648', '1255296701566418947', '1254899470879330304', '1255323400022757377', '1254949202876076032', '1255170523895607296', '1255287644701044739', '1255331968226598914', '1254900655485042697', '1255332702519255041', '1255329224078041089', '1254908221648711682', '1255122504802283520', '1254908534401228803', '1254901096180580352', '1254935689755533315', '1255279939739418624', '1254901281807904774', '1253332646735646726', '1254090613324161025', '1253694001858981893', '1254290364585906180', '1254805702377385985', '1245026166521593856', '1253101536814804997', '1255589323187126272', '1253571435408134146', '1251687316369870848', '1243232617698217984', '1246075563690864640', '1256356890507804672', '1256292416094711808', '1256336472497459201', '1256324293157240832', '1256287889282891776', '1256257741846466561', '1256248435964997639', '1256237805958828034', '1256242256358502400', '1256273768491692035', '1256272070389886976', '1256275894852878336', '1256251138766262272', '1256205405576978432', '1256209444125450241', '1256203997511327744', '1256078727131234305', '1256072685895004161', '1256053281597599745', '1239983225050738696', '1256027879516844034', '1255377648999706626', '1255988967561932800', '1255205282059255808', '1254433751293181952', '1253827734943350785', '1254202011702222849', '1246500695248760832', '1256275144835657733', '1256254587348156418', '1256233536689971201', '1256164864357273601', '1256063745589161985', '1255618523835088903', '1256348496455704577', '1254889765092155394', '1255931195516268544', '1255701538158399494', '1256042940104933376', '1255664242675585025', '1255675715909029888', '1255600225831403520', '1255646528900935682', '1255638640224546821', '1255274449097588736', '1255631585090699267', '1254202028839952384', '1254309313281130497', '1254304600234102785', '1254306806035349510', '1255066781238034432', '1254307543574249472', '1255065561094127616', '1254201947680157697', '1255066452702486528', '1254038095466561536', '1254044123906048001', '1254042190206177280', '1253769964307329025', '1254038818614923264', '1254043485939826690', '1254102633675022339', '1254034243958779904', '1254042091631579137', '1254034936417398784', '1253718858592067589', '1254044839890554880', '1253407318479376386', '1256280926796955649', '1255898900168347648', '1255468718273986564', '1254805927556857856', '1256372417443835906', '1256372718267760640', '1256371430331015168', '1256369862827483142', '1256370452357939206', '1256369740273971202', '1256368913262284802', '1256368598810890240', '1256368253657649154', '1256368709729497089', '1256365585644085249', '1256366130802745345', '1256364362354135042', '1256364534509506563', '1256364054500839427', '1252591806350573572', '1256264800470028289', '1256265661673730049', '1256289145527455745', '1256218419793461249', '1256193875581874176', '1256061560318865408', '1256062587592204288', '1256024005775028224', '1254805702377385985', '1245026166521593856', '1232097020275331073', '1256181571482193921', '1255808866987753472', '1255673622653472768', '1255121761403691008', '1256366582038704133', '1256371331043598336', '1256366045650182144', '1256347335321358337', '1256329094381203456', '1256314241008766977', '1256312734519459841', '1256312745424650240', '1256302935857913857', '1256292018759913472', '1256299656356773889', '1256272795740311556', '1256293801292947458', '1256244214939222016', '1256199895947624449', '1256338661370556417', '1256331559935684609', '1256330009981022209', '1256339964712964105', '1256335361237585921', '1256320007547441152', '1256266456884555779', '1256263265971298305', '1256267311247474688', '1256284066611167236', '1256274682459746304', '1256238439864741889', '1256241841797619712', '1256221781347708930', '1256351741446172672', '1256286304142270467', '1256289085632675841', '1256238193319522313', '1256238311812857859', '1256237400210186240', '1242140776080932867', '1246218200590712832', '1252968845662445568', '1252291999404867597', '1255144588206960646', '1254480751866703873', '1248799257525698562', '1249724290108239872', '1245900085247893505', '1246695023699202048', '1243262333159460867', '1243961414223409152', '1244381599241650176', '1243321377542868998', '1242897915485368320', '1255027415539220480', '1250550850088398849', '1248002993393266688', '1249910368643821569', '1248339649984069635', '1247893860644057091', '1244966585007329280', '1242240132675239936', '1256302251435425793', '1256310180679122945', '1256367189772382208', '1256365093870342145', '1256208927043342337', '1256013435776581632', '1256031769083678720', '1256008653901004800', '1255892831312515073', '1255891553018687497', '1255933257201315840', '1255931498043256833', '1255863624700174336', '1255831663109701632', '1255885968147529729', '1255575430050074627', '1256359793796808704', '1256359340883271680', '1256359600565161985', '1255849455443750912', '1255566135673659395', '1255493018448211969', '1255201034026115072', '1255499952874311682', '1255103592488472576', '1254398097679056897', '1254021853305286660', '1253686987229257728', '1253730713985302529', '1253288806268260352', '1253222927048286210', '1253460593090142210', '1253086545650696192', '1245761243203452930', '1241869511164399621', '1240730884116013059', '1244408295340806147', '1244130282426359808', '1244076619154837505', '1244076594920140803', '1244074633835528194', '1256356521753051137', '1256331559935684609', '1256332124455497728', '1256343673371066370', '1256274926325174276', '1256238439864741889', '1256265299168550913', '1256263555218919426', '1256263632763133952', '1256255586456367107', '1256221781347708930', '1256232808911118337', '1256218380589248518', '1256217721815085060', '1256216646982737920', '1248028658767446019', '1247601696630505477', '1242236792171974656', '1256359793796808704', '1241848624272887813', '1256359340883271680', '1256359600565161985', '1256334645743849472', '1255887989659578368', '1255850519861624832', '1255889825842057221', '1255827000188563456', '1255674206601297920', '1245844970398859266', '1243940516305272833', '1241380243392188416', '1241504204503552001', '1222639212991844354', '1235621841441615873', '1256341965035233281', '1256325378953457664', '1256256226498879489', '1256197867104075776', '1256194356974845954', '1255117435138707456', '1255192419361976320', '1255262333913509889', '1254273247463575554', '1255056241337876485', '1253663097782300676', '1253368262487945223', '1253007154149093378', '1252996972199374850', '1237344677403283457', '1251319911676289024', '1251319470968242176', '1253534233533886464', '1252738712913408000', '1253734209132339200', '1229853862103744514', '1226614238656876549', '1230101497012260865', '1245122702878351360', '1246570773013118976', '1246201976725164034', '1245077673799540736', '1256357538435604480', '1256347042185609216', '1256352085978710016', '1256358329627996160', '1256352591212052482', '1256335628737773573', '1256334019991531521', '1256334556472344576', '1256329638948683776', '1256325503629160449', '1256317873598890002', '1256317315739607040', '1256302140823416834', '1256300684376444934', '1256301876993114112', '1256312997410029569', '1256290039648174082', '1256291866280103939', '1256292883784761347', '1256290016365547521', '1251674110620504070', '1245187458448457728', '1242397556346363904', '1242105783317340161', '1241111689396998144', '1241474691530805248', '1237948180895092738', '1238298864303644673', '1237642907752022017', '1238106702014222338', '1234501338580447232', '1233836755272511492', '1235760246896898054', '1253819990572257281', '1250192023057039362', '1250203880580763650', '1250620651188207616', '1250688388556107778', '1250775271793479680', '1254526446934130689', '1251265744542760960', '1237111088568619009', '1251265744542760960', '1237113151981682688', '1250211243228626944', '1242224292974284802', '1243242884091883520', '1238102170509217800', '1242116465874083840', '1238291981773803521', '1237114540371750912', '1237119436286459906', '1250388161743785984', '1250768072538980358']\n"
          ],
          "name": "stdout"
        }
      ]
    },
    {
      "cell_type": "markdown",
      "metadata": {
        "id": "0FLsbnPdd5fl"
      },
      "source": [
        "MAY - NewsReal Replies"
      ]
    },
    {
      "cell_type": "code",
      "metadata": {
        "id": "_AAAT31Fd7op"
      },
      "source": [
        "with open('/content/drive/MyDrive/UNBDC/CoAID Hydrated Files/05 01 2020/05NewsRealCOVID-19_tweets_replies.csv', mode='r') as csv_file:\n",
        "    csv_reader = csv.DictReader(csv_file)\n",
        "    line_count = 0\n",
        "\n",
        "    mNR_brep = 0\n",
        "    mNR_trep = 0\n",
        "\n",
        "    cr_replies = []\n",
        "\n",
        "    for row in csv_reader:\n",
        "        if line_count == 0:\n",
        "            print(f'Column names are {\", \".join(row)}')\n",
        "            line_count += 1\n",
        "\n",
        "        if row['in_reply_to_status_id'] in mNR_btwids:\n",
        "          mNR_brep += 1\n",
        "          print({row['text']})\n",
        "        \n",
        "        if row['in_reply_to_status_id'] in mNR_ttwids:\n",
        "          mNR_brep += 1\n",
        "          print({row['text']})\n",
        "\n",
        "        line_count += 1\n",
        "    print(f'Processed {line_count} lines.')"
      ],
      "execution_count": null,
      "outputs": []
    },
    {
      "cell_type": "code",
      "metadata": {
        "colab": {
          "base_uri": "https://localhost:8080/"
        },
        "id": "9H7YzGbPecVe",
        "outputId": "3970b7b2-3303-4636-f625-92f204ac940c"
      },
      "source": [
        "print(mNR_brep)\n",
        "print(mNR_trep)"
      ],
      "execution_count": null,
      "outputs": [
        {
          "output_type": "stream",
          "text": [
            "19\n",
            "0\n"
          ],
          "name": "stdout"
        }
      ]
    },
    {
      "cell_type": "markdown",
      "metadata": {
        "id": "A2DTfudtVFPU"
      },
      "source": [
        "JULY - ClaimReal Tweets"
      ]
    },
    {
      "cell_type": "code",
      "metadata": {
        "id": "rfq3l8zCVGt-"
      },
      "source": [
        "with open('/content/drive/MyDrive/UNBDC/CoAID Hydrated Files/07 01 2020/07ClaimRealCOVID-19_tweets.csv', mode='r') as csv_file:\n",
        "    csv_reader = csv.DictReader(csv_file)\n",
        "    line_count = 0\n",
        "    jClaimReal_btwids = []\n",
        "    jClaimReal_ttwids = []\n",
        "    jClaimReal_bcount = 0\n",
        "    jClaimReal_tcount = 0\n",
        "\n",
        "    all_tweets = []\n",
        "\n",
        "    for row in csv_reader:\n",
        "        if line_count == 0:\n",
        "            print(f'Column names are {\", \".join(row)}')\n",
        "            line_count += 1\n",
        "\n",
        "        if \"biden\" in row[\"text\"] or \"Biden\" in row['text'] or \"BIDEN\" in row['text']:\n",
        "            print({row[\"text\"]})\n",
        "            jClaimReal_btwids.append(row['id'])\n",
        "            jClaimReal_bcount += 1\n",
        "        \n",
        "        if \"trump\" in row[\"text\"] or \"Trump\" in row['text'] or \"TRUMP\" in row['text']:\n",
        "            print({row[\"text\"]})\n",
        "            jClaimReal_ttwids.append(row['id'])\n",
        "            jClaimReal_tcount += 1\n",
        "\n",
        "        all_tweets.append(row['id'])\n",
        "\n",
        "        line_count += 1\n",
        "    print(f'Processed {line_count} lines.')"
      ],
      "execution_count": null,
      "outputs": []
    },
    {
      "cell_type": "code",
      "metadata": {
        "colab": {
          "base_uri": "https://localhost:8080/"
        },
        "id": "RKrDZlM_VKFD",
        "outputId": "315367fd-ef00-48d1-e30e-bc119aba74c5"
      },
      "source": [
        "print(jClaimReal_bcount)\n",
        "print(jClaimReal_btwids)\n",
        "\n",
        "print(jClaimReal_tcount)\n",
        "print(jClaimReal_ttwids)\n",
        "\n",
        "print(all_tweets)\n",
        "print(len(all_tweets))"
      ],
      "execution_count": null,
      "outputs": [
        {
          "output_type": "stream",
          "text": [
            "2\n",
            "['1262563984219217920', '1262423041449119755']\n",
            "19\n",
            "['1278366477897400322', '1271185796033175552', '1268702967563194368', '1262430229857009665', '1268916867164516354', '1275866116724850694', '1262024407410782208', '1266683156586995714', '1270554326612578306', '1271156603220361223', '1278470852540055552', '1266387840990162944', '1277758810480836609', '1277806589378998274', '1277813891041550336', '1277596273294491649', '1276583020619849731', '1275494448496095234', '1273268613445713920']\n",
            "['1273561247133437954', '1273199036854484993', '1271623382627495936', '1277470471877885952', '1272892057967788032', '1273193663028289536', '1273128249644716032', '1273189429423693825', '1259598336308514818', '1272902328962646018', '1273312370358706176', '1272938782573002753', '1272915425555333125', '1275882220109135873', '1274319687208361986', '1272894690308829184', '1275259326983106560', '1273102834670669826', '1272924823572922370', '1273245046658088960', '1273585478961229824', '1273640564450373633', '1273101933591564295', '1276328313443586048', '1273241952083984384', '1273214469926260736', '1273161904014471169', '1273128843990241282', '1272940900377866240', '1269041016574623744', '1273216017670516738', '1261658513396432897', '1258803997554741250', '1275247172812972032', '1272425089146015744', '1273898662482116608', '1272903067806072842', '1273163705014980608', '1273109208817455107', '1272966148380930052', '1278419860196921347', '1272930478815731713', '1278264430980022277', '1272486633175052288', '1273069889843089408', '1272923259667914753', '1273335322412290049', '1271482617242796032', '1273041387777404930', '1272908574662983683', '1271480210215579649', '1273116426325368834', '1264596832090566661', '1273142761542344704', '1273140860092383235', '1278099968830648325', '1274258184480468992', '1273599290263212034', '1273131708565643271', '1271804102054260736', '1274397804102901762', '1256756935484989448', '1274243084843393024', '1273108832785498114', '1273051764078505984', '1274123853715968002', '1272891562142416897', '1273244963741093889', '1272890972200939521', '1273117183346909185', '1273082330488266754', '1274486159910080513', '1272777584514789376', '1274734924147417088', '1278419547146596352', '1274374574482874370', '1269618657249894401', '1272986293442674688', '1273525858175578113', '1273224094117326849', '1274347437973356544', '1277410375810445312', '1278262917360693248', '1275064191343161345', '1272895496219234304', '1272805769906393089', '1273179485731504128', '1273219519545315328', '1278317647327887362', '1273916968316178433', '1272908324011458561', '1276228746144632838', '1274232596134801408', '1270664225908649984', '1267022462149148679', '1278381708023234560', '1271069203567710208', '1270558646762528768', '1260711848766308353', '1271273867579801600', '1274876129443274752', '1276420668070825984', '1271624440955240453', '1270596474334674952', '1270234170435002368', '1273421904527814661', '1278413378848002049', '1258980937452392448', '1267921294739324929', '1272902759080177668', '1276520584499912709', '1274846087958851584', '1271071067751288837', '1267917265036607488', '1274473898076254209', '1271830403641421832', '1266600704128548864', '1271960703725961217', '1270826642378809349', '1264014525231226890', '1274872641829007360', '1270633984091918336', '1272249814386741249', '1275102765690376192', '1271029091383246848', '1270626451088379904', '1274430323711971329', '1272223180774535169', '1270771567094620161', '1270632467213549568', '1274846946029531136', '1271687160681250816', '1270818175337234433', '1277512563690004482', '1273878643983306753', '1271412469781553152', '1274977771106832393', '1270474045587197954', '1270708758642135041', '1259625672894341120', '1270030382788939779', '1273548026297139200', '1268061487613898752', '1263210474193158146', '1275057988814979073', '1272528520359575552', '1271438041186332674', '1276316887022833667', '1260528863978950656', '1270619787723452417', '1270812151867822080', '1277448065897705474', '1269962874098720770', '1271033475781574656', '1270651063318740993', '1273583902469361664', '1270834241077760000', '1271624092379230210', '1270607538216505344', '1268136614196281344', '1271430882100944896', '1277353601640341505', '1260116092212690944', '1274822937435144193', '1275075518132449292', '1256767772970885120', '1272836556231933952', '1276248309624197120', '1274849386237800448', '1270578577734598657', '1259815362448650240', '1273119220897808387', '1271050620993241088', '1275820987808956416', '1270669424731840517', '1271959433464119299', '1270691775884201984', '1270666966219370496', '1275774632096870400', '1271118938093563905', '1276157195982381057', '1270574885157441536', '1266989372420825088', '1271270433594249217', '1268061820507451392', '1272039497434304513', '1270569387964203011', '1275115068997300224', '1269265727850242053', '1266022037627310081', '1262585204482273281', '1266490882850578432', '1270382674146926599', '1257325803240673280', '1271505983941083141', '1268450788486991873', '1267674829110607874', '1257445088298512386', '1260939953388879872', '1256066333277663240', '1263452730053492737', '1271625127986434048', '1262822467011141632', '1265629502475915264', '1264003252489723906', '1263428484744966146', '1263429634974117889', '1259831070947790848', '1264014351037431808', '1268452716386201607', '1266025397721993216', '1263178420726501381', '1271624855817986050', '1269078306936229888', '1256157266887217157', '1257925564205162498', '1257658337690296320', '1264128098548822018', '1258040642539642881', '1262995936940306433', '1256073773041823745', '1259121420271071233', '1263023959420911616', '1257657937696378884', '1270987056248877056', '1263115911902441474', '1257961187750244352', '1262633662698229760', '1258661777509773317', '1263450408980115457', '1270729253466902529', '1277634771011743745', '1259932294132961280', '1271625593805832192', '1270378547304116226', '1258343316514578432', '1262879616651452418', '1276088348101226497', '1275746131415314432', '1263104116043026433', '1263157159363305472', '1256513088448131074', '1263049227170701315', '1272138201910644736', '1259766462463475712', '1271777904981049344', '1272519355759308800', '1261711779178196993', '1263064096104230913', '1276889198805598211', '1257658217703841792', '1276207232967864320', '1263218794530512896', '1263111629690019842', '1272888422072492034', '1262744388842565632', '1272924430050754566', '1265654007000969217', '1257703541789069318', '1267394140519743489', '1272628724333240323', '1272862027875303427', '1275185118617968643', '1265852242801950720', '1270981171099455488', '1276768571754835969', '1263900644458414080', '1272114647055904769', '1259285571135877126', '1263707269163675648', '1263118997286985728', '1264003347343949824', '1261013951883739138', '1256514408173277184', '1265585123405303810', '1272464048634892290', '1264893206371528704', '1266989383552569344', '1264564421214588929', '1263374678854266880', '1256565284611080195', '1263339556067086337', '1257658031871012864', '1257144172236042242', '1278376847366111233', '1257172404637323264', '1261166589140852736', '1258049296521400320', '1277448531758977030', '1257253088685109250', '1265297184808976384', '1256592574543917059', '1277448698734219269', '1263485152124076032', '1271506581352562688', '1263360037885534209', '1257261751080493059', '1273223780798730240', '1256358837835030529', '1260789938057961472', '1256031769884852224', '1272424207100588032', '1268365748562427904', '1262983137094594561', '1269960782781046784', '1264496535687041024', '1262307199126290432', '1257193535280824320', '1257658337690296320', '1263717921941045248', '1263602978063187969', '1257435597771333633', '1256556067565088768', '1276983651771846658', '1257657937696378884', '1257607353676869633', '1260564881364979717', '1257399649230622726', '1259873297371725825', '1271626492653568001', '1268632399556026369', '1270226746936344576', '1263418452146114560', '1273590034554388485', '1271626851484602371', '1258342124724109313', '1277448405158105089', '1260436481874841601', '1266406567416664071', '1262294925506306049', '1257399220165804033', '1257173494564937728', '1262730274426814465', '1257079462748844033', '1262619649163833350', '1260659472701120513', '1256511451671355392', '1257658217703841792', '1276474517192351745', '1257020317911965698', '1260985842891448321', '1259412539638603777', '1256507901536923648', '1271626031263334402', '1272042976097832960', '1260677617251999746', '1257232683362660352', '1278447709507194882', '1256704609919221760', '1258320591481966594', '1257569086801764352', '1256647365001437190', '1256556232510369792', '1278200653232259072', '1264027266817773569', '1264875763855003650', '1263953339500261376', '1257511013227720704', '1256555943187189761', '1263590391124758528', '1256992093102395395', '1275452094577696770', '1256511360860450817', '1270684038550786051', '1260408726311391236', '1273949450499698693', '1269041304689876992', '1270113720216289280', '1256629701637963776', '1257664039892770816', '1276213490286551042', '1257658031871012864', '1277256526898458629', '1256043255852158978', '1263797482326159364', '1257192723661983747', '1261088630069575680', '1266198505468674054', '1271427574376345600', '1260271741915541505', '1262401910172266496', '1277979011126190082', '1256707391527227399', '1277609829809491973', '1256800690011115520', '1256304231109267458', '1260158963150204928', '1263639168703516674', '1262367942932672513', '1268617403568541705', '1270473905669636102', '1278344168520265728', '1264244698073444353', '1277874049763274752', '1259249301852692480', '1262541401000009728', '1260958031518609408', '1271408898927472640', '1257826032830251014', '1272970149193121793', '1268832272695861248', '1277980019331969026', '1263458257894588417', '1271910749242261505', '1258033346678001666', '1257800353711640588', '1268681056590295041', '1275481553003560965', '1261018844048568321', '1277674518874517505', '1277616733696786438', '1272556905685291009', '1259485132819324929', '1272856879107112960', '1259260648132919298', '1269713838217334784', '1258910076896714752', '1278366477897400322', '1258924726350643206', '1278354172635684865', '1277314843884863488', '1277836121523838976', '1262657276332081154', '1258833508006535169', '1270542396116340737', '1259784615268622336', '1263649035912650752', '1263498374629728257', '1257407776155992071', '1270781865583169536', '1259834914507313152', '1276818741171417089', '1257793643815022601', '1257603958983589888', '1263209103217659904', '1261170529232252928', '1277162647025147905', '1262449052534349831', '1277701297249169409', '1268201378272378883', '1267460982554722305', '1256906683655368705', '1271069303979335680', '1257607679767347201', '1275291205639778304', '1278280762731589632', '1278346416386121730', '1270425500490612738', '1263539434781380609', '1275640171216633858', '1277604104227786753', '1278229994037112833', '1267893750115663872', '1257093618092765186', '1274927632921038848', '1268818340811866114', '1264926045276422144', '1256057696509280256', '1274030058450141184', '1272586093272031232', '1272847978005516288', '1273132719665557505', '1270735374894104576', '1276363981360267269', '1269984564019032066', '1273999504593883147', '1271185796033175552', '1275220849927258113', '1272528100492865537', '1276032988510253057', '1272212360732835840', '1274298028703117315', '1270704212553261058', '1276092676102897664', '1276095900826230788', '1270408062898225152', '1270495848997310465', '1276074929998397441', '1270045507247722496', '1273553195000832001', '1276133260582457345', '1275994059534766086', '1275206874615472133', '1273896595851866112', '1275846360722522113', '1276461814843355136', '1273064537441267712', '1276688911285121024', '1271791941261209603', '1274828334980124673', '1275409530558599169', '1271233230964789250', '1273369973981884422', '1271451357287870464', '1273825605188898821', '1269569011873955840', '1272022118419640321', '1275412245518995459', '1274564442458488834', '1275572279393599490', '1275455471433011200', '1270432755399241729', '1276424905349894144', '1273611630522269696', '1269345170387988480', '1271551870394404864', '1270031250720460801', '1275459885342351360', '1270041014812602370', '1276098447901220864', '1270721915687104512', '1275466717112807426', '1272159069223227394', '1274236731986866176', '1275413499905277955', '1270367313578033153', '1274805087269875712', '1276227462498668544', '1276557235762589697', '1273914508013174784', '1271023460131594240', '1276142298049511424', '1276724768759336961', '1275168546386071552', '1271423599837143040', '1270240385042993152', '1276285151543091200', '1274906563736674305', '1273212222345367552', '1276320851022032897', '1273236678505889800', '1276613927821103105', '1276581252074803200', '1272692720591671296', '1271240403954458624', '1272113982342488064', '1273332976676372482', '1270847168711139329', '1273180090466209799', '1276166388101664772', '1275080773545029632', '1270535507403878400', '1271615708170981376', '1269985453991555073', '1272221773329657857', '1276532466803712005', '1273396772036100096', '1275139202817167360', '1276153070364372992', '1275737704337231872', '1273121002172690432', '1264034428671553536', '1267997210760884224', '1268923337155268611', '1265604707155947520', '1266879843557400576', '1263200300288131076', '1264311672057069568', '1263985744940589058', '1263485605507297280', '1268261925466628108', '1268484523211317254', '1267234382772871173', '1262563984219217920', '1264315211684679682', '1266280166994505728', '1268842488980221953', '1265240722334117888', '1268702967563194368', '1265445137292775424', '1262987981167529986', '1262430229857009665', '1267980927243882499', '1269070467572420610', '1267165085778219008', '1262886029641555970', '1268039880929456131', '1268432090204274688', '1264972378104197120', '1267512407590678528', '1267962370900533248', '1262440314800930818', '1263314833287479296', '1265336863616720896', '1265236229676830721', '1262667555585622016', '1267525915996807168', '1268224832380043264', '1268916867164516354', '1265518354498031616', '1264408243175997440', '1267025522636156928', '1266017203163262976', '1268564102617665537', '1264249669044977669', '1268178503838687235', '1262470320247750656', '1262906485647998978', '1267552274819227649', '1265360933213388801', '1268292388759339008', '1264510331184799744', '1262735825789313024', '1265287350780747777', '1269249632145510403', '1267846852814274562', '1268258282050736128', '1267133500747968512', '1268246659940732929', '1264411446470819840', '1268702744870678528', '1267005331529498629', '1264846216761872388', '1267436781684867072', '1268507841528098816', '1268607167332077568', '1265913143726706689', '1267330270258098178', '1267793949713936390', '1267781156889649155', '1262655167893082113', '1267513830508310532', '1265200407380451330', '1266788876561141760', '1266178741799202823', '1265337810824790017', '1266469820138020864', '1266421263699972101', '1267629768343724032', '1265627593732026370', '1267489635313352704', '1263254351507623936', '1262717371191635970', '1267492784925179904', '1268147012723249152', '1266146204770947072', '1266971932660043776', '1262423041449119755', '1267999920306507782', '1265668003301130242', '1274046103734771712', '1258723741594509313', '1259155924117270528', '1257307910134087683', '1260609712359444480', '1259647001186242564', '1257492574140379136', '1261312282396631040', '1259739644981215235', '1273030513180078081', '1256170808743006210', '1258349086597615616', '1257225159917723649', '1257947378965000192', '1260525408606474240', '1260549493696708608', '1260634366851584000', '1257569114328952832', '1257247395819081730', '1256257995039813632', '1258302427524149248', '1258396834688614402', '1274043364149653505', '1275043488049094656', '1261485343578169344', '1260920875165024262', '1276170549463564288', '1259642066663079939', '1258641676882468864', '1256479905543606272', '1257690808351969280', '1260942686284103683', '1274246755131944961', '1276189047795453952', '1277286871651975168', '1256310677787955200', '1277696869225959426', '1259941592154210310', '1277098390099308550', '1260736789993500673', '1258333142529609728', '1273126200655912962', '1273360744701181956', '1259848167555727363', '1260221547740004352', '1259110422386335745', '1275866116724850694', '1275803315356471297', '1257951720182874112', '1257712374087368706', '1257449151245287430', '1278335885864587265', '1260043720155684866', '1258088452006051841', '1258431907135619077', '1258052544309288960', '1261903226330329091', '1260697816428617730', '1278111141517045761', '1277886293096173568', '1261363160696537088', '1261873232065560582', '1262227120270438403', '1258901085449850880', '1259476884817141765', '1256796066445324288', '1273331386733256710', '1256276448995770368', '1260362499481731072', '1274814334976262151', '1274295586343305216', '1257745344839983105', '1258787515592572928', '1257939339465515009', '1259839012950466560', '1256817478006476802', '1261905488448552960', '1257276163296243715', '1257770744077070338', '1262024407410782208', '1260574346696892431', '1260189996587286528', '1261693709470633985', '1257555994575429632', '1273393780260048896', '1258001929986342913', '1273146775055020032', '1276778381288374277', '1272694132952236033', '1272251924465803264', '1267962513074905088', '1270528229074448384', '1268552197639294976', '1261869062805688320', '1259853748714770433', '1259906460344938500', '1263472203158507520', '1268836461375340550', '1271463357980254209', '1268516049932234752', '1261922364876521472', '1267237406056558592', '1266683156586995714', '1259922573019754500', '1267482404912082944', '1271942667232899073', '1267269182166405121', '1256420855829204992', '1270468710638256130', '1258703486893666304', '1271989627373662208', '1269676354678558722', '1260417842836656138', '1278470254713159680', '1270554326612578306', '1278440187471822849', '1266168675838693379', '1278304025495121922', '1271156603220361223', '1278459239565049862', '1256189713121251329', '1265298431670734848', '1264265064254771200', '1269790227503222795', '1278379352342720512', '1272758136160628736', '1267465379766579202', '1278417182469378048', '1268317951377039361', '1267178201140342785', '1278403684154605570', '1261394282763571201', '1263539163384606720', '1278357477881450496', '1271733490778640385', '1278371916332568582', '1260009210831491073', '1261615491610787840', '1270991786677202944', '1260903671900114944', '1263122359994781696', '1271777684520144896', '1267674688756412416', '1278470852540055552', '1266464050218700803', '1260479816299659264', '1269660260299669504', '1278367807575601152', '1257640892619513859', '1262796000642715651', '1278440556188897290', '1278306632288604166', '1271774995417620481', '1278437350264188932', '1266387840990162944', '1257417920751316997', '1278333922158444546', '1269462319001563137', '1278343842060808195', '1260202624667791361', '1278402935542734850', '1264468665153531904', '1278345269751492611', '1278410646116163584', '1261712615950159878', '1260399734310633472', '1277312237644865536', '1277691916717604864', '1277175384715530240', '1278168876027650049', '1278013357283475456', '1277949937662164993', '1277261693937123330', '1278199580107120646', '1277753959910957061', '1277971471558561805', '1277305727854534656', '1277396689914146816', '1277211796932374528', '1277758810480836609', '1278112321118838791', '1277065822872072193', '1277301895007215616', '1277703879925346304', '1277806589378998274', '1278048379839434753', '1277617484124823555', '1277757167387410432', '1277728170729496576', '1278118663913177089', '1277991766013116416', '1277651744084971521', '1277990628899663874', '1277280349022826498', '1277138165451632641', '1277425461501493248', '1277556907876790272', '1277720627814846465', '1277369177691402240', '1278098269294358528', '1278157329490309125', '1277972887857541121', '1278046609692123137', '1277813891041550336', '1278064487552163842', '1277883301055934464', '1277879138339168258', '1277776594212397056', '1277290970346897408', '1277912369973407745', '1278071535702618118', '1277397921827176449', '1277610454387437569', '1277312420852178945', '1277760718415245319', '1277497628973039617', '1278147796047020033', '1278041917738147841', '1277670722731683840', '1277256044968923137', '1277201369628389376', '1277199351639654404', '1278067948951912449', '1277939161530544129', '1277689232560185346', '1278001584086155264', '1277713993277116416', '1277652701094920193', '1278097090309009409', '1277738261071327232', '1278115473129795584', '1277724276636991492', '1278071380161048576', '1277596273294491649', '1277896496105562113', '1277330424256028672', '1277249385043308546', '1277230616191414272', '1277702571243732993', '1277637977469050881', '1277610026404917248', '1278010271806689282', '1277654085601198081', '1277625417537597440', '1276362650725675008', '1275813572946415616', '1276072487260958720', '1275911884336762882', '1276538493246767105', '1275836087689076736', '1275892873817288704', '1276516704957468681', '1276435945181663234', '1276902045287682048', '1276515559362965507', '1276938795120820224', '1276173226171863042', '1276652493527801856', '1276550444479844352', '1276276288244928512', '1276199119019814912', '1275954725855338497', '1276333171710124032', '1276964641009262592', '1276694925279555586', '1277022910486663168', '1276987862945280000', '1275976696269647873', '1276268020676124674', '1277033220433993732', '1277010178169139205', '1276311046676979713', '1276216290093514762', '1277030363748065280', '1276160169488060420', '1276248800789749767', '1276708307982356481', '1275838318580809731', '1275903895278149632', '1276223825793839104', '1276172896298287104', '1276215601241915397', '1276186532961873921', '1275816716858044416', '1275927655569862657', '1275912616104394754', '1275814041785708546', '1275920536493645825', '1276963648200749059', '1276583020619849731', '1276247170749005827', '1276617381062770688', '1276172898768748550', '1276094429900791809', '1276153234252615681', '1276965433120301056', '1275930772365553664', '1276930226564431873', '1276157188311048193', '1276993910385098752', '1276737996742692865', '1275886587302289410', '1275836080986734598', '1276131576632479744', '1276139933133164544', '1276914694524227584', '1276606256384360448', '1276092415493931009', '1276953197312004096', '1276549651265654786', '1275811101477756928', '1276834267864150017', '1276873753616670721', '1276886692440543235', '1276331421410316290', '1275814848534904839', '1275494448496095234', '1274051980604792832', '1274094463741095936', '1274927856766746624', '1275668593410269187', '1275394101781729280', '1275546422386012160', '1273674995328323589', '1275280068097409025', '1275240600363769858', '1274896295472377856', '1275459741041389570', '1275441733476552706', '1275068650509107201', '1275417998803730432', '1275192979083255808', '1275692489907802114', '1275121653421350912', '1273713025116241924', '1275672463330992128', '1275693305611812865', '1274731763621822471', '1274022026383167489', '1274226114517336066', '1274140194086817793', '1273948977432576001', '1274416451210874881', '1274405688442265601', '1275772155784048640', '1275595167936868352', '1274733909364752391', '1274116022245752832', '1274636695359623169', '1274780554655924224', '1274301522332061697', '1275439244157128713', '1273760619607592962', '1275420363099381763', '1274005586766635008', '1275760831704285184', '1275406151983775745', '1273618930893029377', '1274674934376210432', '1275756412581416960', '1275613756811350016', '1275494335509860360', '1274047032664051712', '1275055769411444737', '1274045995505106946', '1275557915869564928', '1275418780265590784', '1274724357978370048', '1273747956471140353', '1275217363315625984', '1274705245461811207', '1275595171220959232', '1273805678038089728', '1275077356739125252', '1274336402721947659', '1274828323508621312', '1274235938185465857', '1275557722012835840', '1274613050998501381', '1273697346526818305', '1273923310053732352', '1273660835441905665', '1273712419987173377', '1274096329535324160', '1273734534693924864', '1275535283426078720', '1275780684175609856', '1275413996804374530', '1274463439423893504', '1273886451613065216', '1275490451789881344', '1274747032633323522', '1275588800236879872', '1274449943969910791', '1275036863112155136', '1274050872440479752', '1274428192456151041', '1274840764418265094', '1275231120712441856', '1275053813171445766', '1275475285547216896', '1274718584825143296', '1271268796792217602', '1272183450238410752', '1270954555111432193', '1272027573522817024', '1271756570544812035', '1271272754877214720', '1271873748723892225', '1272945611503996935', '1270983577103151104', '1271635074371420160', '1271697748232769536', '1271137504410779649', '1271964045487243264', '1271131993808547840', '1271670872261029889', '1271208290131869696', '1271592575359758337', '1273237855096225793', '1271941983221755904', '1272948673031307271', '1271939344476114945', '1271170325804351490', '1272126454608867329', '1270853343209013250', '1270850200962301954', '1271457939031760897', '1272467938256269314', '1272177193263796224', '1273380897048403969', '1272262553188675586', '1272179036765278211', '1271169623023550465', '1272207797686435845', '1271033996122763266', '1271109215755608071', '1272528536536928256', '1273177333260791808', '1272539137380319233', '1272183000705519617', '1273017281459761152', '1273329566975655936', '1271576049005051905', '1272933564867244033', '1272635532519133184', '1273268613445713920', '1272130174956507137', '1272690127287078915', '1271081122689097729', '1272538230802563074', '1270848194214334472', '1270962720179843077', '1272475035484258305', '1270984791576514561', '1271465271014961153', '1273097832740896769', '1273437647583580162', '1270982177199710209', '1271922817999736834', '1273321298610003968', '1271468285779939329', '1271949749906784258', '1271361445574385667', '1271665649782157318', '1272202611249250306', '1271587089168154626', '1273312801067380738', '1271209255765528578', '1271821366824767490', '1271357434502799360', '1273320859911032842', '1272879773929426944', '1270864658266800129', '1272307234001821697', '1272336750061314048', '1273316861917224963', '1272085836767649792', '1271507336851587072', '1270981939491676160', '1273284893519294464', '1272838145780875264', '1273230994666131458', '1273239075760140289', '1270860867203223553', '1271044305084350466', '1272719022304505861', '1271057970378543108', '1270338944647999491', '1270423480526307328', '1270839416743964672', '1272543530653831169', '1260587610856177665', '1270316122718470145', '1270831353496387584', '1273503387909308423', '1270460790835986432', '1271848357837901824', '1270599001935507456', '1270499143434350593', '1270750417970851840', '1270302624814903298', '1270669000100511744', '1265961882269159424', '1273509497789657089', '1270758276364472320', '1270540736589516801', '1270497670004531205', '1270812135476670471', '1270693154698788866', '1267846511183966208', '1270605557112680449', '1270769248886034434', '1274947793208164353', '1270505995308093441', '1270717649077415941', '1270779839906226177', '1270517420642328576', '1270615864824430593', '1270694703776882690', '1277885535789481984', '1267017753208242176', '1266185362218651648', '1270635466912481280', '1270834880318930947', '1270433565335973888', '1270187213217837057', '1275321634652594176', '1270517042500653058', '1271244306372845574', '1270441786956304392', '1270563515095568389', '1270791330164342785', '1270708660130504704', '1270499030980866054', '1278302223806717952', '1270447288255746050', '1270609746102382595', '1270703256411475968', '1270789793983672320', '1270529466209574913', '1270469993415806983', '1270801014178942978', '1269320908637904899', '1270787626606440448', '1269984675008860162', '1264160129869627392', '1270593835819773952', '1270419141355159553', '1270752636862636033', '1270400067887943682', '1270794106688671746', '1270562599692914690', '1270787416169656320', '1256259379856277504', '1270753778673672193', '1270750973263216641', '1270686277579476992', '1270467936700919808', '1270417362236387329', '1270471326734733314', '1270465579909107712', '1270537507571224576', '1262000889000165376', '1263981429597384706', '1270455262135169024', '1270768036476342272', '1271470825678475266', '1268496233024286720', '1276001191235850240', '1270499555012837377', '1270553503799410689', '1270601633311993857', '1270551260421394432', '1270435694058647552', '1257345625085087744', '1270529625018388482', '1270464441822384131', '1270526546189705218', '1261252637435080706', '1270813356870512641', '1270704437577818113', '1270744023217643520', '1270613834680504320', '1270418906235240448', '1260680649238855680', '1258487399014858752', '1259987939985108994', '1275041557670793216', '1276349944824201216', '1268042350397460481', '1259918337431212032', '1256013495029678080', '1269824417087074305', '1256267205852962816', '1277024711356977152', '1259957409268805633', '1273224878959792129', '1273922139226284034', '1268450571188686849', '1269512067809189890', '1272068281898164225', '1257275615478190082', '1256331333309095937', '1266693200388947970', '1265581319138029570', '1269977166483202048', '1271168796745773056', '1258050666058088451', '1259581504461713408', '1275699166661029888', '1272387311632695297', '1271533268312219650', '1278266395759968257', '1266007616490176512', '1265829032895172612', '1263014105943805955', '1262488449438941196', '1260399377572659200', '1272843215989809162', '1269979082915184642', '1266738037540691969', '1260784398162591750', '1266431513559695360', '1274841553719230464', '1257988801793650689', '1260606035095674882', '1257301666124054530', '1273030101379284993', '1273863933816967170', '1267091448152940545', '1264448721623945217', '1261300057913069568']\n",
            "1273\n"
          ],
          "name": "stdout"
        }
      ]
    },
    {
      "cell_type": "markdown",
      "metadata": {
        "id": "sLOfezUaVhMl"
      },
      "source": [
        "JULY - ClaimReal Replies"
      ]
    },
    {
      "cell_type": "code",
      "metadata": {
        "id": "DEmvtfvCVjCw"
      },
      "source": [
        "with open('/content/drive/MyDrive/UNBDC/CoAID Hydrated Files/07 01 2020/07ClaimRealCOVID-19_tweets_replies.csv', mode='r') as csv_file:\n",
        "    csv_reader = csv.DictReader(csv_file)\n",
        "    line_count = 0\n",
        "    #jNewsRealRep_btwids = []\n",
        "    #jNewsRealRep_ttwids = []\n",
        "    #jNewsRealRep_bcount = 0\n",
        "    #jNewsRealRep_tcount = 0\n",
        "\n",
        "    biden_replies = 0\n",
        "    trump_replies = 0\n",
        "\n",
        "    cr_replies = []\n",
        "\n",
        "    reply_count = 0\n",
        "\n",
        "    for row in csv_reader:\n",
        "        if line_count == 0:\n",
        "            print(f'Column names are {\", \".join(row)}')\n",
        "            line_count += 1\n",
        "\n",
        "        if row['in_reply_to_status_id'] in jClaimReal_btwids:\n",
        "          biden_replies += 1\n",
        "          print({row['text']})\n",
        "        \n",
        "        if row['in_reply_to_status_id'] in jClaimReal_ttwids:\n",
        "          trump_replies += 1\n",
        "          print({row['text']})\n",
        "\n",
        "        if row['in_reply_to_status_id'] in all_tweets:\n",
        "          print({row['text']})\n",
        "          reply_count += 1\n",
        "\n",
        "        line_count += 1\n",
        "    print(f'Processed {line_count} lines.')"
      ],
      "execution_count": null,
      "outputs": []
    },
    {
      "cell_type": "code",
      "metadata": {
        "colab": {
          "base_uri": "https://localhost:8080/"
        },
        "id": "IDg_G956VzYA",
        "outputId": "2a00bf76-33b2-4bbf-faf2-7856166c5867"
      },
      "source": [
        "print(biden_replies)\n",
        "print(trump_replies)\n",
        "\n",
        "print(reply_count)"
      ],
      "execution_count": null,
      "outputs": [
        {
          "output_type": "stream",
          "text": [
            "0\n",
            "0\n",
            "8\n"
          ],
          "name": "stdout"
        }
      ]
    },
    {
      "cell_type": "markdown",
      "metadata": {
        "id": "u1hbWUMyScnn"
      },
      "source": [
        "JULY - NewsReal Tweets"
      ]
    },
    {
      "cell_type": "code",
      "metadata": {
        "id": "l2v_RB9--h79"
      },
      "source": [
        "with open('/content/drive/MyDrive/UNBDC/CoAID Hydrated Files/07 01 2020/07NewsRealCOVID-19_tweets.csv', mode='r') as csv_file:\n",
        "    csv_reader = csv.DictReader(csv_file)\n",
        "    line_count = 0\n",
        "    jNewsReal_btwids = []\n",
        "    jNewsReal_ttwids = []\n",
        "    jNewsReal_bcount = 0\n",
        "    jNewsReal_tcount = 0\n",
        "    for row in csv_reader:\n",
        "        if line_count == 0:\n",
        "            print(f'Column names are {\", \".join(row)}')\n",
        "            line_count += 1\n",
        "\n",
        "        if \"biden\" in row[\"text\"] or \"Biden\" in row['text'] or \"BIDEN\" in row['text']:\n",
        "            print({row[\"text\"]})\n",
        "            jNewsReal_btwids.append(row['id'])\n",
        "            jNewsReal_bcount += 1\n",
        "        \n",
        "        if \"trump\" in row[\"text\"] or \"Trump\" in row['text'] or \"TRUMP\" in row['text']:\n",
        "            print({row[\"text\"]})\n",
        "            jNewsReal_ttwids.append(row['id'])\n",
        "            jNewsReal_tcount += 1\n",
        "\n",
        "        line_count += 1\n",
        "    print(f'Processed {line_count} lines.')"
      ],
      "execution_count": null,
      "outputs": []
    },
    {
      "cell_type": "code",
      "metadata": {
        "colab": {
          "base_uri": "https://localhost:8080/"
        },
        "id": "BIiCxl9JG3GC",
        "outputId": "04f29849-d1bc-41a2-eccf-81d415fe15f9"
      },
      "source": [
        "print(jNewsReal_bcount)\n",
        "print(jNewsReal_btwids)\n",
        "\n",
        "print(jNewsReal_tcount)\n",
        "print(jNewsReal_ttwids)"
      ],
      "execution_count": null,
      "outputs": [
        {
          "output_type": "stream",
          "text": [
            "135\n",
            "['1278390989032435713', '1277005603538448388', '1277189612218339328', '1277714217186013188', '1278459263720009736', '1276893270669496321', '1278368893246091264', '1276683217727131648', '1276661813158035457', '1276663155129749504', '1276682514216689664', '1276682912893677573', '1271599742842097666', '1272535367829184512', '1272690032164265985', '1266470656561930240', '1278443015812546560', '1278115266321199104', '1278079750297157634', '1278436512561053704', '1278095853102567424', '1278067369496231939', '1278064758541991938', '1276947559907377152', '1276976751919411200', '1276923201398939649', '1276628700361097216', '1276557338003091462', '1261465133030821900', '1268198183647064072', '1260953199415975937', '1268566208380653569', '1266202807901794305', '1274691167523872768', '1276134125733322762', '1264204707729420290', '1265619167404789761', '1259228767068794880', '1258581273443889153', '1278470960463507456', '1278473355780411401', '1278475433508589568', '1278463272556146693', '1278466296410255362', '1278455223535710210', '1278441169731694595', '1256653393755545600', '1270035658229403650', '1271542335168409602', '1266166009590878208', '1278013998106017792', '1271843810272784386', '1264931727920828416', '1260771109261066246', '1278478360444907523', '1278471370674823168', '1278471275883778050', '1278470925520965633', '1278469909081501696', '1278461421072740352', '1278427509638467590', '1278419316384423936', '1278403209086681088', '1278398121962360843', '1278219229385437186', '1278378702053740544', '1278015471099482112', '1277586955077914624', '1278014540072935429', '1278015169885384704', '1277755889185775617', '1277746134157373440', '1277197599976484866', '1276337549313703942', '1276364819231170560', '1276164955029585920', '1278094446664601602', '1278444723473178626', '1278394448217550848', '1278351845623304192', '1278118118003441670', '1278039762037870595', '1278475547593465856', '1278475122953916417', '1278475174040526851', '1278475152322420736', '1278475197767712770', '1278476226336866307', '1278464583712243713', '1278466569430011904', '1270721472974032898', '1257612555461242883', '1278406577746178048', '1278416258388508672', '1278310212282257409', '1278084939704082432', '1278122917797265420', '1278159430786441216', '1278131234946920451', '1278133883515658240', '1278280282211155968', '1278272342028963855', '1277801255549583360', '1277793221989601286', '1277763131868053505', '1278373809460920320', '1278133416463040514', '1263111134376349698', '1278414022405091328', '1278399566782570500', '1278410731348570112', '1278411699360423936', '1278418546129805315', '1278410695416020992', '1278016308265865217', '1276967436756058118', '1274911644494163968', '1278073583223242752', '1277682675583610880', '1278478157834846208', '1278357007872000002', '1276177363806584832', '1275267975453577218', '1278401316906205185', '1277700696490471424', '1277004875117838337', '1278156280780042241', '1278359121469865984', '1277320513912627202', '1277259991196397570', '1277126497581641729', '1277106768313802752', '1277093023709446144', '1276991970246709248', '1272513804765548546']\n",
            "1251\n",
            "['1276158307846234113', '1276158502365528064', '1277714217186013188', '1271243407390904320', '1276158359306227717', '1276158614315634690', '1275855646001373185', '1262880825005072384', '1262902866777432070', '1270926478331478017', '1262916838889066498', '1264659258517446658', '1260601877231816706', '1260021209044934663', '1276614125343215616', '1272416921330180096', '1261650489390833666', '1261485075868368898', '1259100815240736774', '1276207591891202048', '1278472143164981248', '1278464394826076161', '1278464730252873730', '1278100715269914625', '1278381496752058373', '1278443015812546560', '1278377504395460608', '1278401972278833152', '1278075736751050753', '1278402805452148736', '1278144675711500290', '1278128612265340928', '1278427550155509761', '1278310344126074881', '1278381591883063300', '1278122133206360064', '1278092109241876486', '1278155356305227777', '1278366272502276097', '1278278312591347712', '1278328481118552072', '1278444688433917953', '1278108028680548352', '1278313592945807360', '1278083889932664832', '1278437628854046720', '1278112381940441088', '1278095853102567424', '1278372833937125377', '1278145391595343872', '1278142803663609856', '1278102238339182592', '1278108660774981632', '1278099722943836163', '1278021312225689602', '1277777956723519489', '1278067369496231939', '1277959806326845441', '1277776900006576132', '1278071439715971072', '1278054126816038914', '1277679201915736066', '1277792941805797378', '1278064758541991938', '1277694308569792512', '1277970613693411336', '1278074936406360064', '1277670674140590081', '1277652426905042944', '1278045072139915264', '1277813933592776706', '1277569859627429888', '1277304998620041217', '1277381395871084545', '1277417223607537664', '1277288756446445572', '1277335938260258820', '1277487886976180225', '1277634299106332674', '1277439093303963649', '1277437472876761088', '1277299083829542913', '1277556680562221058', '1277579723619655689', '1277618008937160704', '1277270970198343680', '1277574678400438278', '1277465788547555329', '1277364788994232324', '1277338031532490752', '1277311888481812480', '1277246217966272512', '1277067543132409856', '1277262515051859969', '1277231871512870912', '1277036377348202496', '1276925226249568260', '1277112898326798342', '1277247298804867073', '1276897102241640449', '1277019641529929728', '1276967906316869633', '1276933172534616064', '1277262357799067649', '1276850433445621762', '1277075136039006208', '1276988487888252936', '1276964291925569536', '1277245818202972162', '1276927085580300291', '1276981159029878785', '1276976751919411200', '1276937723513679872', '1276970270478270465', '1277227993866403842', '1277090307520245761', '1276926630699696131', '1277266130244075520', '1276923201398939649', '1276901787224518663', '1276635640659161089', '1276741937765036035', '1276616146935001089', '1276478517715382274', '1276694094626959360', '1276747156989382656', '1276724637624201217', '1276524859263246336', '1276569272928464896', '1276654174357172224', '1276576636180152320', '1276601232006750215', '1276625292908359680', '1276573348013768704', '1276597097689755656', '1276628700361097216', '1276652962283225090', '1276575001072865280', '1276702884265148417', '1276574937046585344', '1274768043957084160', '1274673800588791809', '1274885528882515969', '1274380867025211397', '1274424933083422724', '1272622307698237445', '1263848977708900352', '1262185101481275397', '1262222047800750080', '1262777599614349313', '1262781014952349698', '1262753367534665739', '1261395367884554241', '1261669323485204480', '1261092258096578562', '1261179080449445890', '1261318598359908353', '1262893266955120642', '1278022976403836929', '1275168793837223936', '1275323360096817152', '1275468621771190272', '1265849544723566595', '1259975482642067457', '1270518073116758022', '1265397115234197504', '1273369349487648768', '1262918629978497024', '1261678900180066304', '1261363307526500352', '1274493493633847296', '1275430273757437952', '1274336433613017088', '1273587946537586688', '1273233029784309761', '1274173234280349699', '1276627768739012610', '1275502479958892545', '1273386155057115136', '1273385484610306048', '1273416995422208001', '1273587123418017792', '1273324532691017729', '1273327001537884160', '1273324157313441792', '1273340690458718208', '1273323118002679809', '1273886762834616320', '1273752190293733376', '1276019550069248000', '1271708430286442496', '1272670847765970946', '1273341286959874048', '1274062257278894089', '1274743523473068033', '1272891164941856771', '1272871209034821632', '1272615647659331584', '1272630479561216005', '1272566563560845313', '1272578497320542214', '1272571604262957056', '1272568373524611072', '1272587076152651776', '1272581325279682565', '1272572337410510853', '1272569158132215809', '1272566648998944768', '1272575577371934721', '1272569429931577346', '1272556320483393537', '1272559368463101952', '1272564792629366784', '1272557178730266625', '1272561366990123008', '1272557676967288832', '1277337372976349184', '1272280928581107712', '1271935501008658434', '1257481822818074626', '1258897912609865729', '1271429621125468162', '1272916564497641474', '1273313629421502464', '1275122354901917696', '1273675697454792704', '1273048195111636993', '1269165879381463042', '1270906889413558272', '1270850835371548672', '1271605296448839681', '1268805329816518656', '1268802541497786368', '1269000286028402692', '1268743315547176962', '1268678288421109761', '1268700087481331713', '1268637581803208711', '1268672060747853827', '1268635595078852609', '1271093845456031744', '1277095040456638471', '1276539214448885760', '1268991479764008961', '1268631025023885316', '1268580769502461952', '1268624949389881345', '1264993197459005446', '1267531430810312718', '1262621417553698816', '1265672907906318337', '1267853732965834756', '1262927436066537472', '1262772276577087489', '1264328084951613440', '1262942897839595520', '1273090736330805248', '1268741644767109132', '1262544719936057345', '1262761123008270338', '1273071517832626176', '1261671127522344962', '1262831490800459783', '1257336252396953604', '1256020690198687744', '1256363424277299202', '1257867063630184451', '1269411807598456836', '1264771431403073536', '1278045507416358915', '1265414729733832704', '1265641750040805377', '1264705954181980160', '1266334457344061440', '1266062232464613376', '1265815000225992706', '1265327126535962624', '1265334426541719553', '1256215166863192064', '1261272058211811328', '1262833070664757249', '1270939903556112385', '1274691167523872768', '1274751697303339011', '1276540161132650497', '1275229444890746880', '1275550838912700423', '1272678018859905025', '1276552109668872193', '1275535106007015424', '1276559411071377410', '1274703732005978112', '1275098638503608321', '1275165511316316163', '1276546948506550277', '1274850012564987904', '1275439994186809346', '1260837992467488768', '1261032996460691457', '1264204707729420290', '1262164987604283394', '1260340998544199682', '1262080128395497475', '1260012066644975617', '1257650039544930306', '1259121222153048069', '1257799138869235713', '1259942636833644544', '1258800614542176256', '1261790178248667136', '1256865904664739841', '1259954799627255808', '1261801053017845761', '1257815454086828033', '1259228767068794880', '1259956072221155329', '1275044314587049999', '1258056527132471297', '1258089739405668353', '1258475531936423939', '1258055999941783553', '1259352508650192897', '1258398227948343300', '1258365509126492161', '1258061902392983561', '1258146637416980480', '1258126323010220033', '1258074593681534981', '1258113020523315201', '1258076265711456259', '1258106010805256192', '1258203911363551234', '1258077902114967553', '1258073059170422786', '1258065597847539712', '1259352832362164224', '1258157043342544897', '1258080573899321344', '1258081128755474432', '1258071788816224256', '1259352825835982849', '1258089522128093186', '1258427286300160001', '1258151043063410689', '1259382068150239237', '1259358758636945408', '1258070461633581064', '1258075575505256448', '1258217040273440771', '1258061327484018688', '1258060330795593729', '1258104210433818624', '1258078438910382081', '1258058412480331776', '1258166184773648391', '1258099569432428546', '1258086779720216576', '1258367379056312320', '1258133464911577088', '1258139278543949826', '1258246689577558016', '1258049264774787072', '1258044198042861569', '1258051294318800896', '1258045365456011264', '1258033697921605632', '1258035468492591107', '1258051757936181248', '1258033533425274882', '1258034612283928577', '1258033975202852864', '1258055504787578880', '1258037765343756288', '1258051342335045634', '1258034886658703362', '1258047791059701760', '1258043781275766785', '1258036312831070210', '1258033907821395970', '1258035458748977153', '1258036055195832321', '1258048837018546176', '1258035390990004225', '1258033831787008003', '1258036819440152576', '1258043219297828865', '1258035550231003137', '1258034705347366913', '1258034133294559232', '1258051883500879873', '1258033990151426049', '1258043284359802886', '1258027661588402182', '1258039039720067072', '1258034611046608896', '1258036633112244224', '1258034900600410112', '1258041526040489985', '1258041332599328771', '1258043506314133504', '1258044539912118273', '1258033441003708418', '1258040132260823041', '1258042228338905089', '1258034116143968263', '1258049517280268289', '1258051348349804547', '1258033639746666496', '1258038325165928449', '1258038239371329543', '1258033739059343361', '1258035035078299654', '1258036065719521280', '1258036389297434625', '1258034540297125888', '1258045182223712256', '1258789547581808643', '1258530093648863234', '1258451376910274563', '1259743568232579072', '1258696896442318848', '1258486243010269185', '1258449180403646465', '1258490795562237952', '1258725303842746369', '1258504495803310080', '1258737459858374657', '1258787665148698627', '1258428894484537344', '1258460974643896321', '1261340844012994560', '1258471134850420740', '1258499457408212993', '1258525646344474625', '1258686131492831232', '1258478697226608642', '1258509281214652417', '1258467423000412172', '1258571377000546305', '1258429236026753029', '1258490332796289024', '1258896808132173824', '1258480261941080069', '1258837612216942593', '1258453088974901249', '1258703591214403590', '1258612211481804800', '1258931522859655168', '1258439465720135680', '1258500370705326083', '1258586943572639745', '1258837657242816514', '1258506430434275330', '1258443842367492098', '1258844835189940224', '1258432283490635778', '1258467100152279041', '1258643759107051522', '1258470993170968577', '1258444956852563968', '1259121283373162497', '1258855326180413440', '1258749213241937922', '1258500818032099329', '1258526977834827776', '1258814175884632065', '1258445244561055744', '1258483854303690753', '1262486949618737157', '1258534786378772480', '1258811127435104261', '1258683632518078464', '1258976706871857153', '1258841619924578304', '1258436828031602694', '1258553838014992391', '1258459355894222848', '1258530017602007041', '1258574692509716480', '1258513174627680259', '1258512722490060800', '1258680693002891264', '1258432635652706309', '1258452169931608064', '1258648616434126848', '1258420850581217280', '1258410706375979009', '1258425816070778881', '1258425435236577280', '1258420159125094400', '1258417353349455872', '1258424924974338050', '1258420648680009735', '1259861604348375042', '1263127293209251841', '1256574715411521537', '1273091229463478277', '1273060122672144384', '1266469054279286784', '1278474115985412097', '1278474363344322560', '1278470444991918081', '1278477362963742720', '1278470960463507456', '1278471906014855168', '1278470215710289920', '1278461399623237634', '1278466796102791168', '1278467046897057793', '1278459899534589952', '1278456861466001411', '1278457547247087616', '1278456234052423680', '1278450123035627526', '1278445889741258754', '1278440694835810304', '1278441955547066369', '1278437181787385858', '1278441699849768961', '1278433471288037379', '1278434162924544000', '1258877543349760000', '1274736748443115520', '1265572938293575685', '1265414920444628992', '1266727439763271680', '1268688002630520835', '1265641940839612423', '1265460193707601920', '1261683085831274498', '1264382268803612674', '1275463814562095106', '1270334067494526977', '1259846523988443136', '1259344491573641217', '1261823548533936128', '1261034756814168064', '1258784736341905414', '1256959472817315842', '1257435572882280449', '1258193736820908032', '1276898498466713606', '1276713586346393605', '1277617085376585734', '1276862913718951936', '1276203024080416769', '1275199669614895109', '1274028128076271618', '1274419067361902593', '1272528917828636672', '1270341597700534274', '1265291602530119687', '1265334530417864710', '1265294257864278018', '1277683162282446849', '1265317562327457793', '1265269423314808834', '1274818964984483840', '1268905592413999114', '1274768918234701826', '1276587525444902919', '1274512692192083970', '1265885487656386560', '1263687478734729216', '1278360825242083330', '1277562754996621314', '1277094006577643520', '1264388733471686656', '1277701050003120128', '1276925494999408643', '1275465861881401345', '1271597038040494080', '1264665851753402368', '1268980837925531648', '1266102811579879425', '1276609697999499264', '1278468841752985605', '1275242326126977026', '1276960476753047552', '1264695203480272896', '1261681651559645186', '1260761541080518656', '1259587343457095680', '1260771109261066246', '1256557272194600964', '1278478428233179139', '1278477103030296576', '1278474943618068482', '1278474129818046464', '1278475208609808384', '1278473063668088834', '1278471370674823168', '1278472165977972737', '1278470248430211072', '1278469909081501696', '1278470548322791424', '1278466747226632192', '1278467131915382784', '1278457337317974016', '1278468495844532225', '1278446375424983043', '1278441692019003392', '1278436667943194625', '1278428997815283713', '1278451330101792769', '1278439729516761090', '1278435831313768448', '1278418517994409987', '1278425490446061569', '1278421929213546497', '1278415337051033603', '1278419053825196041', '1278416896388476928', '1278423814397988869', '1278422605863833608', '1278419316384423936', '1278420107824295941', '1278422705679798275', '1278427072868814849', '1278403894133940224', '1278405694723706880', '1278395239930134529', '1278398731100893184', '1278393096959676418', '1278391414007595008', '1278385336826187778', '1278386025358860289', '1278157198628134914', '1278147174027665410', '1277494448226697221', '1276342031086993410', '1274710784736624641', '1278465804036706309', '1278459602250670085', '1278457018693480448', '1278446623039905796', '1278435362516467713', '1278432429229948933', '1276536676874158080', '1278090363983585281', '1276400741121310720', '1275417308714893312', '1275423885303795713', '1278436237968211968', '1278219229385437186', '1278024119175413760', '1278105803648577538', '1278325245712236546', '1278179753405620231', '1278146150818701312', '1278140277669146624', '1278018774885638150', '1277874625985290241', '1277666188835852291', '1277702579250585600', '1278422214380003329', '1278301815419932677', '1278181650279682050', '1278129275095461888', '1278093220467978240', '1277789546453716993', '1278106116040396803', '1277964664060559362', '1278097226934505472', '1277586955077914624', '1277730371807973383', '1277330731161710592', '1277207020073033728', '1277260177000017920', '1277315934626050048', '1277248732208279554', '1277274904090619907', '1276682211731832833', '1276654757055098881', '1276730646132555776', '1276952700618305536', '1276866740987858946', '1276900967955521537', '1278323528031301632', '1278044080740712448', '1278112714112589824', '1278112898645143552', '1278138591235969024', '1278103251150344192', '1278024588023250944', '1278335546826227712', '1278074479470678019', '1278354368400707585', '1278162175543181319', '1278102879551848448', '1278008624498040832', '1278008781436268544', '1278205211765604353', '1278304511828901889', '1278286248852013056', '1278170293513728002', '1278082266787446784', '1278134128869871616', '1278045724161085440', '1278343470470647811', '1278033783640506369', '1277681553951334400', '1277618141993095169', '1277626196533092354', '1277428882077921280', '1277483844116111361', '1277604198503383040', '1277618893511708673', '1277517449517125633', '1277737735701159936', '1277612733677006848', '1277566457237458944', '1277697020711653382', '1277764391807705089', '1277609983635607555', '1277644701890277376', '1277608177370951680', '1277968551005917194', '1277682126587133957', '1277694734471843840', '1277430888368873474', '1277599437611765762', '1277608734156623879', '1277575524215291904', '1277992220113731584', '1277746134157373440', '1277352904924561409', '1277092146491936770', '1277255061979238401', '1277320671077502977', '1277234494521643008', '1277304067287638020', '1277279270532902912', '1276958901301178368', '1277102366131658753', '1277318551016296452', '1277254615873081344', '1277297768860655616', '1277276015337836544', '1277255484932796416', '1277004895900532736', '1277197599976484866', '1277254804507693056', '1277106927479201793', '1277277649400782850', '1277016738027253763', '1277074863035842560', '1276933688807260161', '1276546286196600842', '1276747359335178247', '1276546584776409089', '1276547893734838274', '1276516649160421376', '1276575603450413056', '1276898162884653056', '1276572915455098880', '1276600780464816128', '1276638848487809024', '1276719674806489088', '1276630329134997505', '1276687132568858624', '1276615276868644864', '1276547336085397505', '1276649445514510338', '1276550091017465857', '1276651420918394882', '1276881483484090368', '1276562126920921090', '1276547057944272901', '1276547825359368198', '1276587281072173059', '1276558780201926658', '1276197983965470721', '1276369166589726722', '1276396272681914368', '1276287206123098112', '1275945937026740224', '1275968498368262144', '1276194254373732358', '1276258672021254144', '1275952243712364547', '1276495944238993409', '1276200938185900032', '1276364819231170560', '1276393752051900419', '1276417295041073153', '1276195034103152641', '1276465696948604928', '1276176578519666688', '1275934250068520965', '1276389034118352897', '1276492437288914945', '1276119930908311552', '1276198553120055297', '1276494888448790529', '1276219774943531009', '1276492168325033985', '1276121001701576704', '1276315108738654209', '1276235535124742146', '1276387789924438016', '1276467855391932417', '1276151155949817856', '1276164955029585920', '1276196841911193600', '1275919273714610176', '1275915758816522240', '1278474013317255168', '1278464990840750082', '1278430108462833670', '1278412531422367744', '1278421931063152643', '1278389034889478157', '1278402075160961026', '1278350070077894657', '1278351845623304192', '1278369038364602368', '1278209030947631104', '1278286836796813312', '1278279845596876800', '1278263738148233230', '1278290370892148736', '1278310526909657093', '1278122320574451713', '1278186196133392384', '1278140038363123713', '1278159142004207617', '1278132063057653760', '1278140793329528832', '1278148961782636544', '1278183637222113280', '1278143445748445184', '1278082467518394369', '1278171802926288896', '1278206184365764609', '1278118118003441670', '1278197197645938689', '1278117732966215680', '1278106180183826432', '1278152476798173185', '1278121639918678016', '1278039762037870595', '1278045785230241793', '1278478453529022465', '1278063097631121408', '1278007544531890176', '1278478034316623873', '1278475968282165248', '1278475122953916417', '1278475174040526851', '1278475152322420736', '1278474117478580224', '1278474513533988865', '1278475197767712770', '1278477756855201792', '1278477952485736448', '1278475691554635778', '1278475405222166529', '1278475004858920960', '1278476187178864640', '1278476065938251778', '1278476036758478848', '1278475168789041153', '1278475333935812610', '1278476130706575360', '1278475816586838019', '1278475783921680384', '1278474931567652864', '1278475215740100608', '1278477009228836865', '1278477345955786752', '1278475090347393024', '1278477677771591682', '1278474738814390272', '1278476886876839936', '1278475293229854721', '1278472913503559680', '1278472226480816128', '1278471070761140225', '1278470854150623234', '1278472101943541760', '1278472287730184194', '1278471881083875329', '1278473082211106817', '1278474255412482048', '1278473556612059138', '1278471902445461505', '1278473515335847936', '1278474085077483522', '1278473757603086338', '1278474066605887490', '1278473297131458565', '1278467185694789633', '1278469336638914565', '1278467844381032448', '1278467720758079489', '1278468346141306880', '1278469172603883523', '1278470368089554944', '1278469335158325248', '1278468924145836038', '1278469773182058500', '1278469735366049792', '1278469701958582272', '1278468992395550720', '1278469640394543109', '1278470095405297664', '1278468243980726272', '1278470743295168512', '1278470184144158721', '1278469483368263685', '1278467790488338432', '1278469208066555904', '1278465717529006080', '1278466612572585984', '1278465246945071105', '1278465007991259136', '1278464471694884867', '1278465572209115139', '1278464931223003146', '1278466591819251717', '1278464512442671106', '1278464550124355586', '1278466601663127552', '1278466060040245248', '1278464808174551040', '1278462860935327750', '1278463660046893056', '1278462380603670529', '1278463469461942273', '1278462917730394112', '1278463455331221509', '1278462995920826370', '1278461628355411968', '1278463116620320768', '1278462459901358081', '1278463122504929281', '1278461801705897984', '1278462710531813376', '1264546443198525440', '1277740483784179713', '1277674881597845504', '1275226775627485185', '1274526370903842816', '1266246142100008961', '1274049406325719043', '1274830681110175744', '1260958724967018502', '1257081649097052164', '1277863427713560577', '1272946881149075457', '1277459384264724484', '1268221706797223936', '1264747553804791808', '1257636959088005120', '1278425057941913601', '1278045408435060738', '1278406171691372544', '1278406577746178048', '1278407911761489921', '1278473777181896706', '1278461537183645696', '1278426264546746368', '1278442821607964673', '1278399908874256384', '1278440773294403596', '1278403173661552640', '1278317215104864261', '1278361133271810048', '1278305340224876544', '1278334385406849024', '1278316880382562304', '1278375120734695425', '1278284759551152128', '1278345926462115840', '1278389797564887040', '1278304312050024448', '1278306298769989632', '1278337957120835585', '1278296987931115520', '1278098155741962241', '1278155618277158913', '1278115818086203394', '1278196116933222400', '1278199904897302530', '1278275033291460608', '1278138029832654850', '1278155396335599621', '1278159430786441216', '1278116587950702595', '1278133883515658240', '1278280379799990273', '1278177820854947841', '1278280282211155968', '1278272342028963855', '1278270450813014016', '1278034006114590720', '1278065938747789313', '1277992295263014922', '1278045476319891463', '1278078348195966978', '1277978172173086721', '1278063817281474564', '1278049740249276416', '1278037048490962946', '1277980962647764998', '1278060065514303496', '1278036864927219712', '1278075926664941576', '1278000418417770497', '1277991763349852161', '1278076374054469641', '1278013996927516672', '1278012933621133313', '1278066744435847171', '1278014353074270209', '1278075234277621761', '1278033363178266624', '1277808547686871040', '1277804694249844736', '1277806803078860800', '1277803719875149824', '1277800495617208328', '1277801652565741569', '1277918367656050688', '1277918151557160961', '1277799350719205378', '1277816070255017984', '1277920638578184192', '1277772038380253186', '1277793221989601286', '1277821586117140480', '1277946379818557441', '1277839628360470528', '1277778065075113986', '1277797984256749570', '1277777325057290240', '1277809064873996288', '1277779521438191618', '1277806752923299841', '1277762039654559745', '1277747910789287938', '1277763131868053505', '1277757504450105345', '1278417069537665024', '1267133858866180098', '1278370207644426241', '1278275196923895809', '1278274087446511619', '1278265811606671360', '1278274813694554113', '1278213346962092032', '1278130569398743040', '1278106069915643904', '1274451697096630272', '1260685976483086338', '1260596408538640386', '1257747923389026304', '1260562202039328771', '1278477442533822464', '1278471580251762688', '1256533286261792769', '1278474589073367040', '1278466650631622657', '1278452979704532992', '1278460966573932549', '1278452109130817536', '1278419379844263936', '1278428163136241664', '1278411248124780544', '1278399591394816006', '1278408706812596224', '1278397466845622274', '1278410731348570112', '1278387961210515457', '1278393413918953472', '1278389642631528448', '1278468281310076928', '1278429866296295435', '1278411699360423936', '1278410695416020992', '1278397894249328640', '1275993959312044036', '1271815155395985409', '1268031310444081152', '1274157137044705280', '1274189033170599937', '1274586131389177858', '1277691522243313664', '1277697114999525377', '1276484385647333376', '1276967436756058118', '1277078330290905088', '1276265077897863176', '1275779766629683201', '1275595997343776768', '1275242287979802624', '1275577465298092033', '1274854543361220609', '1274911644494163968', '1272616546691661825', '1273321048126210049', '1278244328666734594', '1278244212031606784', '1278244090677690368', '1278117176210345984', '1266879561981140992', '1275508725911113728', '1258701130361647104', '1264069658434568193', '1264519085385297923', '1269822675238649857', '1272114475269787652', '1278007680427319301', '1278477218256007168', '1278464555467800576', '1278469731008294912', '1278454244757078016', '1278451480383684618', '1278451544015417345', '1278447139727826945', '1278449373240864768', '1278435760459395074', '1278427534414229511', '1278427977953443841', '1278426920934391808', '1278413520057651202', '1278418828599296001', '1278419691489419269', '1278411812900204547', '1278411498579206144', '1278420145396953089', '1278411700979544064', '1278412985447469057', '1278418667605090304', '1278402518503038976', '1278402542364504065', '1278399474914725894', '1278395289259454464', '1263613407871172610', '1277482073356267520', '1275426857803026438', '1276153251591860225', '1276154190587473920', '1258491352469458949', '1277699788394450945', '1267153942938447872', '1263944191282786304', '1263487258587467778', '1263962556298911744', '1263913553704235012', '1263920457012727808', '1266426032686600206', '1278407279205736448', '1277717782302543875', '1277434013729329152', '1277444121108582402', '1276540126034878464', '1272062308538171395', '1272662206618963968', '1270349073812459521', '1269720504111415299', '1278478035793121292', '1278478109310844928', '1278478157834846208', '1278477839671664648', '1278477557650817026', '1278477708259983366', '1278477835498336256', '1278477295460790273', '1278476846766546947', '1278476949099368449', '1278047302058467329', '1278291441886941186', '1277754954040606720', '1277402585192960001', '1276400170607890433', '1276660050917052417', '1276251877013782528', '1276316635599704064', '1276160397607866374', '1275978217342398464', '1277086526187470850', '1264753087023112193', '1261238210761555969', '1275233987598774272', '1262088548070625281', '1278343324504600576', '1260687516602171393', '1278128642791530496', '1277254026321637376', '1276032543045926912', '1275240729049063425', '1275125795216908288', '1275267975453577218', '1272699039826546690', '1276527425065811969', '1278448038156161024', '1278472776798650374', '1278391196176564233', '1278398502175989768', '1278378886519119872', '1278330548075859975', '1278216514315997186', '1278177433582284800', '1278198811480018945', '1278192862664863745', '1262492401794498562', '1272009131746975744', '1256216805179260928', '1277606699319193600', '1278041401771601921', '1277630599683952640', '1277875126420332544', '1277922576715730944', '1277614007092822016', '1277313460712308737', '1277260175238295553', '1276753218081456128', '1269128791424548866', '1276863281076989955', '1261004040965513216', '1258396401135992838', '1277622869472804867', '1260604789366435840', '1278386977658847233', '1278245523884032001', '1278385978739228673', '1278359121469865984', '1277930943806943235', '1277918633121980417', '1278006150760464384', '1277288978085851136', '1277320513912627202', '1277486508577087488', '1276931551180263426', '1276954168570281989', '1277135530262532096', '1277003720669245443', '1276981429017206791', '1277243384156114945', '1277197707568754689', '1276985525036081153', '1277237712169418753', '1276991970246709248', '1277668123991212036', '1276553517575045120', '1275894923464716288', '1276263729982816256', '1272513804765548546', '1277586184307236864']\n"
          ],
          "name": "stdout"
        }
      ]
    },
    {
      "cell_type": "markdown",
      "metadata": {
        "id": "5D0BK-9ySfyr"
      },
      "source": [
        "JULY - NewsReal Replies"
      ]
    },
    {
      "cell_type": "code",
      "metadata": {
        "id": "QPAwf-dBLVdZ"
      },
      "source": [
        "with open('/content/drive/MyDrive/UNBDC/CoAID Hydrated Files/07 01 2020/07NewsRealCOVID-19_tweets_replies.csv', mode='r') as csv_file:\n",
        "    csv_reader = csv.DictReader(csv_file)\n",
        "    line_count = 0\n",
        "    #jNewsRealRep_btwids = []\n",
        "    #jNewsRealRep_ttwids = []\n",
        "    #jNewsRealRep_bcount = 0\n",
        "    #jNewsRealRep_tcount = 0\n",
        "\n",
        "    biden_replies = 0\n",
        "    trump_replies = 0\n",
        "\n",
        "    nr_replies = []\n",
        "\n",
        "    for row in csv_reader:\n",
        "        if line_count == 0:\n",
        "            print(f'Column names are {\", \".join(row)}')\n",
        "            line_count += 1\n",
        "\n",
        "        if row['in_reply_to_status_id'] in jNewsReal_btwids:\n",
        "          biden_replies += 1\n",
        "          print({row['text']})\n",
        "        \n",
        "        if row['in_reply_to_status_id'] in jNewsReal_ttwids:\n",
        "          if row['in_reply_to_status_id'] not in asdf:\n",
        "            asdf.append(row['in_reply_to_status_id'])\n",
        "          trump_replies += 1\n",
        "          print({row['text']})\n",
        "\n",
        "        line_count += 1\n",
        "    print(f'Processed {line_count} lines.')"
      ],
      "execution_count": null,
      "outputs": []
    },
    {
      "cell_type": "code",
      "metadata": {
        "colab": {
          "base_uri": "https://localhost:8080/"
        },
        "id": "Bv6I05aMNCO1",
        "outputId": "1519a3ee-0934-474c-aa51-0935cb7581fe"
      },
      "source": [
        "print(biden_replies)\n",
        "print(trump_replies)"
      ],
      "execution_count": null,
      "outputs": [
        {
          "output_type": "stream",
          "text": [
            "0\n",
            "129\n"
          ],
          "name": "stdout"
        }
      ]
    },
    {
      "cell_type": "markdown",
      "metadata": {
        "id": "4qLbx3JISjdY"
      },
      "source": [
        "JULY - NewsFake Tweets"
      ]
    },
    {
      "cell_type": "code",
      "metadata": {
        "id": "7zP5CSXAOj_z"
      },
      "source": [
        "with open('/content/drive/MyDrive/UNBDC/CoAID Hydrated Files/07 01 2020/07NewsFakeCOVID-19_tweets.csv', mode='r') as csv_file:\n",
        "    csv_reader = csv.DictReader(csv_file)\n",
        "    line_count = 0\n",
        "    jNewsFake_btwids = []\n",
        "    jNewsFake_ttwids = []\n",
        "    jNewsFake_bcount = 0\n",
        "    jNewsFake_tcount = 0\n",
        "    for row in csv_reader:\n",
        "        if line_count == 0:\n",
        "            print(f'Column names are {\", \".join(row)}')\n",
        "            line_count += 1\n",
        "\n",
        "        if \"biden\" in row[\"text\"] or \"Biden\" in row['text'] or \"BIDEN\" in row['text']:\n",
        "            print({row[\"text\"]})\n",
        "            jNewsFake_btwids.append(row['id'])\n",
        "            jNewsFake_bcount += 1\n",
        "        \n",
        "        if \"trump\" in row[\"text\"] or \"Trump\" in row['text'] or \"TRUMP\" in row['text']:\n",
        "            print({row[\"text\"]})\n",
        "            jNewsFake_ttwids.append(row['id'])\n",
        "            jNewsFake_tcount += 1\n",
        "\n",
        "        line_count += 1\n",
        "    print(f'Processed {line_count} lines.')"
      ],
      "execution_count": null,
      "outputs": []
    },
    {
      "cell_type": "code",
      "metadata": {
        "colab": {
          "base_uri": "https://localhost:8080/"
        },
        "id": "-Og8ngGKRjJi",
        "outputId": "6db509cf-0c78-4b32-c515-e25149f594a3"
      },
      "source": [
        "print(jNewsFake_bcount)\n",
        "print(jNewsFake_btwids)\n",
        "\n",
        "print(jNewsFake_tcount)\n",
        "print(jNewsFake_ttwids)"
      ],
      "execution_count": null,
      "outputs": [
        {
          "output_type": "stream",
          "text": [
            "44\n",
            "['1274510293666680832', '1274569102040784897', '1275801200278020097', '1274510769208492032', '1275575312894636034', '1274511197170208769', '1278234248433078273', '1275552336195121153', '1274512963034996736', '1274513386999623682', '1274518429228285952', '1274510046588809217', '1274020545277734912', '1274510062015221760', '1274513581489491974', '1274514700794056707', '1274510204126797825', '1274512559765405697', '1274529902872715271', '1274513613546545153', '1275114312407740416', '1274510092449218560', '1272790187098152963', '1272919920658038784', '1273305379741540354', '1266755017257693184', '1266754230607634434', '1259124711889534979', '1259124257075990528', '1260675463984414721', '1260620715998482435', '1265891772657315840', '1257701038087303169', '1272759203686305792', '1260564196292517894', '1261121026387251200', '1258783776257310725', '1257303790010552320', '1257354501859823616', '1261291285308030982', '1257633359351746561', '1276314295576301569', '1275572168550567938', '1277026280484098048']\n",
            "336\n",
            "['1274510293666680832', '1277283295521316867', '1274569102040784897', '1276491302952148993', '1275078156819378178', '1274715320272523266', '1273415144287227905', '1273696234109317121', '1275801200278020097', '1274510769208492032', '1274092128747094016', '1275049049599729664', '1274707183763103744', '1274347064445538305', '1276365489292353536', '1273625615858577409', '1275575312894636034', '1276585208934879233', '1275435711714320384', '1275552336195121153', '1274302248726781952', '1273638974117031936', '1274512963034996736', '1276634056801820673', '1274399533972066305', '1274513386999623682', '1274518429228285952', '1274696606260932609', '1275981994422341634', '1273366702127042562', '1274153335889768449', '1274510046588809217', '1274020545277734912', '1274411984549797888', '1274513581489491974', '1273338940230004738', '1276925152509427715', '1274525828450340870', '1274514700794056707', '1273982892679495682', '1275280684395884544', '1273482291507982337', '1274526428068040705', '1274662101567639552', '1275222426788528134', '1273253175945048064', '1276378075354116096', '1274510204126797825', '1275507673497305088', '1273366872117952518', '1274512559765405697', '1274529902872715271', '1274513613546545153', '1273283731323838465', '1273665749777707008', '1275114312407740416', '1273351655203975176', '1276711189712703488', '1274510092449218560', '1274801175691440133', '1276544879217311745', '1273024127377555456', '1273174890061934594', '1272864190391336960', '1272889126346514433', '1272996408472285187', '1273227268769361920', '1272947788846784513', '1273069566319407104', '1272830410372739073', '1272901182730702849', '1272880706478358530', '1272924906393567232', '1272842820110487553', '1272721976797396995', '1272860558686146560', '1272905188957999116', '1272925182445977600', '1272725074664058882', '1272787347533266944', '1272935321517395970', '1273236736232116224', '1273148746533146624', '1272968946954764288', '1272684673651470337', '1272861072471416832', '1272790187098152963', '1272864796745125888', '1272834958571298817', '1272699137662861317', '1273148841819344897', '1272926766445867015', '1272738722493214723', '1272671671363698690', '1272742686764814339', '1272865674516467712', '1272828938289627138', '1273122768087855107', '1273035650481229826', '1272738843683196931', '1272885884879241217', '1272916662874972160', '1272878865971425281', '1273039551813103617', '1272927760441212928', '1273148836953948162', '1273219952074469380', '1273062676420341760', '1273054465151700993', '1272924181412241411', '1272916780772503552', '1272973429629759488', '1272837939047862273', '1272828160791523328', '1273212115856261120', '1272667300999491584', '1273238742212411392', '1272926411209297921', '1272714093611360258', '1272768922412957696', '1272931189385498624', '1272900713769848837', '1272674912998576128', '1272731234188300288', '1272962566638063616', '1272878817040838658', '1273046233070710785', '1273105738366431233', '1272705196238557186', '1272833269080489991', '1272890919642161156', '1272919312030855168', '1272710835912261632', '1272944842952278017', '1272790660567822337', '1272848518177345536', '1272917285582356480', '1272899325400621061', '1272861488252776448', '1272736193210269696', '1272728140784250880', '1271969308621619201', '1272664478065348610', '1264240277641822211', '1273230011567407106', '1264245035752738818', '1272629924042551296', '1276134648893104128', '1272658056384577543', '1273750394804613120', '1263705111932567552', '1272661423940874242', '1272639890744901632', '1263844354566881280', '1264192110657495042', '1263923238960156672', '1262784907203481600', '1262786189955866625', '1262785661448454144', '1262784989655162884', '1262785625134170115', '1262870649103622145', '1262786085823922177', '1262784848080535563', '1266254833746501639', '1263206346209583107', '1263168682277998593', '1263483770008715265', '1263197307492691968', '1260988265261338625', '1264677196544634881', '1256060269660422145', '1266020655436369920', '1259170415177461761', '1266012910901497856', '1266755017257693184', '1261488956132163584', '1263162119819866117', '1262541487457341442', '1266754230607634434', '1266233954073341952', '1259658732394500096', '1261293180403642368', '1265441498587422721', '1259515289169014784', '1277334066241683456', '1261629645818081280', '1259608981737107457', '1266065729431965697', '1266415652211961865', '1267401563250753536', '1259124711889534979', '1266013930285142019', '1266060163762532353', '1264971792705294337', '1261275647160258562', '1266059337031704577', '1263457248426278913', '1263493305364557825', '1266391098995478531', '1266042607806775297', '1266022241558499331', '1266042138745167872', '1259495506734129154', '1271498653304107008', '1259464393227669504', '1259464387527684097', '1258887083432738816', '1264425903225835521', '1259098457098379264', '1265992014631448577', '1259124257075990528', '1265841849803116544', '1266029977339756544', '1257358428978262021', '1257298308969660421', '1257435695427334149', '1260675463984414721', '1260620715998482435', '1258796569991745539', '1257771620682399746', '1257716886713720833', '1260620510683107329', '1265891772657315840', '1257710223046987776', '1258647126508105728', '1258843843056635904', '1258621380385476615', '1258047112010444801', '1258396389215739910', '1258074817233924106', '1257423937249705986', '1257809099812532225', '1258142033602060289', '1257668754739167233', '1258842683717693440', '1257446120734720004', '1260563741558689801', '1258601763583787009', '1257661671654469632', '1257657335151054848', '1257672236795858945', '1257683376775008256', '1257383371073781760', '1257645110969466882', '1257689514153136128', '1257661443912224768', '1258352309739937794', '1258062633975963650', '1257647381421723649', '1257701038087303169', '1258794529328640002', '1257900974934351872', '1257988595161477121', '1257720880974704640', '1272759203686305792', '1257368191547912194', '1257723528679489538', '1257747316720627712', '1257650377949958153', '1257677004423327745', '1257714333280329728', '1258711704269205504', '1258741466924560387', '1257859140447240199', '1258868193621356551', '1257396458963296257', '1257598763142701058', '1257497263200337925', '1257318013637758978', '1258595060821581824', '1257592123773325312', '1257393309263290370', '1257733225327276032', '1258723491534131201', '1260564196292517894', '1257323816692314113', '1258535992425803776', '1258420077826801664', '1261121026387251200', '1258783776257310725', '1257965072783155200', '1258543240657039362', '1257303790010552320', '1257354501859823616', '1258419801288069129', '1257806265360711680', '1257651756831563777', '1258822762497531906', '1257803583841583109', '1257799895643238401', '1257678529627652099', '1261291285308030982', '1257633359351746561', '1262382657092104193', '1263079893698514945', '1260620622679486464', '1257290848850640902', '1258189973360164865', '1256767717153148933', '1256574256877654023', '1256270995125612546', '1260929545953112064', '1256270115622072321', '1256215438402424832', '1276270354680422413', '1256209683452395522', '1256028946296123393', '1261287657402888192', '1269095934123745287', '1276671364527804419', '1256650130327056385', '1257308579805069312', '1275572168550567938', '1257238249459855361', '1256490507225661443', '1256329737745489921', '1257582212159021057', '1263070775000682496', '1256240063131848705', '1264283253038436352', '1256259204567842817', '1256574159309533187', '1256984733101113344', '1258955410779910146', '1262749589985062912', '1256322785065893888', '1256952083690946562', '1256337424763899905', '1277026280484098048', '1269676954590089216', '1256690999549669376', '1266256804951937025', '1257854004530462720', '1256947333180334085', '1256223808744312834']\n"
          ],
          "name": "stdout"
        }
      ]
    },
    {
      "cell_type": "markdown",
      "metadata": {
        "id": "V1ZeBEtvSmlJ"
      },
      "source": [
        "JULY - NewsFake Replies"
      ]
    },
    {
      "cell_type": "code",
      "metadata": {
        "colab": {
          "base_uri": "https://localhost:8080/"
        },
        "id": "nAiGP5GhQBNS",
        "outputId": "f518ab4c-f70e-4b63-976d-83b0a699d4e3"
      },
      "source": [
        "with open('/content/drive/MyDrive/UNBDC/CoAID Hydrated Files/07 01 2020/07NewsFakeCOVID-19_tweets_replies.csv', mode='r') as csv_file:\n",
        "    csv_reader = csv.DictReader(csv_file)\n",
        "    line_count = 0\n",
        "    #jNewsRealRep_btwids = []\n",
        "    #jNewsRealRep_ttwids = []\n",
        "    #jNewsRealRep_bcount = 0\n",
        "    #jNewsRealRep_tcount = 0\n",
        "\n",
        "    biden_replies = 0\n",
        "    trump_replies = 0\n",
        "\n",
        "    nf_replies = []\n",
        "\n",
        "    for row in csv_reader:\n",
        "        if line_count == 0:\n",
        "            print(f'Column names are {\", \".join(row)}')\n",
        "            line_count += 1\n",
        "\n",
        "        if row['in_reply_to_status_id'] in jNewsFake_btwids:\n",
        "          biden_replies += 1\n",
        "          print({row['text']})\n",
        "        \n",
        "        if row['in_reply_to_status_id'] in jNewsFake_ttwids:\n",
        "          trump_replies += 1\n",
        "          print({row['text']})\n",
        "\n",
        "        line_count += 1\n",
        "    print(f'Processed {line_count} lines.')"
      ],
      "execution_count": null,
      "outputs": [
        {
          "output_type": "stream",
          "text": [
            "Column names are coordinates, created_at, hashtags, media, urls, favorite_count, id, in_reply_to_screen_name, in_reply_to_status_id, in_reply_to_user_id, lang, place, possibly_sensitive, retweet_count, retweet_id, retweet_screen_name, source, text, tweet_url, user_created_at, user_screen_name, user_default_profile_image, user_description, user_favourites_count, user_followers_count, user_friends_count, user_listed_count, user_location, user_name, user_statuses_count, user_time_zone, user_urls, user_verified\n",
            "{'“We’ve tested more than every country combined.” https://t.co/AlyDgafwbk'}\n",
            "{'“We’ve tested more than every country combined.” https://t.co/AlyDgafwbk'}\n",
            "Processed 1249 lines.\n"
          ],
          "name": "stdout"
        }
      ]
    },
    {
      "cell_type": "code",
      "metadata": {
        "colab": {
          "base_uri": "https://localhost:8080/"
        },
        "id": "UADPOpI2RsBw",
        "outputId": "d01802af-7143-4bc8-c8d1-8de9a2012051"
      },
      "source": [
        "print(biden_replies)\n",
        "print(trump_replies)"
      ],
      "execution_count": null,
      "outputs": [
        {
          "output_type": "stream",
          "text": [
            "1\n",
            "1\n"
          ],
          "name": "stdout"
        }
      ]
    },
    {
      "cell_type": "markdown",
      "metadata": {
        "id": "WZuXqwraTk4n"
      },
      "source": [
        "July - ClaimFake Tweets\n"
      ]
    },
    {
      "cell_type": "code",
      "metadata": {
        "colab": {
          "base_uri": "https://localhost:8080/"
        },
        "id": "JX9siWKET59r",
        "outputId": "ce5b9350-2bbb-411b-fbf4-b2e0b3071416"
      },
      "source": [
        "with open('/content/drive/MyDrive/UNBDC/CoAID Hydrated Files/07 01 2020/07ClaimFakeCOVID-19_tweets.csv', mode='r') as csv_file:\n",
        "    csv_reader = csv.DictReader(csv_file)\n",
        "    line_count = 0\n",
        "    jClaimFake_btwids = []\n",
        "    jClaimFake_ttwids = []\n",
        "    jClaimFake_bcount = 0\n",
        "    jClaimFake_tcount = 0\n",
        "    for row in csv_reader:\n",
        "        if line_count == 0:\n",
        "            print(f'Column names are {\", \".join(row)}')\n",
        "            line_count += 1\n",
        "\n",
        "        if \"biden\" in row[\"text\"] or \"Biden\" in row['text'] or \"BIDEN\" in row['text']:\n",
        "            print({row[\"text\"]})\n",
        "            jClaimFake_btwids.append(row['id'])\n",
        "            jClaimFake_bcount += 1\n",
        "        \n",
        "        if \"trump\" in row[\"text\"] or \"Trump\" in row['text'] or \"TRUMP\" in row['text']:\n",
        "            print({row[\"text\"]})\n",
        "            jClaimFake_ttwids.append(row['id'])\n",
        "            jClaimFake_tcount += 1\n",
        "\n",
        "        line_count += 1\n",
        "    print(f'Processed {line_count} lines.')"
      ],
      "execution_count": null,
      "outputs": [
        {
          "output_type": "stream",
          "text": [
            "Column names are coordinates, created_at, hashtags, media, urls, favorite_count, id, in_reply_to_screen_name, in_reply_to_status_id, in_reply_to_user_id, lang, place, possibly_sensitive, retweet_count, retweet_id, retweet_screen_name, source, text, tweet_url, user_created_at, user_screen_name, user_default_profile_image, user_description, user_favourites_count, user_followers_count, user_friends_count, user_listed_count, user_location, user_name, user_statuses_count, user_time_zone, user_urls, user_verified\n",
            "Processed 26 lines.\n"
          ],
          "name": "stdout"
        }
      ]
    },
    {
      "cell_type": "code",
      "metadata": {
        "colab": {
          "base_uri": "https://localhost:8080/"
        },
        "id": "71H174y6UWAp",
        "outputId": "84e30f1c-b41d-4930-ed51-c6b334be3cf8"
      },
      "source": [
        "print(jClaimFake_bcount)\n",
        "print(jClaimFake_btwids)\n",
        "\n",
        "print(jClaimFake_tcount)\n",
        "print(jClaimFake_ttwids)"
      ],
      "execution_count": null,
      "outputs": [
        {
          "output_type": "stream",
          "text": [
            "0\n",
            "[]\n",
            "0\n",
            "[]\n"
          ],
          "name": "stdout"
        }
      ]
    },
    {
      "cell_type": "markdown",
      "metadata": {
        "id": "VEnqGWKpUd_n"
      },
      "source": [
        "JULY - ClaimFake Replies"
      ]
    },
    {
      "cell_type": "code",
      "metadata": {
        "colab": {
          "base_uri": "https://localhost:8080/"
        },
        "id": "jWWUlAm_UdWi",
        "outputId": "9dc41ce0-c294-4859-f8ad-5c6aa58b2ac1"
      },
      "source": [
        "with open('/content/drive/MyDrive/UNBDC/CoAID Hydrated Files/07 01 2020/07ClaimFakeCOVID-19_tweets_replies.csv', mode='r') as csv_file:\n",
        "    csv_reader = csv.DictReader(csv_file)\n",
        "    line_count = 0\n",
        "    #jNewsRealRep_btwids = []\n",
        "    #jNewsRealRep_ttwids = []\n",
        "    #jNewsRealRep_bcount = 0\n",
        "    #jNewsRealRep_tcount = 0\n",
        "\n",
        "    biden_replies = 0\n",
        "    trump_replies = 0\n",
        "\n",
        "    cf_replies = []\n",
        "\n",
        "    for row in csv_reader:\n",
        "        if line_count == 0:\n",
        "            print(f'Column names are {\", \".join(row)}')\n",
        "            line_count += 1\n",
        "\n",
        "        if row['in_reply_to_status_id'] in jClaimFake_btwids:\n",
        "          biden_replies += 1\n",
        "          print({row['text']})\n",
        "        \n",
        "        if row['in_reply_to_status_id'] in jClaimFake_ttwids:\n",
        "          asdf.append(row['in_reply_to_status_id'])\n",
        "          trump_replies += 1\n",
        "          print({row['text']})\n",
        "\n",
        "        line_count += 1\n",
        "    print(f'Processed {line_count} lines.')"
      ],
      "execution_count": null,
      "outputs": [
        {
          "output_type": "stream",
          "text": [
            "Column names are coordinates, created_at, hashtags, media, urls, favorite_count, id, in_reply_to_screen_name, in_reply_to_status_id, in_reply_to_user_id, lang, place, possibly_sensitive, retweet_count, retweet_id, retweet_screen_name, source, text, tweet_url, user_created_at, user_screen_name, user_default_profile_image, user_description, user_favourites_count, user_followers_count, user_friends_count, user_listed_count, user_location, user_name, user_statuses_count, user_time_zone, user_urls, user_verified\n",
            "Processed 3 lines.\n"
          ],
          "name": "stdout"
        }
      ]
    },
    {
      "cell_type": "code",
      "metadata": {
        "colab": {
          "base_uri": "https://localhost:8080/"
        },
        "id": "fiCtIlmkUpsx",
        "outputId": "a72a61c3-6ade-4483-96f0-ab4de1486016"
      },
      "source": [
        "print(biden_replies)\n",
        "print(trump_replies)"
      ],
      "execution_count": null,
      "outputs": [
        {
          "output_type": "stream",
          "text": [
            "0\n",
            "0\n"
          ],
          "name": "stdout"
        }
      ]
    },
    {
      "cell_type": "markdown",
      "metadata": {
        "id": "pbq3ApjSewVf"
      },
      "source": [
        "SEPTEMBER - ClaimReal Tweets"
      ]
    },
    {
      "cell_type": "code",
      "metadata": {
        "colab": {
          "base_uri": "https://localhost:8080/"
        },
        "id": "IFvfwKnie0Y8",
        "outputId": "b2f78b0c-713c-408a-acf2-96a5452f6722"
      },
      "source": [
        "with open('/content/drive/MyDrive/UNBDC/CoAID Hydrated Files/09 01 2020/09ClaimReal_tweets.csv', mode='r') as csv_file:\n",
        "    csv_reader = csv.DictReader(csv_file)\n",
        "    line_count = 0\n",
        "    sCR_btwids = []\n",
        "    sCR_ttwids = []\n",
        "    sCR_bcount = 0\n",
        "    sCR_tcount = 0\n",
        "    for row in csv_reader:\n",
        "        if line_count == 0:\n",
        "            print(f'Column names are {\", \".join(row)}')\n",
        "            line_count += 1\n",
        "\n",
        "        if \"biden\" in row[\"text\"] or \"Biden\" in row['text'] or \"BIDEN\" in row['text']:\n",
        "            print({row[\"text\"]})\n",
        "            sCR_btwids.append(row['id'])\n",
        "            sCR_bcount += 1\n",
        "        \n",
        "        if \"trump\" in row[\"text\"] or \"Trump\" in row['text'] or \"TRUMP\" in row['text']:\n",
        "            print({row[\"text\"]})\n",
        "            sCR_ttwids.append(row['id'])\n",
        "            sCR_tcount += 1\n",
        "\n",
        "        line_count += 1\n",
        "    print(f'Processed {line_count} lines.')"
      ],
      "execution_count": null,
      "outputs": [
        {
          "output_type": "stream",
          "text": [
            "Column names are coordinates, created_at, hashtags, media, urls, favorite_count, id, in_reply_to_screen_name, in_reply_to_status_id, in_reply_to_user_id, lang, place, possibly_sensitive, retweet_count, retweet_id, retweet_screen_name, source, text, tweet_url, user_created_at, user_screen_name, user_default_profile_image, user_description, user_favourites_count, user_followers_count, user_friends_count, user_listed_count, user_location, user_name, user_statuses_count, user_time_zone, user_urls, user_verified\n",
            "{'\"I just want a man who is spontaneous &amp; unpredictable. He should also be 5\\'10\", no kids, love dogs, doesnt drink or smoke, love desserts, make at least 80k, travel a lot, not voted for Trump, not have any girl friends, and let my mom boss him around. Is that too much to ask for?\"'}\n",
            "{\"The @NationalGuard has been instrumental in #COVID response – helping food banks, testing, contact tracing, and more. \\n \\nWhat is the delay in extending Title 32, @realDonaldTrump &amp; @VP? 49 states have asked for this. Your delay hurts our #COVID19 response &amp; Nat'l Guard members.\"}\n",
            "{'Question: Children, what is an example of opposite of good Presidential leadership?         Answer:       “Instead of expanding testing, the Trump administration wants to block $25 billion for states to conduct testing and contact tracing“\\n#COVID19 #firehimnow'}\n",
            "Processed 234 lines.\n"
          ],
          "name": "stdout"
        }
      ]
    },
    {
      "cell_type": "code",
      "metadata": {
        "colab": {
          "base_uri": "https://localhost:8080/"
        },
        "id": "g1JYgFeDfDvm",
        "outputId": "124827c8-cd5c-4265-edee-d5661f9ed14c"
      },
      "source": [
        "print(sCR_bcount)\n",
        "print(sCR_btwids)\n",
        "\n",
        "print(sCR_tcount)\n",
        "print(sCR_ttwids)"
      ],
      "execution_count": null,
      "outputs": [
        {
          "output_type": "stream",
          "text": [
            "0\n",
            "[]\n",
            "3\n",
            "['1290618194554769410', '1289278994257285121', '1285104426940760064']\n"
          ],
          "name": "stdout"
        }
      ]
    },
    {
      "cell_type": "markdown",
      "metadata": {
        "id": "NPxYvL2gfM6Q"
      },
      "source": [
        "SEPTEMBER - ClaimReal Replies"
      ]
    },
    {
      "cell_type": "code",
      "metadata": {
        "colab": {
          "base_uri": "https://localhost:8080/"
        },
        "id": "QhPTdumHfPbu",
        "outputId": "a732ce48-3e05-40b8-99ed-aa9ce82fa2cb"
      },
      "source": [
        "with open('/content/drive/MyDrive/UNBDC/CoAID Hydrated Files/09 01 2020/09ClaimReal_replies.csv', mode='r') as csv_file:\n",
        "    csv_reader = csv.DictReader(csv_file)\n",
        "    line_count = 0\n",
        "\n",
        "    sCR_brep = 0\n",
        "    sCR_trep = 0\n",
        "\n",
        "    cr_replies = []\n",
        "\n",
        "    for row in csv_reader:\n",
        "        if line_count == 0:\n",
        "            print(f'Column names are {\", \".join(row)}')\n",
        "            line_count += 1\n",
        "\n",
        "        if row['in_reply_to_status_id'] in sCR_btwids:\n",
        "          sCR_brep += 1\n",
        "          print({row['text']})\n",
        "        \n",
        "        if row['in_reply_to_status_id'] in sCR_ttwids:\n",
        "          if row['in_reply_to_status_id'] not in asdf:\n",
        "            asdf.append(row['in_reply_to_status_id'])\n",
        "          sCR_brep += 1\n",
        "          print({row['text']})\n",
        "\n",
        "        line_count += 1\n",
        "    print(f'Processed {line_count} lines.')"
      ],
      "execution_count": null,
      "outputs": [
        {
          "output_type": "stream",
          "text": [
            "Column names are coordinates, created_at, hashtags, media, urls, favorite_count, id, in_reply_to_screen_name, in_reply_to_status_id, in_reply_to_user_id, lang, place, possibly_sensitive, retweet_count, retweet_id, retweet_screen_name, source, text, tweet_url, user_created_at, user_screen_name, user_default_profile_image, user_description, user_favourites_count, user_followers_count, user_friends_count, user_listed_count, user_location, user_name, user_statuses_count, user_time_zone, user_urls, user_verified\n",
            "Processed 418 lines.\n"
          ],
          "name": "stdout"
        }
      ]
    },
    {
      "cell_type": "code",
      "metadata": {
        "colab": {
          "base_uri": "https://localhost:8080/"
        },
        "id": "e-0ex5B7fdhd",
        "outputId": "2726defe-b710-41a7-d6c6-1ca8f26639de"
      },
      "source": [
        "print(sCR_brep)\n",
        "print(sCR_trep)"
      ],
      "execution_count": null,
      "outputs": [
        {
          "output_type": "stream",
          "text": [
            "0\n",
            "0\n"
          ],
          "name": "stdout"
        }
      ]
    },
    {
      "cell_type": "markdown",
      "metadata": {
        "id": "_DcrqIHUfqdp"
      },
      "source": [
        "SEPTEMBER - NewsFake Tweets"
      ]
    },
    {
      "cell_type": "code",
      "metadata": {
        "colab": {
          "base_uri": "https://localhost:8080/"
        },
        "id": "L471RoujfuaR",
        "outputId": "83b6db17-b823-417d-8224-bcfc46c251cb"
      },
      "source": [
        "with open('/content/drive/MyDrive/UNBDC/CoAID Hydrated Files/09 01 2020/09NewsFake_tweets.csv', mode='r') as csv_file:\n",
        "    csv_reader = csv.DictReader(csv_file)\n",
        "    line_count = 0\n",
        "    sNF_btwids = []\n",
        "    sNF_ttwids = []\n",
        "    sNF_bcount = 0\n",
        "    sNF_tcount = 0\n",
        "    for row in csv_reader:\n",
        "        if line_count == 0:\n",
        "            print(f'Column names are {\", \".join(row)}')\n",
        "            line_count += 1\n",
        "\n",
        "        if \"biden\" in row[\"text\"] or \"Biden\" in row['text'] or \"BIDEN\" in row['text']:\n",
        "            print({row[\"text\"]})\n",
        "            sNF_btwids.append(row['id'])\n",
        "            sNF_bcount += 1\n",
        "        \n",
        "        if \"trump\" in row[\"text\"] or \"Trump\" in row['text'] or \"TRUMP\" in row['text']:\n",
        "            print({row[\"text\"]})\n",
        "            sNF_ttwids.append(row['id'])\n",
        "            sNF_tcount += 1\n",
        "\n",
        "        line_count += 1\n",
        "    print(f'Processed {line_count} lines.')"
      ],
      "execution_count": null,
      "outputs": [
        {
          "output_type": "stream",
          "text": [
            "Column names are coordinates, created_at, hashtags, media, urls, favorite_count, id, in_reply_to_screen_name, in_reply_to_status_id, in_reply_to_user_id, lang, place, possibly_sensitive, retweet_count, retweet_id, retweet_screen_name, source, text, tweet_url, user_created_at, user_screen_name, user_default_profile_image, user_description, user_favourites_count, user_followers_count, user_friends_count, user_listed_count, user_location, user_name, user_statuses_count, user_time_zone, user_urls, user_verified\n",
            "{'\"One physician from Texas says “we have a cure to COVID-19, it’s hydroxychloroquine, azithromycin and zinc.”\\n#trumpwasright'}\n",
            "{'Hydroxychloroquine, Azithromycin, and Zinc is the cure for Covid-19. Any Doctor withholding this treatment will be complicit and wait till the class action law suits happen. I hope losing your license is worth your hatred for Trump.'}\n",
            "Processed 21 lines.\n"
          ],
          "name": "stdout"
        }
      ]
    },
    {
      "cell_type": "code",
      "metadata": {
        "colab": {
          "base_uri": "https://localhost:8080/"
        },
        "id": "DZYEj7-kf-RT",
        "outputId": "c7fe7b8a-46fe-4ce4-f03d-b11e50b9af72"
      },
      "source": [
        "print(sNF_bcount)\n",
        "print(sNF_btwids)\n",
        "\n",
        "print(sNF_tcount)\n",
        "print(sNF_ttwids)"
      ],
      "execution_count": null,
      "outputs": [
        {
          "output_type": "stream",
          "text": [
            "0\n",
            "[]\n",
            "2\n",
            "['1287878555414585345', '1288230513459814406']\n"
          ],
          "name": "stdout"
        }
      ]
    },
    {
      "cell_type": "markdown",
      "metadata": {
        "id": "KLHXvRBVgE6x"
      },
      "source": [
        "SEPTEMBER - NewsFake Replies"
      ]
    },
    {
      "cell_type": "code",
      "metadata": {
        "colab": {
          "base_uri": "https://localhost:8080/"
        },
        "id": "PEFg1METgGxS",
        "outputId": "9c4998cd-0ef5-4b73-ddaa-69d1e3030d3a"
      },
      "source": [
        "with open('/content/drive/MyDrive/UNBDC/CoAID Hydrated Files/09 01 2020/09NewsFake_replies.csv', mode='r') as csv_file:\n",
        "    csv_reader = csv.DictReader(csv_file)\n",
        "    line_count = 0\n",
        "\n",
        "    sNF_brep = 0\n",
        "    sNF_trep = 0\n",
        "\n",
        "    cr_replies = []\n",
        "\n",
        "    for row in csv_reader:\n",
        "        if line_count == 0:\n",
        "            print(f'Column names are {\", \".join(row)}')\n",
        "            line_count += 1\n",
        "\n",
        "        if row['in_reply_to_status_id'] in sNF_btwids:\n",
        "          sNF_brep += 1\n",
        "          print({row['text']})\n",
        "        \n",
        "        if row['in_reply_to_status_id'] in sNF_ttwids:\n",
        "          if row['in_reply_to_status_id'] not in asdf:\n",
        "            asdf.append(row['in_reply_to_status_id'])\n",
        "          sNF_brep += 1\n",
        "          print({row['text']})\n",
        "\n",
        "        line_count += 1\n",
        "    print(f'Processed {line_count} lines.')"
      ],
      "execution_count": null,
      "outputs": [
        {
          "output_type": "stream",
          "text": [
            "Column names are coordinates, created_at, hashtags, media, urls, favorite_count, id, in_reply_to_screen_name, in_reply_to_status_id, in_reply_to_user_id, lang, place, possibly_sensitive, retweet_count, retweet_id, retweet_screen_name, source, text, tweet_url, user_created_at, user_screen_name, user_default_profile_image, user_description, user_favourites_count, user_followers_count, user_friends_count, user_listed_count, user_location, user_name, user_statuses_count, user_time_zone, user_urls, user_verified\n",
            "Processed 14 lines.\n"
          ],
          "name": "stdout"
        }
      ]
    },
    {
      "cell_type": "code",
      "metadata": {
        "colab": {
          "base_uri": "https://localhost:8080/"
        },
        "id": "ne2jd75PgOp4",
        "outputId": "d6db7292-0539-4b76-eaeb-0a5e6b59cf68"
      },
      "source": [
        "print(sNF_brep)\n",
        "print(sNF_trep)"
      ],
      "execution_count": null,
      "outputs": [
        {
          "output_type": "stream",
          "text": [
            "0\n",
            "0\n"
          ],
          "name": "stdout"
        }
      ]
    },
    {
      "cell_type": "markdown",
      "metadata": {
        "id": "3QujIDdjgSFg"
      },
      "source": [
        "SEPTEMBER - NewsReal Tweets"
      ]
    },
    {
      "cell_type": "code",
      "metadata": {
        "colab": {
          "base_uri": "https://localhost:8080/"
        },
        "id": "ZkqK5lQhgUo_",
        "outputId": "71bbb705-bf43-4d1c-95e0-56f1938d9d19"
      },
      "source": [
        "with open('/content/drive/MyDrive/UNBDC/CoAID Hydrated Files/09 01 2020/09NewsReal_tweets.csv', mode='r') as csv_file:\n",
        "    csv_reader = csv.DictReader(csv_file)\n",
        "    line_count = 0\n",
        "    sNR_btwids = []\n",
        "    sNR_ttwids = []\n",
        "    sNR_bcount = 0\n",
        "    sNR_tcount = 0\n",
        "    for row in csv_reader:\n",
        "        if line_count == 0:\n",
        "            print(f'Column names are {\", \".join(row)}')\n",
        "            line_count += 1\n",
        "\n",
        "        if \"biden\" in row[\"text\"] or \"Biden\" in row['text'] or \"BIDEN\" in row['text']:\n",
        "            print({row[\"text\"]})\n",
        "            sNR_btwids.append(row['id'])\n",
        "            sNR_bcount += 1\n",
        "        \n",
        "        if \"trump\" in row[\"text\"] or \"Trump\" in row['text'] or \"TRUMP\" in row['text']:\n",
        "            print({row[\"text\"]})\n",
        "            sNR_ttwids.append(row['id'])\n",
        "            sNR_tcount += 1\n",
        "\n",
        "        line_count += 1\n",
        "    print(f'Processed {line_count} lines.')"
      ],
      "execution_count": null,
      "outputs": [
        {
          "output_type": "stream",
          "text": [
            "Column names are coordinates, created_at, hashtags, media, urls, favorite_count, id, in_reply_to_screen_name, in_reply_to_status_id, in_reply_to_user_id, lang, place, possibly_sensitive, retweet_count, retweet_id, retweet_screen_name, source, text, tweet_url, user_created_at, user_screen_name, user_default_profile_image, user_description, user_favourites_count, user_followers_count, user_friends_count, user_listed_count, user_location, user_name, user_statuses_count, user_time_zone, user_urls, user_verified\n",
            "Processed 100 lines.\n"
          ],
          "name": "stdout"
        }
      ]
    },
    {
      "cell_type": "code",
      "metadata": {
        "colab": {
          "base_uri": "https://localhost:8080/"
        },
        "id": "LXurtwHdgcIm",
        "outputId": "f5951a55-5097-4a54-db5a-c1dcab0b947b"
      },
      "source": [
        "print(sNR_bcount)\n",
        "print(sNR_btwids)\n",
        "\n",
        "print(sNR_tcount)\n",
        "print(sNR_ttwids)"
      ],
      "execution_count": null,
      "outputs": [
        {
          "output_type": "stream",
          "text": [
            "0\n",
            "[]\n",
            "0\n",
            "[]\n"
          ],
          "name": "stdout"
        }
      ]
    },
    {
      "cell_type": "markdown",
      "metadata": {
        "id": "M2_ZSjHvgjnl"
      },
      "source": [
        "SEPTEMBER - NewsReal Replies"
      ]
    },
    {
      "cell_type": "code",
      "metadata": {
        "colab": {
          "base_uri": "https://localhost:8080/"
        },
        "id": "ZUYLJ9lTglTd",
        "outputId": "95b5ae45-c7f7-4654-956e-60c7679ae290"
      },
      "source": [
        "with open('/content/drive/MyDrive/UNBDC/CoAID Hydrated Files/09 01 2020/09NewsReal_replies.csv', mode='r') as csv_file:\n",
        "    csv_reader = csv.DictReader(csv_file)\n",
        "    line_count = 0\n",
        "\n",
        "    sNR_brep = 0\n",
        "    sNR_trep = 0\n",
        "\n",
        "    cr_replies = []\n",
        "\n",
        "    for row in csv_reader:\n",
        "        if line_count == 0:\n",
        "            print(f'Column names are {\", \".join(row)}')\n",
        "            line_count += 1\n",
        "\n",
        "        if row['in_reply_to_status_id'] in sNR_btwids:\n",
        "          sNR_brep += 1\n",
        "          print({row['text']})\n",
        "        \n",
        "        if row['in_reply_to_status_id'] in sNR_ttwids:\n",
        "          if row['in_reply_to_status_id'] not in asdf:\n",
        "            asdf.append(row['in_reply_to_status_id'])\n",
        "          sNR_brep += 1\n",
        "          print({row['text']})\n",
        "\n",
        "        line_count += 1\n",
        "    print(f'Processed {line_count} lines.')"
      ],
      "execution_count": null,
      "outputs": [
        {
          "output_type": "stream",
          "text": [
            "Column names are coordinates, created_at, hashtags, media, urls, favorite_count, id, in_reply_to_screen_name, in_reply_to_status_id, in_reply_to_user_id, lang, place, possibly_sensitive, retweet_count, retweet_id, retweet_screen_name, source, text, tweet_url, user_created_at, user_screen_name, user_default_profile_image, user_description, user_favourites_count, user_followers_count, user_friends_count, user_listed_count, user_location, user_name, user_statuses_count, user_time_zone, user_urls, user_verified\n",
            "Processed 35 lines.\n"
          ],
          "name": "stdout"
        }
      ]
    },
    {
      "cell_type": "code",
      "metadata": {
        "colab": {
          "base_uri": "https://localhost:8080/"
        },
        "id": "RQoIexSXgu-L",
        "outputId": "bcff4fd2-7e82-4262-aef1-22f74676dab7"
      },
      "source": [
        "print(sNR_brep)\n",
        "print(sNR_trep)"
      ],
      "execution_count": null,
      "outputs": [
        {
          "output_type": "stream",
          "text": [
            "0\n",
            "0\n"
          ],
          "name": "stdout"
        }
      ]
    },
    {
      "cell_type": "markdown",
      "metadata": {
        "id": "WiG6NYoOg-41"
      },
      "source": [
        "NOVEMBER - ClaimReal Tweets"
      ]
    },
    {
      "cell_type": "code",
      "metadata": {
        "colab": {
          "base_uri": "https://localhost:8080/"
        },
        "id": "dEG4i5fthAzF",
        "outputId": "1ed36700-663e-4b61-a3c8-697d1d584d23"
      },
      "source": [
        "with open('/content/drive/MyDrive/UNBDC/CoAID Hydrated Files/11 01 2020/11ClaimRealCOVID-19_tweets.csv', mode='r') as csv_file:\n",
        "    csv_reader = csv.DictReader(csv_file)\n",
        "    line_count = 0\n",
        "    nCR_btwids = []\n",
        "    nCR_ttwids = []\n",
        "    nCR_bcount = 0\n",
        "    nCR_tcount = 0\n",
        "    for row in csv_reader:\n",
        "        if line_count == 0:\n",
        "            print(f'Column names are {\", \".join(row)}')\n",
        "            line_count += 1\n",
        "\n",
        "        if \"biden\" in row[\"text\"] or \"Biden\" in row['text'] or \"BIDEN\" in row['text']:\n",
        "            print({row[\"text\"]})\n",
        "            nCR_btwids.append(row['id'])\n",
        "            nCR_bcount += 1\n",
        "        \n",
        "        if \"trump\" in row[\"text\"] or \"Trump\" in row['text'] or \"TRUMP\" in row['text']:\n",
        "            print({row[\"text\"]})\n",
        "            nCR_ttwids.append(row['id'])\n",
        "            nCR_tcount += 1\n",
        "\n",
        "        line_count += 1\n",
        "    print(f'Processed {line_count} lines.')"
      ],
      "execution_count": null,
      "outputs": [
        {
          "output_type": "stream",
          "text": [
            "Column names are coordinates, created_at, hashtags, media, urls, favorite_count, id, in_reply_to_screen_name, in_reply_to_status_id, in_reply_to_user_id, lang, place, possibly_sensitive, retweet_count, retweet_id, retweet_screen_name, source, text, tweet_url, user_created_at, user_screen_name, user_default_profile_image, user_description, user_favourites_count, user_followers_count, user_friends_count, user_listed_count, user_location, user_name, user_statuses_count, user_time_zone, user_urls, user_verified\n",
            "{\"Republicans don't want to get a COvid-19 vaccine because they think the virus is fake, Democrats don't want one because they think Trump is fake. Which wins the stupidity award? Is there a vaccine for that? If only #COVIDー19 #COVID19\"}\n",
            "Processed 10 lines.\n"
          ],
          "name": "stdout"
        }
      ]
    },
    {
      "cell_type": "code",
      "metadata": {
        "colab": {
          "base_uri": "https://localhost:8080/"
        },
        "id": "GqDGDz-BhVz6",
        "outputId": "1722118a-5d2c-4d05-aea4-8758941441a3"
      },
      "source": [
        "print(nCR_bcount)\n",
        "print(nCR_btwids)\n",
        "\n",
        "print(nCR_tcount)\n",
        "print(nCR_ttwids)"
      ],
      "execution_count": null,
      "outputs": [
        {
          "output_type": "stream",
          "text": [
            "0\n",
            "[]\n",
            "1\n",
            "['1306319911019360256']\n"
          ],
          "name": "stdout"
        }
      ]
    },
    {
      "cell_type": "markdown",
      "metadata": {
        "id": "vdR0TFzshcX0"
      },
      "source": [
        "NOVEMBER - ClaimReal Replies"
      ]
    },
    {
      "cell_type": "code",
      "metadata": {
        "colab": {
          "base_uri": "https://localhost:8080/"
        },
        "id": "1pWjsKQyhe8y",
        "outputId": "69536f77-b35e-49c7-a38a-3654cf1541d3"
      },
      "source": [
        "with open('/content/drive/MyDrive/UNBDC/CoAID Hydrated Files/11 01 2020/11ClaimRealCOVID-19_tweets_replies.csv', mode='r') as csv_file:\n",
        "    csv_reader = csv.DictReader(csv_file)\n",
        "    line_count = 0\n",
        "\n",
        "    nCR_brep = 0\n",
        "    nCR_trep = 0\n",
        "\n",
        "    cr_replies = []\n",
        "\n",
        "    for row in csv_reader:\n",
        "        if line_count == 0:\n",
        "            print(f'Column names are {\", \".join(row)}')\n",
        "            line_count += 1\n",
        "\n",
        "        if row['in_reply_to_status_id'] in nCR_btwids:\n",
        "          nCR_brep += 1\n",
        "          print({row['text']})\n",
        "        \n",
        "        if row['in_reply_to_status_id'] in nCR_ttwids:\n",
        "          if row['in_reply_to_status_id'] not in asdf:\n",
        "            asdf.append(row['in_reply_to_status_id'])\n",
        "          nCR_brep += 1\n",
        "          print({row['text']})\n",
        "\n",
        "        line_count += 1\n",
        "    print(f'Processed {line_count} lines.')"
      ],
      "execution_count": null,
      "outputs": [
        {
          "output_type": "stream",
          "text": [
            "Column names are coordinates, created_at, hashtags, media, urls, favorite_count, id, in_reply_to_screen_name, in_reply_to_status_id, in_reply_to_user_id, lang, place, possibly_sensitive, retweet_count, retweet_id, retweet_screen_name, source, text, tweet_url, user_created_at, user_screen_name, user_default_profile_image, user_description, user_favourites_count, user_followers_count, user_friends_count, user_listed_count, user_location, user_name, user_statuses_count, user_time_zone, user_urls, user_verified\n",
            "Processed 175 lines.\n"
          ],
          "name": "stdout"
        }
      ]
    },
    {
      "cell_type": "code",
      "metadata": {
        "colab": {
          "base_uri": "https://localhost:8080/"
        },
        "id": "F8k7iUNOhs0C",
        "outputId": "7d3ae5f2-c1d9-491e-bfc4-c1386b218fa4"
      },
      "source": [
        "print(nCR_brep)\n",
        "print(nCR_trep)"
      ],
      "execution_count": null,
      "outputs": [
        {
          "output_type": "stream",
          "text": [
            "0\n",
            "0\n"
          ],
          "name": "stdout"
        }
      ]
    },
    {
      "cell_type": "markdown",
      "metadata": {
        "id": "0TpoIdxBhwcV"
      },
      "source": [
        "NOVEMBER - NewsFake Tweets"
      ]
    },
    {
      "cell_type": "code",
      "metadata": {
        "colab": {
          "base_uri": "https://localhost:8080/"
        },
        "id": "Oqj0oTwahyWi",
        "outputId": "3eb84fc4-875a-4f90-d2eb-be15586cdd06"
      },
      "source": [
        "with open('/content/drive/MyDrive/UNBDC/CoAID Hydrated Files/11 01 2020/11NewsFakeCOVID-19_tweets.csv', mode='r') as csv_file:\n",
        "    csv_reader = csv.DictReader(csv_file)\n",
        "    line_count = 0\n",
        "    nNF_btwids = []\n",
        "    nNF_ttwids = []\n",
        "    nNF_bcount = 0\n",
        "    nNF_tcount = 0\n",
        "    for row in csv_reader:\n",
        "        if line_count == 0:\n",
        "            print(f'Column names are {\", \".join(row)}')\n",
        "            line_count += 1\n",
        "\n",
        "        if \"biden\" in row[\"text\"] or \"Biden\" in row['text'] or \"BIDEN\" in row['text']:\n",
        "            print({row[\"text\"]})\n",
        "            nNF_btwids.append(row['id'])\n",
        "            nNF_bcount += 1\n",
        "        \n",
        "        if \"trump\" in row[\"text\"] or \"Trump\" in row['text'] or \"TRUMP\" in row['text']:\n",
        "            print({row[\"text\"]})\n",
        "            nNF_ttwids.append(row['id'])\n",
        "            nNF_tcount += 1\n",
        "\n",
        "        line_count += 1\n",
        "    print(f'Processed {line_count} lines.')"
      ],
      "execution_count": null,
      "outputs": [
        {
          "output_type": "stream",
          "text": [
            "Column names are coordinates, created_at, hashtags, media, urls, favorite_count, id, in_reply_to_screen_name, in_reply_to_status_id, in_reply_to_user_id, lang, place, possibly_sensitive, retweet_count, retweet_id, retweet_screen_name, source, text, tweet_url, user_created_at, user_screen_name, user_default_profile_image, user_description, user_favourites_count, user_followers_count, user_friends_count, user_listed_count, user_location, user_name, user_statuses_count, user_time_zone, user_urls, user_verified\n",
            "Processed 3 lines.\n"
          ],
          "name": "stdout"
        }
      ]
    },
    {
      "cell_type": "code",
      "metadata": {
        "colab": {
          "base_uri": "https://localhost:8080/"
        },
        "id": "7FIqSWFkh6p0",
        "outputId": "1c5ad0cb-812a-4eb0-b6d7-fdac6ef9d2a8"
      },
      "source": [
        "print(nNF_bcount)\n",
        "print(nNF_btwids)\n",
        "\n",
        "print(nNF_tcount)\n",
        "print(nNF_ttwids)"
      ],
      "execution_count": null,
      "outputs": [
        {
          "output_type": "stream",
          "text": [
            "0\n",
            "[]\n",
            "0\n",
            "[]\n"
          ],
          "name": "stdout"
        }
      ]
    },
    {
      "cell_type": "markdown",
      "metadata": {
        "id": "oZVDKKJuiB21"
      },
      "source": [
        "NOVEMBER - NewsFake Replies"
      ]
    },
    {
      "cell_type": "code",
      "metadata": {
        "colab": {
          "base_uri": "https://localhost:8080/"
        },
        "id": "h_TJuLWsiD_s",
        "outputId": "ceeff147-775b-4d15-a9bd-c1e0b11f9264"
      },
      "source": [
        "with open('/content/drive/MyDrive/UNBDC/CoAID Hydrated Files/11 01 2020/11NewsFakeCOVID-19_tweets_replies.csv', mode='r') as csv_file:\n",
        "    csv_reader = csv.DictReader(csv_file)\n",
        "    line_count = 0\n",
        "\n",
        "    nNF_brep = 0\n",
        "    nNF_trep = 0\n",
        "\n",
        "    cr_replies = []\n",
        "\n",
        "    for row in csv_reader:\n",
        "        if line_count == 0:\n",
        "            print(f'Column names are {\", \".join(row)}')\n",
        "            line_count += 1\n",
        "\n",
        "        if row['in_reply_to_status_id'] in nNF_btwids:\n",
        "          nNF_brep += 1\n",
        "          print({row['text']})\n",
        "        \n",
        "        if row['in_reply_to_status_id'] in nNF_ttwids:\n",
        "          if row['in_reply_to_status_id'] not in asdf:\n",
        "            asdf.append(row['in_reply_to_status_id'])\n",
        "          nNF_brep += 1\n",
        "          print({row['text']})\n",
        "\n",
        "        line_count += 1\n",
        "    print(f'Processed {line_count} lines.')"
      ],
      "execution_count": null,
      "outputs": [
        {
          "output_type": "stream",
          "text": [
            "Column names are coordinates, created_at, hashtags, media, urls, favorite_count, id, in_reply_to_screen_name, in_reply_to_status_id, in_reply_to_user_id, lang, place, possibly_sensitive, retweet_count, retweet_id, retweet_screen_name, source, text, tweet_url, user_created_at, user_screen_name, user_default_profile_image, user_description, user_favourites_count, user_followers_count, user_friends_count, user_listed_count, user_location, user_name, user_statuses_count, user_time_zone, user_urls, user_verified\n",
            "Processed 34 lines.\n"
          ],
          "name": "stdout"
        }
      ]
    },
    {
      "cell_type": "code",
      "metadata": {
        "colab": {
          "base_uri": "https://localhost:8080/"
        },
        "id": "1NBZc59IiZUe",
        "outputId": "50cbbe4b-7e99-49ab-e740-5aee02ceccf3"
      },
      "source": [
        "print(nNF_brep)\n",
        "print(nNF_trep)"
      ],
      "execution_count": null,
      "outputs": [
        {
          "output_type": "stream",
          "text": [
            "0\n",
            "0\n"
          ],
          "name": "stdout"
        }
      ]
    },
    {
      "cell_type": "markdown",
      "metadata": {
        "id": "T_u4Vfn1ig1u"
      },
      "source": [
        "NOVEMBER - NewsReal Tweets"
      ]
    },
    {
      "cell_type": "code",
      "metadata": {
        "id": "xuYN2hc1iisk"
      },
      "source": [
        "with open('/content/drive/MyDrive/UNBDC/CoAID Hydrated Files/11 01 2020/11NewsRealCOVID-19_tweets.csv', mode='r') as csv_file:\n",
        "    csv_reader = csv.DictReader(csv_file)\n",
        "    line_count = 0\n",
        "    nNR_btwids = []\n",
        "    nNR_ttwids = []\n",
        "    nNR_bcount = 0\n",
        "    nNR_tcount = 0\n",
        "    for row in csv_reader:\n",
        "        if line_count == 0:\n",
        "            print(f'Column names are {\", \".join(row)}')\n",
        "            line_count += 1\n",
        "\n",
        "        if \"biden\" in row[\"text\"] or \"Biden\" in row['text'] or \"BIDEN\" in row['text']:\n",
        "            print({row[\"text\"]})\n",
        "            nNR_btwids.append(row['id'])\n",
        "            nNR_bcount += 1\n",
        "        \n",
        "        if \"trump\" in row[\"text\"] or \"Trump\" in row['text'] or \"TRUMP\" in row['text']:\n",
        "            print({row[\"text\"]})\n",
        "            nNR_ttwids.append(row['id'])\n",
        "            nNR_tcount += 1\n",
        "\n",
        "        line_count += 1\n",
        "    print(f'Processed {line_count} lines.')"
      ],
      "execution_count": null,
      "outputs": []
    },
    {
      "cell_type": "code",
      "metadata": {
        "colab": {
          "base_uri": "https://localhost:8080/"
        },
        "id": "6TbRWjwyisit",
        "outputId": "f0f0738f-f126-4ad7-b10f-c56d48b57d36"
      },
      "source": [
        "print(nNR_bcount)\n",
        "print(nNR_btwids)\n",
        "\n",
        "print(nNR_tcount)\n",
        "print(nNR_ttwids)"
      ],
      "execution_count": null,
      "outputs": [
        {
          "output_type": "stream",
          "text": [
            "3\n",
            "['1319103001102090246', '1318208980674596873', '1320393541080784900']\n",
            "65\n",
            "['1315510726316843014', '1315639596106092544', '1315612745740570624', '1315599519648751616', '1315784691191087104', '1318092868708433921', '1318214179468251136', '1318208980674596873', '1317994904379863047', '1318271888599121920', '1318336619099860998', '1315476071647596545', '1315877136750841856', '1315770168136609792', '1315970373574328320', '1315911138597634048', '1318097719152529408', '1318216011540320256', '1318268355019681792', '1315471473461600258', '1318150646948921344', '1315733490701393921', '1313909130013347847', '1315507933610872832', '1318134753338355713', '1318018220268212229', '1315542040101318656', '1315494193066913792', '1315494324763754496', '1315771902128984065', '1315357245270523911', '1315430622685540353', '1315368148481314821', '1315394378601439234', '1315431787032608770', '1315372904171921408', '1315399872644870146', '1315402001568747521', '1315391463937712129', '1315379091802030086', '1315391940238741504', '1315396758512435200', '1315381644057022465', '1315442959366729728', '1315434033438810112', '1315372872190263298', '1315373854181777408', '1315376590096719877', '1315378877712261125', '1315363121708642305', '1315396461711024128', '1315429819371393026', '1315417401081634818', '1315397450987905027', '1315460409198088192', '1303946974693978114', '1315446025352441856', '1315419859346432000', '1315364111144943616', '1315361974876856322', '1315371683419746304', '1315410023577772032', '1315375249681248256', '1315407270767857664', '1315391563795660801']\n"
          ],
          "name": "stdout"
        }
      ]
    },
    {
      "cell_type": "markdown",
      "metadata": {
        "id": "QvqbY9eciyuB"
      },
      "source": [
        "NOVEMBER - NewsReal Replies"
      ]
    },
    {
      "cell_type": "code",
      "metadata": {
        "colab": {
          "base_uri": "https://localhost:8080/"
        },
        "id": "tFgDl4hxi0ct",
        "outputId": "e2280de9-fa58-4af8-d20a-b2c9f254a77b"
      },
      "source": [
        "with open('/content/drive/MyDrive/UNBDC/CoAID Hydrated Files/11 01 2020/11NewsRealCOVID-19_tweets_replies.csv', mode='r') as csv_file:\n",
        "    csv_reader = csv.DictReader(csv_file)\n",
        "    line_count = 0\n",
        "\n",
        "    nNR_brep = 0\n",
        "    nNR_trep = 0\n",
        "\n",
        "    cr_replies = []\n",
        "\n",
        "    for row in csv_reader:\n",
        "        if line_count == 0:\n",
        "            print(f'Column names are {\", \".join(row)}')\n",
        "            line_count += 1\n",
        "\n",
        "        if row['in_reply_to_status_id'] in nNR_btwids:\n",
        "          nNR_brep += 1\n",
        "          print({row['text']})\n",
        "        \n",
        "        if row['in_reply_to_status_id'] in nNR_ttwids:\n",
        "          if row['in_reply_to_status_id'] not in asdf:\n",
        "            asdf.append(row['in_reply_to_status_id'])\n",
        "          nNR_brep += 1\n",
        "          print({row['text']})\n",
        "\n",
        "        line_count += 1\n",
        "    print(f'Processed {line_count} lines.')"
      ],
      "execution_count": null,
      "outputs": [
        {
          "output_type": "stream",
          "text": [
            "Column names are coordinates, created_at, hashtags, media, urls, favorite_count, id, in_reply_to_screen_name, in_reply_to_status_id, in_reply_to_user_id, lang, place, possibly_sensitive, retweet_count, retweet_id, retweet_screen_name, source, text, tweet_url, user_created_at, user_screen_name, user_default_profile_image, user_description, user_favourites_count, user_followers_count, user_friends_count, user_listed_count, user_location, user_name, user_statuses_count, user_time_zone, user_urls, user_verified\n",
            "Processed 275 lines.\n"
          ],
          "name": "stdout"
        }
      ]
    },
    {
      "cell_type": "code",
      "metadata": {
        "colab": {
          "base_uri": "https://localhost:8080/"
        },
        "id": "zLf_KfCEi-RD",
        "outputId": "e57037e6-ac4a-486f-9358-946f4df83a47"
      },
      "source": [
        "print(nNR_brep)\n",
        "print(nNR_trep)"
      ],
      "execution_count": null,
      "outputs": [
        {
          "output_type": "stream",
          "text": [
            "0\n",
            "0\n"
          ],
          "name": "stdout"
        }
      ]
    },
    {
      "cell_type": "markdown",
      "metadata": {
        "id": "jo-CGPvh1Bxh"
      },
      "source": [
        "Biden - Fake Tweets"
      ]
    },
    {
      "cell_type": "code",
      "metadata": {
        "id": "VPg9nn57zZ26"
      },
      "source": [
        "fake_biden = []\n",
        "fake_biden += mClaimFake_btwids\n",
        "fake_biden += mNF_btwids\n",
        "fake_biden += jClaimFake_btwids\n",
        "fake_biden += jNewsFake_btwids\n",
        "fake_biden += sNF_btwids\n",
        "fake_biden += nNF_btwids\n",
        "\n",
        "for id in fake_biden:\n",
        "  print(int(id))"
      ],
      "execution_count": null,
      "outputs": []
    },
    {
      "cell_type": "markdown",
      "metadata": {
        "id": "yf_3MnjM1W7K"
      },
      "source": [
        "Biden - Real Tweets"
      ]
    },
    {
      "cell_type": "code",
      "metadata": {
        "id": "r1aAiJLy1YpU"
      },
      "source": [
        "real_biden = []\n",
        "real_biden += mCR_btwids\n",
        "real_biden += mNR_btwids\n",
        "real_biden += jClaimReal_btwids\n",
        "real_biden += jNewsReal_btwids\n",
        "real_biden += sCR_btwids\n",
        "real_biden += sNR_btwids\n",
        "real_biden += nCR_btwids\n",
        "real_biden += nNR_btwids\n",
        "\n",
        "for id in real_biden:\n",
        "  print(int(id))"
      ],
      "execution_count": null,
      "outputs": []
    },
    {
      "cell_type": "markdown",
      "metadata": {
        "id": "72ZB_Ctz2Jb4"
      },
      "source": [
        "Trump - Fake Tweets"
      ]
    },
    {
      "cell_type": "code",
      "metadata": {
        "id": "hJgjFX9Y2LKB"
      },
      "source": [
        "fake_trump = []\n",
        "fake_trump += mClaimFake_ttwids\n",
        "fake_trump += mNF_ttwids\n",
        "fake_trump += jClaimFake_ttwids\n",
        "fake_trump += jNewsFake_ttwids\n",
        "fake_trump += sNF_ttwids\n",
        "fake_trump += nNF_ttwids\n",
        "\n",
        "for id in fake_trump:\n",
        "  print(int(id))"
      ],
      "execution_count": null,
      "outputs": []
    },
    {
      "cell_type": "markdown",
      "metadata": {
        "id": "rMguE6BP2hu0"
      },
      "source": [
        "Trump - Real Tweets"
      ]
    },
    {
      "cell_type": "code",
      "metadata": {
        "id": "RXIyYsbH2kO9"
      },
      "source": [
        "real_trump = []\n",
        "real_trump += mCR_ttwids\n",
        "real_trump += mNR_ttwids\n",
        "real_trump += jClaimReal_ttwids\n",
        "real_trump += jNewsReal_ttwids\n",
        "real_trump += sCR_ttwids\n",
        "real_trump += sNR_ttwids\n",
        "real_trump += nCR_ttwids\n",
        "real_trump += nNR_ttwids\n",
        "\n",
        "for id in real_trump:\n",
        "  print(int(id))"
      ],
      "execution_count": null,
      "outputs": []
    },
    {
      "cell_type": "markdown",
      "metadata": {
        "id": "D2DO5w9D4E9a"
      },
      "source": [
        "Fake Biden Analysis"
      ]
    },
    {
      "cell_type": "code",
      "metadata": {
        "colab": {
          "base_uri": "https://localhost:8080/",
          "height": 317
        },
        "id": "KTUXe6sOly_P",
        "outputId": "c134c744-0de8-42a4-bdfb-1e0e86c7ab04"
      },
      "source": [
        "path = \"/content/drive/MyDrive/UNBDC\"\n",
        "fb = pd.read_csv(path + \"/fake_biden.csv\")\n",
        "\n",
        "fb.describe()"
      ],
      "execution_count": null,
      "outputs": [
        {
          "output_type": "execute_result",
          "data": {
            "text/html": [
              "<div>\n",
              "<style scoped>\n",
              "    .dataframe tbody tr th:only-of-type {\n",
              "        vertical-align: middle;\n",
              "    }\n",
              "\n",
              "    .dataframe tbody tr th {\n",
              "        vertical-align: top;\n",
              "    }\n",
              "\n",
              "    .dataframe thead th {\n",
              "        text-align: right;\n",
              "    }\n",
              "</style>\n",
              "<table border=\"1\" class=\"dataframe\">\n",
              "  <thead>\n",
              "    <tr style=\"text-align: right;\">\n",
              "      <th></th>\n",
              "      <th>coordinates</th>\n",
              "      <th>favorite_count</th>\n",
              "      <th>id</th>\n",
              "      <th>in_reply_to_status_id</th>\n",
              "      <th>in_reply_to_user_id</th>\n",
              "      <th>place</th>\n",
              "      <th>retweet_count</th>\n",
              "      <th>retweet_id</th>\n",
              "      <th>retweet_screen_name</th>\n",
              "      <th>user_favourites_count</th>\n",
              "      <th>user_followers_count</th>\n",
              "      <th>user_friends_count</th>\n",
              "      <th>user_listed_count</th>\n",
              "      <th>user_statuses_count</th>\n",
              "      <th>user_time_zone</th>\n",
              "    </tr>\n",
              "  </thead>\n",
              "  <tbody>\n",
              "    <tr>\n",
              "      <th>count</th>\n",
              "      <td>0.0</td>\n",
              "      <td>53.000000</td>\n",
              "      <td>5.300000e+01</td>\n",
              "      <td>1.900000e+01</td>\n",
              "      <td>2.200000e+01</td>\n",
              "      <td>0.0</td>\n",
              "      <td>53.000000</td>\n",
              "      <td>0.0</td>\n",
              "      <td>0.0</td>\n",
              "      <td>53.000000</td>\n",
              "      <td>53.000000</td>\n",
              "      <td>53.000000</td>\n",
              "      <td>53.000000</td>\n",
              "      <td>53.000000</td>\n",
              "      <td>0.0</td>\n",
              "    </tr>\n",
              "    <tr>\n",
              "      <th>mean</th>\n",
              "      <td>NaN</td>\n",
              "      <td>67.433962</td>\n",
              "      <td>1.266626e+18</td>\n",
              "      <td>1.265262e+18</td>\n",
              "      <td>3.911792e+17</td>\n",
              "      <td>NaN</td>\n",
              "      <td>21.830189</td>\n",
              "      <td>NaN</td>\n",
              "      <td>NaN</td>\n",
              "      <td>58266.735849</td>\n",
              "      <td>22206.037736</td>\n",
              "      <td>3901.584906</td>\n",
              "      <td>201.867925</td>\n",
              "      <td>57544.773585</td>\n",
              "      <td>NaN</td>\n",
              "    </tr>\n",
              "    <tr>\n",
              "      <th>std</th>\n",
              "      <td>NaN</td>\n",
              "      <td>294.715346</td>\n",
              "      <td>9.871998e+15</td>\n",
              "      <td>9.005955e+15</td>\n",
              "      <td>5.403935e+17</td>\n",
              "      <td>NaN</td>\n",
              "      <td>96.831085</td>\n",
              "      <td>NaN</td>\n",
              "      <td>NaN</td>\n",
              "      <td>86602.175171</td>\n",
              "      <td>65620.087251</td>\n",
              "      <td>6676.624189</td>\n",
              "      <td>780.732399</td>\n",
              "      <td>75028.835117</td>\n",
              "      <td>NaN</td>\n",
              "    </tr>\n",
              "    <tr>\n",
              "      <th>min</th>\n",
              "      <td>NaN</td>\n",
              "      <td>0.000000</td>\n",
              "      <td>1.245646e+18</td>\n",
              "      <td>1.251960e+18</td>\n",
              "      <td>9.390910e+05</td>\n",
              "      <td>NaN</td>\n",
              "      <td>0.000000</td>\n",
              "      <td>NaN</td>\n",
              "      <td>NaN</td>\n",
              "      <td>35.000000</td>\n",
              "      <td>9.000000</td>\n",
              "      <td>16.000000</td>\n",
              "      <td>0.000000</td>\n",
              "      <td>315.000000</td>\n",
              "      <td>NaN</td>\n",
              "    </tr>\n",
              "    <tr>\n",
              "      <th>25%</th>\n",
              "      <td>NaN</td>\n",
              "      <td>0.000000</td>\n",
              "      <td>1.258784e+18</td>\n",
              "      <td>1.259675e+18</td>\n",
              "      <td>2.507388e+07</td>\n",
              "      <td>NaN</td>\n",
              "      <td>0.000000</td>\n",
              "      <td>NaN</td>\n",
              "      <td>NaN</td>\n",
              "      <td>4048.000000</td>\n",
              "      <td>369.000000</td>\n",
              "      <td>365.000000</td>\n",
              "      <td>2.000000</td>\n",
              "      <td>9672.000000</td>\n",
              "      <td>NaN</td>\n",
              "    </tr>\n",
              "    <tr>\n",
              "      <th>50%</th>\n",
              "      <td>NaN</td>\n",
              "      <td>0.000000</td>\n",
              "      <td>1.272920e+18</td>\n",
              "      <td>1.265880e+18</td>\n",
              "      <td>1.565106e+09</td>\n",
              "      <td>NaN</td>\n",
              "      <td>0.000000</td>\n",
              "      <td>NaN</td>\n",
              "      <td>NaN</td>\n",
              "      <td>27770.000000</td>\n",
              "      <td>1740.000000</td>\n",
              "      <td>1510.000000</td>\n",
              "      <td>9.000000</td>\n",
              "      <td>22966.000000</td>\n",
              "      <td>NaN</td>\n",
              "    </tr>\n",
              "    <tr>\n",
              "      <th>75%</th>\n",
              "      <td>NaN</td>\n",
              "      <td>3.000000</td>\n",
              "      <td>1.274514e+18</td>\n",
              "      <td>1.273708e+18</td>\n",
              "      <td>9.589921e+17</td>\n",
              "      <td>NaN</td>\n",
              "      <td>1.000000</td>\n",
              "      <td>NaN</td>\n",
              "      <td>NaN</td>\n",
              "      <td>85909.000000</td>\n",
              "      <td>9078.000000</td>\n",
              "      <td>4314.000000</td>\n",
              "      <td>88.000000</td>\n",
              "      <td>73132.000000</td>\n",
              "      <td>NaN</td>\n",
              "    </tr>\n",
              "    <tr>\n",
              "      <th>max</th>\n",
              "      <td>NaN</td>\n",
              "      <td>1679.000000</td>\n",
              "      <td>1.278234e+18</td>\n",
              "      <td>1.277970e+18</td>\n",
              "      <td>1.274049e+18</td>\n",
              "      <td>NaN</td>\n",
              "      <td>529.000000</td>\n",
              "      <td>NaN</td>\n",
              "      <td>NaN</td>\n",
              "      <td>456058.000000</td>\n",
              "      <td>324664.000000</td>\n",
              "      <td>37849.000000</td>\n",
              "      <td>5313.000000</td>\n",
              "      <td>385856.000000</td>\n",
              "      <td>NaN</td>\n",
              "    </tr>\n",
              "  </tbody>\n",
              "</table>\n",
              "</div>"
            ],
            "text/plain": [
              "       coordinates  favorite_count  ...  user_statuses_count  user_time_zone\n",
              "count          0.0       53.000000  ...            53.000000             0.0\n",
              "mean           NaN       67.433962  ...         57544.773585             NaN\n",
              "std            NaN      294.715346  ...         75028.835117             NaN\n",
              "min            NaN        0.000000  ...           315.000000             NaN\n",
              "25%            NaN        0.000000  ...          9672.000000             NaN\n",
              "50%            NaN        0.000000  ...         22966.000000             NaN\n",
              "75%            NaN        3.000000  ...         73132.000000             NaN\n",
              "max            NaN     1679.000000  ...        385856.000000             NaN\n",
              "\n",
              "[8 rows x 15 columns]"
            ]
          },
          "metadata": {
            "tags": []
          },
          "execution_count": 95
        }
      ]
    },
    {
      "cell_type": "code",
      "metadata": {
        "colab": {
          "base_uri": "https://localhost:8080/"
        },
        "id": "e2ERuMZLBVT2",
        "outputId": "5ac3ed78-5e2e-403f-d76a-b010acb12ae2"
      },
      "source": [
        "#Fake Biden Write to File\n",
        "import os\n",
        "import sys\n",
        "\n",
        "path = '/content/drive/MyDrive/UNBDC/Fake_biden/'\n",
        "\n",
        "with open('/content/drive/MyDrive/UNBDC/Fake_biden/fake_biden.csv', mode='r') as csv_file:\n",
        "  csv_reader = csv.DictReader(csv_file)\n",
        "  line_count = 0\n",
        "\n",
        "  for row in csv_reader:\n",
        "      if line_count == 0:\n",
        "          print(f'Column names are {\", \".join(row)}')\n",
        "          line_count += 1\n",
        "      \n",
        "      else:\n",
        "        id = row['id'] + '.txt'\n",
        "\n",
        "        name = os.path.join(path, id)\n",
        "\n",
        "        text = row['text']\n",
        "\n",
        "        #print(id, text)\n",
        "          \n",
        "        f = open(name, 'w+')\n",
        "        f.write(text)\n",
        "\n",
        "      line_count += 1\n",
        "  print(f'Processed {line_count} lines.')\n"
      ],
      "execution_count": null,
      "outputs": [
        {
          "output_type": "stream",
          "text": [
            "Column names are coordinates, created_at, hashtags, media, urls, favorite_count, id, in_reply_to_screen_name, in_reply_to_status_id, in_reply_to_user_id, lang, place, possibly_sensitive, retweet_count, retweet_id, retweet_screen_name, source, text, tweet_url, user_created_at, user_screen_name, user_default_profile_image, user_description, user_favourites_count, user_followers_count, user_friends_count, user_listed_count, user_location, user_name, user_statuses_count, user_time_zone, user_urls, user_verified\n",
            "Processed 54 lines.\n"
          ],
          "name": "stdout"
        }
      ]
    },
    {
      "cell_type": "markdown",
      "metadata": {
        "id": "DZ9rhEwO4HtG"
      },
      "source": [
        "Real Biden Analysis"
      ]
    },
    {
      "cell_type": "code",
      "metadata": {
        "colab": {
          "base_uri": "https://localhost:8080/",
          "height": 317
        },
        "id": "AkmE0ump4LVe",
        "outputId": "7c2ea42f-0f1e-49a8-b959-a04a2eb4b237"
      },
      "source": [
        "rb = pd.read_csv(path + \"/real_biden.csv\")\n",
        "rb.describe()"
      ],
      "execution_count": null,
      "outputs": [
        {
          "output_type": "execute_result",
          "data": {
            "text/html": [
              "<div>\n",
              "<style scoped>\n",
              "    .dataframe tbody tr th:only-of-type {\n",
              "        vertical-align: middle;\n",
              "    }\n",
              "\n",
              "    .dataframe tbody tr th {\n",
              "        vertical-align: top;\n",
              "    }\n",
              "\n",
              "    .dataframe thead th {\n",
              "        text-align: right;\n",
              "    }\n",
              "</style>\n",
              "<table border=\"1\" class=\"dataframe\">\n",
              "  <thead>\n",
              "    <tr style=\"text-align: right;\">\n",
              "      <th></th>\n",
              "      <th>coordinates</th>\n",
              "      <th>favorite_count</th>\n",
              "      <th>id</th>\n",
              "      <th>in_reply_to_status_id</th>\n",
              "      <th>in_reply_to_user_id</th>\n",
              "      <th>retweet_count</th>\n",
              "      <th>retweet_id</th>\n",
              "      <th>retweet_screen_name</th>\n",
              "      <th>user_favourites_count</th>\n",
              "      <th>user_followers_count</th>\n",
              "      <th>user_friends_count</th>\n",
              "      <th>user_listed_count</th>\n",
              "      <th>user_statuses_count</th>\n",
              "      <th>user_time_zone</th>\n",
              "    </tr>\n",
              "  </thead>\n",
              "  <tbody>\n",
              "    <tr>\n",
              "      <th>count</th>\n",
              "      <td>0.0</td>\n",
              "      <td>241.000000</td>\n",
              "      <td>2.410000e+02</td>\n",
              "      <td>1.320000e+02</td>\n",
              "      <td>1.420000e+02</td>\n",
              "      <td>241.000000</td>\n",
              "      <td>0.0</td>\n",
              "      <td>0.0</td>\n",
              "      <td>241.000000</td>\n",
              "      <td>241.000000</td>\n",
              "      <td>241.000000</td>\n",
              "      <td>241.000000</td>\n",
              "      <td>241.000000</td>\n",
              "      <td>0.0</td>\n",
              "    </tr>\n",
              "    <tr>\n",
              "      <th>mean</th>\n",
              "      <td>NaN</td>\n",
              "      <td>6.190871</td>\n",
              "      <td>1.266029e+18</td>\n",
              "      <td>1.264347e+18</td>\n",
              "      <td>2.875458e+17</td>\n",
              "      <td>2.228216</td>\n",
              "      <td>NaN</td>\n",
              "      <td>NaN</td>\n",
              "      <td>32210.854772</td>\n",
              "      <td>21541.659751</td>\n",
              "      <td>2640.360996</td>\n",
              "      <td>195.385892</td>\n",
              "      <td>37693.468880</td>\n",
              "      <td>NaN</td>\n",
              "    </tr>\n",
              "    <tr>\n",
              "      <th>std</th>\n",
              "      <td>NaN</td>\n",
              "      <td>23.955099</td>\n",
              "      <td>1.436311e+16</td>\n",
              "      <td>1.317338e+16</td>\n",
              "      <td>4.693203e+17</td>\n",
              "      <td>9.977986</td>\n",
              "      <td>NaN</td>\n",
              "      <td>NaN</td>\n",
              "      <td>52390.407054</td>\n",
              "      <td>115016.393007</td>\n",
              "      <td>6368.962898</td>\n",
              "      <td>1078.477374</td>\n",
              "      <td>66479.094815</td>\n",
              "      <td>NaN</td>\n",
              "    </tr>\n",
              "    <tr>\n",
              "      <th>min</th>\n",
              "      <td>NaN</td>\n",
              "      <td>0.000000</td>\n",
              "      <td>1.237207e+18</td>\n",
              "      <td>1.237190e+18</td>\n",
              "      <td>7.551130e+05</td>\n",
              "      <td>0.000000</td>\n",
              "      <td>NaN</td>\n",
              "      <td>NaN</td>\n",
              "      <td>0.000000</td>\n",
              "      <td>0.000000</td>\n",
              "      <td>0.000000</td>\n",
              "      <td>0.000000</td>\n",
              "      <td>1.000000</td>\n",
              "      <td>NaN</td>\n",
              "    </tr>\n",
              "    <tr>\n",
              "      <th>25%</th>\n",
              "      <td>NaN</td>\n",
              "      <td>0.000000</td>\n",
              "      <td>1.256216e+18</td>\n",
              "      <td>1.256010e+18</td>\n",
              "      <td>1.074499e+07</td>\n",
              "      <td>0.000000</td>\n",
              "      <td>NaN</td>\n",
              "      <td>NaN</td>\n",
              "      <td>2184.000000</td>\n",
              "      <td>52.000000</td>\n",
              "      <td>151.000000</td>\n",
              "      <td>0.000000</td>\n",
              "      <td>5058.000000</td>\n",
              "      <td>NaN</td>\n",
              "    </tr>\n",
              "    <tr>\n",
              "      <th>50%</th>\n",
              "      <td>NaN</td>\n",
              "      <td>0.000000</td>\n",
              "      <td>1.270721e+18</td>\n",
              "      <td>1.260818e+18</td>\n",
              "      <td>2.413632e+08</td>\n",
              "      <td>0.000000</td>\n",
              "      <td>NaN</td>\n",
              "      <td>NaN</td>\n",
              "      <td>12564.000000</td>\n",
              "      <td>386.000000</td>\n",
              "      <td>773.000000</td>\n",
              "      <td>2.000000</td>\n",
              "      <td>14113.000000</td>\n",
              "      <td>NaN</td>\n",
              "    </tr>\n",
              "    <tr>\n",
              "      <th>75%</th>\n",
              "      <td>NaN</td>\n",
              "      <td>1.000000</td>\n",
              "      <td>1.278118e+18</td>\n",
              "      <td>1.278067e+18</td>\n",
              "      <td>7.887563e+17</td>\n",
              "      <td>0.000000</td>\n",
              "      <td>NaN</td>\n",
              "      <td>NaN</td>\n",
              "      <td>41214.000000</td>\n",
              "      <td>1892.000000</td>\n",
              "      <td>2384.000000</td>\n",
              "      <td>10.000000</td>\n",
              "      <td>36784.000000</td>\n",
              "      <td>NaN</td>\n",
              "    </tr>\n",
              "    <tr>\n",
              "      <th>max</th>\n",
              "      <td>NaN</td>\n",
              "      <td>178.000000</td>\n",
              "      <td>1.320394e+18</td>\n",
              "      <td>1.278470e+18</td>\n",
              "      <td>1.262452e+18</td>\n",
              "      <td>73.000000</td>\n",
              "      <td>NaN</td>\n",
              "      <td>NaN</td>\n",
              "      <td>449959.000000</td>\n",
              "      <td>803644.000000</td>\n",
              "      <td>53830.000000</td>\n",
              "      <td>8113.000000</td>\n",
              "      <td>471549.000000</td>\n",
              "      <td>NaN</td>\n",
              "    </tr>\n",
              "  </tbody>\n",
              "</table>\n",
              "</div>"
            ],
            "text/plain": [
              "       coordinates  favorite_count  ...  user_statuses_count  user_time_zone\n",
              "count          0.0      241.000000  ...           241.000000             0.0\n",
              "mean           NaN        6.190871  ...         37693.468880             NaN\n",
              "std            NaN       23.955099  ...         66479.094815             NaN\n",
              "min            NaN        0.000000  ...             1.000000             NaN\n",
              "25%            NaN        0.000000  ...          5058.000000             NaN\n",
              "50%            NaN        0.000000  ...         14113.000000             NaN\n",
              "75%            NaN        1.000000  ...         36784.000000             NaN\n",
              "max            NaN      178.000000  ...        471549.000000             NaN\n",
              "\n",
              "[8 rows x 14 columns]"
            ]
          },
          "metadata": {
            "tags": []
          },
          "execution_count": 96
        }
      ]
    },
    {
      "cell_type": "code",
      "metadata": {
        "colab": {
          "base_uri": "https://localhost:8080/"
        },
        "id": "MpwnYwqwEOYU",
        "outputId": "7b82f9f0-748a-4d23-9c21-098be3cc2dbb"
      },
      "source": [
        "#Real Biden Write to File\n",
        "\n",
        "path = '/content/drive/MyDrive/UNBDC/Real_biden/'\n",
        "\n",
        "with open('/content/drive/MyDrive/UNBDC/real_biden.csv', mode='r') as csv_file:\n",
        "  csv_reader = csv.DictReader(csv_file)\n",
        "  line_count = 0\n",
        "\n",
        "  for row in csv_reader:\n",
        "      if line_count == 0:\n",
        "          print(f'Column names are {\", \".join(row)}')\n",
        "          line_count += 1\n",
        "      \n",
        "      else:\n",
        "        id = row['id'] + '.txt'\n",
        "\n",
        "        name = os.path.join(path, id)\n",
        "\n",
        "        text = row['text']\n",
        "\n",
        "        #print(id, text)\n",
        "          \n",
        "        f = open(name, 'w+')\n",
        "        f.write(text)\n",
        "\n",
        "      line_count += 1\n",
        "  print(f'Processed {line_count} lines.')"
      ],
      "execution_count": null,
      "outputs": [
        {
          "output_type": "stream",
          "text": [
            "Column names are coordinates, created_at, hashtags, media, urls, favorite_count, id, in_reply_to_screen_name, in_reply_to_status_id, in_reply_to_user_id, lang, place, possibly_sensitive, retweet_count, retweet_id, retweet_screen_name, source, text, tweet_url, user_created_at, user_screen_name, user_default_profile_image, user_description, user_favourites_count, user_followers_count, user_friends_count, user_listed_count, user_location, user_name, user_statuses_count, user_time_zone, user_urls, user_verified\n",
            "Processed 242 lines.\n"
          ],
          "name": "stdout"
        }
      ]
    },
    {
      "cell_type": "markdown",
      "metadata": {
        "id": "g0iFbeXe4kX6"
      },
      "source": [
        "Fake Trump Analysis"
      ]
    },
    {
      "cell_type": "code",
      "metadata": {
        "colab": {
          "base_uri": "https://localhost:8080/",
          "height": 317
        },
        "id": "MlkyHXzx4l1Q",
        "outputId": "ecb12cec-308b-4ed3-949d-3b987bd8b3f8"
      },
      "source": [
        "ft = pd.read_csv(path + \"/fake_trump.csv\")\n",
        "ft.describe()"
      ],
      "execution_count": null,
      "outputs": [
        {
          "output_type": "execute_result",
          "data": {
            "text/html": [
              "<div>\n",
              "<style scoped>\n",
              "    .dataframe tbody tr th:only-of-type {\n",
              "        vertical-align: middle;\n",
              "    }\n",
              "\n",
              "    .dataframe tbody tr th {\n",
              "        vertical-align: top;\n",
              "    }\n",
              "\n",
              "    .dataframe thead th {\n",
              "        text-align: right;\n",
              "    }\n",
              "</style>\n",
              "<table border=\"1\" class=\"dataframe\">\n",
              "  <thead>\n",
              "    <tr style=\"text-align: right;\">\n",
              "      <th></th>\n",
              "      <th>coordinates</th>\n",
              "      <th>favorite_count</th>\n",
              "      <th>id</th>\n",
              "      <th>in_reply_to_status_id</th>\n",
              "      <th>in_reply_to_user_id</th>\n",
              "      <th>retweet_count</th>\n",
              "      <th>retweet_id</th>\n",
              "      <th>retweet_screen_name</th>\n",
              "      <th>user_favourites_count</th>\n",
              "      <th>user_followers_count</th>\n",
              "      <th>user_friends_count</th>\n",
              "      <th>user_listed_count</th>\n",
              "      <th>user_statuses_count</th>\n",
              "      <th>user_time_zone</th>\n",
              "    </tr>\n",
              "  </thead>\n",
              "  <tbody>\n",
              "    <tr>\n",
              "      <th>count</th>\n",
              "      <td>0.0</td>\n",
              "      <td>712.000000</td>\n",
              "      <td>7.120000e+02</td>\n",
              "      <td>2.440000e+02</td>\n",
              "      <td>2.730000e+02</td>\n",
              "      <td>712.000000</td>\n",
              "      <td>0.0</td>\n",
              "      <td>0.0</td>\n",
              "      <td>7.120000e+02</td>\n",
              "      <td>7.120000e+02</td>\n",
              "      <td>712.000000</td>\n",
              "      <td>712.000000</td>\n",
              "      <td>712.000000</td>\n",
              "      <td>0.0</td>\n",
              "    </tr>\n",
              "    <tr>\n",
              "      <th>mean</th>\n",
              "      <td>NaN</td>\n",
              "      <td>33.883427</td>\n",
              "      <td>1.254621e+18</td>\n",
              "      <td>1.255788e+18</td>\n",
              "      <td>2.233243e+17</td>\n",
              "      <td>13.139045</td>\n",
              "      <td>NaN</td>\n",
              "      <td>NaN</td>\n",
              "      <td>3.862665e+04</td>\n",
              "      <td>1.179147e+04</td>\n",
              "      <td>3018.466292</td>\n",
              "      <td>147.969101</td>\n",
              "      <td>52306.839888</td>\n",
              "      <td>NaN</td>\n",
              "    </tr>\n",
              "    <tr>\n",
              "      <th>std</th>\n",
              "      <td>NaN</td>\n",
              "      <td>630.686884</td>\n",
              "      <td>1.420589e+16</td>\n",
              "      <td>1.305212e+16</td>\n",
              "      <td>4.296560e+17</td>\n",
              "      <td>253.627986</td>\n",
              "      <td>NaN</td>\n",
              "      <td>NaN</td>\n",
              "      <td>7.373149e+04</td>\n",
              "      <td>6.313640e+04</td>\n",
              "      <td>7425.324820</td>\n",
              "      <td>909.288827</td>\n",
              "      <td>102225.809108</td>\n",
              "      <td>NaN</td>\n",
              "    </tr>\n",
              "    <tr>\n",
              "      <th>min</th>\n",
              "      <td>NaN</td>\n",
              "      <td>0.000000</td>\n",
              "      <td>1.220508e+18</td>\n",
              "      <td>1.127675e+18</td>\n",
              "      <td>9.390910e+05</td>\n",
              "      <td>0.000000</td>\n",
              "      <td>NaN</td>\n",
              "      <td>NaN</td>\n",
              "      <td>0.000000e+00</td>\n",
              "      <td>0.000000e+00</td>\n",
              "      <td>0.000000</td>\n",
              "      <td>0.000000</td>\n",
              "      <td>2.000000</td>\n",
              "      <td>NaN</td>\n",
              "    </tr>\n",
              "    <tr>\n",
              "      <th>25%</th>\n",
              "      <td>NaN</td>\n",
              "      <td>0.000000</td>\n",
              "      <td>1.245677e+18</td>\n",
              "      <td>1.251918e+18</td>\n",
              "      <td>2.507388e+07</td>\n",
              "      <td>0.000000</td>\n",
              "      <td>NaN</td>\n",
              "      <td>NaN</td>\n",
              "      <td>1.785000e+03</td>\n",
              "      <td>8.875000e+01</td>\n",
              "      <td>213.000000</td>\n",
              "      <td>0.000000</td>\n",
              "      <td>4551.250000</td>\n",
              "      <td>NaN</td>\n",
              "    </tr>\n",
              "    <tr>\n",
              "      <th>50%</th>\n",
              "      <td>NaN</td>\n",
              "      <td>0.000000</td>\n",
              "      <td>1.255171e+18</td>\n",
              "      <td>1.255740e+18</td>\n",
              "      <td>4.903451e+07</td>\n",
              "      <td>0.000000</td>\n",
              "      <td>NaN</td>\n",
              "      <td>NaN</td>\n",
              "      <td>9.255000e+03</td>\n",
              "      <td>4.795000e+02</td>\n",
              "      <td>743.000000</td>\n",
              "      <td>3.000000</td>\n",
              "      <td>18203.000000</td>\n",
              "      <td>NaN</td>\n",
              "    </tr>\n",
              "    <tr>\n",
              "      <th>75%</th>\n",
              "      <td>NaN</td>\n",
              "      <td>1.000000</td>\n",
              "      <td>1.266013e+18</td>\n",
              "      <td>1.262398e+18</td>\n",
              "      <td>2.878635e+09</td>\n",
              "      <td>0.000000</td>\n",
              "      <td>NaN</td>\n",
              "      <td>NaN</td>\n",
              "      <td>4.323675e+04</td>\n",
              "      <td>2.767750e+03</td>\n",
              "      <td>2699.000000</td>\n",
              "      <td>25.250000</td>\n",
              "      <td>58279.250000</td>\n",
              "      <td>NaN</td>\n",
              "    </tr>\n",
              "    <tr>\n",
              "      <th>max</th>\n",
              "      <td>NaN</td>\n",
              "      <td>16650.000000</td>\n",
              "      <td>1.288231e+18</td>\n",
              "      <td>1.277216e+18</td>\n",
              "      <td>1.274049e+18</td>\n",
              "      <td>6721.000000</td>\n",
              "      <td>NaN</td>\n",
              "      <td>NaN</td>\n",
              "      <td>1.096760e+06</td>\n",
              "      <td>1.095716e+06</td>\n",
              "      <td>97845.000000</td>\n",
              "      <td>13640.000000</td>\n",
              "      <td>993036.000000</td>\n",
              "      <td>NaN</td>\n",
              "    </tr>\n",
              "  </tbody>\n",
              "</table>\n",
              "</div>"
            ],
            "text/plain": [
              "       coordinates  favorite_count  ...  user_statuses_count  user_time_zone\n",
              "count          0.0      712.000000  ...           712.000000             0.0\n",
              "mean           NaN       33.883427  ...         52306.839888             NaN\n",
              "std            NaN      630.686884  ...        102225.809108             NaN\n",
              "min            NaN        0.000000  ...             2.000000             NaN\n",
              "25%            NaN        0.000000  ...          4551.250000             NaN\n",
              "50%            NaN        0.000000  ...         18203.000000             NaN\n",
              "75%            NaN        1.000000  ...         58279.250000             NaN\n",
              "max            NaN    16650.000000  ...        993036.000000             NaN\n",
              "\n",
              "[8 rows x 14 columns]"
            ]
          },
          "metadata": {
            "tags": []
          },
          "execution_count": 97
        }
      ]
    },
    {
      "cell_type": "code",
      "metadata": {
        "colab": {
          "base_uri": "https://localhost:8080/"
        },
        "id": "eCZsP1hzEZPu",
        "outputId": "cbe33a9c-4298-4621-b080-b2b14c78a6df"
      },
      "source": [
        "#Fake Trump Write to File\n",
        "\n",
        "path = '/content/drive/MyDrive/UNBDC/Fake_Trump/'\n",
        "\n",
        "with open('/content/drive/MyDrive/UNBDC/fake_trump.csv', mode='r') as csv_file:\n",
        "  csv_reader = csv.DictReader(csv_file)\n",
        "  line_count = 0\n",
        "\n",
        "  for row in csv_reader:\n",
        "      if line_count == 0:\n",
        "          print(f'Column names are {\", \".join(row)}')\n",
        "          line_count += 1\n",
        "      \n",
        "      else:\n",
        "        id = row['id'] + '.txt'\n",
        "\n",
        "        name = os.path.join(path, id)\n",
        "\n",
        "        text = row['text']\n",
        "\n",
        "        #print(id, text)\n",
        "          \n",
        "        f = open(name, 'w+')\n",
        "        f.write(text)\n",
        "\n",
        "      line_count += 1\n",
        "  print(f'Processed {line_count} lines.')"
      ],
      "execution_count": null,
      "outputs": [
        {
          "output_type": "stream",
          "text": [
            "Column names are coordinates, created_at, hashtags, media, urls, favorite_count, id, in_reply_to_screen_name, in_reply_to_status_id, in_reply_to_user_id, lang, place, possibly_sensitive, retweet_count, retweet_id, retweet_screen_name, source, text, tweet_url, user_created_at, user_screen_name, user_default_profile_image, user_description, user_favourites_count, user_followers_count, user_friends_count, user_listed_count, user_location, user_name, user_statuses_count, user_time_zone, user_urls, user_verified\n",
            "Processed 713 lines.\n"
          ],
          "name": "stdout"
        }
      ]
    },
    {
      "cell_type": "markdown",
      "metadata": {
        "id": "eFvTJfeQ4wg6"
      },
      "source": [
        "Real Trump Analysis"
      ]
    },
    {
      "cell_type": "code",
      "metadata": {
        "colab": {
          "base_uri": "https://localhost:8080/",
          "height": 317
        },
        "id": "Re2m5Qo34x0i",
        "outputId": "526048b2-92e1-46e4-eed5-b10d84cb222d"
      },
      "source": [
        "rt = pd.read_csv(path + \"/real_trump.csv\")\n",
        "rt.describe()"
      ],
      "execution_count": null,
      "outputs": [
        {
          "output_type": "execute_result",
          "data": {
            "text/html": [
              "<div>\n",
              "<style scoped>\n",
              "    .dataframe tbody tr th:only-of-type {\n",
              "        vertical-align: middle;\n",
              "    }\n",
              "\n",
              "    .dataframe tbody tr th {\n",
              "        vertical-align: top;\n",
              "    }\n",
              "\n",
              "    .dataframe thead th {\n",
              "        text-align: right;\n",
              "    }\n",
              "</style>\n",
              "<table border=\"1\" class=\"dataframe\">\n",
              "  <thead>\n",
              "    <tr style=\"text-align: right;\">\n",
              "      <th></th>\n",
              "      <th>coordinates</th>\n",
              "      <th>favorite_count</th>\n",
              "      <th>id</th>\n",
              "      <th>in_reply_to_status_id</th>\n",
              "      <th>in_reply_to_user_id</th>\n",
              "      <th>retweet_count</th>\n",
              "      <th>retweet_id</th>\n",
              "      <th>retweet_screen_name</th>\n",
              "      <th>user_favourites_count</th>\n",
              "      <th>user_followers_count</th>\n",
              "      <th>user_friends_count</th>\n",
              "      <th>user_listed_count</th>\n",
              "      <th>user_statuses_count</th>\n",
              "      <th>user_time_zone</th>\n",
              "    </tr>\n",
              "  </thead>\n",
              "  <tbody>\n",
              "    <tr>\n",
              "      <th>count</th>\n",
              "      <td>0.0</td>\n",
              "      <td>3585.000000</td>\n",
              "      <td>3.585000e+03</td>\n",
              "      <td>1.472000e+03</td>\n",
              "      <td>1.637000e+03</td>\n",
              "      <td>3585.000000</td>\n",
              "      <td>0.0</td>\n",
              "      <td>0.0</td>\n",
              "      <td>3585.000000</td>\n",
              "      <td>3.585000e+03</td>\n",
              "      <td>3585.000000</td>\n",
              "      <td>3585.000000</td>\n",
              "      <td>3.585000e+03</td>\n",
              "      <td>0.0</td>\n",
              "    </tr>\n",
              "    <tr>\n",
              "      <th>mean</th>\n",
              "      <td>NaN</td>\n",
              "      <td>73.501255</td>\n",
              "      <td>1.259439e+18</td>\n",
              "      <td>1.260955e+18</td>\n",
              "      <td>2.225651e+17</td>\n",
              "      <td>22.228452</td>\n",
              "      <td>NaN</td>\n",
              "      <td>NaN</td>\n",
              "      <td>32839.757043</td>\n",
              "      <td>1.983992e+05</td>\n",
              "      <td>3197.773222</td>\n",
              "      <td>821.783543</td>\n",
              "      <td>6.240955e+04</td>\n",
              "      <td>NaN</td>\n",
              "    </tr>\n",
              "    <tr>\n",
              "      <th>std</th>\n",
              "      <td>NaN</td>\n",
              "      <td>2316.230198</td>\n",
              "      <td>1.495678e+16</td>\n",
              "      <td>1.395832e+16</td>\n",
              "      <td>4.253550e+17</td>\n",
              "      <td>690.740962</td>\n",
              "      <td>NaN</td>\n",
              "      <td>NaN</td>\n",
              "      <td>71258.735387</td>\n",
              "      <td>2.661139e+06</td>\n",
              "      <td>12342.962280</td>\n",
              "      <td>8191.674267</td>\n",
              "      <td>1.686090e+05</td>\n",
              "      <td>NaN</td>\n",
              "    </tr>\n",
              "    <tr>\n",
              "      <th>min</th>\n",
              "      <td>NaN</td>\n",
              "      <td>0.000000</td>\n",
              "      <td>1.207390e+18</td>\n",
              "      <td>1.207611e+18</td>\n",
              "      <td>4.283330e+05</td>\n",
              "      <td>0.000000</td>\n",
              "      <td>NaN</td>\n",
              "      <td>NaN</td>\n",
              "      <td>0.000000</td>\n",
              "      <td>0.000000e+00</td>\n",
              "      <td>0.000000</td>\n",
              "      <td>0.000000</td>\n",
              "      <td>1.000000e+00</td>\n",
              "      <td>NaN</td>\n",
              "    </tr>\n",
              "    <tr>\n",
              "      <th>25%</th>\n",
              "      <td>NaN</td>\n",
              "      <td>0.000000</td>\n",
              "      <td>1.250970e+18</td>\n",
              "      <td>1.252742e+18</td>\n",
              "      <td>2.507388e+07</td>\n",
              "      <td>0.000000</td>\n",
              "      <td>NaN</td>\n",
              "      <td>NaN</td>\n",
              "      <td>906.000000</td>\n",
              "      <td>8.400000e+01</td>\n",
              "      <td>155.000000</td>\n",
              "      <td>0.000000</td>\n",
              "      <td>4.742000e+03</td>\n",
              "      <td>NaN</td>\n",
              "    </tr>\n",
              "    <tr>\n",
              "      <th>50%</th>\n",
              "      <td>NaN</td>\n",
              "      <td>0.000000</td>\n",
              "      <td>1.255914e+18</td>\n",
              "      <td>1.256256e+18</td>\n",
              "      <td>5.254428e+07</td>\n",
              "      <td>0.000000</td>\n",
              "      <td>NaN</td>\n",
              "      <td>NaN</td>\n",
              "      <td>6605.000000</td>\n",
              "      <td>5.670000e+02</td>\n",
              "      <td>737.000000</td>\n",
              "      <td>3.000000</td>\n",
              "      <td>1.756600e+04</td>\n",
              "      <td>NaN</td>\n",
              "    </tr>\n",
              "    <tr>\n",
              "      <th>75%</th>\n",
              "      <td>NaN</td>\n",
              "      <td>1.000000</td>\n",
              "      <td>1.274425e+18</td>\n",
              "      <td>1.276973e+18</td>\n",
              "      <td>2.934668e+09</td>\n",
              "      <td>0.000000</td>\n",
              "      <td>NaN</td>\n",
              "      <td>NaN</td>\n",
              "      <td>32701.000000</td>\n",
              "      <td>3.362000e+03</td>\n",
              "      <td>2647.000000</td>\n",
              "      <td>29.000000</td>\n",
              "      <td>5.563500e+04</td>\n",
              "      <td>NaN</td>\n",
              "    </tr>\n",
              "    <tr>\n",
              "      <th>max</th>\n",
              "      <td>NaN</td>\n",
              "      <td>114747.000000</td>\n",
              "      <td>1.318337e+18</td>\n",
              "      <td>1.278477e+18</td>\n",
              "      <td>1.277029e+18</td>\n",
              "      <td>34343.000000</td>\n",
              "      <td>NaN</td>\n",
              "      <td>NaN</td>\n",
              "      <td>917071.000000</td>\n",
              "      <td>5.378580e+07</td>\n",
              "      <td>540808.000000</td>\n",
              "      <td>148691.000000</td>\n",
              "      <td>3.836811e+06</td>\n",
              "      <td>NaN</td>\n",
              "    </tr>\n",
              "  </tbody>\n",
              "</table>\n",
              "</div>"
            ],
            "text/plain": [
              "       coordinates  favorite_count  ...  user_statuses_count  user_time_zone\n",
              "count          0.0     3585.000000  ...         3.585000e+03             0.0\n",
              "mean           NaN       73.501255  ...         6.240955e+04             NaN\n",
              "std            NaN     2316.230198  ...         1.686090e+05             NaN\n",
              "min            NaN        0.000000  ...         1.000000e+00             NaN\n",
              "25%            NaN        0.000000  ...         4.742000e+03             NaN\n",
              "50%            NaN        0.000000  ...         1.756600e+04             NaN\n",
              "75%            NaN        1.000000  ...         5.563500e+04             NaN\n",
              "max            NaN   114747.000000  ...         3.836811e+06             NaN\n",
              "\n",
              "[8 rows x 14 columns]"
            ]
          },
          "metadata": {
            "tags": []
          },
          "execution_count": 98
        }
      ]
    },
    {
      "cell_type": "code",
      "metadata": {
        "colab": {
          "base_uri": "https://localhost:8080/"
        },
        "id": "PC-WwB4aEhon",
        "outputId": "38835c7a-9e84-4d56-c2d1-ae8ad67f34e1"
      },
      "source": [
        "#Real Trump Write to File\n",
        "\n",
        "path = '/content/drive/MyDrive/UNBDC/Real_Trump/'\n",
        "\n",
        "with open('/content/drive/MyDrive/UNBDC/real_trump.csv', mode='r') as csv_file:\n",
        "  csv_reader = csv.DictReader(csv_file)\n",
        "  line_count = 0\n",
        "\n",
        "  for row in csv_reader:\n",
        "      if line_count == 0:\n",
        "          print(f'Column names are {\", \".join(row)}')\n",
        "          line_count += 1\n",
        "      \n",
        "      else:\n",
        "        id = row['id'] + '.txt'\n",
        "\n",
        "        name = os.path.join(path, id)\n",
        "\n",
        "        text = row['text']\n",
        "\n",
        "        #print(id, text)\n",
        "          \n",
        "        f = open(name, 'w+')\n",
        "        f.write(text)\n",
        "\n",
        "      line_count += 1\n",
        "  print(f'Processed {line_count} lines.')"
      ],
      "execution_count": null,
      "outputs": [
        {
          "output_type": "stream",
          "text": [
            "Column names are coordinates, created_at, hashtags, media, urls, favorite_count, id, in_reply_to_screen_name, in_reply_to_status_id, in_reply_to_user_id, lang, place, possibly_sensitive, retweet_count, retweet_id, retweet_screen_name, source, text, tweet_url, user_created_at, user_screen_name, user_default_profile_image, user_description, user_favourites_count, user_followers_count, user_friends_count, user_listed_count, user_location, user_name, user_statuses_count, user_time_zone, user_urls, user_verified\n",
            "Processed 3586 lines.\n"
          ],
          "name": "stdout"
        }
      ]
    },
    {
      "cell_type": "markdown",
      "metadata": {
        "id": "M2m6544vnFwO"
      },
      "source": [
        "July - Biden/Trump Replies"
      ]
    },
    {
      "cell_type": "code",
      "metadata": {
        "id": "-JghY4sbnE31"
      },
      "source": [
        "with open('/content/drive/MyDrive/UNBDC/CoAID Hydrated Files/05 01 2020/07NewRealCOVID-19_tweets_replies.csv', mode='r') as csv_file:\n",
        "\n",
        "    \n",
        "\n",
        "    csv_reader = csv.DictReader(csv_file)\n",
        "    line_count = 0\n",
        "    jNewReal_btwids = []\n",
        "    mClaimFake_ttwids = []\n",
        "    mClaimFake_bcount = 0\n",
        "    mClaimFake_tcount = 0\n",
        "    for row in csv_reader:\n",
        "        if line_count == 0:\n",
        "            print(f'Column names are {\", \".join(row)}')\n",
        "            line_count += 1\n",
        "\n",
        "        if \"biden\" in row[\"text\"] or \"Biden\" in row['text'] or \"BIDEN\" in row['text']:\n",
        "            print({row[\"text\"]})\n",
        "            mClaimFake_btwids.append(row['id'])\n",
        "            mClaimFake_bcount += 1\n",
        "        \n",
        "        if \"trump\" in row[\"text\"] or \"Trump\" in row['text'] or \"TRUMP\" in row['text']:\n",
        "            print({row[\"text\"]})\n",
        "            mClaimFake_ttwids.append(row['id'])\n",
        "            mClaimFake_tcount += 1\n",
        "\n",
        "        line_count += 1\n",
        "    print(f'Processed {line_count} lines.')"
      ],
      "execution_count": null,
      "outputs": []
    },
    {
      "cell_type": "markdown",
      "metadata": {
        "id": "Po2prH0FSxdh"
      },
      "source": [
        "## **Sentiment Analysis**"
      ]
    },
    {
      "cell_type": "code",
      "metadata": {
        "colab": {
          "base_uri": "https://localhost:8080/"
        },
        "id": "AP7W5fTLHpZx",
        "outputId": "c2259be6-1b62-4f5c-e915-a64efce488a3"
      },
      "source": [
        "pip install azure-ai-textanalytics"
      ],
      "execution_count": null,
      "outputs": [
        {
          "output_type": "stream",
          "text": [
            "Requirement already satisfied: azure-ai-textanalytics in /usr/local/lib/python3.7/dist-packages (5.0.0)\n",
            "Requirement already satisfied: azure-core<2.0.0,>=1.4.0 in /usr/local/lib/python3.7/dist-packages (from azure-ai-textanalytics) (1.14.0)\n",
            "Requirement already satisfied: msrest>=0.6.0 in /usr/local/lib/python3.7/dist-packages (from azure-ai-textanalytics) (0.6.21)\n",
            "Requirement already satisfied: six>=1.6 in /usr/local/lib/python3.7/dist-packages (from azure-ai-textanalytics) (1.15.0)\n",
            "Requirement already satisfied: azure-common~=1.1 in /usr/local/lib/python3.7/dist-packages (from azure-ai-textanalytics) (1.1.27)\n",
            "Requirement already satisfied: requests>=2.18.4 in /usr/local/lib/python3.7/dist-packages (from azure-core<2.0.0,>=1.4.0->azure-ai-textanalytics) (2.23.0)\n",
            "Requirement already satisfied: requests-oauthlib>=0.5.0 in /usr/local/lib/python3.7/dist-packages (from msrest>=0.6.0->azure-ai-textanalytics) (1.3.0)\n",
            "Requirement already satisfied: certifi>=2017.4.17 in /usr/local/lib/python3.7/dist-packages (from msrest>=0.6.0->azure-ai-textanalytics) (2020.12.5)\n",
            "Requirement already satisfied: isodate>=0.6.0 in /usr/local/lib/python3.7/dist-packages (from msrest>=0.6.0->azure-ai-textanalytics) (0.6.0)\n",
            "Requirement already satisfied: urllib3!=1.25.0,!=1.25.1,<1.26,>=1.21.1 in /usr/local/lib/python3.7/dist-packages (from requests>=2.18.4->azure-core<2.0.0,>=1.4.0->azure-ai-textanalytics) (1.24.3)\n",
            "Requirement already satisfied: idna<3,>=2.5 in /usr/local/lib/python3.7/dist-packages (from requests>=2.18.4->azure-core<2.0.0,>=1.4.0->azure-ai-textanalytics) (2.10)\n",
            "Requirement already satisfied: chardet<4,>=3.0.2 in /usr/local/lib/python3.7/dist-packages (from requests>=2.18.4->azure-core<2.0.0,>=1.4.0->azure-ai-textanalytics) (3.0.4)\n",
            "Requirement already satisfied: oauthlib>=3.0.0 in /usr/local/lib/python3.7/dist-packages (from requests-oauthlib>=0.5.0->msrest>=0.6.0->azure-ai-textanalytics) (3.1.0)\n"
          ],
          "name": "stdout"
        }
      ]
    },
    {
      "cell_type": "code",
      "metadata": {
        "id": "tv-ab5qWNZIg"
      },
      "source": [
        "import os\n",
        "from azure.ai.textanalytics import TextAnalyticsClient\n",
        "from azure.core.credentials import AzureKeyCredential"
      ],
      "execution_count": null,
      "outputs": []
    },
    {
      "cell_type": "markdown",
      "metadata": {
        "id": "nc22hh1KMs7b"
      },
      "source": [
        "Fake Biden"
      ]
    },
    {
      "cell_type": "code",
      "metadata": {
        "id": "mGVF6JL_HyB3"
      },
      "source": [
        "credentials = AzureKeyCredential('c9b350fe303e4b40ae934668aace9140')\n",
        "endpoint = 'https://covid19data.cognitiveservices.azure.com/'\n",
        "text_analytics_client = TextAnalyticsClient(endpoint, credential=credentials)\n",
        "\n",
        "reviews_folder = os.path.join('/content/drive/MyDrive/UNBDC/Fake_biden')\n",
        "fb_reviews = []\n",
        "counter = 0\n",
        "fb_id_groups = []\n",
        "\n",
        "total = len(os.listdir(reviews_folder))\n",
        "\n",
        "for file_name in os.listdir(reviews_folder):\n",
        "    counter += 1\n",
        "    review_text = open(os.path.join(reviews_folder, file_name)).read()\n",
        "    review = {\"id\": file_name, \"text\": review_text}\n",
        "    fb_reviews.append(review)\n",
        "\n",
        "    if (counter+1)/10 == (counter+1)//10 or total - counter == 0:\n",
        "      fb_id_groups.append(fb_reviews)\n",
        "      fb_reviews = []\n",
        "\n",
        "#print(counter)\n",
        "#for i in fb_id_groups:\n",
        "#  print(len(i))\n",
        "#  print(i, '\\n')\n",
        "\n",
        "count = 0\n",
        "fb_sent_res = {}\n",
        "\n",
        "for group in fb_id_groups:\n",
        "    #print(group)\n",
        "    sentiment_analysis = text_analytics_client.analyze_sentiment(group)\n",
        "    for i in sentiment_analysis:\n",
        "      #print(i['confidence_scores'])\n",
        "      c_scores = i['confidence_scores'] # e.g. {'positive': 0.2, 'neutral': 0.16, 'negative': 0.64}\n",
        "      score = c_scores['neutral']*0 + c_scores['positive']*-1 + c_scores['negative']*1\n",
        "      #print(group[count]['id'].replace('.txt', ''))\n",
        "      #print(score)\n",
        "      fb_sent_res[group[count]['id'].replace('.txt', '')] = score\n",
        "      count += 1\n",
        "    count = 0\n",
        "  \n",
        "print(fb_sent_res)\n"
      ],
      "execution_count": null,
      "outputs": []
    },
    {
      "cell_type": "code",
      "metadata": {
        "colab": {
          "base_uri": "https://localhost:8080/"
        },
        "id": "JOt9pG_sJ_VG",
        "outputId": "96596054-c1c4-48f4-d029-667e08db90ba"
      },
      "source": [
        "with open('/content/drive/MyDrive/UNBDC/fake_biden.csv', mode='r') as csv_file:\n",
        "    csv_reader = csv.DictReader(csv_file)\n",
        "\n",
        "    fb_dict = {}\n",
        "    line_count = 0\n",
        "\n",
        "    for row in csv_reader:\n",
        "      list = []\n",
        "\n",
        "      if line_count != 0:\n",
        "        key = row['id']\n",
        "      \n",
        "        if key in fb_sent_res:\n",
        "          list.append(fb_sent_res[key])\n",
        "          list.append(row['favorite_count'])\n",
        "          fb_dict[key] = list\n",
        "\n",
        "      line_count += 1\n",
        "\n",
        "print(fb_dict)"
      ],
      "execution_count": null,
      "outputs": [
        {
          "output_type": "stream",
          "text": [
            "{'1274569102040784897': [0.44, '0'], '1260675463984414721': [0.93, '0'], '1252452642107920384': [0.91, '0'], '1260620715998482435': [0.47, '3'], '1275801200278020097': [0.48, '19'], '1274510769208492032': [0.16000000000000003, '0'], '1266755017257693184': [0.98, '0'], '1276314295576301569': [0.04999999999999999, '1'], '1265891772657315840': [1.0, '0'], '1252230982775652354': [1.0, '2'], '1275575312894636034': [0.35, '4'], '1266754230607634434': [1.0, '1'], '1274511197170208769': [0.16000000000000003, '44'], '1254191623312982016': [1.0, '0'], '1272790187098152963': [0.99, '0'], '1278234248433078273': [0.74, '1'], '1275552336195121153': [0.77, '0'], '1245646355520839683': [0.98, '1'], '1275572168550567938': [0.0, '1'], '1274512963034996736': [0.07, '1679'], '1259124711889534979': [1.0, '0'], '1274513386999623682': [0.34, '4'], '1274518429228285952': [0.07, '0'], '1257701038087303169': [0.99, '2'], '1274510046588809217': [0.17999999999999994, '0'], '1274020545277734912': [-0.25, '0'], '1272759203686305792': [0.95, '0'], '1273305379741540354': [0.91, '6'], '1274510062015221760': [0.5900000000000001, '1'], '1274513581489491974': [0.9199999999999999, '30'], '1249688443392790529': [0.95, '0'], '1246639811416543232': [0.48, '0'], '1274514700794056707': [0.41000000000000003, '0'], '1249400999212732416': [1.0, '0'], '1274510204126797825': [0.35, '252'], '1260564196292517894': [0.74, '0'], '1261121026387251200': [0.89, '0'], '1258783776257310725': [1.0, '3'], '1257303790010552320': [0.26999999999999996, '3'], '1257354501859823616': [0.38, '0'], '1274512559765405697': [1.0, '1361'], '1274529902872715271': [1.0, '0'], '1274513613546545153': [-0.42999999999999994, '0'], '1275114312407740416': [0.4, '139'], '1253124095010635777': [0.38, '1'], '1277026280484098048': [0.89, '0'], '1261291285308030982': [0.82, '0'], '1259124257075990528': [1.0, '0'], '1272919920658038784': [-0.95, '0'], '1257633359351746561': [0.89, '8'], '1274510092449218560': [0.71, '3'], '1249864708980535297': [0.86, '2']}\n"
          ],
          "name": "stdout"
        }
      ]
    },
    {
      "cell_type": "markdown",
      "metadata": {
        "id": "plMOVnGqMvt4"
      },
      "source": [
        "Fake Trump"
      ]
    },
    {
      "cell_type": "code",
      "metadata": {
        "id": "5LsUqmkLMxg3",
        "colab": {
          "base_uri": "https://localhost:8080/",
          "height": 407
        },
        "outputId": "a38295c3-baa0-49af-a20a-fc27f9be4f69"
      },
      "source": [
        "reviews_folder = os.path.join('/content/drive/MyDrive/UNBDC/Fake_Trump')\n",
        "\n",
        "ft_reviews = []\n",
        "counter = 0\n",
        "ft_id_groups = []\n",
        "\n",
        "total = len(os.listdir(reviews_folder))\n",
        "\n",
        "for file_name in os.listdir(reviews_folder):\n",
        "    counter += 1\n",
        "    review_text = open(os.path.join(reviews_folder, file_name)).read()\n",
        "    review = {\"id\": file_name, \"text\": review_text}\n",
        "    ft_reviews.append(review)\n",
        "\n",
        "    if (counter+1)/10 == (counter+1)//10 or total - counter == 0:\n",
        "      ft_id_groups.append(ft_reviews)\n",
        "      ft_reviews = []\n",
        "      \n",
        "#print(counter)\n",
        "#for i in ft_id_groups:\n",
        "#  print(len(i))\n",
        "#  print(i, '\\n')\n",
        "\n",
        "count = 0\n",
        "ft_sent_res = {}\n",
        "\n",
        "for group in ft_id_groups:\n",
        "    print(group)\n",
        "    sentiment_analysis = text_analytics_client.analyze_sentiment(group)\n",
        "    for i in sentiment_analysis:\n",
        "      #print(i['confidence_scores'])\n",
        "      c_scores = i['confidence_scores'] # e.g. {'positive': 0.2, 'neutral': 0.16, 'negative': 0.64}\n",
        "      score = c_scores['neutral']*0 + c_scores['positive']*1 + c_scores['negative']*-1\n",
        "      #print(group[count]['id'].replace('.txt', ''))\n",
        "      #print(score)\n",
        "      ft_sent_res[group[count]['id'].replace('.txt', '')] = score\n",
        "      count += 1\n",
        "    count = 0\n",
        "  \n",
        "print(ft_sent_res)"
      ],
      "execution_count": null,
      "outputs": [
        {
          "output_type": "stream",
          "text": [
            "[{'id': '1237724825843572742.txt', 'text': '@gtconway3d My neighbor, a committed Trumper, told me the cornoravirus [COVID-19] is just like the flu; nothing to worry about. Trump and his enablers have deluded millions of our fellow Americans. #DumpTrump2020'}, {'id': '1243384220845608961.txt', 'text': 'How could HE have a cure? He\\'s wilfully ignorant and still keeps saying that COVID-19 is \\'just like the flu.\" If any scientist(s) come up with a cure, they won\\'t save it for Trump to announce! https://t.co/0nU1vJwyi4'}, {'id': '1237037722042155009.txt', 'text': \"@realDonaldTrump So @tedcruz you don't need to self quarantine your buddy thinks you're perfectly fine and covid-19 is just like the flu. No big\"}, {'id': '1244491711302205442.txt', 'text': 'Trump Announce Name Of Vaccine To Cure Corona Virus In Three Hours\\nhttps://t.co/KXfm6D50AC\\n\\nThumbs up to the scientist in the United States of America as they finally found vaccine to cure corona virus. The president of the United States of America will officially make the..... https://t.co/1OnRUHDksx'}, {'id': '1254053725532012547.txt', 'text': '@TheBeatWithAri @davidfrum \"The 2020 election is rigged!  If the Democrats hadn\\'t created the coronavirus hoax I\\'d be heading for re-election\".  -- Donald J Trump.'}, {'id': '1255964528224976896.txt', 'text': '@realDonaldTrump Just Iike the coronavirus hoax?'}, {'id': '1241950553304756224.txt', 'text': '@realDonaldTrump 🔆Expert consensus on comprehensive treatment of coronavirus disease in Shanghai 2019\\nhttps://t.co/UfxaGjhziq\\n\\n🔆Shanghai Government Officially Recommends Vitamin C for COVID-19\\nhttps://t.co/7gGnuufGQ3'}, {'id': '1245736953108213762.txt', 'text': '@bencar123 @coasttocoastam GN\\'s been spreading dangerous trumpian lies the \"covid-19 is just like the flu!\"- I hope he gets investigated for manslaughter for all these ppl dying'}, {'id': '1232831704345251840.txt', 'text': 'Trump says COVID-19 is just like the flu. \\n\\nFlu mortality is about 14.3 per 100,000 cases.\\n\\nCOVID-19 mortality is currently 3,400 per 100,000 cases.\\n\\nThey are not the same and Trump cannot be trusted to protect us.'}]\n"
          ],
          "name": "stdout"
        },
        {
          "output_type": "error",
          "ename": "KeyboardInterrupt",
          "evalue": "ignored",
          "traceback": [
            "\u001b[0;31m---------------------------------------------------------------------------\u001b[0m",
            "\u001b[0;31mKeyboardInterrupt\u001b[0m                         Traceback (most recent call last)",
            "\u001b[0;32m<ipython-input-32-320b48a276d4>\u001b[0m in \u001b[0;36m<module>\u001b[0;34m()\u001b[0m\n\u001b[1;32m     27\u001b[0m \u001b[0;32mfor\u001b[0m \u001b[0mgroup\u001b[0m \u001b[0;32min\u001b[0m \u001b[0mft_id_groups\u001b[0m\u001b[0;34m:\u001b[0m\u001b[0;34m\u001b[0m\u001b[0;34m\u001b[0m\u001b[0m\n\u001b[1;32m     28\u001b[0m     \u001b[0mprint\u001b[0m\u001b[0;34m(\u001b[0m\u001b[0mgroup\u001b[0m\u001b[0;34m)\u001b[0m\u001b[0;34m\u001b[0m\u001b[0;34m\u001b[0m\u001b[0m\n\u001b[0;32m---> 29\u001b[0;31m     \u001b[0msentiment_analysis\u001b[0m \u001b[0;34m=\u001b[0m \u001b[0mtext_analytics_client\u001b[0m\u001b[0;34m.\u001b[0m\u001b[0manalyze_sentiment\u001b[0m\u001b[0;34m(\u001b[0m\u001b[0mgroup\u001b[0m\u001b[0;34m)\u001b[0m\u001b[0;34m\u001b[0m\u001b[0;34m\u001b[0m\u001b[0m\n\u001b[0m\u001b[1;32m     30\u001b[0m     \u001b[0;32mfor\u001b[0m \u001b[0mi\u001b[0m \u001b[0;32min\u001b[0m \u001b[0msentiment_analysis\u001b[0m\u001b[0;34m:\u001b[0m\u001b[0;34m\u001b[0m\u001b[0;34m\u001b[0m\u001b[0m\n\u001b[1;32m     31\u001b[0m       \u001b[0;31m#print(i['confidence_scores'])\u001b[0m\u001b[0;34m\u001b[0m\u001b[0;34m\u001b[0m\u001b[0;34m\u001b[0m\u001b[0m\n",
            "\u001b[0;32m/usr/local/lib/python3.7/dist-packages/azure/core/tracing/decorator.py\u001b[0m in \u001b[0;36mwrapper_use_tracer\u001b[0;34m(*args, **kwargs)\u001b[0m\n\u001b[1;32m     81\u001b[0m             \u001b[0mspan_impl_type\u001b[0m \u001b[0;34m=\u001b[0m \u001b[0msettings\u001b[0m\u001b[0;34m.\u001b[0m\u001b[0mtracing_implementation\u001b[0m\u001b[0;34m(\u001b[0m\u001b[0;34m)\u001b[0m\u001b[0;34m\u001b[0m\u001b[0;34m\u001b[0m\u001b[0m\n\u001b[1;32m     82\u001b[0m             \u001b[0;32mif\u001b[0m \u001b[0mspan_impl_type\u001b[0m \u001b[0;32mis\u001b[0m \u001b[0;32mNone\u001b[0m\u001b[0;34m:\u001b[0m\u001b[0;34m\u001b[0m\u001b[0;34m\u001b[0m\u001b[0m\n\u001b[0;32m---> 83\u001b[0;31m                 \u001b[0;32mreturn\u001b[0m \u001b[0mfunc\u001b[0m\u001b[0;34m(\u001b[0m\u001b[0;34m*\u001b[0m\u001b[0margs\u001b[0m\u001b[0;34m,\u001b[0m \u001b[0;34m**\u001b[0m\u001b[0mkwargs\u001b[0m\u001b[0;34m)\u001b[0m\u001b[0;34m\u001b[0m\u001b[0;34m\u001b[0m\u001b[0m\n\u001b[0m\u001b[1;32m     84\u001b[0m \u001b[0;34m\u001b[0m\u001b[0m\n\u001b[1;32m     85\u001b[0m             \u001b[0;31m# Merge span is parameter is set, but only if no explicit parent are passed\u001b[0m\u001b[0;34m\u001b[0m\u001b[0;34m\u001b[0m\u001b[0;34m\u001b[0m\u001b[0m\n",
            "\u001b[0;32m/usr/local/lib/python3.7/dist-packages/azure/ai/textanalytics/_text_analytics_client.py\u001b[0m in \u001b[0;36manalyze_sentiment\u001b[0;34m(self, documents, **kwargs)\u001b[0m\n\u001b[1;32m    412\u001b[0m                 \u001b[0mshow_stats\u001b[0m\u001b[0;34m=\u001b[0m\u001b[0mshow_stats\u001b[0m\u001b[0;34m,\u001b[0m\u001b[0;34m\u001b[0m\u001b[0;34m\u001b[0m\u001b[0m\n\u001b[1;32m    413\u001b[0m                 \u001b[0mcls\u001b[0m\u001b[0;34m=\u001b[0m\u001b[0mkwargs\u001b[0m\u001b[0;34m.\u001b[0m\u001b[0mpop\u001b[0m\u001b[0;34m(\u001b[0m\u001b[0;34m\"cls\"\u001b[0m\u001b[0;34m,\u001b[0m \u001b[0msentiment_result\u001b[0m\u001b[0;34m)\u001b[0m\u001b[0;34m,\u001b[0m\u001b[0;34m\u001b[0m\u001b[0;34m\u001b[0m\u001b[0m\n\u001b[0;32m--> 414\u001b[0;31m                 \u001b[0;34m**\u001b[0m\u001b[0mkwargs\u001b[0m\u001b[0;34m\u001b[0m\u001b[0;34m\u001b[0m\u001b[0m\n\u001b[0m\u001b[1;32m    415\u001b[0m             )\n\u001b[1;32m    416\u001b[0m         \u001b[0;32mexcept\u001b[0m \u001b[0mHttpResponseError\u001b[0m \u001b[0;32mas\u001b[0m \u001b[0merror\u001b[0m\u001b[0;34m:\u001b[0m\u001b[0;34m\u001b[0m\u001b[0;34m\u001b[0m\u001b[0m\n",
            "\u001b[0;32m/usr/local/lib/python3.7/dist-packages/azure/ai/textanalytics/_generated/operations/_text_analytics_client_operations.py\u001b[0m in \u001b[0;36msentiment\u001b[0;34m(self, documents, model_version, show_stats, **kwargs)\u001b[0m\n\u001b[1;32m    373\u001b[0m         \u001b[0mrequest\u001b[0m \u001b[0;34m=\u001b[0m \u001b[0mself\u001b[0m\u001b[0;34m.\u001b[0m\u001b[0m_client\u001b[0m\u001b[0;34m.\u001b[0m\u001b[0mpost\u001b[0m\u001b[0;34m(\u001b[0m\u001b[0murl\u001b[0m\u001b[0;34m,\u001b[0m \u001b[0mquery_parameters\u001b[0m\u001b[0;34m,\u001b[0m \u001b[0mheader_parameters\u001b[0m\u001b[0;34m,\u001b[0m \u001b[0;34m**\u001b[0m\u001b[0mbody_content_kwargs\u001b[0m\u001b[0;34m)\u001b[0m\u001b[0;34m\u001b[0m\u001b[0;34m\u001b[0m\u001b[0m\n\u001b[1;32m    374\u001b[0m \u001b[0;34m\u001b[0m\u001b[0m\n\u001b[0;32m--> 375\u001b[0;31m         \u001b[0mpipeline_response\u001b[0m \u001b[0;34m=\u001b[0m \u001b[0mself\u001b[0m\u001b[0;34m.\u001b[0m\u001b[0m_client\u001b[0m\u001b[0;34m.\u001b[0m\u001b[0m_pipeline\u001b[0m\u001b[0;34m.\u001b[0m\u001b[0mrun\u001b[0m\u001b[0;34m(\u001b[0m\u001b[0mrequest\u001b[0m\u001b[0;34m,\u001b[0m \u001b[0mstream\u001b[0m\u001b[0;34m=\u001b[0m\u001b[0;32mFalse\u001b[0m\u001b[0;34m,\u001b[0m \u001b[0;34m**\u001b[0m\u001b[0mkwargs\u001b[0m\u001b[0;34m)\u001b[0m\u001b[0;34m\u001b[0m\u001b[0;34m\u001b[0m\u001b[0m\n\u001b[0m\u001b[1;32m    376\u001b[0m         \u001b[0mresponse\u001b[0m \u001b[0;34m=\u001b[0m \u001b[0mpipeline_response\u001b[0m\u001b[0;34m.\u001b[0m\u001b[0mhttp_response\u001b[0m\u001b[0;34m\u001b[0m\u001b[0;34m\u001b[0m\u001b[0m\n\u001b[1;32m    377\u001b[0m \u001b[0;34m\u001b[0m\u001b[0m\n",
            "\u001b[0;32m/usr/local/lib/python3.7/dist-packages/azure/core/pipeline/_base.py\u001b[0m in \u001b[0;36mrun\u001b[0;34m(self, request, **kwargs)\u001b[0m\n\u001b[1;32m    209\u001b[0m             \u001b[0;32melse\u001b[0m \u001b[0m_TransportRunner\u001b[0m\u001b[0;34m(\u001b[0m\u001b[0mself\u001b[0m\u001b[0;34m.\u001b[0m\u001b[0m_transport\u001b[0m\u001b[0;34m)\u001b[0m\u001b[0;34m\u001b[0m\u001b[0;34m\u001b[0m\u001b[0m\n\u001b[1;32m    210\u001b[0m         )\n\u001b[0;32m--> 211\u001b[0;31m         \u001b[0;32mreturn\u001b[0m \u001b[0mfirst_node\u001b[0m\u001b[0;34m.\u001b[0m\u001b[0msend\u001b[0m\u001b[0;34m(\u001b[0m\u001b[0mpipeline_request\u001b[0m\u001b[0;34m)\u001b[0m  \u001b[0;31m# type: ignore\u001b[0m\u001b[0;34m\u001b[0m\u001b[0;34m\u001b[0m\u001b[0m\n\u001b[0m",
            "\u001b[0;32m/usr/local/lib/python3.7/dist-packages/azure/core/pipeline/_base.py\u001b[0m in \u001b[0;36msend\u001b[0;34m(self, request)\u001b[0m\n\u001b[1;32m     69\u001b[0m         \u001b[0m_await_result\u001b[0m\u001b[0;34m(\u001b[0m\u001b[0mself\u001b[0m\u001b[0;34m.\u001b[0m\u001b[0m_policy\u001b[0m\u001b[0;34m.\u001b[0m\u001b[0mon_request\u001b[0m\u001b[0;34m,\u001b[0m \u001b[0mrequest\u001b[0m\u001b[0;34m)\u001b[0m\u001b[0;34m\u001b[0m\u001b[0;34m\u001b[0m\u001b[0m\n\u001b[1;32m     70\u001b[0m         \u001b[0;32mtry\u001b[0m\u001b[0;34m:\u001b[0m\u001b[0;34m\u001b[0m\u001b[0;34m\u001b[0m\u001b[0m\n\u001b[0;32m---> 71\u001b[0;31m             \u001b[0mresponse\u001b[0m \u001b[0;34m=\u001b[0m \u001b[0mself\u001b[0m\u001b[0;34m.\u001b[0m\u001b[0mnext\u001b[0m\u001b[0;34m.\u001b[0m\u001b[0msend\u001b[0m\u001b[0;34m(\u001b[0m\u001b[0mrequest\u001b[0m\u001b[0;34m)\u001b[0m\u001b[0;34m\u001b[0m\u001b[0;34m\u001b[0m\u001b[0m\n\u001b[0m\u001b[1;32m     72\u001b[0m         \u001b[0;32mexcept\u001b[0m \u001b[0mException\u001b[0m\u001b[0;34m:\u001b[0m  \u001b[0;31m# pylint: disable=broad-except\u001b[0m\u001b[0;34m\u001b[0m\u001b[0;34m\u001b[0m\u001b[0m\n\u001b[1;32m     73\u001b[0m             \u001b[0;32mif\u001b[0m \u001b[0;32mnot\u001b[0m \u001b[0m_await_result\u001b[0m\u001b[0;34m(\u001b[0m\u001b[0mself\u001b[0m\u001b[0;34m.\u001b[0m\u001b[0m_policy\u001b[0m\u001b[0;34m.\u001b[0m\u001b[0mon_exception\u001b[0m\u001b[0;34m,\u001b[0m \u001b[0mrequest\u001b[0m\u001b[0;34m)\u001b[0m\u001b[0;34m:\u001b[0m\u001b[0;34m\u001b[0m\u001b[0;34m\u001b[0m\u001b[0m\n",
            "\u001b[0;32m/usr/local/lib/python3.7/dist-packages/azure/core/pipeline/_base.py\u001b[0m in \u001b[0;36msend\u001b[0;34m(self, request)\u001b[0m\n\u001b[1;32m     69\u001b[0m         \u001b[0m_await_result\u001b[0m\u001b[0;34m(\u001b[0m\u001b[0mself\u001b[0m\u001b[0;34m.\u001b[0m\u001b[0m_policy\u001b[0m\u001b[0;34m.\u001b[0m\u001b[0mon_request\u001b[0m\u001b[0;34m,\u001b[0m \u001b[0mrequest\u001b[0m\u001b[0;34m)\u001b[0m\u001b[0;34m\u001b[0m\u001b[0;34m\u001b[0m\u001b[0m\n\u001b[1;32m     70\u001b[0m         \u001b[0;32mtry\u001b[0m\u001b[0;34m:\u001b[0m\u001b[0;34m\u001b[0m\u001b[0;34m\u001b[0m\u001b[0m\n\u001b[0;32m---> 71\u001b[0;31m             \u001b[0mresponse\u001b[0m \u001b[0;34m=\u001b[0m \u001b[0mself\u001b[0m\u001b[0;34m.\u001b[0m\u001b[0mnext\u001b[0m\u001b[0;34m.\u001b[0m\u001b[0msend\u001b[0m\u001b[0;34m(\u001b[0m\u001b[0mrequest\u001b[0m\u001b[0;34m)\u001b[0m\u001b[0;34m\u001b[0m\u001b[0;34m\u001b[0m\u001b[0m\n\u001b[0m\u001b[1;32m     72\u001b[0m         \u001b[0;32mexcept\u001b[0m \u001b[0mException\u001b[0m\u001b[0;34m:\u001b[0m  \u001b[0;31m# pylint: disable=broad-except\u001b[0m\u001b[0;34m\u001b[0m\u001b[0;34m\u001b[0m\u001b[0m\n\u001b[1;32m     73\u001b[0m             \u001b[0;32mif\u001b[0m \u001b[0;32mnot\u001b[0m \u001b[0m_await_result\u001b[0m\u001b[0;34m(\u001b[0m\u001b[0mself\u001b[0m\u001b[0;34m.\u001b[0m\u001b[0m_policy\u001b[0m\u001b[0;34m.\u001b[0m\u001b[0mon_exception\u001b[0m\u001b[0;34m,\u001b[0m \u001b[0mrequest\u001b[0m\u001b[0;34m)\u001b[0m\u001b[0;34m:\u001b[0m\u001b[0;34m\u001b[0m\u001b[0;34m\u001b[0m\u001b[0m\n",
            "\u001b[0;32m/usr/local/lib/python3.7/dist-packages/azure/core/pipeline/_base.py\u001b[0m in \u001b[0;36msend\u001b[0;34m(self, request)\u001b[0m\n\u001b[1;32m     69\u001b[0m         \u001b[0m_await_result\u001b[0m\u001b[0;34m(\u001b[0m\u001b[0mself\u001b[0m\u001b[0;34m.\u001b[0m\u001b[0m_policy\u001b[0m\u001b[0;34m.\u001b[0m\u001b[0mon_request\u001b[0m\u001b[0;34m,\u001b[0m \u001b[0mrequest\u001b[0m\u001b[0;34m)\u001b[0m\u001b[0;34m\u001b[0m\u001b[0;34m\u001b[0m\u001b[0m\n\u001b[1;32m     70\u001b[0m         \u001b[0;32mtry\u001b[0m\u001b[0;34m:\u001b[0m\u001b[0;34m\u001b[0m\u001b[0;34m\u001b[0m\u001b[0m\n\u001b[0;32m---> 71\u001b[0;31m             \u001b[0mresponse\u001b[0m \u001b[0;34m=\u001b[0m \u001b[0mself\u001b[0m\u001b[0;34m.\u001b[0m\u001b[0mnext\u001b[0m\u001b[0;34m.\u001b[0m\u001b[0msend\u001b[0m\u001b[0;34m(\u001b[0m\u001b[0mrequest\u001b[0m\u001b[0;34m)\u001b[0m\u001b[0;34m\u001b[0m\u001b[0;34m\u001b[0m\u001b[0m\n\u001b[0m\u001b[1;32m     72\u001b[0m         \u001b[0;32mexcept\u001b[0m \u001b[0mException\u001b[0m\u001b[0;34m:\u001b[0m  \u001b[0;31m# pylint: disable=broad-except\u001b[0m\u001b[0;34m\u001b[0m\u001b[0;34m\u001b[0m\u001b[0m\n\u001b[1;32m     73\u001b[0m             \u001b[0;32mif\u001b[0m \u001b[0;32mnot\u001b[0m \u001b[0m_await_result\u001b[0m\u001b[0;34m(\u001b[0m\u001b[0mself\u001b[0m\u001b[0;34m.\u001b[0m\u001b[0m_policy\u001b[0m\u001b[0;34m.\u001b[0m\u001b[0mon_exception\u001b[0m\u001b[0;34m,\u001b[0m \u001b[0mrequest\u001b[0m\u001b[0;34m)\u001b[0m\u001b[0;34m:\u001b[0m\u001b[0;34m\u001b[0m\u001b[0;34m\u001b[0m\u001b[0m\n",
            "\u001b[0;32m/usr/local/lib/python3.7/dist-packages/azure/core/pipeline/_base.py\u001b[0m in \u001b[0;36msend\u001b[0;34m(self, request)\u001b[0m\n\u001b[1;32m     69\u001b[0m         \u001b[0m_await_result\u001b[0m\u001b[0;34m(\u001b[0m\u001b[0mself\u001b[0m\u001b[0;34m.\u001b[0m\u001b[0m_policy\u001b[0m\u001b[0;34m.\u001b[0m\u001b[0mon_request\u001b[0m\u001b[0;34m,\u001b[0m \u001b[0mrequest\u001b[0m\u001b[0;34m)\u001b[0m\u001b[0;34m\u001b[0m\u001b[0;34m\u001b[0m\u001b[0m\n\u001b[1;32m     70\u001b[0m         \u001b[0;32mtry\u001b[0m\u001b[0;34m:\u001b[0m\u001b[0;34m\u001b[0m\u001b[0;34m\u001b[0m\u001b[0m\n\u001b[0;32m---> 71\u001b[0;31m             \u001b[0mresponse\u001b[0m \u001b[0;34m=\u001b[0m \u001b[0mself\u001b[0m\u001b[0;34m.\u001b[0m\u001b[0mnext\u001b[0m\u001b[0;34m.\u001b[0m\u001b[0msend\u001b[0m\u001b[0;34m(\u001b[0m\u001b[0mrequest\u001b[0m\u001b[0;34m)\u001b[0m\u001b[0;34m\u001b[0m\u001b[0;34m\u001b[0m\u001b[0m\n\u001b[0m\u001b[1;32m     72\u001b[0m         \u001b[0;32mexcept\u001b[0m \u001b[0mException\u001b[0m\u001b[0;34m:\u001b[0m  \u001b[0;31m# pylint: disable=broad-except\u001b[0m\u001b[0;34m\u001b[0m\u001b[0;34m\u001b[0m\u001b[0m\n\u001b[1;32m     73\u001b[0m             \u001b[0;32mif\u001b[0m \u001b[0;32mnot\u001b[0m \u001b[0m_await_result\u001b[0m\u001b[0;34m(\u001b[0m\u001b[0mself\u001b[0m\u001b[0;34m.\u001b[0m\u001b[0m_policy\u001b[0m\u001b[0;34m.\u001b[0m\u001b[0mon_exception\u001b[0m\u001b[0;34m,\u001b[0m \u001b[0mrequest\u001b[0m\u001b[0;34m)\u001b[0m\u001b[0;34m:\u001b[0m\u001b[0;34m\u001b[0m\u001b[0;34m\u001b[0m\u001b[0m\n",
            "\u001b[0;32m/usr/local/lib/python3.7/dist-packages/azure/core/pipeline/_base.py\u001b[0m in \u001b[0;36msend\u001b[0;34m(self, request)\u001b[0m\n\u001b[1;32m     69\u001b[0m         \u001b[0m_await_result\u001b[0m\u001b[0;34m(\u001b[0m\u001b[0mself\u001b[0m\u001b[0;34m.\u001b[0m\u001b[0m_policy\u001b[0m\u001b[0;34m.\u001b[0m\u001b[0mon_request\u001b[0m\u001b[0;34m,\u001b[0m \u001b[0mrequest\u001b[0m\u001b[0;34m)\u001b[0m\u001b[0;34m\u001b[0m\u001b[0;34m\u001b[0m\u001b[0m\n\u001b[1;32m     70\u001b[0m         \u001b[0;32mtry\u001b[0m\u001b[0;34m:\u001b[0m\u001b[0;34m\u001b[0m\u001b[0;34m\u001b[0m\u001b[0m\n\u001b[0;32m---> 71\u001b[0;31m             \u001b[0mresponse\u001b[0m \u001b[0;34m=\u001b[0m \u001b[0mself\u001b[0m\u001b[0;34m.\u001b[0m\u001b[0mnext\u001b[0m\u001b[0;34m.\u001b[0m\u001b[0msend\u001b[0m\u001b[0;34m(\u001b[0m\u001b[0mrequest\u001b[0m\u001b[0;34m)\u001b[0m\u001b[0;34m\u001b[0m\u001b[0;34m\u001b[0m\u001b[0m\n\u001b[0m\u001b[1;32m     72\u001b[0m         \u001b[0;32mexcept\u001b[0m \u001b[0mException\u001b[0m\u001b[0;34m:\u001b[0m  \u001b[0;31m# pylint: disable=broad-except\u001b[0m\u001b[0;34m\u001b[0m\u001b[0;34m\u001b[0m\u001b[0m\n\u001b[1;32m     73\u001b[0m             \u001b[0;32mif\u001b[0m \u001b[0;32mnot\u001b[0m \u001b[0m_await_result\u001b[0m\u001b[0;34m(\u001b[0m\u001b[0mself\u001b[0m\u001b[0;34m.\u001b[0m\u001b[0m_policy\u001b[0m\u001b[0;34m.\u001b[0m\u001b[0mon_exception\u001b[0m\u001b[0;34m,\u001b[0m \u001b[0mrequest\u001b[0m\u001b[0;34m)\u001b[0m\u001b[0;34m:\u001b[0m\u001b[0;34m\u001b[0m\u001b[0;34m\u001b[0m\u001b[0m\n",
            "\u001b[0;32m/usr/local/lib/python3.7/dist-packages/azure/core/pipeline/policies/_redirect.py\u001b[0m in \u001b[0;36msend\u001b[0;34m(self, request)\u001b[0m\n\u001b[1;32m    156\u001b[0m         \u001b[0mredirect_settings\u001b[0m \u001b[0;34m=\u001b[0m \u001b[0mself\u001b[0m\u001b[0;34m.\u001b[0m\u001b[0mconfigure_redirects\u001b[0m\u001b[0;34m(\u001b[0m\u001b[0mrequest\u001b[0m\u001b[0;34m.\u001b[0m\u001b[0mcontext\u001b[0m\u001b[0;34m.\u001b[0m\u001b[0moptions\u001b[0m\u001b[0;34m)\u001b[0m\u001b[0;34m\u001b[0m\u001b[0;34m\u001b[0m\u001b[0m\n\u001b[1;32m    157\u001b[0m         \u001b[0;32mwhile\u001b[0m \u001b[0mretryable\u001b[0m\u001b[0;34m:\u001b[0m\u001b[0;34m\u001b[0m\u001b[0;34m\u001b[0m\u001b[0m\n\u001b[0;32m--> 158\u001b[0;31m             \u001b[0mresponse\u001b[0m \u001b[0;34m=\u001b[0m \u001b[0mself\u001b[0m\u001b[0;34m.\u001b[0m\u001b[0mnext\u001b[0m\u001b[0;34m.\u001b[0m\u001b[0msend\u001b[0m\u001b[0;34m(\u001b[0m\u001b[0mrequest\u001b[0m\u001b[0;34m)\u001b[0m\u001b[0;34m\u001b[0m\u001b[0;34m\u001b[0m\u001b[0m\n\u001b[0m\u001b[1;32m    159\u001b[0m             \u001b[0mredirect_location\u001b[0m \u001b[0;34m=\u001b[0m \u001b[0mself\u001b[0m\u001b[0;34m.\u001b[0m\u001b[0mget_redirect_location\u001b[0m\u001b[0;34m(\u001b[0m\u001b[0mresponse\u001b[0m\u001b[0;34m)\u001b[0m\u001b[0;34m\u001b[0m\u001b[0;34m\u001b[0m\u001b[0m\n\u001b[1;32m    160\u001b[0m             \u001b[0;32mif\u001b[0m \u001b[0mredirect_location\u001b[0m \u001b[0;32mand\u001b[0m \u001b[0mredirect_settings\u001b[0m\u001b[0;34m[\u001b[0m\u001b[0;34m'allow'\u001b[0m\u001b[0;34m]\u001b[0m\u001b[0;34m:\u001b[0m\u001b[0;34m\u001b[0m\u001b[0;34m\u001b[0m\u001b[0m\n",
            "\u001b[0;32m/usr/local/lib/python3.7/dist-packages/azure/core/pipeline/policies/_retry.py\u001b[0m in \u001b[0;36msend\u001b[0;34m(self, request)\u001b[0m\n\u001b[1;32m    447\u001b[0m                     \u001b[0mretry_active\u001b[0m \u001b[0;34m=\u001b[0m \u001b[0mself\u001b[0m\u001b[0;34m.\u001b[0m\u001b[0mincrement\u001b[0m\u001b[0;34m(\u001b[0m\u001b[0mretry_settings\u001b[0m\u001b[0;34m,\u001b[0m \u001b[0mresponse\u001b[0m\u001b[0;34m=\u001b[0m\u001b[0mresponse\u001b[0m\u001b[0;34m)\u001b[0m\u001b[0;34m\u001b[0m\u001b[0;34m\u001b[0m\u001b[0m\n\u001b[1;32m    448\u001b[0m                     \u001b[0;32mif\u001b[0m \u001b[0mretry_active\u001b[0m\u001b[0;34m:\u001b[0m\u001b[0;34m\u001b[0m\u001b[0;34m\u001b[0m\u001b[0m\n\u001b[0;32m--> 449\u001b[0;31m                         \u001b[0mself\u001b[0m\u001b[0;34m.\u001b[0m\u001b[0msleep\u001b[0m\u001b[0;34m(\u001b[0m\u001b[0mretry_settings\u001b[0m\u001b[0;34m,\u001b[0m \u001b[0mrequest\u001b[0m\u001b[0;34m.\u001b[0m\u001b[0mcontext\u001b[0m\u001b[0;34m.\u001b[0m\u001b[0mtransport\u001b[0m\u001b[0;34m,\u001b[0m \u001b[0mresponse\u001b[0m\u001b[0;34m=\u001b[0m\u001b[0mresponse\u001b[0m\u001b[0;34m)\u001b[0m\u001b[0;34m\u001b[0m\u001b[0;34m\u001b[0m\u001b[0m\n\u001b[0m\u001b[1;32m    450\u001b[0m                         \u001b[0mis_response_error\u001b[0m \u001b[0;34m=\u001b[0m \u001b[0;32mTrue\u001b[0m\u001b[0;34m\u001b[0m\u001b[0;34m\u001b[0m\u001b[0m\n\u001b[1;32m    451\u001b[0m                         \u001b[0;32mcontinue\u001b[0m\u001b[0;34m\u001b[0m\u001b[0;34m\u001b[0m\u001b[0m\n",
            "\u001b[0;32m/usr/local/lib/python3.7/dist-packages/azure/core/pipeline/policies/_retry.py\u001b[0m in \u001b[0;36msleep\u001b[0;34m(self, settings, transport, response)\u001b[0m\n\u001b[1;32m    416\u001b[0m         \"\"\"\n\u001b[1;32m    417\u001b[0m         \u001b[0;32mif\u001b[0m \u001b[0mresponse\u001b[0m\u001b[0;34m:\u001b[0m\u001b[0;34m\u001b[0m\u001b[0;34m\u001b[0m\u001b[0m\n\u001b[0;32m--> 418\u001b[0;31m             \u001b[0mslept\u001b[0m \u001b[0;34m=\u001b[0m \u001b[0mself\u001b[0m\u001b[0;34m.\u001b[0m\u001b[0m_sleep_for_retry\u001b[0m\u001b[0;34m(\u001b[0m\u001b[0mresponse\u001b[0m\u001b[0;34m,\u001b[0m \u001b[0mtransport\u001b[0m\u001b[0;34m)\u001b[0m\u001b[0;34m\u001b[0m\u001b[0;34m\u001b[0m\u001b[0m\n\u001b[0m\u001b[1;32m    419\u001b[0m             \u001b[0;32mif\u001b[0m \u001b[0mslept\u001b[0m\u001b[0;34m:\u001b[0m\u001b[0;34m\u001b[0m\u001b[0;34m\u001b[0m\u001b[0m\n\u001b[1;32m    420\u001b[0m                 \u001b[0;32mreturn\u001b[0m\u001b[0;34m\u001b[0m\u001b[0;34m\u001b[0m\u001b[0m\n",
            "\u001b[0;32m/usr/local/lib/python3.7/dist-packages/azure/core/pipeline/policies/_retry.py\u001b[0m in \u001b[0;36m_sleep_for_retry\u001b[0;34m(self, response, transport)\u001b[0m\n\u001b[1;32m    387\u001b[0m         \u001b[0mretry_after\u001b[0m \u001b[0;34m=\u001b[0m \u001b[0mself\u001b[0m\u001b[0;34m.\u001b[0m\u001b[0mget_retry_after\u001b[0m\u001b[0;34m(\u001b[0m\u001b[0mresponse\u001b[0m\u001b[0;34m)\u001b[0m\u001b[0;34m\u001b[0m\u001b[0;34m\u001b[0m\u001b[0m\n\u001b[1;32m    388\u001b[0m         \u001b[0;32mif\u001b[0m \u001b[0mretry_after\u001b[0m\u001b[0;34m:\u001b[0m\u001b[0;34m\u001b[0m\u001b[0;34m\u001b[0m\u001b[0m\n\u001b[0;32m--> 389\u001b[0;31m             \u001b[0mtransport\u001b[0m\u001b[0;34m.\u001b[0m\u001b[0msleep\u001b[0m\u001b[0;34m(\u001b[0m\u001b[0mretry_after\u001b[0m\u001b[0;34m)\u001b[0m\u001b[0;34m\u001b[0m\u001b[0;34m\u001b[0m\u001b[0m\n\u001b[0m\u001b[1;32m    390\u001b[0m             \u001b[0;32mreturn\u001b[0m \u001b[0;32mTrue\u001b[0m\u001b[0;34m\u001b[0m\u001b[0;34m\u001b[0m\u001b[0m\n\u001b[1;32m    391\u001b[0m         \u001b[0;32mreturn\u001b[0m \u001b[0;32mFalse\u001b[0m\u001b[0;34m\u001b[0m\u001b[0;34m\u001b[0m\u001b[0m\n",
            "\u001b[0;32m/usr/local/lib/python3.7/dist-packages/azure/core/pipeline/transport/_base.py\u001b[0m in \u001b[0;36msleep\u001b[0;34m(self, duration)\u001b[0m\n\u001b[1;32m    184\u001b[0m \u001b[0;34m\u001b[0m\u001b[0m\n\u001b[1;32m    185\u001b[0m     \u001b[0;32mdef\u001b[0m \u001b[0msleep\u001b[0m\u001b[0;34m(\u001b[0m\u001b[0mself\u001b[0m\u001b[0;34m,\u001b[0m \u001b[0mduration\u001b[0m\u001b[0;34m)\u001b[0m\u001b[0;34m:\u001b[0m  \u001b[0;31m# pylint: disable=no-self-use\u001b[0m\u001b[0;34m\u001b[0m\u001b[0;34m\u001b[0m\u001b[0m\n\u001b[0;32m--> 186\u001b[0;31m         \u001b[0mtime\u001b[0m\u001b[0;34m.\u001b[0m\u001b[0msleep\u001b[0m\u001b[0;34m(\u001b[0m\u001b[0mduration\u001b[0m\u001b[0;34m)\u001b[0m\u001b[0;34m\u001b[0m\u001b[0;34m\u001b[0m\u001b[0m\n\u001b[0m\u001b[1;32m    187\u001b[0m \u001b[0;34m\u001b[0m\u001b[0m\n\u001b[1;32m    188\u001b[0m \u001b[0;34m\u001b[0m\u001b[0m\n",
            "\u001b[0;31mKeyboardInterrupt\u001b[0m: "
          ]
        }
      ]
    },
    {
      "cell_type": "code",
      "metadata": {
        "colab": {
          "base_uri": "https://localhost:8080/"
        },
        "id": "ijqC0ZgUPG5f",
        "outputId": "1c3b67e1-9156-4539-8d8c-ab93edadb96d"
      },
      "source": [
        "with open('/content/drive/MyDrive/UNBDC/fake_trump.csv', mode='r') as csv_file:\n",
        "    csv_reader = csv.DictReader(csv_file)\n",
        "\n",
        "    ft_dict = {}\n",
        "    line_count = 0\n",
        "\n",
        "    for row in csv_reader:\n",
        "      list = []\n",
        "\n",
        "      if line_count != 0:\n",
        "        key = row['id']\n",
        "      \n",
        "        if key in ft_sent_res:\n",
        "          list.append(ft_sent_res[key])\n",
        "          list.append(row['favorite_count'])\n",
        "          ft_dict[key] = list\n",
        "\n",
        "      line_count += 1\n",
        "\n",
        "print(ft_dict)"
      ],
      "execution_count": null,
      "outputs": [
        {
          "output_type": "stream",
          "text": [
            "{'1237724825843572742': [-0.24999999999999994, '8'], '1243384220845608961': [-0.32, '1'], '1237037722042155009': [0.6699999999999999, '0'], '1244491711302205442': [0.010000000000000002, '0'], '1254053725532012547': [-0.99, '3'], '1255964528224976896': [-1.0, '0'], '1241950553304756224': [-0.11, '0'], '1245736953108213762': [-0.8400000000000001, '3'], '1232831704345251840': [-0.9, '132'], '1245736180718673920': [-0.8400000000000001, '0'], '1254225167129214978': [-1.0, '0'], '1250177929084010497': [-1.0, '0'], '1235267210974613504': [-0.8500000000000001, '13'], '1254390465400655874': [-0.94, '0'], '1255231872914857984': [0.0, '0'], '1254090226336763905': [-1.0, '0'], '1241380159917379587': [-1.0, '11'], '1245353737025138693': [-0.87, '1'], '1240237378041778176': [-0.6100000000000001, '25'], '1255861806804996097': [-1.0, '0'], '1255968512578916352': [-0.6900000000000001, '0'], '1241805420181757957': [0.17999999999999994, '46'], '1256241269032050689': [-0.95, '0'], '1243139730788749312': [-0.43999999999999995, '1'], '1245736018722148360': [-0.8400000000000001, '3'], '1256013502298370048': [-0.96, '2'], '1254401157449109505': [-0.8200000000000001, '3'], '1254189124472446976': [-1.0, '0'], '1242555845302464514': [-0.24999999999999997, '0'], '1244313444226138117': [-0.12, '0'], '1254186904272150528': [-0.99, '0'], '1255528622187778055': [-1.0, '1'], '1240619483573694465': [0.0, '0'], '1238089317802795008': [-0.94, '6'], '1245735947750330369': [-0.8400000000000001, '0'], '1255895497438638080': [-0.98, '0'], '1255906741449080837': [-1.0, '0'], '1245736518192435203': [-0.8400000000000001, '0'], '1254454893781360641': [-1.0, '0'], '1254836420042055680': [-1.0, '4'], '1255568405903663113': [-1.0, '0'], '1254055219199123456': [-0.99, '0'], '1255120736567558146': [-0.95, '0'], '1239206682980429824': [-1.0, '93'], '1238234110818222081': [-0.97, '0'], '1235572467072040960': [0.0, '0'], '1255669327757406208': [-0.99, '0'], '1245736128734527488': [-0.8400000000000001, '0'], '1251922661237800965': [-0.9299999999999999, '1'], '1248202069737177088': [-1.0, '1'], '1232894774207664128': [-0.95, '0'], '1254433392961224704': [-1.0, '0'], '1236691668356796416': [-0.52, '1'], '1254659769853456384': [-1.0, '0'], '1242115665496080385': [-0.18000000000000005, '0'], '1249083025935106048': [-0.82, '2'], '1241895592835637248': [-0.96, '1'], '1254550143485063169': [-1.0, '0'], '1254259350643843072': [-0.18, '0'], '1256341742032490497': [-1.0, '1'], '1232944004570001408': [-0.97, '0'], '1254511520417005568': [-1.0, '0'], '1254040197525901312': [0.9299999999999999, '1'], '1253865797375733761': [-0.82, '0'], '1255857681996361728': [-1.0, '0'], '1254308957977374725': [-1.0, '0'], '1255220915148816386': [-1.0, '1'], '1252348097629286400': [-0.88, '0'], '1255812544608034823': [-1.0, '0'], '1240247344131493888': [-0.89, '4'], '1255987472175181830': [-0.6, '0'], '1255653555752460289': [-0.9, '3'], '1254630112332443655': [-0.5700000000000001, '0'], '1241981415786516481': [0.0, '0'], '1241477679167057920': [0.52, '0'], '1243104606118240258': [-1.0, '0'], '1237902125704888322': [-0.48, '1'], '1251668952993927170': [-0.99, '153'], '1237743384955101184': [-0.010000000000000009, '4'], '1251740072715706368': [-0.9199999999999999, '0'], '1254898815577931776': [-0.030000000000000027, '0'], '1254870117097275393': [-1.0, '0'], '1255932804099002368': [-1.0, '1'], '1242565791217864705': [-0.24999999999999997, '0'], '1240069499132338176': [-0.010000000000000009, '0'], '1247167569888493568': [-0.07999999999999996, '1'], '1247697008888078337': [-0.94, '1'], '1251187362035425281': [-0.94, '0'], '1238788397004660738': [-0.31999999999999995, '0'], '1247652351810375685': [-0.97, '2'], '1239758275555422209': [-0.94, '0'], '1250422776977969152': [-1.0, '0'], '1239884875337011202': [-0.5499999999999999, '0'], '1245736072799191041': [-0.8400000000000001, '0'], '1251245017395613696': [-0.44999999999999996, '0'], '1245128668277596162': [-1.0, '2'], '1255765001626955776': [-1.0, '0'], '1249961723282501635': [-0.77, '9'], '1250384452448108544': [-0.96, '1'], '1253418281404227586': [-0.7899999999999999, '0'], '1238959445822054401': [-1.0, '0'], '1250635901094572034': [-1.0, '1'], '1252452642107920384': [-0.91, '0'], '1251292972844568576': [-0.5800000000000001, '0'], '1249105571766243337': [0.21, '0'], '1239004805802188801': [-1.0, '0'], '1239534520845680641': [-1.0, '0'], '1251988312287588357': [-1.0, '0'], '1251674198856077314': [-0.99, '0'], '1240684779076550657': [0.52, '1'], '1249821053167124480': [-1.0, '0'], '1253308258405748738': [-0.69, '0'], '1251569664745975808': [-0.95, '0'], '1236085644079792128': [-0.47, '1'], '1253363403533369344': [-0.38000000000000006, '0'], '1251310072384258048': [0.31, '0'], '1252994377498140672': [-1.0, '0'], '1251354500134207489': [-1.0, '1'], '1253572006102077442': [-0.96, '0'], '1243694015897145350': [-0.06, '0'], '1252709457227735040': [-1.0, '0'], '1223100213910331392': [-0.98, '2'], '1252619742491414528': [-0.96, '0'], '1249627121959333889': [-0.99, '0'], '1250781661983387650': [-1.0, '0'], '1250813235256680448': [-1.0, '1'], '1249869038060285954': [-1.0, '18'], '1251965877253214208': [-1.0, '0'], '1252030715262201856': [-1.0, '0'], '1250794974217515021': [-1.0, '0'], '1252261817067462656': [-1.0, '3'], '1233840156760821760': [0.12000000000000001, '0'], '1250760854145990656': [-1.0, '0'], '1251996073700110338': [-1.0, '0'], '1253378222969913344': [-1.0, '0'], '1239656579705823234': [-0.97, '0'], '1236897623778439168': [0.11000000000000001, '0'], '1253355157833818113': [-1.0, '0'], '1251915156726124544': [-0.99, '1'], '1251920433181536257': [-1.0, '0'], '1252509944420671488': [-0.030000000000000027, '0'], '1253047767741669377': [-1.0, '15'], '1251199628084641793': [-0.34, '4'], '1251925794802135040': [-1.0, '0'], '1252284031745622017': [-0.96, '0'], '1252660140253286400': [-1.0, '0'], '1249394250443190272': [-0.88, '0'], '1249379005482127360': [-0.96, '0'], '1252060341456044034': [-1.0, '0'], '1252564438076608512': [-0.33, '0'], '1250951818919600128': [-1.0, '0'], '1239634305111986178': [0.92, '0'], '1220951287598063617': [-0.79, '1'], '1251952034779222016': [-1.0, '1'], '1250785494784512002': [-1.0, '0'], '1249465595806076929': [-0.99, '0'], '1250795600712478721': [-0.99, '2'], '1252072856764256259': [0.20000000000000007, '0'], '1252056605191012358': [-1.0, '0'], '1249604749768491008': [-0.97, '5'], '1249760954704965632': [-1.0, '0'], '1253300730615656448': [-0.98, '2'], '1252806507898433540': [-1.0, '1'], '1254627779678744576': [-0.7200000000000001, '0'], '1250854715488980992': [-1.0, '3'], '1252478783606513664': [-0.25, '0'], '1252590324557516802': [-0.94, '1'], '1253363588099477505': [-0.38000000000000006, '0'], '1254174596917604355': [-1.0, '0'], '1238914668514562048': [-0.94, '0'], '1249417132275838977': [-0.78, '0'], '1252510910603841537': [-0.98, '1'], '1252068135684849665': [-1.0, '0'], '1249675745464631296': [-0.89, '0'], '1254181297397825538': [-1.0, '0'], '1254208344690049024': [-1.0, '1'], '1252021212517146624': [-1.0, '0'], '1254432990450593793': [-1.0, '1'], '1252052935267307521': [-1.0, '0'], '1251961232061607941': [-1.0, '1'], '1249824998858149895': [-1.0, '1'], '1252075979150774273': [-0.6000000000000001, '1'], '1253029356663955468': [-1.0, '0'], '1249786847406022656': [-1.0, '0'], '1254577453751812096': [-1.0, '0'], '1252707189455650817': [-0.99, '0'], '1254274922290929664': [-0.20999999999999996, '0'], '1253829070032236545': [-1.0, '0'], '1253365473309270016': [-0.39, '2'], '1251933412467904514': [-0.99, '0'], '1253124095010635777': [-0.38, '1'], '1250556704267186176': [-1.0, '168'], '1221910376922656770': [-0.97, '0'], '1254331638692999169': [-1.0, '0'], '1254187525549076480': [-0.99, '0'], '1249917089349021696': [-1.0, '3'], '1254413521158320129': [-1.0, '0'], '1252232549922828290': [-1.0, '32'], '1250519383027281921': [-0.95, '2'], '1232238158798114817': [-1.0, '0'], '1232387732590268416': [-0.5900000000000001, '0'], '1248478574769668097': [-0.83, '0'], '1221531578540519424': [-0.9199999999999999, '0'], '1235138349523927043': [-1.0, '1'], '1232106169239511042': [0.0, '2'], '1232312187076698112': [-0.06, '0'], '1232335912073334785': [-1.0, '0'], '1232390127273426945': [-1.0, '0'], '1240245269163319296': [-1.0, '0'], '1220507921210957824': [-0.84, '2'], '1240119111289647104': [-1.0, '0'], '1232679977038106624': [-1.0, '0'], '1232765927931777025': [-1.0, '0'], '1224433324766031873': [-0.03, '0'], '1232291322008043520': [-1.0, '0'], '1232286150531911680': [-1.0, '0'], '1238316928508129281': [-1.0, '2'], '1232238159825645568': [-1.0, '0'], '1232417580662448128': [-1.0, '0'], '1232145368780947459': [-1.0, '0'], '1232467789316640768': [-1.0, '0'], '1240252277090324481': [-1.0, '0'], '1232481494167425024': [-1.0, '0'], '1242621435736199171': [0.0, '9'], '1246510081530789889': [-0.97, '2'], '1232852780244721666': [0.7, '0'], '1220870959378264065': [-1.0, '0'], '1248409383035260928': [-0.99, '0'], '1232384130823917571': [-1.0, '0'], '1247304104562417664': [-0.99, '0'], '1240276832446005251': [-0.96, '0'], '1232679407363526656': [-0.99, '1'], '1239363958953263104': [-1.0, '0'], '1232095767600324608': [-1.0, '0'], '1232070270397145088': [-1.0, '0'], '1232420992179482637': [-1.0, '0'], '1240290968256970753': [-1.0, '0'], '1242993896109441024': [-0.99, '0'], '1232676718349111297': [-0.99, '1'], '1220649353632780289': [-0.98, '1'], '1233516160970371074': [-1.0, '0'], '1247781774974803978': [-0.98, '0'], '1232329815644164097': [-0.51, '0'], '1232311990497923081': [-1.0, '0'], '1232904137471188992': [-0.41000000000000003, '0'], '1237888680141848576': [-1.0, '0'], '1232111621444710401': [-1.0, '0'], '1232134146715029504': [-1.0, '0'], '1238229852945289216': [-1.0, '0'], '1232103971679961088': [-0.91, '0'], '1232391193725530112': [-1.0, '0'], '1232091123662893058': [-1.0, '0'], '1232654158584524803': [-1.0, '0'], '1237914753248505856': [-0.36000000000000004, '0'], '1238474714600722432': [-1.0, '3'], '1238209580028616705': [-1.0, '0'], '1243916399820419073': [-1.0, '0'], '1233499511605121025': [-0.78, '7'], '1232313909857509377': [0.61, '8'], '1224110743102029824': [-0.1, '0'], '1232560741674291200': [-0.16000000000000003, '0'], '1238209139584745487': [-1.0, '0'], '1248280068700483584': [-0.99, '0'], '1232234776540647424': [-1.0, '0'], '1232098922887352320': [-0.6499999999999999, '0'], '1232310028704587777': [-0.97, '0'], '1240273272257884169': [-1.0, '0'], '1238195964743020544': [-1.0, '0'], '1238607791809585152': [-1.0, '0'], '1238652474187284482': [-1.0, '0'], '1232311505137303552': [-1.0, '0'], '1232107774118629376': [-1.0, '0'], '1240138147050205185': [-1.0, '0'], '1232394892380430336': [-1.0, '1'], '1238716104437977088': [-1.0, '1'], '1232153844949213185': [-1.0, '0'], '1247514287180001282': [-0.99, '0'], '1232322873878024195': [-0.8, '1'], '1232180282867892226': [-1.0, '0'], '1220862576499752962': [-0.92, '4'], '1240091556914348038': [-1.0, '0'], '1221473139701346305': [-0.020000000000000018, '0'], '1238515857900404740': [-1.0, '0'], '1240328400893612033': [-1.0, '0'], '1242794156587651073': [-1.0, '0'], '1234861894323916800': [-0.48, '2'], '1246196709794906114': [-0.99, '0'], '1238554191876042755': [-1.0, '1'], '1238271735641837573': [-1.0, '0'], '1238526498300198915': [-1.0, '0'], '1238506096618332160': [-1.0, '0'], '1240079090742222848': [-1.0, '0'], '1237928867832053763': [-1.0, '0'], '1220867222874267648': [-0.99, '0'], '1247554881587576832': [-0.99, '0'], '1253448331503771648': [0.03, '0'], '1240109497755897857': [-1.0, '0'], '1242132869377593353': [-1.0, '0'], '1238517984001511425': [-1.0, '0'], '1249853945842982914': [-0.57, '0'], '1274510293666680832': [-0.96, '3'], '1249012687243055104': [-0.9, '0'], '1249968668336967680': [-1.0, '0'], '1249773484227457025': [-0.7, '0'], '1277283295521316867': [-0.67, '0'], '1274569102040784897': [-0.44, '0'], '1248275906931699713': [-0.9299999999999999, '0'], '1276491302952148993': [-1.0, '0'], '1250091093888077825': [-0.84, '0'], '1275078156819378178': [-0.56, '0'], '1274715320272523266': [-1.0, '0'], '1249896823558414337': [-0.57, '0'], '1273415144287227905': [-0.01, '11'], '1273696234109317121': [-1.0, '0'], '1249849425293266944': [-0.57, '0'], '1232052021479575553': [-1.0, '0'], '1249796468241838080': [-0.53, '1'], '1249810005009858561': [-0.57, '2'], '1249880111249154048': [-0.57, '0'], '1275801200278020097': [-0.48, '19'], '1274510769208492032': [-0.16000000000000003, '0'], '1250359407533162498': [-0.6599999999999999, '0'], '1250217453524865024': [-0.91, '0'], '1274092128747094016': [-0.6799999999999999, '1'], '1249803379754369027': [-0.57, '44'], '1275049049599729664': [-0.28, '0'], '1274707183763103744': [-1.0, '696'], '1249849447124631554': [-0.57, '0'], '1274347064445538305': [-0.04, '0'], '1276365489292353536': [0.0, '0'], '1273625615858577409': [-0.99, '0'], '1275575312894636034': [-0.35, '4'], '1245501354971365377': [0.03, '0'], '1249766660916932614': [-0.22, '2'], '1276585208934879233': [-1.0, '0'], '1275435711714320384': [-0.01, '1'], '1232067727705153536': [-1.0, '0'], '1275552336195121153': [-0.77, '0'], '1274302248726781952': [-0.96, '8'], '1249902959451922433': [-0.52, '0'], '1232019136928210945': [-1.0, '0'], '1247708818466840578': [-0.2, '0'], '1232032022773805056': [-1.0, '0'], '1273638974117031936': [0.0, '4'], '1249890261016219658': [-0.6599999999999999, '0'], '1274512963034996736': [-0.07, '1679'], '1223641578452873216': [-0.06, '0'], '1276634056801820673': [0.030000000000000002, '0'], '1274399533972066305': [-0.94, '9'], '1249835439927762945': [-0.57, '6'], '1249792092030853120': [-0.5, '0'], '1250053681665507330': [-0.57, '4'], '1232023046833102848': [-1.0, '0'], '1232056548844662785': [-0.04999999999999999, '0'], '1250772811850878977': [-0.93, '0'], '1249792859315662849': [-0.57, '1'], '1225244432242442240': [-0.04, '2'], '1249979464387309570': [-0.57, '0'], '1243174551032397825': [-1.0, '0'], '1249820979330678785': [-0.58, '0'], '1249786096747085824': [-0.57, '0'], '1249793431108571138': [-0.7699999999999999, '0'], '1249754108107485189': [-0.57, '170'], '1232041924481208321': [-1.0, '0'], '1249993713427845122': [-0.5, '0'], '1249780227309518848': [-0.6599999999999999, '0'], '1232300647577505793': [-1.0, '0'], '1232221008574263302': [-1.0, '0'], '1249802760398057473': [-0.57, '0'], '1232022916545597449': [-1.0, '0'], '1243981791809191936': [-1.0, '0'], '1232135886516736000': [-0.36000000000000004, '0'], '1249901589176999936': [-0.5, '0'], '1232051776204894208': [-1.0, '0'], '1232539519246852096': [-0.91, '72'], '1232245010273316864': [-1.0, '0'], '1232302426390175749': [-1.0, '0'], '1232303634110668801': [-1.0, '2'], '1232186484716920835': [-1.0, '7'], '1232455758324699137': [-1.0, '0'], '1232288354009522176': [-1.0, '0'], '1232415123312017409': [-0.77, '3'], '1249786409453486080': [-0.07, '1'], '1232373514914729984': [-0.25, '0'], '1232085332117663744': [-1.0, '0'], '1232086266054893569': [-1.0, '0'], '1249810082323447813': [-0.89, '0'], '1233106926877081600': [-1.0, '0'], '1249782424583602176': [-0.6599999999999999, '0'], '1232069421444816896': [-1.0, '0'], '1232383725448527872': [-1.0, '1'], '1232306507888386048': [-0.82, '0'], '1232167377737076736': [-1.0, '1'], '1233509745312649216': [-1.0, '0'], '1223637637052932097': [-0.47, '12'], '1232360785776697352': [-1.0, '0'], '1249799624501506050': [-0.57, '1'], '1232768470238027776': [-1.0, '0'], '1249753488067870721': [-0.5, '0'], '1273024127377555456': [-1.0, '0'], '1273174890061934594': [-1.0, '0'], '1272864190391336960': [-1.0, '0'], '1272889126346514433': [-0.02, '0'], '1272996408472285187': [0.0, '1'], '1273227268769361920': [0.61, '3'], '1272947788846784513': [-0.01, '0'], '1273069566319407104': [-0.97, '0'], '1272830410372739073': [0.03, '3'], '1272901182730702849': [0.01, '0'], '1272880706478358530': [-1.0, '1'], '1272924906393567232': [-0.02, '0'], '1272842820110487553': [-0.01, '0'], '1272721976797396995': [-0.01, '0'], '1272860558686146560': [-0.94, '0'], '1272905188957999116': [-1.0, '1'], '1272925182445977600': [-0.16, '0'], '1272725074664058882': [-0.02, '0'], '1272787347533266944': [-0.02, '0'], '1272935321517395970': [-0.97, '0'], '1273236736232116224': [0.030000000000000006, '0'], '1273148746533146624': [-0.01, '0'], '1272968946954764288': [-0.01, '0'], '1272684673651470337': [-0.11000000000000004, '0'], '1272861072471416832': [-0.99, '1'], '1272790187098152963': [-0.99, '0'], '1272864796745125888': [-0.7899999999999999, '0'], '1272834958571298817': [-0.01, '6'], '1272699137662861317': [1.0, '1'], '1273148841819344897': [-0.9299999999999999, '0'], '1272926766445867015': [-0.01, '0'], '1272738722493214723': [0.020000000000000004, '1'], '1272671671363698690': [-0.01, '1'], '1272742686764814339': [-0.64, '0'], '1272865674516467712': [-0.7899999999999999, '0'], '1274513386999623682': [-0.34, '4'], '1272828938289627138': [-0.99, '0'], '1273122768087855107': [0.01, '0'], '1273035650481229826': [0.05, '1'], '1274518429228285952': [-0.07, '0'], '1272738843683196931': [0.009999999999999998, '0'], '1274696606260932609': [-0.02, '0'], '1272885884879241217': [-0.95, '0'], '1275981994422341634': [-0.97, '1'], '1272916662874972160': [-0.02, '0'], '1272878865971425281': [-0.31, '12'], '1273366702127042562': [-0.01, '14'], '1273039551813103617': [0.01, '1'], '1272927760441212928': [-1.0, '0'], '1273148836953948162': [-0.01, '0'], '1273219952074469380': [0.57, '0'], '1273062676420341760': [-1.0, '0'], '1274153335889768449': [-0.96, '1'], '1274510046588809217': [-0.17999999999999994, '0'], '1274020545277734912': [0.25, '0'], '1273054465151700993': [-1.0, '0'], '1272924181412241411': [-0.01, '0'], '1274411984549797888': [-0.01, '0'], '1272916780772503552': [-1.0, '0'], '1272973429629759488': [-1.0, '5'], '1274513581489491974': [-0.9199999999999999, '30'], '1272837939047862273': [-1.0, '1'], '1272828160791523328': [-1.0, '0'], '1273212115856261120': [-0.82, '2'], '1273338940230004738': [0.0, '0'], '1276925152509427715': [-0.6799999999999999, '0'], '1272667300999491584': [-0.02, '0'], '1273238742212411392': [-0.01, '0'], '1272926411209297921': [-0.96, '1'], '1274525828450340870': [-0.49, '2'], '1274514700794056707': [-0.41000000000000003, '0'], '1272714093611360258': [-0.99, '3'], '1273982892679495682': [0.0, '4'], '1275280684395884544': [-1.0, '0'], '1272768922412957696': [0.0, '2'], '1272931189385498624': [-0.02, '0'], '1273482291507982337': [-0.13, '1'], '1272900713769848837': [0.72, '34'], '1274526428068040705': [-0.04, '0'], '1272674912998576128': [-0.01, '0'], '1274662101567639552': [0.01, '15'], '1275222426788528134': [0.81, '1'], '1272731234188300288': [-0.96, '14'], '1273253175945048064': [-0.039999999999999994, '4'], '1272962566638063616': [0.51, '2'], '1276378075354116096': [-0.02, '0'], '1274510204126797825': [-0.35, '252'], '1275507673497305088': [-1.0, '0'], '1273366872117952518': [0.0, '1'], '1274512559765405697': [-1.0, '1361'], '1274529902872715271': [-1.0, '0'], '1274513613546545153': [0.42999999999999994, '0'], '1273283731323838465': [-0.99, '0'], '1273665749777707008': [0.0, '0'], '1275114312407740416': [-0.4, '139'], '1273351655203975176': [-0.96, '0'], '1276711189712703488': [-0.019999999999999997, '0'], '1274510092449218560': [-0.71, '3'], '1274801175691440133': [0.96, '0'], '1276544879217311745': [-0.13, '4'], '1257358428978262021': [-0.91, '4'], '1266020655436369920': [-0.99, '1'], '1262784907203481600': [-1.0, '0'], '1257298308969660421': [-0.8200000000000001, '0'], '1257435695427334149': [-0.91, '0'], '1260675463984414721': [-0.93, '0'], '1262786189955866625': [-1.0, '0'], '1262785661448454144': [-1.0, '0'], '1260620715998482435': [-0.47, '3'], '1259170415177461761': [-0.96, '1'], '1258796569991745539': [0.67, '1'], '1271969308621619201': [-0.99, '0'], '1266012910901497856': [-1.0, '0'], '1257771620682399746': [0.38999999999999996, '0'], '1266755017257693184': [-0.98, '0'], '1257716886713720833': [-0.91, '0'], '1260620510683107329': [-1.0, '2'], '1265891772657315840': [-1.0, '0'], '1261488956132163584': [-0.99, '0'], '1262784989655162884': [-1.0, '0'], '1266254833746501639': [-0.91, '0'], '1257710223046987776': [-0.94, '11'], '1263162119819866117': [-0.89, '0'], '1262541487457341442': [-0.97, '0'], '1266754230607634434': [-1.0, '1'], '1262785625134170115': [-1.0, '0'], '1266233954073341952': [-1.0, '1'], '1263206346209583107': [-0.91, '0'], '1259658732394500096': [-0.98, '0'], '1263168682277998593': [-0.91, '0'], '1261293180403642368': [-0.98, '2'], '1265441498587422721': [-0.86, '0'], '1259515289169014784': [-0.62, '31'], '1277334066241683456': [-0.96, '0'], '1272664478065348610': [-0.02, '0'], '1264240277641822211': [-1.0, '0'], '1261629645818081280': [-0.99, '5'], '1259608981737107457': [-0.31999999999999995, '0'], '1262870649103622145': [-0.83, '2'], '1266065729431965697': [-0.98, '66'], '1263483770008715265': [-0.91, '0'], '1273230011567407106': [-1.0, '1'], '1266415652211961865': [-0.7799999999999999, '0'], '1267401563250753536': [-0.25000000000000006, '1'], '1259124711889534979': [-1.0, '0'], '1264245035752738818': [0.0, '0'], '1266013930285142019': [-0.97, '1'], '1266060163762532353': [0.040000000000000036, '0'], '1264971792705294337': [0.48999999999999994, '0'], '1261275647160258562': [-1.0, '0'], '1266059337031704577': [-1.0, '0'], '1263457248426278913': [-0.91, '0'], '1272629924042551296': [0.08, '5'], '1263493305364557825': [-0.94, '2'], '1260988265261338625': [-0.83, '5'], '1266391098995478531': [-0.98, '0'], '1276134648893104128': [-0.06, '0'], '1266042607806775297': [-0.77, '0'], '1263197307492691968': [-0.91, '0'], '1266022241558499331': [-0.76, '0'], '1272658056384577543': [-0.01, '0'], '1273750394804613120': [-0.83, '0'], '1263705111932567552': [-0.009999999999999998, '1'], '1266042138745167872': [-0.77, '0'], '1259495506734129154': [-0.98, '1'], '1272661423940874242': [-0.01, '21'], '1272878817040838658': [-0.43000000000000005, '1'], '1264677196544634881': [-0.87, '0'], '1273046233070710785': [-1.0, '0'], '1273105738366431233': [0.01, '27'], '1272705196238557186': [-0.02, '0'], '1272833269080489991': [-0.01, '0'], '1272639890744901632': [0.0, '1'], '1272890919642161156': [-0.02, '0'], '1271498653304107008': [-0.73, '0'], '1272919312030855168': [0.03, '0'], '1272710835912261632': [-0.01, '0'], '1259464393227669504': [-1.0, '0'], '1272944842952278017': [0.009999999999999998, '1'], '1272790660567822337': [-0.01, '0'], '1263844354566881280': [-0.97, '2'], '1259464387527684097': [-0.92, '0'], '1256060269660422145': [-0.99, '0'], '1264192110657495042': [-0.58, '0'], '1272848518177345536': [-0.02, '0'], '1262786085823922177': [-1.0, '0'], '1272917285582356480': [0.8, '2'], '1258887083432738816': [-0.98, '23'], '1264425903225835521': [-0.89, '0'], '1262784848080535563': [-1.0, '0'], '1259098457098379264': [-1.0, '6'], '1272899325400621061': [-0.01, '1'], '1265992014631448577': [-0.99, '16650'], '1259124257075990528': [-1.0, '0'], '1272861488252776448': [-0.98, '0'], '1272736193210269696': [-0.01, '0'], '1265841849803116544': [-0.48999999999999994, '1'], '1266029977339756544': [-0.99, '0'], '1272728140784250880': [-0.47, '0'], '1263079893698514945': [-0.99, '1'], '1260620622679486464': [0.0, '4'], '1262382657092104193': [0.32, '0'], '1257290848850640902': [0.57, '108'], '1258189973360164865': [-1.0, '0'], '1256767717153148933': [-0.009999999999999995, '0'], '1256574256877654023': [-0.95, '0'], '1256270995125612546': [0.0, '0'], '1260929545953112064': [-0.97, '0'], '1256270115622072321': [0.009999999999999998, '0'], '1256215438402424832': [1.0, '2'], '1276270354680422413': [0.0, '0'], '1256209683452395522': [0.04000000000000001, '39'], '1258647126508105728': [-0.94, '0'], '1258843843056635904': [-0.99, '15'], '1258621380385476615': [-0.24, '1'], '1258047112010444801': [-0.94, '0'], '1258396389215739910': [-1.0, '0'], '1258074817233924106': [-0.91, '1'], '1257423937249705986': [-0.9199999999999999, '20'], '1256028946296123393': [0.95, '0'], '1257809099812532225': [0.8200000000000001, '0'], '1261287657402888192': [-0.98, '0'], '1269095934123745287': [-0.060000000000000005, '0'], '1276671364527804419': [0.01, '0'], '1258142033602060289': [-0.32, '0'], '1257668754739167233': [-0.8500000000000001, '0'], '1258842683717693440': [-0.91, '0'], '1257446120734720004': [-0.91, '4'], '1260563741558689801': [-1.0, '1'], '1258601763583787009': [0.37, '3'], '1256650130327056385': [-0.78, '0'], '1257661671654469632': [-0.9, '0'], '1257657335151054848': [-0.9199999999999999, '1'], '1257672236795858945': [0.45999999999999996, '73'], '1257308579805069312': [-0.02, '0'], '1257683376775008256': [-0.7799999999999999, '1'], '1275572168550567938': [0.0, '1'], '1257383371073781760': [-1.0, '1'], '1257645110969466882': [-0.9, '10'], '1257689514153136128': [-0.88, '3'], '1257661443912224768': [-1.0, '0'], '1257238249459855361': [-0.019999999999999997, '0'], '1258352309739937794': [-0.99, '0'], '1258062633975963650': [-0.91, '0'], '1257647381421723649': [-0.7799999999999999, '0'], '1257701038087303169': [-0.99, '2'], '1258794529328640002': [-0.59, '4'], '1257900974934351872': [-0.6000000000000001, '6'], '1256490507225661443': [1.0, '0'], '1257988595161477121': [-0.96, '0'], '1257720880974704640': [0.15000000000000002, '2'], '1256329737745489921': [-1.0, '0'], '1272759203686305792': [-0.95, '0'], '1257582212159021057': [-0.14999999999999997, '0'], '1263070775000682496': [-1.0, '0'], '1257368191547912194': [-0.88, '1'], '1257723528679489538': [-1.0, '0'], '1257747316720627712': [-0.99, '0'], '1257650377949958153': [-0.92, '12'], '1257677004423327745': [-0.91, '0'], '1257714333280329728': [-0.81, '0'], '1256240063131848705': [-0.83, '63'], '1258711704269205504': [-1.0, '10'], '1258741466924560387': [-0.91, '1003'], '1257859140447240199': [-0.7799999999999999, '0'], '1264283253038436352': [0.009999999999999998, '0'], '1256259204567842817': [-0.83, '1'], '1258868193621356551': [-0.99, '0'], '1257396458963296257': [-1.0, '10'], '1257598763142701058': [0.08000000000000002, '54'], '1257497263200337925': [-1.0, '0'], '1257318013637758978': [-0.98, '27'], '1258595060821581824': [-0.99, '0'], '1256574159309533187': [-1.0, '7'], '1257592123773325312': [-0.9199999999999999, '3'], '1256984733101113344': [0.0, '0'], '1257393309263290370': [-0.87, '6'], '1257733225327276032': [-0.96, '1'], '1258723491534131201': [-1.0, '13'], '1258955410779910146': [0.0, '1'], '1260564196292517894': [-0.74, '0'], '1257323816692314113': [-0.23000000000000004, '29'], '1258535992425803776': [-0.97, '0'], '1258420077826801664': [-1.0, '36'], '1261121026387251200': [-0.89, '0'], '1258783776257310725': [-1.0, '3'], '1257965072783155200': [-0.89, '0'], '1258543240657039362': [-0.98, '0'], '1257303790010552320': [-0.26999999999999996, '3'], '1257354501859823616': [-0.38, '0'], '1258419801288069129': [-1.0, '1'], '1257806265360711680': [-0.7799999999999999, '0'], '1257651756831563777': [-0.83, '19'], '1258822762497531906': [-0.5900000000000001, '0'], '1257803583841583109': [-0.91, '0'], '1257799895643238401': [-0.9, '1'], '1257678529627652099': [-0.42999999999999994, '0'], '1261291285308030982': [-0.82, '0'], '1257633359351746561': [-0.89, '8'], '1287878555414585345': [0.61, '4'], '1288230513459814406': [-1.0, '3'], '1262749589985062912': [-0.97, '0'], '1256322785065893888': [0.13, '0'], '1256952083690946562': [-0.04000000000000001, '0'], '1256337424763899905': [-0.009999999999999998, '0'], '1277026280484098048': [-0.89, '0'], '1269676954590089216': [-0.93, '0'], '1256690999549669376': [-0.06000000000000005, '0'], '1266256804951937025': [0.039999999999999994, '0'], '1257854004530462720': [-0.77, '4'], '1256947333180334085': [0.07, '38'], '1256223808744312834': [0.04000000000000001, '2']}\n"
          ],
          "name": "stdout"
        }
      ]
    },
    {
      "cell_type": "markdown",
      "metadata": {
        "id": "DUOtmzxoNUfZ"
      },
      "source": [
        "Real Biden"
      ]
    },
    {
      "cell_type": "code",
      "metadata": {
        "id": "HemhQpOwNRzp",
        "colab": {
          "base_uri": "https://localhost:8080/",
          "height": 374
        },
        "outputId": "63bbc616-d3e6-4336-eb8e-1c08e5512a9f"
      },
      "source": [
        "reviews_folder = os.path.join('/content/drive/MyDrive/UNBDC/Real_biden')\n",
        "\n",
        "rb_reviews = []\n",
        "counter = 0\n",
        "rb_id_groups = []\n",
        "\n",
        "total = len(os.listdir(reviews_folder))\n",
        "\n",
        "for file_name in os.listdir(reviews_folder):\n",
        "    counter += 1\n",
        "    review_text = open(os.path.join(reviews_folder, file_name)).read()\n",
        "    review = {\"id\": file_name, \"text\": review_text}\n",
        "    rb_reviews.append(review)\n",
        "\n",
        "    if (counter+1)/10 == (counter+1)//10 or total - counter == 0:\n",
        "      rb_id_groups.append(rb_reviews)\n",
        "      rb_reviews = []\n",
        "      \n",
        "#print(counter)\n",
        "#for i in rb_id_groups:\n",
        "#  print(len(i))\n",
        "#  print(i, '\\n')\n",
        "\n",
        "count = 0\n",
        "rb_sent_res = {}\n",
        "\n",
        "for group in rb_id_groups:\n",
        "    #print(group)\n",
        "    sentiment_analysis = text_analytics_client.analyze_sentiment(group)\n",
        "    for i in sentiment_analysis:\n",
        "      #print(i['confidence_scores'])\n",
        "      c_scores = i['confidence_scores'] # e.g. {'positive': 0.2, 'neutral': 0.16, 'negative': 0.64}\n",
        "\n",
        "      score = c_scores['neutral']*0 + c_scores['positive']*-1 + c_scores['negative']*1\n",
        "      #print(group[count]['id'].replace('.txt', ''))\n",
        "      #print(score)\n",
        "      rb_sent_res[group[count]['id'].replace('.txt', '')] = score\n",
        "      count += 1\n",
        "    count = 0\n",
        "  \n",
        "print(rb_sent_res)"
      ],
      "execution_count": null,
      "outputs": [
        {
          "output_type": "error",
          "ename": "KeyboardInterrupt",
          "evalue": "ignored",
          "traceback": [
            "\u001b[0;31m---------------------------------------------------------------------------\u001b[0m",
            "\u001b[0;31mKeyboardInterrupt\u001b[0m                         Traceback (most recent call last)",
            "\u001b[0;32m<ipython-input-45-2cc9d8d16014>\u001b[0m in \u001b[0;36m<module>\u001b[0;34m()\u001b[0m\n\u001b[1;32m     27\u001b[0m \u001b[0;32mfor\u001b[0m \u001b[0mgroup\u001b[0m \u001b[0;32min\u001b[0m \u001b[0mrb_id_groups\u001b[0m\u001b[0;34m:\u001b[0m\u001b[0;34m\u001b[0m\u001b[0;34m\u001b[0m\u001b[0m\n\u001b[1;32m     28\u001b[0m     \u001b[0;31m#print(group)\u001b[0m\u001b[0;34m\u001b[0m\u001b[0;34m\u001b[0m\u001b[0;34m\u001b[0m\u001b[0m\n\u001b[0;32m---> 29\u001b[0;31m     \u001b[0msentiment_analysis\u001b[0m \u001b[0;34m=\u001b[0m \u001b[0mtext_analytics_client\u001b[0m\u001b[0;34m.\u001b[0m\u001b[0manalyze_sentiment\u001b[0m\u001b[0;34m(\u001b[0m\u001b[0mgroup\u001b[0m\u001b[0;34m)\u001b[0m\u001b[0;34m\u001b[0m\u001b[0;34m\u001b[0m\u001b[0m\n\u001b[0m\u001b[1;32m     30\u001b[0m     \u001b[0;32mfor\u001b[0m \u001b[0mi\u001b[0m \u001b[0;32min\u001b[0m \u001b[0msentiment_analysis\u001b[0m\u001b[0;34m:\u001b[0m\u001b[0;34m\u001b[0m\u001b[0;34m\u001b[0m\u001b[0m\n\u001b[1;32m     31\u001b[0m       \u001b[0;31m#print(i['confidence_scores'])\u001b[0m\u001b[0;34m\u001b[0m\u001b[0;34m\u001b[0m\u001b[0;34m\u001b[0m\u001b[0m\n",
            "\u001b[0;32m/usr/local/lib/python3.7/dist-packages/azure/core/tracing/decorator.py\u001b[0m in \u001b[0;36mwrapper_use_tracer\u001b[0;34m(*args, **kwargs)\u001b[0m\n\u001b[1;32m     81\u001b[0m             \u001b[0mspan_impl_type\u001b[0m \u001b[0;34m=\u001b[0m \u001b[0msettings\u001b[0m\u001b[0;34m.\u001b[0m\u001b[0mtracing_implementation\u001b[0m\u001b[0;34m(\u001b[0m\u001b[0;34m)\u001b[0m\u001b[0;34m\u001b[0m\u001b[0;34m\u001b[0m\u001b[0m\n\u001b[1;32m     82\u001b[0m             \u001b[0;32mif\u001b[0m \u001b[0mspan_impl_type\u001b[0m \u001b[0;32mis\u001b[0m \u001b[0;32mNone\u001b[0m\u001b[0;34m:\u001b[0m\u001b[0;34m\u001b[0m\u001b[0;34m\u001b[0m\u001b[0m\n\u001b[0;32m---> 83\u001b[0;31m                 \u001b[0;32mreturn\u001b[0m \u001b[0mfunc\u001b[0m\u001b[0;34m(\u001b[0m\u001b[0;34m*\u001b[0m\u001b[0margs\u001b[0m\u001b[0;34m,\u001b[0m \u001b[0;34m**\u001b[0m\u001b[0mkwargs\u001b[0m\u001b[0;34m)\u001b[0m\u001b[0;34m\u001b[0m\u001b[0;34m\u001b[0m\u001b[0m\n\u001b[0m\u001b[1;32m     84\u001b[0m \u001b[0;34m\u001b[0m\u001b[0m\n\u001b[1;32m     85\u001b[0m             \u001b[0;31m# Merge span is parameter is set, but only if no explicit parent are passed\u001b[0m\u001b[0;34m\u001b[0m\u001b[0;34m\u001b[0m\u001b[0;34m\u001b[0m\u001b[0m\n",
            "\u001b[0;32m/usr/local/lib/python3.7/dist-packages/azure/ai/textanalytics/_text_analytics_client.py\u001b[0m in \u001b[0;36manalyze_sentiment\u001b[0;34m(self, documents, **kwargs)\u001b[0m\n\u001b[1;32m    412\u001b[0m                 \u001b[0mshow_stats\u001b[0m\u001b[0;34m=\u001b[0m\u001b[0mshow_stats\u001b[0m\u001b[0;34m,\u001b[0m\u001b[0;34m\u001b[0m\u001b[0;34m\u001b[0m\u001b[0m\n\u001b[1;32m    413\u001b[0m                 \u001b[0mcls\u001b[0m\u001b[0;34m=\u001b[0m\u001b[0mkwargs\u001b[0m\u001b[0;34m.\u001b[0m\u001b[0mpop\u001b[0m\u001b[0;34m(\u001b[0m\u001b[0;34m\"cls\"\u001b[0m\u001b[0;34m,\u001b[0m \u001b[0msentiment_result\u001b[0m\u001b[0;34m)\u001b[0m\u001b[0;34m,\u001b[0m\u001b[0;34m\u001b[0m\u001b[0;34m\u001b[0m\u001b[0m\n\u001b[0;32m--> 414\u001b[0;31m                 \u001b[0;34m**\u001b[0m\u001b[0mkwargs\u001b[0m\u001b[0;34m\u001b[0m\u001b[0;34m\u001b[0m\u001b[0m\n\u001b[0m\u001b[1;32m    415\u001b[0m             )\n\u001b[1;32m    416\u001b[0m         \u001b[0;32mexcept\u001b[0m \u001b[0mHttpResponseError\u001b[0m \u001b[0;32mas\u001b[0m \u001b[0merror\u001b[0m\u001b[0;34m:\u001b[0m\u001b[0;34m\u001b[0m\u001b[0;34m\u001b[0m\u001b[0m\n",
            "\u001b[0;32m/usr/local/lib/python3.7/dist-packages/azure/ai/textanalytics/_generated/operations/_text_analytics_client_operations.py\u001b[0m in \u001b[0;36msentiment\u001b[0;34m(self, documents, model_version, show_stats, **kwargs)\u001b[0m\n\u001b[1;32m    373\u001b[0m         \u001b[0mrequest\u001b[0m \u001b[0;34m=\u001b[0m \u001b[0mself\u001b[0m\u001b[0;34m.\u001b[0m\u001b[0m_client\u001b[0m\u001b[0;34m.\u001b[0m\u001b[0mpost\u001b[0m\u001b[0;34m(\u001b[0m\u001b[0murl\u001b[0m\u001b[0;34m,\u001b[0m \u001b[0mquery_parameters\u001b[0m\u001b[0;34m,\u001b[0m \u001b[0mheader_parameters\u001b[0m\u001b[0;34m,\u001b[0m \u001b[0;34m**\u001b[0m\u001b[0mbody_content_kwargs\u001b[0m\u001b[0;34m)\u001b[0m\u001b[0;34m\u001b[0m\u001b[0;34m\u001b[0m\u001b[0m\n\u001b[1;32m    374\u001b[0m \u001b[0;34m\u001b[0m\u001b[0m\n\u001b[0;32m--> 375\u001b[0;31m         \u001b[0mpipeline_response\u001b[0m \u001b[0;34m=\u001b[0m \u001b[0mself\u001b[0m\u001b[0;34m.\u001b[0m\u001b[0m_client\u001b[0m\u001b[0;34m.\u001b[0m\u001b[0m_pipeline\u001b[0m\u001b[0;34m.\u001b[0m\u001b[0mrun\u001b[0m\u001b[0;34m(\u001b[0m\u001b[0mrequest\u001b[0m\u001b[0;34m,\u001b[0m \u001b[0mstream\u001b[0m\u001b[0;34m=\u001b[0m\u001b[0;32mFalse\u001b[0m\u001b[0;34m,\u001b[0m \u001b[0;34m**\u001b[0m\u001b[0mkwargs\u001b[0m\u001b[0;34m)\u001b[0m\u001b[0;34m\u001b[0m\u001b[0;34m\u001b[0m\u001b[0m\n\u001b[0m\u001b[1;32m    376\u001b[0m         \u001b[0mresponse\u001b[0m \u001b[0;34m=\u001b[0m \u001b[0mpipeline_response\u001b[0m\u001b[0;34m.\u001b[0m\u001b[0mhttp_response\u001b[0m\u001b[0;34m\u001b[0m\u001b[0;34m\u001b[0m\u001b[0m\n\u001b[1;32m    377\u001b[0m \u001b[0;34m\u001b[0m\u001b[0m\n",
            "\u001b[0;32m/usr/local/lib/python3.7/dist-packages/azure/core/pipeline/_base.py\u001b[0m in \u001b[0;36mrun\u001b[0;34m(self, request, **kwargs)\u001b[0m\n\u001b[1;32m    209\u001b[0m             \u001b[0;32melse\u001b[0m \u001b[0m_TransportRunner\u001b[0m\u001b[0;34m(\u001b[0m\u001b[0mself\u001b[0m\u001b[0;34m.\u001b[0m\u001b[0m_transport\u001b[0m\u001b[0;34m)\u001b[0m\u001b[0;34m\u001b[0m\u001b[0;34m\u001b[0m\u001b[0m\n\u001b[1;32m    210\u001b[0m         )\n\u001b[0;32m--> 211\u001b[0;31m         \u001b[0;32mreturn\u001b[0m \u001b[0mfirst_node\u001b[0m\u001b[0;34m.\u001b[0m\u001b[0msend\u001b[0m\u001b[0;34m(\u001b[0m\u001b[0mpipeline_request\u001b[0m\u001b[0;34m)\u001b[0m  \u001b[0;31m# type: ignore\u001b[0m\u001b[0;34m\u001b[0m\u001b[0;34m\u001b[0m\u001b[0m\n\u001b[0m",
            "\u001b[0;32m/usr/local/lib/python3.7/dist-packages/azure/core/pipeline/_base.py\u001b[0m in \u001b[0;36msend\u001b[0;34m(self, request)\u001b[0m\n\u001b[1;32m     69\u001b[0m         \u001b[0m_await_result\u001b[0m\u001b[0;34m(\u001b[0m\u001b[0mself\u001b[0m\u001b[0;34m.\u001b[0m\u001b[0m_policy\u001b[0m\u001b[0;34m.\u001b[0m\u001b[0mon_request\u001b[0m\u001b[0;34m,\u001b[0m \u001b[0mrequest\u001b[0m\u001b[0;34m)\u001b[0m\u001b[0;34m\u001b[0m\u001b[0;34m\u001b[0m\u001b[0m\n\u001b[1;32m     70\u001b[0m         \u001b[0;32mtry\u001b[0m\u001b[0;34m:\u001b[0m\u001b[0;34m\u001b[0m\u001b[0;34m\u001b[0m\u001b[0m\n\u001b[0;32m---> 71\u001b[0;31m             \u001b[0mresponse\u001b[0m \u001b[0;34m=\u001b[0m \u001b[0mself\u001b[0m\u001b[0;34m.\u001b[0m\u001b[0mnext\u001b[0m\u001b[0;34m.\u001b[0m\u001b[0msend\u001b[0m\u001b[0;34m(\u001b[0m\u001b[0mrequest\u001b[0m\u001b[0;34m)\u001b[0m\u001b[0;34m\u001b[0m\u001b[0;34m\u001b[0m\u001b[0m\n\u001b[0m\u001b[1;32m     72\u001b[0m         \u001b[0;32mexcept\u001b[0m \u001b[0mException\u001b[0m\u001b[0;34m:\u001b[0m  \u001b[0;31m# pylint: disable=broad-except\u001b[0m\u001b[0;34m\u001b[0m\u001b[0;34m\u001b[0m\u001b[0m\n\u001b[1;32m     73\u001b[0m             \u001b[0;32mif\u001b[0m \u001b[0;32mnot\u001b[0m \u001b[0m_await_result\u001b[0m\u001b[0;34m(\u001b[0m\u001b[0mself\u001b[0m\u001b[0;34m.\u001b[0m\u001b[0m_policy\u001b[0m\u001b[0;34m.\u001b[0m\u001b[0mon_exception\u001b[0m\u001b[0;34m,\u001b[0m \u001b[0mrequest\u001b[0m\u001b[0;34m)\u001b[0m\u001b[0;34m:\u001b[0m\u001b[0;34m\u001b[0m\u001b[0;34m\u001b[0m\u001b[0m\n",
            "\u001b[0;32m/usr/local/lib/python3.7/dist-packages/azure/core/pipeline/_base.py\u001b[0m in \u001b[0;36msend\u001b[0;34m(self, request)\u001b[0m\n\u001b[1;32m     69\u001b[0m         \u001b[0m_await_result\u001b[0m\u001b[0;34m(\u001b[0m\u001b[0mself\u001b[0m\u001b[0;34m.\u001b[0m\u001b[0m_policy\u001b[0m\u001b[0;34m.\u001b[0m\u001b[0mon_request\u001b[0m\u001b[0;34m,\u001b[0m \u001b[0mrequest\u001b[0m\u001b[0;34m)\u001b[0m\u001b[0;34m\u001b[0m\u001b[0;34m\u001b[0m\u001b[0m\n\u001b[1;32m     70\u001b[0m         \u001b[0;32mtry\u001b[0m\u001b[0;34m:\u001b[0m\u001b[0;34m\u001b[0m\u001b[0;34m\u001b[0m\u001b[0m\n\u001b[0;32m---> 71\u001b[0;31m             \u001b[0mresponse\u001b[0m \u001b[0;34m=\u001b[0m \u001b[0mself\u001b[0m\u001b[0;34m.\u001b[0m\u001b[0mnext\u001b[0m\u001b[0;34m.\u001b[0m\u001b[0msend\u001b[0m\u001b[0;34m(\u001b[0m\u001b[0mrequest\u001b[0m\u001b[0;34m)\u001b[0m\u001b[0;34m\u001b[0m\u001b[0;34m\u001b[0m\u001b[0m\n\u001b[0m\u001b[1;32m     72\u001b[0m         \u001b[0;32mexcept\u001b[0m \u001b[0mException\u001b[0m\u001b[0;34m:\u001b[0m  \u001b[0;31m# pylint: disable=broad-except\u001b[0m\u001b[0;34m\u001b[0m\u001b[0;34m\u001b[0m\u001b[0m\n\u001b[1;32m     73\u001b[0m             \u001b[0;32mif\u001b[0m \u001b[0;32mnot\u001b[0m \u001b[0m_await_result\u001b[0m\u001b[0;34m(\u001b[0m\u001b[0mself\u001b[0m\u001b[0;34m.\u001b[0m\u001b[0m_policy\u001b[0m\u001b[0;34m.\u001b[0m\u001b[0mon_exception\u001b[0m\u001b[0;34m,\u001b[0m \u001b[0mrequest\u001b[0m\u001b[0;34m)\u001b[0m\u001b[0;34m:\u001b[0m\u001b[0;34m\u001b[0m\u001b[0;34m\u001b[0m\u001b[0m\n",
            "\u001b[0;32m/usr/local/lib/python3.7/dist-packages/azure/core/pipeline/_base.py\u001b[0m in \u001b[0;36msend\u001b[0;34m(self, request)\u001b[0m\n\u001b[1;32m     69\u001b[0m         \u001b[0m_await_result\u001b[0m\u001b[0;34m(\u001b[0m\u001b[0mself\u001b[0m\u001b[0;34m.\u001b[0m\u001b[0m_policy\u001b[0m\u001b[0;34m.\u001b[0m\u001b[0mon_request\u001b[0m\u001b[0;34m,\u001b[0m \u001b[0mrequest\u001b[0m\u001b[0;34m)\u001b[0m\u001b[0;34m\u001b[0m\u001b[0;34m\u001b[0m\u001b[0m\n\u001b[1;32m     70\u001b[0m         \u001b[0;32mtry\u001b[0m\u001b[0;34m:\u001b[0m\u001b[0;34m\u001b[0m\u001b[0;34m\u001b[0m\u001b[0m\n\u001b[0;32m---> 71\u001b[0;31m             \u001b[0mresponse\u001b[0m \u001b[0;34m=\u001b[0m \u001b[0mself\u001b[0m\u001b[0;34m.\u001b[0m\u001b[0mnext\u001b[0m\u001b[0;34m.\u001b[0m\u001b[0msend\u001b[0m\u001b[0;34m(\u001b[0m\u001b[0mrequest\u001b[0m\u001b[0;34m)\u001b[0m\u001b[0;34m\u001b[0m\u001b[0;34m\u001b[0m\u001b[0m\n\u001b[0m\u001b[1;32m     72\u001b[0m         \u001b[0;32mexcept\u001b[0m \u001b[0mException\u001b[0m\u001b[0;34m:\u001b[0m  \u001b[0;31m# pylint: disable=broad-except\u001b[0m\u001b[0;34m\u001b[0m\u001b[0;34m\u001b[0m\u001b[0m\n\u001b[1;32m     73\u001b[0m             \u001b[0;32mif\u001b[0m \u001b[0;32mnot\u001b[0m \u001b[0m_await_result\u001b[0m\u001b[0;34m(\u001b[0m\u001b[0mself\u001b[0m\u001b[0;34m.\u001b[0m\u001b[0m_policy\u001b[0m\u001b[0;34m.\u001b[0m\u001b[0mon_exception\u001b[0m\u001b[0;34m,\u001b[0m \u001b[0mrequest\u001b[0m\u001b[0;34m)\u001b[0m\u001b[0;34m:\u001b[0m\u001b[0;34m\u001b[0m\u001b[0;34m\u001b[0m\u001b[0m\n",
            "\u001b[0;32m/usr/local/lib/python3.7/dist-packages/azure/core/pipeline/_base.py\u001b[0m in \u001b[0;36msend\u001b[0;34m(self, request)\u001b[0m\n\u001b[1;32m     69\u001b[0m         \u001b[0m_await_result\u001b[0m\u001b[0;34m(\u001b[0m\u001b[0mself\u001b[0m\u001b[0;34m.\u001b[0m\u001b[0m_policy\u001b[0m\u001b[0;34m.\u001b[0m\u001b[0mon_request\u001b[0m\u001b[0;34m,\u001b[0m \u001b[0mrequest\u001b[0m\u001b[0;34m)\u001b[0m\u001b[0;34m\u001b[0m\u001b[0;34m\u001b[0m\u001b[0m\n\u001b[1;32m     70\u001b[0m         \u001b[0;32mtry\u001b[0m\u001b[0;34m:\u001b[0m\u001b[0;34m\u001b[0m\u001b[0;34m\u001b[0m\u001b[0m\n\u001b[0;32m---> 71\u001b[0;31m             \u001b[0mresponse\u001b[0m \u001b[0;34m=\u001b[0m \u001b[0mself\u001b[0m\u001b[0;34m.\u001b[0m\u001b[0mnext\u001b[0m\u001b[0;34m.\u001b[0m\u001b[0msend\u001b[0m\u001b[0;34m(\u001b[0m\u001b[0mrequest\u001b[0m\u001b[0;34m)\u001b[0m\u001b[0;34m\u001b[0m\u001b[0;34m\u001b[0m\u001b[0m\n\u001b[0m\u001b[1;32m     72\u001b[0m         \u001b[0;32mexcept\u001b[0m \u001b[0mException\u001b[0m\u001b[0;34m:\u001b[0m  \u001b[0;31m# pylint: disable=broad-except\u001b[0m\u001b[0;34m\u001b[0m\u001b[0;34m\u001b[0m\u001b[0m\n\u001b[1;32m     73\u001b[0m             \u001b[0;32mif\u001b[0m \u001b[0;32mnot\u001b[0m \u001b[0m_await_result\u001b[0m\u001b[0;34m(\u001b[0m\u001b[0mself\u001b[0m\u001b[0;34m.\u001b[0m\u001b[0m_policy\u001b[0m\u001b[0;34m.\u001b[0m\u001b[0mon_exception\u001b[0m\u001b[0;34m,\u001b[0m \u001b[0mrequest\u001b[0m\u001b[0;34m)\u001b[0m\u001b[0;34m:\u001b[0m\u001b[0;34m\u001b[0m\u001b[0;34m\u001b[0m\u001b[0m\n",
            "\u001b[0;32m/usr/local/lib/python3.7/dist-packages/azure/core/pipeline/_base.py\u001b[0m in \u001b[0;36msend\u001b[0;34m(self, request)\u001b[0m\n\u001b[1;32m     69\u001b[0m         \u001b[0m_await_result\u001b[0m\u001b[0;34m(\u001b[0m\u001b[0mself\u001b[0m\u001b[0;34m.\u001b[0m\u001b[0m_policy\u001b[0m\u001b[0;34m.\u001b[0m\u001b[0mon_request\u001b[0m\u001b[0;34m,\u001b[0m \u001b[0mrequest\u001b[0m\u001b[0;34m)\u001b[0m\u001b[0;34m\u001b[0m\u001b[0;34m\u001b[0m\u001b[0m\n\u001b[1;32m     70\u001b[0m         \u001b[0;32mtry\u001b[0m\u001b[0;34m:\u001b[0m\u001b[0;34m\u001b[0m\u001b[0;34m\u001b[0m\u001b[0m\n\u001b[0;32m---> 71\u001b[0;31m             \u001b[0mresponse\u001b[0m \u001b[0;34m=\u001b[0m \u001b[0mself\u001b[0m\u001b[0;34m.\u001b[0m\u001b[0mnext\u001b[0m\u001b[0;34m.\u001b[0m\u001b[0msend\u001b[0m\u001b[0;34m(\u001b[0m\u001b[0mrequest\u001b[0m\u001b[0;34m)\u001b[0m\u001b[0;34m\u001b[0m\u001b[0;34m\u001b[0m\u001b[0m\n\u001b[0m\u001b[1;32m     72\u001b[0m         \u001b[0;32mexcept\u001b[0m \u001b[0mException\u001b[0m\u001b[0;34m:\u001b[0m  \u001b[0;31m# pylint: disable=broad-except\u001b[0m\u001b[0;34m\u001b[0m\u001b[0;34m\u001b[0m\u001b[0m\n\u001b[1;32m     73\u001b[0m             \u001b[0;32mif\u001b[0m \u001b[0;32mnot\u001b[0m \u001b[0m_await_result\u001b[0m\u001b[0;34m(\u001b[0m\u001b[0mself\u001b[0m\u001b[0;34m.\u001b[0m\u001b[0m_policy\u001b[0m\u001b[0;34m.\u001b[0m\u001b[0mon_exception\u001b[0m\u001b[0;34m,\u001b[0m \u001b[0mrequest\u001b[0m\u001b[0;34m)\u001b[0m\u001b[0;34m:\u001b[0m\u001b[0;34m\u001b[0m\u001b[0;34m\u001b[0m\u001b[0m\n",
            "\u001b[0;32m/usr/local/lib/python3.7/dist-packages/azure/core/pipeline/policies/_redirect.py\u001b[0m in \u001b[0;36msend\u001b[0;34m(self, request)\u001b[0m\n\u001b[1;32m    156\u001b[0m         \u001b[0mredirect_settings\u001b[0m \u001b[0;34m=\u001b[0m \u001b[0mself\u001b[0m\u001b[0;34m.\u001b[0m\u001b[0mconfigure_redirects\u001b[0m\u001b[0;34m(\u001b[0m\u001b[0mrequest\u001b[0m\u001b[0;34m.\u001b[0m\u001b[0mcontext\u001b[0m\u001b[0;34m.\u001b[0m\u001b[0moptions\u001b[0m\u001b[0;34m)\u001b[0m\u001b[0;34m\u001b[0m\u001b[0;34m\u001b[0m\u001b[0m\n\u001b[1;32m    157\u001b[0m         \u001b[0;32mwhile\u001b[0m \u001b[0mretryable\u001b[0m\u001b[0;34m:\u001b[0m\u001b[0;34m\u001b[0m\u001b[0;34m\u001b[0m\u001b[0m\n\u001b[0;32m--> 158\u001b[0;31m             \u001b[0mresponse\u001b[0m \u001b[0;34m=\u001b[0m \u001b[0mself\u001b[0m\u001b[0;34m.\u001b[0m\u001b[0mnext\u001b[0m\u001b[0;34m.\u001b[0m\u001b[0msend\u001b[0m\u001b[0;34m(\u001b[0m\u001b[0mrequest\u001b[0m\u001b[0;34m)\u001b[0m\u001b[0;34m\u001b[0m\u001b[0;34m\u001b[0m\u001b[0m\n\u001b[0m\u001b[1;32m    159\u001b[0m             \u001b[0mredirect_location\u001b[0m \u001b[0;34m=\u001b[0m \u001b[0mself\u001b[0m\u001b[0;34m.\u001b[0m\u001b[0mget_redirect_location\u001b[0m\u001b[0;34m(\u001b[0m\u001b[0mresponse\u001b[0m\u001b[0;34m)\u001b[0m\u001b[0;34m\u001b[0m\u001b[0;34m\u001b[0m\u001b[0m\n\u001b[1;32m    160\u001b[0m             \u001b[0;32mif\u001b[0m \u001b[0mredirect_location\u001b[0m \u001b[0;32mand\u001b[0m \u001b[0mredirect_settings\u001b[0m\u001b[0;34m[\u001b[0m\u001b[0;34m'allow'\u001b[0m\u001b[0;34m]\u001b[0m\u001b[0;34m:\u001b[0m\u001b[0;34m\u001b[0m\u001b[0;34m\u001b[0m\u001b[0m\n",
            "\u001b[0;32m/usr/local/lib/python3.7/dist-packages/azure/core/pipeline/policies/_retry.py\u001b[0m in \u001b[0;36msend\u001b[0;34m(self, request)\u001b[0m\n\u001b[1;32m    447\u001b[0m                     \u001b[0mretry_active\u001b[0m \u001b[0;34m=\u001b[0m \u001b[0mself\u001b[0m\u001b[0;34m.\u001b[0m\u001b[0mincrement\u001b[0m\u001b[0;34m(\u001b[0m\u001b[0mretry_settings\u001b[0m\u001b[0;34m,\u001b[0m \u001b[0mresponse\u001b[0m\u001b[0;34m=\u001b[0m\u001b[0mresponse\u001b[0m\u001b[0;34m)\u001b[0m\u001b[0;34m\u001b[0m\u001b[0;34m\u001b[0m\u001b[0m\n\u001b[1;32m    448\u001b[0m                     \u001b[0;32mif\u001b[0m \u001b[0mretry_active\u001b[0m\u001b[0;34m:\u001b[0m\u001b[0;34m\u001b[0m\u001b[0;34m\u001b[0m\u001b[0m\n\u001b[0;32m--> 449\u001b[0;31m                         \u001b[0mself\u001b[0m\u001b[0;34m.\u001b[0m\u001b[0msleep\u001b[0m\u001b[0;34m(\u001b[0m\u001b[0mretry_settings\u001b[0m\u001b[0;34m,\u001b[0m \u001b[0mrequest\u001b[0m\u001b[0;34m.\u001b[0m\u001b[0mcontext\u001b[0m\u001b[0;34m.\u001b[0m\u001b[0mtransport\u001b[0m\u001b[0;34m,\u001b[0m \u001b[0mresponse\u001b[0m\u001b[0;34m=\u001b[0m\u001b[0mresponse\u001b[0m\u001b[0;34m)\u001b[0m\u001b[0;34m\u001b[0m\u001b[0;34m\u001b[0m\u001b[0m\n\u001b[0m\u001b[1;32m    450\u001b[0m                         \u001b[0mis_response_error\u001b[0m \u001b[0;34m=\u001b[0m \u001b[0;32mTrue\u001b[0m\u001b[0;34m\u001b[0m\u001b[0;34m\u001b[0m\u001b[0m\n\u001b[1;32m    451\u001b[0m                         \u001b[0;32mcontinue\u001b[0m\u001b[0;34m\u001b[0m\u001b[0;34m\u001b[0m\u001b[0m\n",
            "\u001b[0;32m/usr/local/lib/python3.7/dist-packages/azure/core/pipeline/policies/_retry.py\u001b[0m in \u001b[0;36msleep\u001b[0;34m(self, settings, transport, response)\u001b[0m\n\u001b[1;32m    416\u001b[0m         \"\"\"\n\u001b[1;32m    417\u001b[0m         \u001b[0;32mif\u001b[0m \u001b[0mresponse\u001b[0m\u001b[0;34m:\u001b[0m\u001b[0;34m\u001b[0m\u001b[0;34m\u001b[0m\u001b[0m\n\u001b[0;32m--> 418\u001b[0;31m             \u001b[0mslept\u001b[0m \u001b[0;34m=\u001b[0m \u001b[0mself\u001b[0m\u001b[0;34m.\u001b[0m\u001b[0m_sleep_for_retry\u001b[0m\u001b[0;34m(\u001b[0m\u001b[0mresponse\u001b[0m\u001b[0;34m,\u001b[0m \u001b[0mtransport\u001b[0m\u001b[0;34m)\u001b[0m\u001b[0;34m\u001b[0m\u001b[0;34m\u001b[0m\u001b[0m\n\u001b[0m\u001b[1;32m    419\u001b[0m             \u001b[0;32mif\u001b[0m \u001b[0mslept\u001b[0m\u001b[0;34m:\u001b[0m\u001b[0;34m\u001b[0m\u001b[0;34m\u001b[0m\u001b[0m\n\u001b[1;32m    420\u001b[0m                 \u001b[0;32mreturn\u001b[0m\u001b[0;34m\u001b[0m\u001b[0;34m\u001b[0m\u001b[0m\n",
            "\u001b[0;32m/usr/local/lib/python3.7/dist-packages/azure/core/pipeline/policies/_retry.py\u001b[0m in \u001b[0;36m_sleep_for_retry\u001b[0;34m(self, response, transport)\u001b[0m\n\u001b[1;32m    387\u001b[0m         \u001b[0mretry_after\u001b[0m \u001b[0;34m=\u001b[0m \u001b[0mself\u001b[0m\u001b[0;34m.\u001b[0m\u001b[0mget_retry_after\u001b[0m\u001b[0;34m(\u001b[0m\u001b[0mresponse\u001b[0m\u001b[0;34m)\u001b[0m\u001b[0;34m\u001b[0m\u001b[0;34m\u001b[0m\u001b[0m\n\u001b[1;32m    388\u001b[0m         \u001b[0;32mif\u001b[0m \u001b[0mretry_after\u001b[0m\u001b[0;34m:\u001b[0m\u001b[0;34m\u001b[0m\u001b[0;34m\u001b[0m\u001b[0m\n\u001b[0;32m--> 389\u001b[0;31m             \u001b[0mtransport\u001b[0m\u001b[0;34m.\u001b[0m\u001b[0msleep\u001b[0m\u001b[0;34m(\u001b[0m\u001b[0mretry_after\u001b[0m\u001b[0;34m)\u001b[0m\u001b[0;34m\u001b[0m\u001b[0;34m\u001b[0m\u001b[0m\n\u001b[0m\u001b[1;32m    390\u001b[0m             \u001b[0;32mreturn\u001b[0m \u001b[0;32mTrue\u001b[0m\u001b[0;34m\u001b[0m\u001b[0;34m\u001b[0m\u001b[0m\n\u001b[1;32m    391\u001b[0m         \u001b[0;32mreturn\u001b[0m \u001b[0;32mFalse\u001b[0m\u001b[0;34m\u001b[0m\u001b[0;34m\u001b[0m\u001b[0m\n",
            "\u001b[0;32m/usr/local/lib/python3.7/dist-packages/azure/core/pipeline/transport/_base.py\u001b[0m in \u001b[0;36msleep\u001b[0;34m(self, duration)\u001b[0m\n\u001b[1;32m    184\u001b[0m \u001b[0;34m\u001b[0m\u001b[0m\n\u001b[1;32m    185\u001b[0m     \u001b[0;32mdef\u001b[0m \u001b[0msleep\u001b[0m\u001b[0;34m(\u001b[0m\u001b[0mself\u001b[0m\u001b[0;34m,\u001b[0m \u001b[0mduration\u001b[0m\u001b[0;34m)\u001b[0m\u001b[0;34m:\u001b[0m  \u001b[0;31m# pylint: disable=no-self-use\u001b[0m\u001b[0;34m\u001b[0m\u001b[0;34m\u001b[0m\u001b[0m\n\u001b[0;32m--> 186\u001b[0;31m         \u001b[0mtime\u001b[0m\u001b[0;34m.\u001b[0m\u001b[0msleep\u001b[0m\u001b[0;34m(\u001b[0m\u001b[0mduration\u001b[0m\u001b[0;34m)\u001b[0m\u001b[0;34m\u001b[0m\u001b[0;34m\u001b[0m\u001b[0m\n\u001b[0m\u001b[1;32m    187\u001b[0m \u001b[0;34m\u001b[0m\u001b[0m\n\u001b[1;32m    188\u001b[0m \u001b[0;34m\u001b[0m\u001b[0m\n",
            "\u001b[0;31mKeyboardInterrupt\u001b[0m: "
          ]
        }
      ]
    },
    {
      "cell_type": "code",
      "metadata": {
        "colab": {
          "base_uri": "https://localhost:8080/"
        },
        "id": "qgAG238jQCXc",
        "outputId": "e15725f1-b3a3-4a42-9067-69f3b4afcb21"
      },
      "source": [
        "with open('/content/drive/MyDrive/UNBDC/real_biden.csv', mode='r') as csv_file:\n",
        "    csv_reader = csv.DictReader(csv_file)\n",
        "\n",
        "    rb_dict = {}\n",
        "    line_count = 0\n",
        "\n",
        "    for row in csv_reader:\n",
        "      list = []\n",
        "\n",
        "      if line_count != 0:\n",
        "        key = row['id']\n",
        "      \n",
        "        if key in rb_sent_res:\n",
        "          list.append(rb_sent_res[key])\n",
        "          list.append(row['favorite_count'])\n",
        "          rb_dict[key] = list\n",
        "\n",
        "      line_count += 1\n",
        "\n",
        "print(rb_dict)"
      ],
      "execution_count": null,
      "outputs": [
        {
          "output_type": "stream",
          "text": [
            "{'1256208060063854593': [0.35, '86'], '1256325921075654656': [0.19, '0'], '1256369869949411332': [0.83, '0'], '1253760361918091264': [0.45000000000000007, '1'], '1249309664929550337': [1.0, '125'], '1248799257525698562': [1.0, '1'], '1256352285686407171': [0.97, '2'], '1256283115854663682': [-0.99, '0'], '1256357607742115840': [0.82, '0'], '1249716741082624000': [1.0, '48'], '1256372732025098246': [0.99, '0'], '1251104288501366785': [0.98, '0'], '1256277602429366273': [-0.87, '0'], '1240354831983734786': [0.85, '0'], '1247616850147430400': [0.29000000000000004, '0'], '1253153857703575553': [0.98, '1'], '1256302935857913857': [0.99, '0'], '1244297447536459777': [0.87, '0'], '1256372270710358016': [-0.32, '0'], '1256323254953734147': [-0.16, '0'], '1256338599135473664': [0.19, '0'], '1239524261716525056': [0.75, '0'], '1256358675897294849': [1.0, '1'], '1252098848027262976': [0.76, '0'], '1248981924816678912': [-0.02, '0'], '1256355534808264707': [0.54, '0'], '1249454411363102723': [0.37999999999999995, '0'], '1239180139562483715': [0.0, '3'], '1250574487365582850': [-1.0, '0'], '1256325620130131974': [0.19, '3'], '1256242071607947264': [-0.040000000000000036, '1'], '1255914101215072256': [0.96, '1'], '1256346856105414663': [0.13, '0'], '1241062628534951936': [0.99, '0'], '1256177625170575360': [-0.16000000000000003, '9'], '1256366893709041664': [1.0, '0'], '1255468718273986564': [1.0, '0'], '1238469069956878341': [0.25000000000000006, '0'], '1241852522492334080': [-0.04, '0'], '1251933968854908928': [-0.48000000000000004, '0'], '1237563948502634496': [1.0, '0'], '1256362268696162307': [0.82, '70'], '1250199523944566785': [0.29000000000000004, '52'], '1256370101038641152': [0.07999999999999996, '1'], '1256271616192983042': [0.8300000000000001, '0'], '1256315669026492416': [-0.57, '0'], '1256295774473711616': [-0.03, '12'], '1238190683153813505': [0.97, '0'], '1256363119674359810': [-0.11000000000000001, '0'], '1248657620459646977': [-0.019999999999999997, '1'], '1256176884942962689': [-0.019999999999999962, '1'], '1256332732147228673': [0.19, '0'], '1249929291204300800': [0.15000000000000002, '0'], '1249676247388631046': [1.0, '43'], '1247538816660848640': [1.0, '0'], '1256053171807494144': [0.04999999999999999, '0'], '1254102633675022339': [0.030000000000000027, '0'], '1255605542548103169': [0.009999999999999995, '0'], '1255850519861624832': [1.0, '0'], '1256365093870342145': [-0.97, '1'], '1245468878098104322': [0.32, '0'], '1256369157509124096': [0.9099999999999999, '2'], '1250417588993064960': [-0.01, '0'], '1256327795128463361': [0.19, '1'], '1249566786175016960': [1.0, '138'], '1254821813357404163': [0.82, '0'], '1256274253848219651': [0.34, '0'], '1256296100937347072': [0.91, '0'], '1256244948615213064': [0.9299999999999999, '1'], '1255603767782838272': [0.99, '1'], '1255080138347360256': [0.060000000000000005, '0'], '1237207032215683072': [0.94, '1'], '1256337841623166977': [0.98, '0'], '1256342353532661761': [0.42999999999999994, '2'], '1256344482586345472': [0.19, '0'], '1254480751866703873': [1.0, '1'], '1240439941286543361': [-0.040000000000000036, '0'], '1255722527323828225': [-1.0, '3'], '1245696344154689536': [0.99, '0'], '1243956928478208000': [0.9299999999999999, '0'], '1249799592759214080': [0.97, '0'], '1256295622115614720': [1.0, '0'], '1256370559639838720': [0.87, '0'], '1240985838755778570': [1.0, '1'], '1249403745496182788': [-0.31, '0'], '1256274682459746304': [1.0, '0'], '1242204829205835776': [1.0, '0'], '1238158156703903744': [0.31, '2'], '1243956801965457409': [0.95, '0'], '1251243672693141504': [0.01, '0'], '1255674206601297920': [0.9099999999999999, '0'], '1240374926709678080': [0.3, '2'], '1256215743538102273': [-0.19999999999999996, '0'], '1256372628673171458': [1.0, '2'], '1278471370674823168': [-0.23000000000000004, '0'], '1278427509638467590': [0.99, '0'], '1278390989032435713': [-0.25, '0'], '1277586955077914624': [0.54, '1'], '1271843810272784386': [0.7, '0'], '1271542335168409602': [0.019999999999999997, '0'], '1278039762037870595': [-0.23000000000000004, '4'], '1278475122953916417': [0.86, '0'], '1262563984219217920': [-0.04000000000000001, '0'], '1278219229385437186': [0.77, '0'], '1278443015812546560': [0.98, '0'], '1274691167523872768': [-0.13, '0'], '1278478360444907523': [0.02, '0'], '1278403209086681088': [-0.1, '0'], '1266166009590878208': [-0.04000000000000001, '178'], '1278115266321199104': [0.52, '0'], '1278079750297157634': [1.0, '0'], '1266202807901794305': [0.51, '0'], '1278067369496231939': [0.25, '0'], '1278013998106017792': [1.0, '0'], '1278475174040526851': [0.86, '0'], '1277005603538448388': [0.52, '0'], '1277189612218339328': [-0.25, '0'], '1278475152322420736': [0.86, '0'], '1278455223535710210': [-0.31, '0'], '1277714217186013188': [0.47000000000000003, '0'], '1258581273443889153': [1.0, '0'], '1278469909081501696': [0.33, '1'], '1278461421072740352': [1.0, '0'], '1278014540072935429': [0.98, '1'], '1278459263720009736': [-0.13, '0'], '1278378702053740544': [-0.44000000000000006, '0'], '1276337549313703942': [0.8999999999999999, '4'], '1278471275883778050': [-0.6, '0'], '1278094446664601602': [0.0, '0'], '1278444723473178626': [-0.99, '0'], '1260953199415975937': [0.0, '0'], '1278419316384423936': [-0.09000000000000001, '0'], '1259228767068794880': [0.86, '0'], '1276364819231170560': [0.35000000000000003, '1'], '1278464583712243713': [1.0, '1'], '1268198183647064072': [0.06, '0'], '1264204707729420290': [1.0, '2'], '1256653393755545600': [0.5599999999999999, '13'], '1264931727920828416': [0.51, '0'], '1276893270669496321': [-0.25, '0'], '1239619535910637568': [-0.04, '0'], '1256019517551128583': [0.04, '7'], '1256358788468297730': [0.040000000000000036, '2'], '1278015169885384704': [0.98, '0'], '1278394448217550848': [0.4, '0'], '1278475197767712770': [0.76, '0'], '1261465133030821900': [0.0, '0'], '1266470656561930240': [0.0, '0'], '1265619167404789761': [1.0, '0'], '1270721472974032898': [0.010000000000000009, '2'], '1276628700361097216': [0.99, '1'], '1270035658229403650': [0.74, '1'], '1278351845623304192': [0.62, '1'], '1272535367829184512': [0.0, '0'], '1278368893246091264': [-0.08, '0'], '1278118118003441670': [0.78, '0'], '1276683217727131648': [-0.22, '0'], '1278470925520965633': [0.09, '0'], '1276661813158035457': [-0.25, '0'], '1272690032164265985': [-0.01, '0'], '1276663155129749504': [-0.22, '0'], '1278466569430011904': [0.99, '1'], '1276947559907377152': [0.0, '0'], '1278470960463507456': [1.0, '5'], '1278064758541991938': [1.0, '0'], '1276976751919411200': [0.26, '0'], '1239619583289569282': [-0.06, '0'], '1277197599976484866': [0.87, '0'], '1278475547593465856': [-0.83, '1'], '1276682514216689664': [-0.13, '6'], '1278476226336866307': [0.89, '1'], '1257612555461242883': [0.020000000000000004, '0'], '1278441169731694595': [-0.75, '0'], '1278436512561053704': [1.0, '52'], '1268566208380653569': [-0.8600000000000001, '2'], '1276557338003091462': [1.0, '0'], '1276134125733322762': [-0.94, '0'], '1278095853102567424': [0.74, '0'], '1276682912893677573': [-0.22, '0'], '1277755889185775617': [1.0, '0'], '1278398121962360843': [-0.1, '178'], '1256327918281609216': [0.19, '1'], '1278463272556146693': [-0.049999999999999996, '7'], '1256331201750552578': [0.19, '5'], '1278473355780411401': [-0.08, '0'], '1276923201398939649': [0.51, '0'], '1271599742842097666': [1.0, '7'], '1276164955029585920': [0.97, '0'], '1278015471099482112': [0.98, '0'], '1278466296410255362': [-0.03, '0'], '1262423041449119755': [0.8500000000000001, '0'], '1260771109261066246': [0.08000000000000002, '0'], '1277746134157373440': [0.98, '34'], '1278475433508589568': [-0.05, '68'], '1277700696490471424': [0.98, '0'], '1278084939704082432': [0.81, '0'], '1278411699360423936': [0.96, '0'], '1277801255549583360': [0.0, '0'], '1277126497581641729': [0.98, '1'], '1278122917797265420': [-0.62, '2'], '1278406577746178048': [0.98, '0'], '1277106768313802752': [0.0, '1'], '1278373809460920320': [0.98, '0'], '1277004875117838337': [-0.98, '0'], '1278156280780042241': [0.85, '0'], '1320393541080784900': [0.97, '0'], '1319103001102090246': [0.04, '0'], '1318208980674596873': [1.0, '0'], '1278159430786441216': [0.59, '1'], '1276177363806584832': [-0.66, '0'], '1278401316906205185': [-0.45000000000000007, '1'], '1278073583223242752': [-0.27999999999999997, '1'], '1277682675583610880': [0.009999999999999995, '2'], '1263111134376349698': [0.79, '0'], '1278414022405091328': [1.0, '0'], '1276967436756058118': [-0.08, '0'], '1278478157834846208': [-1.0, '0'], '1278016308265865217': [-0.98, '75'], '1278418546129805315': [-0.9, '0'], '1277793221989601286': [0.8999999999999999, '96'], '1278399566782570500': [0.24, '0'], '1278133416463040514': [1.0, '0'], '1278131234946920451': [-0.93, '10'], '1278133883515658240': [-0.97, '0'], '1277093023709446144': [0.32, '5'], '1277320513912627202': [0.26999999999999996, '2'], '1278410731348570112': [1.0, '6'], '1278310212282257409': [0.97, '0'], '1278357007872000002': [-0.020000000000000018, '0'], '1277763131868053505': [0.20999999999999996, '0'], '1277259991196397570': [0.95, '6'], '1278410695416020992': [0.96, '0'], '1272513804765548546': [1.0, '0'], '1275267975453577218': [-0.48, '74'], '1278280282211155968': [0.99, '0'], '1276991970246709248': [0.88, '0'], '1274911644494163968': [0.99, '0'], '1278272342028963855': [0.8200000000000001, '0'], '1278359121469865984': [1.0, '0'], '1278416258388508672': [-0.88, '1']}\n"
          ],
          "name": "stdout"
        }
      ]
    },
    {
      "cell_type": "markdown",
      "metadata": {
        "id": "OFi3Q8E1NWaw"
      },
      "source": [
        "Real Trump"
      ]
    },
    {
      "cell_type": "code",
      "metadata": {
        "id": "kpacL72bNSm9"
      },
      "source": [
        "reviews_folder = os.path.join('/content/drive/MyDrive/UNBDC/Real_Trump')\n",
        "\n",
        "rt_reviews = []\n",
        "counter = 0\n",
        "rt_id_groups = []\n",
        "\n",
        "total = len(os.listdir(reviews_folder))\n",
        "\n",
        "for file_name in os.listdir(reviews_folder):\n",
        "    counter += 1\n",
        "    review_text = open(os.path.join(reviews_folder, file_name)).read()\n",
        "    review = {\"id\": file_name, \"text\": review_text}\n",
        "    rt_reviews.append(review)\n",
        "\n",
        "    if (counter+1)/10 == (counter+1)//10 or total - counter == 0:\n",
        "      rt_id_groups.append(rt_reviews)\n",
        "      rt_reviews = []\n",
        "\n",
        "    if counter == 100:\n",
        "      break\n",
        "\n",
        "print(rt_id_groups)\n",
        "count = 0\n",
        "rt_sent_res = {}\n",
        "\n",
        "\n",
        "for group in rt_id_groups:\n",
        "    print(group)\n",
        "    sentiment_analysis = text_analytics_client.analyze_sentiment(group)\n",
        "    print(sentiment_analysis)\n",
        "    for i in sentiment_analysis:\n",
        "      #print(i['confidence_scores'])\n",
        "      c_scores = i['confidence_scores'] # e.g. {'positive': 0.2, 'neutral': 0.16, 'negative': 0.64}\n",
        "\n",
        "      score = c_scores['neutral']*0 + c_scores['positive']*1 + c_scores['negative']*-1\n",
        "      #print(group[count]['id'].replace('.txt', ''))\n",
        "      #print(score)\n",
        "      rt_sent_res[group[count]['id'].replace('.txt', '')] = score\n",
        "      count += 1\n",
        "    count = 0\n",
        "  \n",
        "print(rt_sent_res)"
      ],
      "execution_count": null,
      "outputs": []
    },
    {
      "cell_type": "code",
      "metadata": {
        "id": "rX-dCGM2UQQm"
      },
      "source": [
        "with open('/content/drive/MyDrive/UNBDC/real_trump.csv', mode='r') as csv_file:\n",
        "    csv_reader = csv.DictReader(csv_file)\n",
        "\n",
        "    rt_dict = {}\n",
        "    line_count = 0\n",
        "\n",
        "    for row in csv_reader:\n",
        "      list = []\n",
        "\n",
        "      if line_count != 0:\n",
        "        key = row['id']\n",
        "      \n",
        "        if key in rt_sent_res:\n",
        "          list.append(rt_sent_res[key])\n",
        "          list.append(row['favorite_count'])\n",
        "          rt_dict[key] = list\n",
        "\n",
        "      line_count += 1\n",
        "\n",
        "print(rt_dict)"
      ],
      "execution_count": null,
      "outputs": []
    }
  ]
}